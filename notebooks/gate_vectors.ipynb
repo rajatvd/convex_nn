{
 "cells": [
  {
   "cell_type": "code",
   "execution_count": 1,
   "id": "750474ec",
   "metadata": {},
   "outputs": [],
   "source": [
    "\"\"\"\n",
    "Train convex LassoNet models on a synthetic classification dataset using convex optimization.\n",
    "\"\"\"\n",
    "\n",
    "import sys\n",
    "sys.path.append(\"..\")\n",
    "\n",
    "%load_ext autoreload\n",
    "%autoreload 2"
   ]
  },
  {
   "cell_type": "code",
   "execution_count": 2,
   "id": "6284d725",
   "metadata": {},
   "outputs": [],
   "source": [
    "import numpy as np\n",
    "import matplotlib.pyplot as plt\n",
    "\n",
    "from convex_nn import optimize\n",
    "from convex_nn.datasets import generate_synthetic_classification"
   ]
  },
  {
   "cell_type": "code",
   "execution_count": 3,
   "id": "bf47351b",
   "metadata": {},
   "outputs": [],
   "source": [
    "# Generate realizable synthetic classification problem (ie. Figure 1)\n",
    "n_train = 250\n",
    "n_test = 250\n",
    "d = 50\n",
    "hidden_units = 100\n",
    "kappa = 10  # condition number\n",
    "\n",
    "(X_train, y_train), (X_test, y_test) = generate_synthetic_classification(123, n_train, n_test, d, hidden_units, kappa)"
   ]
  },
  {
   "cell_type": "code",
   "execution_count": 4,
   "id": "b4dfa72a",
   "metadata": {},
   "outputs": [],
   "source": [
    "# generate specific gate vectors to use\n",
    "max_patterns = 50\n",
    "gates = np.random.randn(d, max_patterns)"
   ]
  },
  {
   "cell_type": "code",
   "execution_count": 5,
   "id": "635a0f46",
   "metadata": {
    "scrolled": false
   },
   "outputs": [
    {
     "name": "stderr",
     "output_type": "stream",
     "text": [
      "WARNING:convex_nn:Overriding regularization type to LassoNet penalty.\n",
      "INFO:convex_nn:Processing data.\n",
      "INFO:convex_nn:Constructing convex model.\n",
      "INFO:convex_nn:Preparing optimizer.\n",
      "INFO:convex_nn:Optimizing convex model.\n",
      "INFO:convex_nn:Pre-Optimization Metrics: Train Set objective: 0.5, Train Set grad_norm: 0.009022955782711506, Train Set accuracy: 0.0, Test Set accuracy: 0.0, feature_sparsity: 1.0, active_features: 0, step_size: 10.0, \n"
     ]
    },
    {
     "data": {
      "application/vnd.jupyter.widget-view+json": {
       "model_id": "6e5fa68761db4e26bbbf301ff7971e91",
       "version_major": 2,
       "version_minor": 0
      },
      "text/plain": [
       "fista:   0%|          | 0/10000 [00:00<?, ?it/s]"
      ]
     },
     "metadata": {},
     "output_type": "display_data"
    },
    {
     "name": "stderr",
     "output_type": "stream",
     "text": [
      "INFO:convex_nn:Termination criterion satisfied at iteration 13/10000. Exiting optimization loop.\n",
      "INFO:convex_nn:Post-Optimization Metrics: Train Set objective: 0.30856877804440214, Train Set grad_norm: 8.990454819859312e-07, Train Set accuracy: 0.968, Test Set accuracy: 0.856, feature_sparsity: 0.38, active_features: 31, step_size: 30.517578125, \n"
     ]
    },
    {
     "name": "stdout",
     "output_type": "stream",
     "text": [
      "Train Set objective: 0.5, Train Set grad_norm: 0.009022955782711506, Train Set accuracy: 0.0, Test Set accuracy: 0.0, feature_sparsity: 1.0, active_features: 0, step_size: 10.0, \n"
     ]
    }
   ],
   "source": [
    "grelu_model, grelu_metrics = optimize(X_train, \n",
    "               y_train, \n",
    "               X_test, \n",
    "               y_test, \n",
    "               train_metrics=[\"accuracy\"],\n",
    "               test_metrics=[\"accuracy\"],\n",
    "               additional_metrics=[\"feature_sparsity\", \"active_features\", \"step_size\"],\n",
    "               U=gates, \n",
    "               formulation=\"grelu_lasso_net\",\n",
    "               reg_strength=0.05,\n",
    "               backend=\"numpy\",\n",
    "               verbose=True)"
   ]
  },
  {
   "cell_type": "code",
   "execution_count": 6,
   "id": "e7f62fe5",
   "metadata": {},
   "outputs": [
    {
     "name": "stdout",
     "output_type": "stream",
     "text": [
      "Gated ReLU Model\n",
      "Layer Shapes: (50, 50) (1, 50) (1, 50)\n",
      "Skip-Layer Sparsity: 0.38\n",
      "Network Sparsity: 0.38\n"
     ]
    }
   ],
   "source": [
    "# inspect weights of final models (in non-convex formulation)\n",
    "\n",
    "print(\"Gated ReLU Model\")\n",
    "W1, W2, theta = grelu_model.get_weights()\n",
    "\n",
    "print(\"Layer Shapes:\", W1.shape, W2.shape, theta.shape)\n",
    "print(\"Skip-Layer Sparsity:\", np.sum(theta == 0) / theta.shape[1])\n",
    "print(\"Network Sparsity:\", np.sum(np.sum(W1, axis=0) == 0) / theta.shape[1])"
   ]
  },
  {
   "cell_type": "code",
   "execution_count": null,
   "id": "0858a91b",
   "metadata": {},
   "outputs": [],
   "source": []
  }
 ],
 "metadata": {
  "kernelspec": {
   "display_name": "Python 3",
   "language": "python",
   "name": "python3"
  },
  "language_info": {
   "codemirror_mode": {
    "name": "ipython",
    "version": 3
   },
   "file_extension": ".py",
   "mimetype": "text/x-python",
   "name": "python",
   "nbconvert_exporter": "python",
   "pygments_lexer": "ipython3",
   "version": "3.9.9"
  }
 },
 "nbformat": 4,
 "nbformat_minor": 5
}
