{
 "cells": [
  {
   "cell_type": "code",
   "execution_count": 1,
   "id": "750474ec",
   "metadata": {},
   "outputs": [],
   "source": [
    "\"\"\"\n",
    "Train convex LassoNet models on a synthetic classification dataset using convex optimization.\n",
    "\"\"\"\n",
    "\n",
    "import sys\n",
    "sys.path.append(\"..\")\n",
    "\n",
    "%load_ext autoreload\n",
    "%autoreload 2"
   ]
  },
  {
   "cell_type": "code",
   "execution_count": 2,
   "id": "6284d725",
   "metadata": {},
   "outputs": [],
   "source": [
    "import numpy as np\n",
    "import matplotlib.pyplot as plt\n",
    "\n",
    "from convex_nn import optimize\n",
    "from convex_nn.utils.data import gen_classification_data"
   ]
  },
  {
   "cell_type": "code",
   "execution_count": 3,
   "id": "bf47351b",
   "metadata": {},
   "outputs": [],
   "source": [
    "# Generate realizable synthetic classification problem (ie. Figure 1)\n",
    "n_train = 250\n",
    "n_test = 250\n",
    "d = 50\n",
    "hidden_units = 100\n",
    "kappa = 10  # condition number\n",
    "\n",
    "(X_train, y_train), (X_test, y_test) = gen_classification_data(123, n_train, n_test, d, hidden_units, kappa)"
   ]
  },
  {
   "cell_type": "code",
   "execution_count": 7,
   "id": "e34bdd37",
   "metadata": {},
   "outputs": [],
   "source": [
    "# generate feature-sparse gate vectors to use\n",
    "max_patterns = 100\n",
    "gates = np.random.randn(d, max_patterns)\n",
    "\n",
    "# create feature-sparse gates\n",
    "sparse_indices = np.random.choice(d, 20, replace=False)\n",
    "gates[sparse_indices] = 0."
   ]
  },
  {
   "cell_type": "code",
   "execution_count": 5,
   "id": "635a0f46",
   "metadata": {
    "scrolled": false
   },
   "outputs": [
    {
     "name": "stderr",
     "output_type": "stream",
     "text": [
      "WARNING:convex_nn:Overriding regularization type to LassoNet penalty.\n",
      "INFO:convex_nn:Processing data.\n",
      "INFO:convex_nn:Constructing convex model.\n",
      "INFO:convex_nn:Preparing optimizer.\n",
      "INFO:convex_nn:Optimizing convex model.\n",
      "INFO:convex_nn:Pre-Optimization Metrics: Train Set objective: 0.5, Train Set grad_norm: 0.04219839721918106, Train Set accuracy: 0.0, Test Set accuracy: 0.0, feature_sparsity: 0.4, active_features: 30, step_size: 10.0, \n"
     ]
    },
    {
     "data": {
      "application/vnd.jupyter.widget-view+json": {
       "model_id": "b13b5e1565aa4ae2aec4671b856bd95f",
       "version_major": 2,
       "version_minor": 0
      },
      "text/plain": [
       "fista:   0%|          | 0/10000 [00:00<?, ?it/s]"
      ]
     },
     "metadata": {},
     "output_type": "display_data"
    },
    {
     "name": "stdout",
     "output_type": "stream",
     "text": [
      "Train Set objective: 0.5, Train Set grad_norm: 0.04219839721918106, Train Set accuracy: 0.0, Test Set accuracy: 0.0, feature_sparsity: 0.4, active_features: 30, step_size: 10.0, \n"
     ]
    },
    {
     "name": "stderr",
     "output_type": "stream",
     "text": [
      "INFO:convex_nn:Termination criterion satisfied at iteration 24/10000. Exiting optimization loop.\n",
      "INFO:convex_nn:Post-Optimization Metrics: Train Set objective: 0.17713644338237078, Train Set grad_norm: 9.063892921727579e-07, Train Set accuracy: 0.996, Test Set accuracy: 0.908, feature_sparsity: 0.16, active_features: 42, step_size: 10.0, \n"
     ]
    }
   ],
   "source": [
    "grelu_model, grelu_metrics = optimize(X_train, \n",
    "               y_train, \n",
    "               X_test, \n",
    "               y_test, \n",
    "               train_metrics=[\"accuracy\"],\n",
    "               test_metrics=[\"accuracy\"],\n",
    "               additional_metrics=[\"feature_sparsity\", \"active_features\", \"step_size\"],\n",
    "               U=gates, \n",
    "               formulation=\"grelu_lasso_net\",\n",
    "               reg_strength=0.05,\n",
    "               backend=\"numpy\",\n",
    "               verbose=True)"
   ]
  },
  {
   "cell_type": "code",
   "execution_count": null,
   "id": "0858a91b",
   "metadata": {},
   "outputs": [],
   "source": []
  }
 ],
 "metadata": {
  "kernelspec": {
   "display_name": "Python 3",
   "language": "python",
   "name": "python3"
  },
  "language_info": {
   "codemirror_mode": {
    "name": "ipython",
    "version": 3
   },
   "file_extension": ".py",
   "mimetype": "text/x-python",
   "name": "python",
   "nbconvert_exporter": "python",
   "pygments_lexer": "ipython3",
   "version": "3.9.9"
  }
 },
 "nbformat": 4,
 "nbformat_minor": 5
}
