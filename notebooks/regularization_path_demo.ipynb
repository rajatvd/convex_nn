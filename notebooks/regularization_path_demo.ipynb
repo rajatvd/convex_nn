{
 "cells": [
  {
   "cell_type": "code",
   "execution_count": 1,
   "id": "750474ec",
   "metadata": {},
   "outputs": [],
   "source": [
    "\"\"\"\n",
    "Train convex LassoNet models on a synthetic classification dataset using convex optimization.\n",
    "\"\"\"\n",
    "\n",
    "import sys\n",
    "sys.path.append(\"..\")"
   ]
  },
  {
   "cell_type": "code",
   "execution_count": 2,
   "id": "6284d725",
   "metadata": {},
   "outputs": [],
   "source": [
    "import numpy as np\n",
    "import matplotlib.pyplot as plt\n",
    "\n",
    "from convex_nn.optimize import optimize_path\n",
    "from convex_nn.private.utils.data import gen_classification_data\n",
    "from convex_nn.models import ConvexGatedReLU, ConvexReLU\n",
    "from convex_nn.solvers import RFISTA, AL\n",
    "from convex_nn.regularizers import NeuronGL1\n",
    "from convex_nn.metrics import Metrics\n",
    "from convex_nn.activations import sample_gate_vectors"
   ]
  },
  {
   "cell_type": "code",
   "execution_count": 3,
   "id": "bf47351b",
   "metadata": {},
   "outputs": [],
   "source": [
    "# Generate realizable synthetic classification problem (ie. Figure 1)\n",
    "n_train = 250\n",
    "n_test = 250\n",
    "d = 50\n",
    "hidden_units = 100\n",
    "kappa = 10  # condition number\n",
    "\n",
    "(X_train, y_train), (X_test, y_test) = gen_classification_data(123, n_train, n_test, d, hidden_units, kappa)"
   ]
  },
  {
   "cell_type": "code",
   "execution_count": 8,
   "id": "342a4d88",
   "metadata": {},
   "outputs": [],
   "source": [
    "# Instantiate convex model and other options.\n",
    "max_neurons = 500\n",
    "lambda_path = [0.1, 0.01, 0.001, 0.0001, 0.00001]\n",
    "\n",
    "G = sample_gate_vectors(np.random.default_rng(123), d, max_neurons)\n",
    "model = ConvexGatedReLU(G)\n",
    "solver = RFISTA(model, tol=1e-6)\n",
    "path = [NeuronGL1(lam) for lam in lambda_path]\n",
    "metrics = Metrics(metric_freq=25, model_loss=True, train_accuracy=True, train_mse=True, test_mse=True, test_accuracy=True, neuron_sparsity=True)"
   ]
  },
  {
   "cell_type": "code",
   "execution_count": 13,
   "id": "2ae33372",
   "metadata": {
    "scrolled": true
   },
   "outputs": [
    {
     "name": "stderr",
     "output_type": "stream",
     "text": [
      "INFO:convex_nn:Pre-Optimization Metrics: Train Set objective: 0.5, Train Set grad_norm: 0.0, Train Set base_objective: 0.5, Train Set accuracy: 0.0, Train Set nc_squared_error: 0.5, Test Set nc_accuracy: 0.0, Test Set squared_error: 0.5, group_sparsity: 1.0, \n"
     ]
    },
    {
     "data": {
      "application/vnd.jupyter.widget-view+json": {
       "model_id": "2ebdbf42b5a6489395435a969b51b171",
       "version_major": 2,
       "version_minor": 0
      },
      "text/plain": [
       "fista:   0%|          | 0/10000 [00:00<?, ?it/s]"
      ]
     },
     "metadata": {},
     "output_type": "display_data"
    },
    {
     "name": "stderr",
     "output_type": "stream",
     "text": [
      "INFO:convex_nn:Termination criterion satisfied at iteration 0/10000. Exiting optimization loop.\n",
      "INFO:convex_nn:Post-Optimization Metrics: Train Set objective: 0.5, Train Set grad_norm: 0.0, Train Set base_objective: 0.5, Train Set accuracy: 0.0, Train Set nc_squared_error: 0.5, Test Set nc_accuracy: 0.0, Test Set squared_error: 0.5, group_sparsity: 1.0, \n",
      "INFO:convex_nn:Pre-Optimization Metrics: Train Set objective: 0.5, Train Set grad_norm: 0.22960442304611206, Train Set base_objective: 0.5, Train Set accuracy: 0.0, Train Set nc_squared_error: 0.5, Test Set nc_accuracy: 0.0, Test Set squared_error: 0.5, group_sparsity: 1.0, \n"
     ]
    },
    {
     "name": "stdout",
     "output_type": "stream",
     "text": [
      "Train Set objective: 0.5, Train Set grad_norm: 0.0, Train Set base_objective: 0.5, Train Set accuracy: 0.0, Train Set nc_squared_error: 0.5, Test Set nc_accuracy: 0.0, Test Set squared_error: 0.5, group_sparsity: 1.0, \n"
     ]
    },
    {
     "data": {
      "application/vnd.jupyter.widget-view+json": {
       "model_id": "5853d3e18e6142b29fd3ede432d9958c",
       "version_major": 2,
       "version_minor": 0
      },
      "text/plain": [
       "fista:   0%|          | 0/10000 [00:00<?, ?it/s]"
      ]
     },
     "metadata": {},
     "output_type": "display_data"
    },
    {
     "name": "stdout",
     "output_type": "stream",
     "text": [
      "Train Set objective: 0.5, Train Set grad_norm: 0.22960442304611206, Train Set base_objective: 0.5, Train Set accuracy: 0.0, Train Set nc_squared_error: 0.5, Test Set nc_accuracy: 0.0, Test Set squared_error: 0.5, group_sparsity: 1.0, \n",
      "Train Set objective: 0.29109334564208983, Train Set grad_norm: 5.0199047109344974e-05, Train Set base_objective: 0.29109334564208983, Train Set accuracy: 1.0, Train Set nc_squared_error: 0.09102650451660156, Test Set nc_accuracy: 0.932, Test Set squared_error: 0.20439875793457032, group_sparsity: 0.508, \n",
      "Train Set objective: 0.28622209930419923, Train Set grad_norm: 1.2994277085454087e-06, Train Set base_objective: 0.28622209930419923, Train Set accuracy: 1.0, Train Set nc_squared_error: 0.0889329833984375, Test Set nc_accuracy: 0.932, Test Set squared_error: 0.20372413635253905, group_sparsity: 0.828, \n"
     ]
    },
    {
     "name": "stderr",
     "output_type": "stream",
     "text": [
      "INFO:convex_nn:Termination criterion satisfied at iteration 53/10000. Exiting optimization loop.\n",
      "INFO:convex_nn:Post-Optimization Metrics: Train Set objective: 0.2860235786437988, Train Set grad_norm: 9.989237241825322e-07, Train Set base_objective: 0.2860235786437988, Train Set accuracy: 1.0, Train Set nc_squared_error: 0.08867847442626953, Test Set nc_accuracy: 0.936, Test Set squared_error: 0.204056396484375, group_sparsity: 0.84, \n",
      "INFO:convex_nn:Pre-Optimization Metrics: Train Set objective: 0.10841298484802246, Train Set grad_norm: 0.03377726301550865, Train Set base_objective: 0.10841298484802246, Train Set accuracy: 1.0, Train Set nc_squared_error: 0.08867847442626953, Test Set nc_accuracy: 0.936, Test Set squared_error: 0.204056396484375, group_sparsity: 0.84, \n"
     ]
    },
    {
     "data": {
      "application/vnd.jupyter.widget-view+json": {
       "model_id": "3540fbac353f478c87da65e0248b4cc6",
       "version_major": 2,
       "version_minor": 0
      },
      "text/plain": [
       "fista:   0%|          | 0/10000 [00:00<?, ?it/s]"
      ]
     },
     "metadata": {},
     "output_type": "display_data"
    },
    {
     "name": "stdout",
     "output_type": "stream",
     "text": [
      "Train Set objective: 0.10841298484802246, Train Set grad_norm: 0.03377726301550865, Train Set base_objective: 0.10841298484802246, Train Set accuracy: 1.0, Train Set nc_squared_error: 0.08867847442626953, Test Set nc_accuracy: 0.936, Test Set squared_error: 0.204056396484375, group_sparsity: 0.84, \n",
      "Train Set objective: 0.04228387260437012, Train Set grad_norm: 1.4517008821712807e-05, Train Set base_objective: 0.04228387260437012, Train Set accuracy: 1.0, Train Set nc_squared_error: 0.002990910530090332, Test Set nc_accuracy: 0.92, Test Set squared_error: 0.15146914672851564, group_sparsity: 0.0, \n"
     ]
    },
    {
     "name": "stderr",
     "output_type": "stream",
     "text": [
      "INFO:convex_nn:Termination criterion satisfied at iteration 70/10000. Exiting optimization loop.\n",
      "INFO:convex_nn:Post-Optimization Metrics: Train Set objective: 0.04045914006233215, Train Set grad_norm: 9.788054740056396e-07, Train Set base_objective: 0.04045914006233215, Train Set accuracy: 1.0, Train Set nc_squared_error: 0.0019117614030838012, Test Set nc_accuracy: 0.932, Test Set squared_error: 0.1537865447998047, group_sparsity: 0.406, \n",
      "INFO:convex_nn:Pre-Optimization Metrics: Train Set objective: 0.005766499376296997, Train Set grad_norm: 0.0003566851082723588, Train Set base_objective: 0.005766499376296997, Train Set accuracy: 1.0, Train Set nc_squared_error: 0.0019117614030838012, Test Set nc_accuracy: 0.932, Test Set squared_error: 0.1537865447998047, group_sparsity: 0.406, \n"
     ]
    },
    {
     "name": "stdout",
     "output_type": "stream",
     "text": [
      "Train Set objective: 0.04093592691421509, Train Set grad_norm: 3.4917954963020748e-06, Train Set base_objective: 0.04093592691421509, Train Set accuracy: 1.0, Train Set nc_squared_error: 0.002031823635101318, Test Set nc_accuracy: 0.928, Test Set squared_error: 0.153126708984375, group_sparsity: 0.198, \n"
     ]
    },
    {
     "data": {
      "application/vnd.jupyter.widget-view+json": {
       "model_id": "973fd741f68d481d8c521823b9ab79d5",
       "version_major": 2,
       "version_minor": 0
      },
      "text/plain": [
       "fista:   0%|          | 0/10000 [00:00<?, ?it/s]"
      ]
     },
     "metadata": {},
     "output_type": "display_data"
    },
    {
     "name": "stderr",
     "output_type": "stream",
     "text": [
      "INFO:convex_nn:Termination criterion satisfied at iteration 13/10000. Exiting optimization loop.\n",
      "INFO:convex_nn:Post-Optimization Metrics: Train Set objective: 0.004277318606898189, Train Set grad_norm: 9.925014410328004e-07, Train Set base_objective: 0.004277318606898189, Train Set accuracy: 1.0, Train Set nc_squared_error: 2.6224538683891295e-05, Test Set nc_accuracy: 0.932, Test Set squared_error: 0.15355279541015626, group_sparsity: 0.0, \n",
      "INFO:convex_nn:Pre-Optimization Metrics: Train Set objective: 0.00045133395723998546, Train Set grad_norm: 2.8360245778458193e-06, Train Set base_objective: 0.00045133395723998546, Train Set accuracy: 1.0, Train Set nc_squared_error: 2.6224538683891295e-05, Test Set nc_accuracy: 0.932, Test Set squared_error: 0.15355279541015626, group_sparsity: 0.0, \n"
     ]
    },
    {
     "name": "stdout",
     "output_type": "stream",
     "text": [
      "Train Set objective: 0.005766499376296997, Train Set grad_norm: 0.0003566851082723588, Train Set base_objective: 0.005766499376296997, Train Set accuracy: 1.0, Train Set nc_squared_error: 0.0019117614030838012, Test Set nc_accuracy: 0.932, Test Set squared_error: 0.1537865447998047, group_sparsity: 0.406, \n"
     ]
    },
    {
     "data": {
      "application/vnd.jupyter.widget-view+json": {
       "model_id": "e16230c6a3c84ab683e3f2f776191149",
       "version_major": 2,
       "version_minor": 0
      },
      "text/plain": [
       "fista:   0%|          | 0/10000 [00:00<?, ?it/s]"
      ]
     },
     "metadata": {},
     "output_type": "display_data"
    },
    {
     "name": "stdout",
     "output_type": "stream",
     "text": [
      "Train Set objective: 0.00045133395723998546, Train Set grad_norm: 2.8360245778458193e-06, Train Set base_objective: 0.00045133395723998546, Train Set accuracy: 1.0, Train Set nc_squared_error: 2.6224538683891295e-05, Test Set nc_accuracy: 0.932, Test Set squared_error: 0.15355279541015626, group_sparsity: 0.0, \n"
     ]
    },
    {
     "name": "stderr",
     "output_type": "stream",
     "text": [
      "INFO:convex_nn:Termination criterion satisfied at iteration 4/10000. Exiting optimization loop.\n",
      "INFO:convex_nn:Post-Optimization Metrics: Train Set objective: 0.0004365374945476651, Train Set grad_norm: 7.122026204342546e-07, Train Set base_objective: 0.0004365374945476651, Train Set accuracy: 1.0, Train Set nc_squared_error: 9.192812256515026e-06, Test Set nc_accuracy: 0.932, Test Set squared_error: 0.15355484008789064, group_sparsity: 0.0, \n"
     ]
    }
   ],
   "source": [
    "gated_model_path, gated_metric_path = optimize_path(\n",
    "    model,\n",
    "    solver,\n",
    "    path,\n",
    "    metrics,\n",
    "    X_train, \n",
    "    y_train, \n",
    "    X_test, \n",
    "    y_test,\n",
    "    verbose=True,\n",
    ")"
   ]
  },
  {
   "cell_type": "code",
   "execution_count": 16,
   "id": "728221e2",
   "metadata": {
    "scrolled": true
   },
   "outputs": [
    {
     "name": "stderr",
     "output_type": "stream",
     "text": [
      "INFO:convex_nn:Pre-Optimization Metrics: Train Set objective: 0.5, Train Set grad_norm: 0.0, Train Set base_objective: 0.5, Train Set accuracy: 0.0, Train Set nc_squared_error: 0.5, Test Set nc_accuracy: 0.0, Test Set squared_error: 0.5, group_sparsity: 1.0, \n"
     ]
    },
    {
     "data": {
      "application/vnd.jupyter.widget-view+json": {
       "model_id": "0267f34827a44f9a96983d0a22d9498b",
       "version_major": 2,
       "version_minor": 0
      },
      "text/plain": [
       "Outer al:   0%|          | 0/10000 [00:00<?, ?it/s]"
      ]
     },
     "metadata": {},
     "output_type": "display_data"
    },
    {
     "data": {
      "application/vnd.jupyter.widget-view+json": {
       "model_id": "c0e44f7b21a64942904067d9bf93b540",
       "version_major": 2,
       "version_minor": 0
      },
      "text/plain": [
       "Inner al:   0%|          | 0/10000 [00:00<?, ?it/s]"
      ]
     },
     "metadata": {},
     "output_type": "display_data"
    },
    {
     "name": "stderr",
     "output_type": "stream",
     "text": [
      "INFO:convex_nn:*Outer* termination criterion satisfied at iteration 0/10000. Exiting *outer* optimization loop.\n",
      "INFO:convex_nn:Post-Optimization Metrics: Train Set objective: 0.5, Train Set grad_norm: 0.0, Train Set base_objective: 0.5, Train Set accuracy: 0.0, Train Set nc_squared_error: 0.5, Test Set nc_accuracy: 0.0, Test Set squared_error: 0.5, group_sparsity: 1.0, \n",
      "INFO:convex_nn:Pre-Optimization Metrics: Train Set objective: 0.5, Train Set grad_norm: 0.45920881628990173, Train Set base_objective: 0.5, Train Set accuracy: 0.0, Train Set nc_squared_error: 0.5, Test Set nc_accuracy: 0.0, Test Set squared_error: 0.5, group_sparsity: 1.0, \n"
     ]
    },
    {
     "name": "stdout",
     "output_type": "stream",
     "text": [
      "Train Set objective: 0.5, Train Set grad_norm: 0.0, Train Set base_objective: 0.5, Train Set accuracy: 0.0, Train Set nc_squared_error: 0.5, Test Set nc_accuracy: 0.0, Test Set squared_error: 0.5, group_sparsity: 1.0, \n"
     ]
    },
    {
     "data": {
      "application/vnd.jupyter.widget-view+json": {
       "model_id": "6027aa0cb09246cab34667bed372c34f",
       "version_major": 2,
       "version_minor": 0
      },
      "text/plain": [
       "Outer al:   0%|          | 0/10000 [00:00<?, ?it/s]"
      ]
     },
     "metadata": {},
     "output_type": "display_data"
    },
    {
     "data": {
      "application/vnd.jupyter.widget-view+json": {
       "model_id": "c015d272ce6f448096288480b24a8d98",
       "version_major": 2,
       "version_minor": 0
      },
      "text/plain": [
       "Inner al:   0%|          | 0/10000 [00:00<?, ?it/s]"
      ]
     },
     "metadata": {},
     "output_type": "display_data"
    },
    {
     "name": "stdout",
     "output_type": "stream",
     "text": [
      "Train Set objective: 0.5, Train Set grad_norm: 0.45920881628990173, Train Set base_objective: 0.5, Train Set accuracy: 0.0, Train Set nc_squared_error: 0.5, Test Set nc_accuracy: 0.0, Test Set squared_error: 0.5, group_sparsity: 1.0, \n"
     ]
    },
    {
     "name": "stderr",
     "output_type": "stream",
     "text": [
      "INFO:convex_nn:*Inner* termination criterion satisfied at iteration 19/10000. Exiting *inner* optimization loop.\n"
     ]
    },
    {
     "data": {
      "application/vnd.jupyter.widget-view+json": {
       "model_id": "7306fed5d19f4b58a7c1dc014316cb58",
       "version_major": 2,
       "version_minor": 0
      },
      "text/plain": [
       "Inner al:   0%|          | 0/10000 [00:00<?, ?it/s]"
      ]
     },
     "metadata": {},
     "output_type": "display_data"
    },
    {
     "name": "stdout",
     "output_type": "stream",
     "text": [
      "Train Set objective: 0.3322597232982516, Train Set grad_norm: 0.0007868921966291964, Train Set base_objective: 0.3242309226989746, Train Set accuracy: 0.92, Train Set nc_squared_error: 0.14883682250976563, Test Set nc_accuracy: 0.916, Test Set squared_error: 0.20113021850585938, group_sparsity: 0.007, \n",
      "Train Set objective: 0.3274540278017521, Train Set grad_norm: 0.00010960260988213122, Train Set base_objective: 0.32053919982910156, Train Set accuracy: 0.92, Train Set nc_squared_error: 0.15237957763671875, Test Set nc_accuracy: 0.916, Test Set squared_error: 0.20703152465820313, group_sparsity: 0.004, \n",
      "Train Set objective: 0.3236496490128339, Train Set grad_norm: 5.971740392851643e-05, Train Set base_objective: 0.3184364624023438, Train Set accuracy: 0.912, Train Set nc_squared_error: 0.1478083953857422, Test Set nc_accuracy: 0.916, Test Set squared_error: 0.20494947814941405, group_sparsity: 0.012, \n",
      "Train Set objective: 0.3212292219437659, Train Set grad_norm: 4.541490852716379e-05, Train Set base_objective: 0.31714011001586917, Train Set accuracy: 0.912, Train Set nc_squared_error: 0.14570217895507812, Test Set nc_accuracy: 0.916, Test Set squared_error: 0.20537692260742188, group_sparsity: 0.02, \n",
      "Train Set objective: 0.3198158587627113, Train Set grad_norm: 5.7096640375675634e-05, Train Set base_objective: 0.31643597412109375, Train Set accuracy: 0.908, Train Set nc_squared_error: 0.14369853210449218, Test Set nc_accuracy: 0.916, Test Set squared_error: 0.20581582641601562, group_sparsity: 0.026, \n",
      "Train Set objective: 0.31884105169028043, Train Set grad_norm: 1.8491311493562534e-05, Train Set base_objective: 0.31580056381225585, Train Set accuracy: 0.912, Train Set nc_squared_error: 0.1435775146484375, Test Set nc_accuracy: 0.916, Test Set squared_error: 0.2072930908203125, group_sparsity: 0.026, \n",
      "Train Set objective: 0.318350926309824, Train Set grad_norm: 2.0915887944283895e-05, Train Set base_objective: 0.3156585807800293, Train Set accuracy: 0.912, Train Set nc_squared_error: 0.1427567596435547, Test Set nc_accuracy: 0.916, Test Set squared_error: 0.208699951171875, group_sparsity: 0.034, \n",
      "Train Set objective: 0.3179849190525711, Train Set grad_norm: 1.2647981748159509e-05, Train Set base_objective: 0.3154051895141602, Train Set accuracy: 0.912, Train Set nc_squared_error: 0.14256546020507813, Test Set nc_accuracy: 0.916, Test Set squared_error: 0.21049266052246093, group_sparsity: 0.038, \n",
      "Train Set objective: 0.31768232648819683, Train Set grad_norm: 7.800187631801236e-06, Train Set base_objective: 0.31500997924804686, Train Set accuracy: 0.924, Train Set nc_squared_error: 0.14359439086914064, Test Set nc_accuracy: 0.916, Test Set squared_error: 0.2121796875, group_sparsity: 0.032, \n",
      "Train Set objective: 0.3175431187022477, Train Set grad_norm: 5.96241761741112e-06, Train Set base_objective: 0.31494062042236326, Train Set accuracy: 0.928, Train Set nc_squared_error: 0.14380905151367188, Test Set nc_accuracy: 0.916, Test Set squared_error: 0.21320309448242186, group_sparsity: 0.031, \n"
     ]
    },
    {
     "name": "stderr",
     "output_type": "stream",
     "text": [
      "INFO:convex_nn:*Inner* termination criterion satisfied at iteration 255/10000. Exiting *inner* optimization loop.\n"
     ]
    },
    {
     "name": "stdout",
     "output_type": "stream",
     "text": [
      "Train Set objective: 0.3174518187046051, Train Set grad_norm: 1.3207394431447028e-06, Train Set base_objective: 0.3149084587097168, Train Set accuracy: 0.928, Train Set nc_squared_error: 0.143663818359375, Test Set nc_accuracy: 0.916, Test Set squared_error: 0.21345712280273438, group_sparsity: 0.034, \n"
     ]
    },
    {
     "data": {
      "application/vnd.jupyter.widget-view+json": {
       "model_id": "f570f78ec22e41ff8714bb5ed7eb8f41",
       "version_major": 2,
       "version_minor": 0
      },
      "text/plain": [
       "Inner al:   0%|          | 0/10000 [00:00<?, ?it/s]"
      ]
     },
     "metadata": {},
     "output_type": "display_data"
    },
    {
     "name": "stdout",
     "output_type": "stream",
     "text": [
      "Train Set objective: 0.3174436659142375, Train Set grad_norm: 9.612058420316316e-07, Train Set base_objective: 0.3148982467651367, Train Set accuracy: 0.928, Train Set nc_squared_error: 0.14368704223632814, Test Set nc_accuracy: 0.916, Test Set squared_error: 0.21348419189453124, group_sparsity: 0.034, \n",
      "Train Set objective: 0.32317586176469926, Train Set grad_norm: 6.111689799581654e-06, Train Set base_objective: 0.31891213989257816, Train Set accuracy: 0.896, Train Set nc_squared_error: 0.1473059539794922, Test Set nc_accuracy: 0.916, Test Set squared_error: 0.215635986328125, group_sparsity: 0.008, \n",
      "Train Set objective: 0.32297130398266016, Train Set grad_norm: 1.7770930753613357e-06, Train Set base_objective: 0.3191533203125, Train Set accuracy: 0.896, Train Set nc_squared_error: 0.14626974487304686, Test Set nc_accuracy: 0.916, Test Set squared_error: 0.21486581420898437, group_sparsity: 0.012, \n"
     ]
    },
    {
     "name": "stderr",
     "output_type": "stream",
     "text": [
      "INFO:convex_nn:*Inner* termination criterion satisfied at iteration 72/10000. Exiting *inner* optimization loop.\n"
     ]
    },
    {
     "data": {
      "application/vnd.jupyter.widget-view+json": {
       "model_id": "7b1284ad8b434756a31a7dff7a3feb34",
       "version_major": 2,
       "version_minor": 0
      },
      "text/plain": [
       "Inner al:   0%|          | 0/10000 [00:00<?, ?it/s]"
      ]
     },
     "metadata": {},
     "output_type": "display_data"
    },
    {
     "name": "stdout",
     "output_type": "stream",
     "text": [
      "Train Set objective: 0.3228705041501671, Train Set grad_norm: 9.518853971712815e-07, Train Set base_objective: 0.31936350631713867, Train Set accuracy: 0.896, Train Set nc_squared_error: 0.14539913940429688, Test Set nc_accuracy: 0.916, Test Set squared_error: 0.2143210754394531, group_sparsity: 0.019, \n"
     ]
    },
    {
     "name": "stderr",
     "output_type": "stream",
     "text": [
      "INFO:convex_nn:*Inner* termination criterion satisfied at iteration 22/10000. Exiting *inner* optimization loop.\n"
     ]
    },
    {
     "data": {
      "application/vnd.jupyter.widget-view+json": {
       "model_id": "b7dcbb4cf0f34d30b6f946b0ae5bb1e2",
       "version_major": 2,
       "version_minor": 0
      },
      "text/plain": [
       "Inner al:   0%|          | 0/10000 [00:00<?, ?it/s]"
      ]
     },
     "metadata": {},
     "output_type": "display_data"
    },
    {
     "name": "stdout",
     "output_type": "stream",
     "text": [
      "Train Set objective: 0.32399356757104397, Train Set grad_norm: 9.848318995864247e-07, Train Set base_objective: 0.32001408767700196, Train Set accuracy: 0.896, Train Set nc_squared_error: 0.14630441284179688, Test Set nc_accuracy: 0.916, Test Set squared_error: 0.21504478454589843, group_sparsity: 0.012, \n"
     ]
    },
    {
     "name": "stderr",
     "output_type": "stream",
     "text": [
      "INFO:convex_nn:*Inner* termination criterion satisfied at iteration 33/10000. Exiting *inner* optimization loop.\n"
     ]
    },
    {
     "name": "stdout",
     "output_type": "stream",
     "text": [
      "Train Set objective: 0.32448425147682425, Train Set grad_norm: 1.135342358793423e-06, Train Set base_objective: 0.32027622222900387, Train Set accuracy: 0.896, Train Set nc_squared_error: 0.14670889282226562, Test Set nc_accuracy: 0.916, Test Set squared_error: 0.21546539306640625, group_sparsity: 0.031, \n"
     ]
    },
    {
     "data": {
      "application/vnd.jupyter.widget-view+json": {
       "model_id": "e9db58f7ac9145d4943239d43b1e4a61",
       "version_major": 2,
       "version_minor": 0
      },
      "text/plain": [
       "Inner al:   0%|          | 0/10000 [00:00<?, ?it/s]"
      ]
     },
     "metadata": {},
     "output_type": "display_data"
    },
    {
     "name": "stdout",
     "output_type": "stream",
     "text": [
      "Train Set objective: 0.32446488324925304, Train Set grad_norm: 9.826827636061353e-07, Train Set base_objective: 0.3203056678771973, Train Set accuracy: 0.896, Train Set nc_squared_error: 0.14661273193359375, Test Set nc_accuracy: 0.916, Test Set squared_error: 0.21542523193359375, group_sparsity: 0.037, \n"
     ]
    },
    {
     "name": "stderr",
     "output_type": "stream",
     "text": [
      "INFO:convex_nn:*Outer* termination criterion satisfied at iteration 5/10000. Exiting *outer* optimization loop.\n",
      "INFO:convex_nn:Post-Optimization Metrics: Train Set objective: 0.3246374506726861, Train Set grad_norm: 9.90476451079303e-07, Train Set base_objective: 0.32040927505493166, Train Set accuracy: 0.896, Train Set nc_squared_error: 0.1466988067626953, Test Set nc_accuracy: 0.916, Test Set squared_error: 0.21554232788085936, group_sparsity: 0.037, \n",
      "INFO:convex_nn:Pre-Optimization Metrics: Train Set objective: 0.168269780613482, Train Set grad_norm: 0.08095266669988632, Train Set base_objective: 0.16404160499572754, Train Set accuracy: 0.896, Train Set nc_squared_error: 0.1466988067626953, Test Set nc_accuracy: 0.916, Test Set squared_error: 0.21554232788085936, group_sparsity: 0.037, \n"
     ]
    },
    {
     "data": {
      "application/vnd.jupyter.widget-view+json": {
       "model_id": "687d50dde0e64d0c8f811f0c88909257",
       "version_major": 2,
       "version_minor": 0
      },
      "text/plain": [
       "Outer al:   0%|          | 0/10000 [00:00<?, ?it/s]"
      ]
     },
     "metadata": {},
     "output_type": "display_data"
    },
    {
     "data": {
      "application/vnd.jupyter.widget-view+json": {
       "model_id": "aa54ff9fa85144f283c498a906e66b55",
       "version_major": 2,
       "version_minor": 0
      },
      "text/plain": [
       "Inner al:   0%|          | 0/10000 [00:00<?, ?it/s]"
      ]
     },
     "metadata": {},
     "output_type": "display_data"
    },
    {
     "name": "stdout",
     "output_type": "stream",
     "text": [
      "Train Set objective: 0.168269780613482, Train Set grad_norm: 0.08095266669988632, Train Set base_objective: 0.16404160499572754, Train Set accuracy: 0.896, Train Set nc_squared_error: 0.1466988067626953, Test Set nc_accuracy: 0.916, Test Set squared_error: 0.21554232788085936, group_sparsity: 0.037, \n"
     ]
    },
    {
     "name": "stderr",
     "output_type": "stream",
     "text": [
      "INFO:convex_nn:*Inner* termination criterion satisfied at iteration 16/10000. Exiting *inner* optimization loop.\n"
     ]
    },
    {
     "data": {
      "application/vnd.jupyter.widget-view+json": {
       "model_id": "a393d6f6b99845fb9ccc4229f0477c6c",
       "version_major": 2,
       "version_minor": 0
      },
      "text/plain": [
       "Inner al:   0%|          | 0/10000 [00:00<?, ?it/s]"
      ]
     },
     "metadata": {},
     "output_type": "display_data"
    },
    {
     "name": "stdout",
     "output_type": "stream",
     "text": [
      "Train Set objective: 0.1035745464488864, Train Set grad_norm: 0.0008822645177133381, Train Set base_objective: 0.093962646484375, Train Set accuracy: 1.0, Train Set nc_squared_error: 0.0604752197265625, Test Set nc_accuracy: 0.92, Test Set squared_error: 0.14683720397949218, group_sparsity: 0.0, \n",
      "Train Set objective: 0.09187632239237428, Train Set grad_norm: 0.00012222085206303746, Train Set base_objective: 0.08548003387451172, Train Set accuracy: 1.0, Train Set nc_squared_error: 0.036282852172851564, Test Set nc_accuracy: 0.928, Test Set squared_error: 0.14372584533691407, group_sparsity: 0.0, \n",
      "Train Set objective: 0.08632696440815926, Train Set grad_norm: 9.438802226213738e-05, Train Set base_objective: 0.08238976097106934, Train Set accuracy: 1.0, Train Set nc_squared_error: 0.023633432388305665, Test Set nc_accuracy: 0.932, Test Set squared_error: 0.1421345672607422, group_sparsity: 0.0, \n",
      "Train Set objective: 0.08354042022675276, Train Set grad_norm: 9.782996494323015e-05, Train Set base_objective: 0.08041573333740235, Train Set accuracy: 1.0, Train Set nc_squared_error: 0.02071111488342285, Test Set nc_accuracy: 0.932, Test Set squared_error: 0.14060049438476563, group_sparsity: 0.0, \n",
      "Train Set objective: 0.08178737190552056, Train Set grad_norm: 4.552716200123541e-05, Train Set base_objective: 0.07897602081298828, Train Set accuracy: 1.0, Train Set nc_squared_error: 0.019859199523925782, Test Set nc_accuracy: 0.94, Test Set squared_error: 0.13927853393554687, group_sparsity: 0.0, \n",
      "Train Set objective: 0.08050066613405943, Train Set grad_norm: 3.224315878469497e-05, Train Set base_objective: 0.07797094535827637, Train Set accuracy: 1.0, Train Set nc_squared_error: 0.019081218719482422, Test Set nc_accuracy: 0.936, Test Set squared_error: 0.13863113403320312, group_sparsity: 0.0, \n",
      "Train Set objective: 0.0795560536943376, Train Set grad_norm: 2.5519959308439866e-05, Train Set base_objective: 0.07727880096435547, Train Set accuracy: 1.0, Train Set nc_squared_error: 0.01795684814453125, Test Set nc_accuracy: 0.936, Test Set squared_error: 0.13916928100585937, group_sparsity: 0.0, \n",
      "Train Set objective: 0.07881901909783483, Train Set grad_norm: 2.497235436749179e-05, Train Set base_objective: 0.07667481231689453, Train Set accuracy: 1.0, Train Set nc_squared_error: 0.017264415740966797, Test Set nc_accuracy: 0.94, Test Set squared_error: 0.13969949340820312, group_sparsity: 0.0, \n",
      "Train Set objective: 0.07822461978159845, Train Set grad_norm: 1.4272764929046389e-05, Train Set base_objective: 0.07615964317321777, Train Set accuracy: 1.0, Train Set nc_squared_error: 0.01675201225280762, Test Set nc_accuracy: 0.94, Test Set squared_error: 0.14013829040527342, group_sparsity: 0.0, \n",
      "Train Set objective: 0.07772509115748108, Train Set grad_norm: 2.5084467779379338e-05, Train Set base_objective: 0.07573268413543702, Train Set accuracy: 1.0, Train Set nc_squared_error: 0.016583623886108397, Test Set nc_accuracy: 0.936, Test Set squared_error: 0.14098776245117187, group_sparsity: 0.0, \n",
      "Train Set objective: 0.07730844476260246, Train Set grad_norm: 1.3844992281519808e-05, Train Set base_objective: 0.07540679931640626, Train Set accuracy: 1.0, Train Set nc_squared_error: 0.016142623901367188, Test Set nc_accuracy: 0.936, Test Set squared_error: 0.14167303466796874, group_sparsity: 0.0, \n",
      "Train Set objective: 0.07699738628044725, Train Set grad_norm: 1.7796421161619946e-05, Train Set base_objective: 0.0751317138671875, Train Set accuracy: 1.0, Train Set nc_squared_error: 0.015842979431152343, Test Set nc_accuracy: 0.936, Test Set squared_error: 0.14248171997070314, group_sparsity: 0.0, \n",
      "Train Set objective: 0.07672319397889077, Train Set grad_norm: 5.083235009806231e-06, Train Set base_objective: 0.07489750766754151, Train Set accuracy: 1.0, Train Set nc_squared_error: 0.015663612365722657, Test Set nc_accuracy: 0.94, Test Set squared_error: 0.1426055908203125, group_sparsity: 0.0, \n",
      "Train Set objective: 0.076497418849729, Train Set grad_norm: 3.760407025765744e-06, Train Set base_objective: 0.07468846130371093, Train Set accuracy: 1.0, Train Set nc_squared_error: 0.015556164741516113, Test Set nc_accuracy: 0.94, Test Set squared_error: 0.1424254150390625, group_sparsity: 0.0, \n",
      "Train Set objective: 0.07629031755961477, Train Set grad_norm: 5.227353540249169e-06, Train Set base_objective: 0.07448603630065918, Train Set accuracy: 1.0, Train Set nc_squared_error: 0.015585402488708495, Test Set nc_accuracy: 0.94, Test Set squared_error: 0.1421070861816406, group_sparsity: 0.0, \n",
      "Train Set objective: 0.07612960644066334, Train Set grad_norm: 6.548162218678044e-06, Train Set base_objective: 0.07430793762207032, Train Set accuracy: 1.0, Train Set nc_squared_error: 0.015543007850646972, Test Set nc_accuracy: 0.94, Test Set squared_error: 0.14186212158203124, group_sparsity: 0.0, \n",
      "Train Set objective: 0.07601233289577067, Train Set grad_norm: 6.426752406696323e-06, Train Set base_objective: 0.0742044734954834, Train Set accuracy: 1.0, Train Set nc_squared_error: 0.015476201057434082, Test Set nc_accuracy: 0.936, Test Set squared_error: 0.14166311645507812, group_sparsity: 0.0, \n",
      "Train Set objective: 0.07593547665700318, Train Set grad_norm: 2.545709548940067e-06, Train Set base_objective: 0.07415031242370605, Train Set accuracy: 1.0, Train Set nc_squared_error: 0.015321476936340332, Test Set nc_accuracy: 0.936, Test Set squared_error: 0.14163560485839843, group_sparsity: 0.0, \n"
     ]
    },
    {
     "name": "stderr",
     "output_type": "stream",
     "text": [
      "INFO:convex_nn:*Inner* termination criterion satisfied at iteration 436/10000. Exiting *inner* optimization loop.\n"
     ]
    },
    {
     "data": {
      "application/vnd.jupyter.widget-view+json": {
       "model_id": "47bcdd3d69d44faa90883fc9fcb9da70",
       "version_major": 2,
       "version_minor": 0
      },
      "text/plain": [
       "Inner al:   0%|          | 0/10000 [00:00<?, ?it/s]"
      ]
     },
     "metadata": {},
     "output_type": "display_data"
    },
    {
     "name": "stdout",
     "output_type": "stream",
     "text": [
      "Train Set objective: 0.07591924947779627, Train Set grad_norm: 9.608039590602857e-07, Train Set base_objective: 0.07414108657836914, Train Set accuracy: 1.0, Train Set nc_squared_error: 0.015340015411376954, Test Set nc_accuracy: 0.936, Test Set squared_error: 0.14165724182128905, group_sparsity: 0.0, \n"
     ]
    },
    {
     "name": "stderr",
     "output_type": "stream",
     "text": [
      "INFO:convex_nn:*Inner* termination criterion satisfied at iteration 32/10000. Exiting *inner* optimization loop.\n"
     ]
    },
    {
     "name": "stdout",
     "output_type": "stream",
     "text": [
      "Train Set objective: 0.07727591192908585, Train Set grad_norm: 1.3938259826318244e-06, Train Set base_objective: 0.07499692344665528, Train Set accuracy: 1.0, Train Set nc_squared_error: 0.016100366592407225, Test Set nc_accuracy: 0.94, Test Set squared_error: 0.14137326049804688, group_sparsity: 0.0, \n"
     ]
    },
    {
     "data": {
      "application/vnd.jupyter.widget-view+json": {
       "model_id": "b49746224b82436a9fd3e004d0ea3cde",
       "version_major": 2,
       "version_minor": 0
      },
      "text/plain": [
       "Inner al:   0%|          | 0/10000 [00:00<?, ?it/s]"
      ]
     },
     "metadata": {},
     "output_type": "display_data"
    },
    {
     "name": "stdout",
     "output_type": "stream",
     "text": [
      "Train Set objective: 0.07726401435025036, Train Set grad_norm: 9.765144568518735e-07, Train Set base_objective: 0.07499942970275879, Train Set accuracy: 1.0, Train Set nc_squared_error: 0.016102754592895507, Test Set nc_accuracy: 0.94, Test Set squared_error: 0.14140023803710938, group_sparsity: 0.0, \n"
     ]
    },
    {
     "name": "stderr",
     "output_type": "stream",
     "text": [
      "INFO:convex_nn:*Inner* termination criterion satisfied at iteration 15/10000. Exiting *inner* optimization loop.\n"
     ]
    },
    {
     "data": {
      "application/vnd.jupyter.widget-view+json": {
       "model_id": "9c5448d85c944aaba70e08eebfb3c9dd",
       "version_major": 2,
       "version_minor": 0
      },
      "text/plain": [
       "Inner al:   0%|          | 0/10000 [00:00<?, ?it/s]"
      ]
     },
     "metadata": {},
     "output_type": "display_data"
    },
    {
     "name": "stdout",
     "output_type": "stream",
     "text": [
      "Train Set objective: 0.0777276056818664, Train Set grad_norm: 9.728610166348517e-07, Train Set base_objective: 0.07519307136535644, Train Set accuracy: 1.0, Train Set nc_squared_error: 0.016281789779663085, Test Set nc_accuracy: 0.94, Test Set squared_error: 0.1413056640625, group_sparsity: 0.003, \n"
     ]
    },
    {
     "name": "stderr",
     "output_type": "stream",
     "text": [
      "INFO:convex_nn:*Inner* termination criterion satisfied at iteration 21/10000. Exiting *inner* optimization loop.\n"
     ]
    },
    {
     "data": {
      "application/vnd.jupyter.widget-view+json": {
       "model_id": "7a2c8392ae8d4ea8946b891a887998cd",
       "version_major": 2,
       "version_minor": 0
      },
      "text/plain": [
       "Inner al:   0%|          | 0/10000 [00:00<?, ?it/s]"
      ]
     },
     "metadata": {},
     "output_type": "display_data"
    },
    {
     "name": "stderr",
     "output_type": "stream",
     "text": [
      "INFO:convex_nn:*Inner* termination criterion satisfied at iteration 7/10000. Exiting *inner* optimization loop.\n"
     ]
    },
    {
     "name": "stdout",
     "output_type": "stream",
     "text": [
      "Train Set objective: 0.07798038505204022, Train Set grad_norm: 9.635798505769344e-07, Train Set base_objective: 0.07528955268859863, Train Set accuracy: 1.0, Train Set nc_squared_error: 0.016387853622436523, Test Set nc_accuracy: 0.94, Test Set squared_error: 0.141268310546875, group_sparsity: 0.0, \n"
     ]
    },
    {
     "data": {
      "application/vnd.jupyter.widget-view+json": {
       "model_id": "6eb99bc20b9a488187607de6ef794634",
       "version_major": 2,
       "version_minor": 0
      },
      "text/plain": [
       "Inner al:   0%|          | 0/10000 [00:00<?, ?it/s]"
      ]
     },
     "metadata": {},
     "output_type": "display_data"
    },
    {
     "name": "stdout",
     "output_type": "stream",
     "text": [
      "Train Set objective: 0.07813331593759358, Train Set grad_norm: 9.56498297455255e-07, Train Set base_objective: 0.07532747268676758, Train Set accuracy: 1.0, Train Set nc_squared_error: 0.01642075538635254, Test Set nc_accuracy: 0.94, Test Set squared_error: 0.141248291015625, group_sparsity: 0.0, \n"
     ]
    },
    {
     "name": "stderr",
     "output_type": "stream",
     "text": [
      "INFO:convex_nn:*Inner* termination criterion satisfied at iteration 7/10000. Exiting *inner* optimization loop.\n"
     ]
    },
    {
     "data": {
      "application/vnd.jupyter.widget-view+json": {
       "model_id": "bea8a02af7354ed5b9fa245a936844f8",
       "version_major": 2,
       "version_minor": 0
      },
      "text/plain": [
       "Inner al:   0%|          | 0/10000 [00:00<?, ?it/s]"
      ]
     },
     "metadata": {},
     "output_type": "display_data"
    },
    {
     "name": "stderr",
     "output_type": "stream",
     "text": [
      "INFO:convex_nn:*Outer* termination criterion satisfied at iteration 7/10000. Exiting *outer* optimization loop.\n",
      "INFO:convex_nn:Post-Optimization Metrics: Train Set objective: 0.07833432834781706, Train Set grad_norm: 9.391380899614887e-07, Train Set base_objective: 0.07537517356872558, Train Set accuracy: 1.0, Train Set nc_squared_error: 0.016469722747802736, Test Set nc_accuracy: 0.94, Test Set squared_error: 0.1412243957519531, group_sparsity: 0.0, \n",
      "INFO:convex_nn:Pre-Optimization Metrics: Train Set objective: 0.025298996621742842, Train Set grad_norm: 0.0008100083214230835, Train Set base_objective: 0.022339841842651365, Train Set accuracy: 1.0, Train Set nc_squared_error: 0.016469722747802736, Test Set nc_accuracy: 0.94, Test Set squared_error: 0.1412243957519531, group_sparsity: 0.0, \n"
     ]
    },
    {
     "name": "stdout",
     "output_type": "stream",
     "text": [
      "Train Set objective: 0.07824819470942021, Train Set grad_norm: 9.877451248030411e-07, Train Set base_objective: 0.07535494613647462, Train Set accuracy: 1.0, Train Set nc_squared_error: 0.01644815444946289, Test Set nc_accuracy: 0.94, Test Set squared_error: 0.141234130859375, group_sparsity: 0.0, \n"
     ]
    },
    {
     "data": {
      "application/vnd.jupyter.widget-view+json": {
       "model_id": "9dac23c9a3c644f488d1ed1ba187842b",
       "version_major": 2,
       "version_minor": 0
      },
      "text/plain": [
       "Outer al:   0%|          | 0/10000 [00:00<?, ?it/s]"
      ]
     },
     "metadata": {},
     "output_type": "display_data"
    },
    {
     "data": {
      "application/vnd.jupyter.widget-view+json": {
       "model_id": "30e8425b1b9746bd9eaee0ba32768c07",
       "version_major": 2,
       "version_minor": 0
      },
      "text/plain": [
       "Inner al:   0%|          | 0/10000 [00:00<?, ?it/s]"
      ]
     },
     "metadata": {},
     "output_type": "display_data"
    },
    {
     "name": "stderr",
     "output_type": "stream",
     "text": [
      "INFO:convex_nn:*Inner* termination criterion satisfied at iteration 0/10000. Exiting *inner* optimization loop.\n"
     ]
    },
    {
     "name": "stdout",
     "output_type": "stream",
     "text": [
      "Train Set objective: 0.025298996621742842, Train Set grad_norm: 0.0008100083214230835, Train Set base_objective: 0.022339841842651365, Train Set accuracy: 1.0, Train Set nc_squared_error: 0.016469722747802736, Test Set nc_accuracy: 0.94, Test Set squared_error: 0.1412243957519531, group_sparsity: 0.0, \n"
     ]
    },
    {
     "data": {
      "application/vnd.jupyter.widget-view+json": {
       "model_id": "1c9678f744d4448c84a215bb0cee10e2",
       "version_major": 2,
       "version_minor": 0
      },
      "text/plain": [
       "Inner al:   0%|          | 0/10000 [00:00<?, ?it/s]"
      ]
     },
     "metadata": {},
     "output_type": "display_data"
    },
    {
     "name": "stdout",
     "output_type": "stream",
     "text": [
      "Train Set objective: 0.025298996621742842, Train Set grad_norm: 0.0008100083214230835, Train Set base_objective: 0.022339841842651365, Train Set accuracy: 1.0, Train Set nc_squared_error: 0.016469722747802736, Test Set nc_accuracy: 0.94, Test Set squared_error: 0.1412243957519531, group_sparsity: 0.0, \n"
     ]
    },
    {
     "name": "stderr",
     "output_type": "stream",
     "text": [
      "INFO:convex_nn:*Inner* termination criterion satisfied at iteration 7/10000. Exiting *inner* optimization loop.\n"
     ]
    },
    {
     "data": {
      "application/vnd.jupyter.widget-view+json": {
       "model_id": "53ec24064c3844a19dd1bed5606e02e5",
       "version_major": 2,
       "version_minor": 0
      },
      "text/plain": [
       "Inner al:   0%|          | 0/10000 [00:00<?, ?it/s]"
      ]
     },
     "metadata": {},
     "output_type": "display_data"
    },
    {
     "name": "stdout",
     "output_type": "stream",
     "text": [
      "Train Set objective: 0.026673873531073332, Train Set grad_norm: 0.0004993249895051122, Train Set base_objective: 0.02047338161468506, Train Set accuracy: 1.0, Train Set nc_squared_error: 0.014481544494628906, Test Set nc_accuracy: 0.936, Test Set squared_error: 0.14182281494140625, group_sparsity: 0.0, \n"
     ]
    },
    {
     "name": "stderr",
     "output_type": "stream",
     "text": [
      "INFO:convex_nn:*Inner* termination criterion satisfied at iteration 18/10000. Exiting *inner* optimization loop.\n"
     ]
    },
    {
     "data": {
      "application/vnd.jupyter.widget-view+json": {
       "model_id": "f14d95844355447fa51c40a18965ec4d",
       "version_major": 2,
       "version_minor": 0
      },
      "text/plain": [
       "Inner al:   0%|          | 0/10000 [00:00<?, ?it/s]"
      ]
     },
     "metadata": {},
     "output_type": "display_data"
    },
    {
     "name": "stdout",
     "output_type": "stream",
     "text": [
      "Train Set objective: 0.02472541397511959, Train Set grad_norm: 0.00022874554269947112, Train Set base_objective: 0.015825704765319824, Train Set accuracy: 1.0, Train Set nc_squared_error: 0.008249757766723632, Test Set nc_accuracy: 0.94, Test Set squared_error: 0.14410284423828126, group_sparsity: 0.0, \n"
     ]
    },
    {
     "name": "stderr",
     "output_type": "stream",
     "text": [
      "INFO:convex_nn:*Inner* termination criterion satisfied at iteration 27/10000. Exiting *inner* optimization loop.\n"
     ]
    },
    {
     "name": "stdout",
     "output_type": "stream",
     "text": [
      "Train Set objective: 0.02908814516812563, Train Set grad_norm: 0.00012843213335145265, Train Set base_objective: 0.015092478179931642, Train Set accuracy: 1.0, Train Set nc_squared_error: 0.005049062728881836, Test Set nc_accuracy: 0.932, Test Set squared_error: 0.14560960388183594, group_sparsity: 0.0, \n"
     ]
    },
    {
     "data": {
      "application/vnd.jupyter.widget-view+json": {
       "model_id": "d8b1257a0a52454e811832eec6a5e88e",
       "version_major": 2,
       "version_minor": 0
      },
      "text/plain": [
       "Inner al:   0%|          | 0/10000 [00:00<?, ?it/s]"
      ]
     },
     "metadata": {},
     "output_type": "display_data"
    },
    {
     "name": "stdout",
     "output_type": "stream",
     "text": [
      "Train Set objective: 0.02789974443167448, Train Set grad_norm: 0.00010745615145424381, Train Set base_objective: 0.014943487453460694, Train Set accuracy: 1.0, Train Set nc_squared_error: 0.00454209566116333, Test Set nc_accuracy: 0.932, Test Set squared_error: 0.1459378662109375, group_sparsity: 0.0, \n",
      "Train Set objective: 0.022857718455791473, Train Set grad_norm: 4.3756630475400016e-05, Train Set base_objective: 0.014726281452178955, Train Set accuracy: 1.0, Train Set nc_squared_error: 0.002491187572479248, Test Set nc_accuracy: 0.932, Test Set squared_error: 0.1477369384765625, group_sparsity: 0.0, \n",
      "Train Set objective: 0.018770550574734805, Train Set grad_norm: 6.766491424059495e-06, Train Set base_objective: 0.015633255207538603, Train Set accuracy: 1.0, Train Set nc_squared_error: 0.0007431990504264831, Test Set nc_accuracy: 0.932, Test Set squared_error: 0.1506463623046875, group_sparsity: 0.0, \n",
      "Train Set objective: 0.017896251399070025, Train Set grad_norm: 2.3297141069633653e-06, Train Set base_objective: 0.016944837868213655, Train Set accuracy: 1.0, Train Set nc_squared_error: 0.0001934490203857422, Test Set nc_accuracy: 0.932, Test Set squared_error: 0.15268215942382812, group_sparsity: 0.0, \n",
      "Train Set objective: 0.01782983749685809, Train Set grad_norm: 1.3454911140797776e-06, Train Set base_objective: 0.017083622559905053, Train Set accuracy: 1.0, Train Set nc_squared_error: 0.00016210246086120606, Test Set nc_accuracy: 0.932, Test Set squared_error: 0.15287567138671876, group_sparsity: 0.0, \n"
     ]
    },
    {
     "name": "stderr",
     "output_type": "stream",
     "text": [
      "INFO:convex_nn:*Inner* termination criterion satisfied at iteration 113/10000. Exiting *inner* optimization loop.\n"
     ]
    },
    {
     "data": {
      "application/vnd.jupyter.widget-view+json": {
       "model_id": "be0239ed4bc04e7b812a7c80a0f8f910",
       "version_major": 2,
       "version_minor": 0
      },
      "text/plain": [
       "Inner al:   0%|          | 0/10000 [00:00<?, ?it/s]"
      ]
     },
     "metadata": {},
     "output_type": "display_data"
    },
    {
     "name": "stdout",
     "output_type": "stream",
     "text": [
      "Train Set objective: 0.017758332266844812, Train Set grad_norm: 9.692697631180636e-07, Train Set base_objective: 0.016948722726106646, Train Set accuracy: 1.0, Train Set nc_squared_error: 0.00018740567564964295, Test Set nc_accuracy: 0.932, Test Set squared_error: 0.15272116088867188, group_sparsity: 0.0, \n"
     ]
    },
    {
     "name": "stderr",
     "output_type": "stream",
     "text": [
      "INFO:convex_nn:*Inner* termination criterion satisfied at iteration 24/10000. Exiting *inner* optimization loop.\n"
     ]
    },
    {
     "data": {
      "application/vnd.jupyter.widget-view+json": {
       "model_id": "fa28a8f938ca45109e1aacd811b717e1",
       "version_major": 2,
       "version_minor": 0
      },
      "text/plain": [
       "Inner al:   0%|          | 0/10000 [00:00<?, ?it/s]"
      ]
     },
     "metadata": {},
     "output_type": "display_data"
    },
    {
     "name": "stderr",
     "output_type": "stream",
     "text": [
      "INFO:convex_nn:*Inner* termination criterion satisfied at iteration 2/10000. Exiting *inner* optimization loop.\n"
     ]
    },
    {
     "name": "stdout",
     "output_type": "stream",
     "text": [
      "Train Set objective: 0.017793155760038645, Train Set grad_norm: 9.746993328008102e-07, Train Set base_objective: 0.016861638247966767, Train Set accuracy: 1.0, Train Set nc_squared_error: 0.000211332768201828, Test Set nc_accuracy: 0.932, Test Set squared_error: 0.1525945587158203, group_sparsity: 0.0, \n"
     ]
    },
    {
     "data": {
      "application/vnd.jupyter.widget-view+json": {
       "model_id": "8a593200ca0b4155b16ab0872414d059",
       "version_major": 2,
       "version_minor": 0
      },
      "text/plain": [
       "Inner al:   0%|          | 0/10000 [00:00<?, ?it/s]"
      ]
     },
     "metadata": {},
     "output_type": "display_data"
    },
    {
     "name": "stdout",
     "output_type": "stream",
     "text": [
      "Train Set objective: 0.01782277314262465, Train Set grad_norm: 9.754869552125456e-07, Train Set base_objective: 0.016855987375974657, Train Set accuracy: 1.0, Train Set nc_squared_error: 0.00021049243211746215, Test Set nc_accuracy: 0.932, Test Set squared_error: 0.15260714721679688, group_sparsity: 0.0, \n"
     ]
    },
    {
     "name": "stderr",
     "output_type": "stream",
     "text": [
      "INFO:convex_nn:*Inner* termination criterion satisfied at iteration 5/10000. Exiting *inner* optimization loop.\n"
     ]
    },
    {
     "data": {
      "application/vnd.jupyter.widget-view+json": {
       "model_id": "0c264e1d615140b08edaa2c357e899b8",
       "version_major": 2,
       "version_minor": 0
      },
      "text/plain": [
       "Inner al:   0%|          | 0/10000 [00:00<?, ?it/s]"
      ]
     },
     "metadata": {},
     "output_type": "display_data"
    },
    {
     "name": "stdout",
     "output_type": "stream",
     "text": [
      "Train Set objective: 0.017843821710161866, Train Set grad_norm: 9.56180997491174e-07, Train Set base_objective: 0.016842676135897638, Train Set accuracy: 1.0, Train Set nc_squared_error: 0.00021285593509674073, Test Set nc_accuracy: 0.932, Test Set squared_error: 0.15259017944335937, group_sparsity: 0.0, \n"
     ]
    },
    {
     "name": "stderr",
     "output_type": "stream",
     "text": [
      "INFO:convex_nn:*Outer* termination criterion satisfied at iteration 8/10000. Exiting *outer* optimization loop.\n",
      "INFO:convex_nn:Post-Optimization Metrics: Train Set objective: 0.017843484667502345, Train Set grad_norm: 9.385519774696149e-07, Train Set base_objective: 0.01682840976715088, Train Set accuracy: 1.0, Train Set nc_squared_error: 0.0002194620966911316, Test Set nc_accuracy: 0.932, Test Set squared_error: 0.1525424499511719, group_sparsity: 0.0, \n",
      "INFO:convex_nn:Pre-Optimization Metrics: Train Set objective: 0.0028958079707249998, Train Set grad_norm: 6.308032880042447e-06, Train Set base_objective: 0.0018807330703735352, Train Set accuracy: 1.0, Train Set nc_squared_error: 0.0002194620966911316, Test Set nc_accuracy: 0.932, Test Set squared_error: 0.1525424499511719, group_sparsity: 0.0, \n"
     ]
    },
    {
     "data": {
      "application/vnd.jupyter.widget-view+json": {
       "model_id": "a66e961efb504afc918cfda710d02349",
       "version_major": 2,
       "version_minor": 0
      },
      "text/plain": [
       "Outer al:   0%|          | 0/10000 [00:00<?, ?it/s]"
      ]
     },
     "metadata": {},
     "output_type": "display_data"
    },
    {
     "data": {
      "application/vnd.jupyter.widget-view+json": {
       "model_id": "2ae643abd716423a97f68131f1e4b7e2",
       "version_major": 2,
       "version_minor": 0
      },
      "text/plain": [
       "Inner al:   0%|          | 0/10000 [00:00<?, ?it/s]"
      ]
     },
     "metadata": {},
     "output_type": "display_data"
    },
    {
     "name": "stderr",
     "output_type": "stream",
     "text": [
      "INFO:convex_nn:*Inner* termination criterion satisfied at iteration 0/10000. Exiting *inner* optimization loop.\n"
     ]
    },
    {
     "name": "stdout",
     "output_type": "stream",
     "text": [
      "Train Set objective: 0.0028958079707249998, Train Set grad_norm: 6.308032880042447e-06, Train Set base_objective: 0.0018807330703735352, Train Set accuracy: 1.0, Train Set nc_squared_error: 0.0002194620966911316, Test Set nc_accuracy: 0.932, Test Set squared_error: 0.1525424499511719, group_sparsity: 0.0, \n"
     ]
    },
    {
     "data": {
      "application/vnd.jupyter.widget-view+json": {
       "model_id": "6b0c68046bf04275bd4dcc75b1478b47",
       "version_major": 2,
       "version_minor": 0
      },
      "text/plain": [
       "Inner al:   0%|          | 0/10000 [00:00<?, ?it/s]"
      ]
     },
     "metadata": {},
     "output_type": "display_data"
    },
    {
     "name": "stderr",
     "output_type": "stream",
     "text": [
      "INFO:convex_nn:*Inner* termination criterion satisfied at iteration 4/10000. Exiting *inner* optimization loop.\n"
     ]
    },
    {
     "name": "stdout",
     "output_type": "stream",
     "text": [
      "Train Set objective: 0.0028958079707249998, Train Set grad_norm: 6.308032880042447e-06, Train Set base_objective: 0.0018807330703735352, Train Set accuracy: 1.0, Train Set nc_squared_error: 0.0002194620966911316, Test Set nc_accuracy: 0.932, Test Set squared_error: 0.1525424499511719, group_sparsity: 0.0, \n"
     ]
    },
    {
     "data": {
      "application/vnd.jupyter.widget-view+json": {
       "model_id": "6142defcbc664b3095d239190d3987d7",
       "version_major": 2,
       "version_minor": 0
      },
      "text/plain": [
       "Inner al:   0%|          | 0/10000 [00:00<?, ?it/s]"
      ]
     },
     "metadata": {},
     "output_type": "display_data"
    },
    {
     "name": "stdout",
     "output_type": "stream",
     "text": [
      "Train Set objective: 0.0228757656621933, Train Set grad_norm: 0.0004009739786852151, Train Set base_objective: 0.00300925443649292, Train Set accuracy: 1.0, Train Set nc_squared_error: 0.0012897677421569824, Test Set nc_accuracy: 0.932, Test Set squared_error: 0.1504939727783203, group_sparsity: 0.0, \n"
     ]
    },
    {
     "name": "stderr",
     "output_type": "stream",
     "text": [
      "INFO:convex_nn:*Inner* termination criterion satisfied at iteration 22/10000. Exiting *inner* optimization loop.\n"
     ]
    },
    {
     "data": {
      "application/vnd.jupyter.widget-view+json": {
       "model_id": "c4755b250d634dc7a38d2a83231935f8",
       "version_major": 2,
       "version_minor": 0
      },
      "text/plain": [
       "Inner al:   0%|          | 0/10000 [00:00<?, ?it/s]"
      ]
     },
     "metadata": {},
     "output_type": "display_data"
    },
    {
     "name": "stderr",
     "output_type": "stream",
     "text": [
      "INFO:convex_nn:*Inner* termination criterion satisfied at iteration 8/10000. Exiting *inner* optimization loop.\n"
     ]
    },
    {
     "name": "stdout",
     "output_type": "stream",
     "text": [
      "Train Set objective: 0.06686057985544205, Train Set grad_norm: 0.000248177646426484, Train Set base_objective: 0.005262509889602661, Train Set accuracy: 1.0, Train Set nc_squared_error: 0.0034686784744262693, Test Set nc_accuracy: 0.932, Test Set squared_error: 0.1511824951171875, group_sparsity: 0.0, \n"
     ]
    },
    {
     "data": {
      "application/vnd.jupyter.widget-view+json": {
       "model_id": "63b1ab679936442b83f80519c0a476bd",
       "version_major": 2,
       "version_minor": 0
      },
      "text/plain": [
       "Inner al:   0%|          | 0/10000 [00:00<?, ?it/s]"
      ]
     },
     "metadata": {},
     "output_type": "display_data"
    },
    {
     "name": "stdout",
     "output_type": "stream",
     "text": [
      "Train Set objective: 0.014946631066203118, Train Set grad_norm: 0.00022292413632385433, Train Set base_objective: 0.002998405046463013, Train Set accuracy: 1.0, Train Set nc_squared_error: 0.001137887716293335, Test Set nc_accuracy: 0.932, Test Set squared_error: 0.15317070007324218, group_sparsity: 0.0, \n",
      "Train Set objective: 0.010490166291892528, Train Set grad_norm: 3.3562453609192744e-05, Train Set base_objective: 0.0026533597040176394, Train Set accuracy: 1.0, Train Set nc_squared_error: 0.0005819885730743408, Test Set nc_accuracy: 0.932, Test Set squared_error: 0.1533544158935547, group_sparsity: 0.0, \n",
      "Train Set objective: 0.006890177079588175, Train Set grad_norm: 1.4879687114444096e-05, Train Set base_objective: 0.002538271998167038, Train Set accuracy: 1.0, Train Set nc_squared_error: 0.0002468988299369812, Test Set nc_accuracy: 0.932, Test Set squared_error: 0.1552604522705078, group_sparsity: 0.0, \n",
      "Train Set objective: 0.004413300373032689, Train Set grad_norm: 4.4742150748788845e-06, Train Set base_objective: 0.0026040635466575623, Train Set accuracy: 1.0, Train Set nc_squared_error: 6.622815132141113e-05, Test Set nc_accuracy: 0.932, Test Set squared_error: 0.15712490844726562, group_sparsity: 0.0, \n"
     ]
    },
    {
     "name": "stderr",
     "output_type": "stream",
     "text": [
      "INFO:convex_nn:*Inner* termination criterion satisfied at iteration 104/10000. Exiting *inner* optimization loop.\n"
     ]
    },
    {
     "name": "stdout",
     "output_type": "stream",
     "text": [
      "Train Set objective: 0.00329514898262918, Train Set grad_norm: 1.2127271702411235e-06, Train Set base_objective: 0.002774180987812579, Train Set accuracy: 1.0, Train Set nc_squared_error: 8.002238348126411e-06, Test Set nc_accuracy: 0.932, Test Set squared_error: 0.15830305480957033, group_sparsity: 0.0, \n"
     ]
    },
    {
     "data": {
      "application/vnd.jupyter.widget-view+json": {
       "model_id": "a8f09dde9383465d80fb6f1e2ba8596d",
       "version_major": 2,
       "version_minor": 0
      },
      "text/plain": [
       "Inner al:   0%|          | 0/10000 [00:00<?, ?it/s]"
      ]
     },
     "metadata": {},
     "output_type": "display_data"
    },
    {
     "name": "stdout",
     "output_type": "stream",
     "text": [
      "Train Set objective: 0.0032141115231160075, Train Set grad_norm: 9.84800749392889e-07, Train Set base_objective: 0.002803132520634681, Train Set accuracy: 1.0, Train Set nc_squared_error: 5.014797672629356e-06, Test Set nc_accuracy: 0.932, Test Set squared_error: 0.15843362426757812, group_sparsity: 0.0, \n"
     ]
    },
    {
     "name": "stderr",
     "output_type": "stream",
     "text": [
      "INFO:convex_nn:*Inner* termination criterion satisfied at iteration 7/10000. Exiting *inner* optimization loop.\n"
     ]
    },
    {
     "data": {
      "application/vnd.jupyter.widget-view+json": {
       "model_id": "f0db6d7ab9bc482a9fab0c02fb650f42",
       "version_major": 2,
       "version_minor": 0
      },
      "text/plain": [
       "Inner al:   0%|          | 0/10000 [00:00<?, ?it/s]"
      ]
     },
     "metadata": {},
     "output_type": "display_data"
    },
    {
     "name": "stderr",
     "output_type": "stream",
     "text": [
      "INFO:convex_nn:*Inner* termination criterion satisfied at iteration 5/10000. Exiting *inner* optimization loop.\n"
     ]
    },
    {
     "name": "stdout",
     "output_type": "stream",
     "text": [
      "Train Set objective: 0.00323128563602455, Train Set grad_norm: 9.835827086135396e-07, Train Set base_objective: 0.0028038586619682612, Train Set accuracy: 1.0, Train Set nc_squared_error: 4.641770385205746e-06, Test Set nc_accuracy: 0.932, Test Set squared_error: 0.15843826293945312, group_sparsity: 0.0, \n"
     ]
    },
    {
     "data": {
      "application/vnd.jupyter.widget-view+json": {
       "model_id": "eac9b78de8d849d2be4e822cfda4c2dd",
       "version_major": 2,
       "version_minor": 0
      },
      "text/plain": [
       "Inner al:   0%|          | 0/10000 [00:00<?, ?it/s]"
      ]
     },
     "metadata": {},
     "output_type": "display_data"
    },
    {
     "name": "stdout",
     "output_type": "stream",
     "text": [
      "Train Set objective: 0.0032356172333285215, Train Set grad_norm: 9.99395069811726e-07, Train Set base_objective: 0.002805394225176424, Train Set accuracy: 1.0, Train Set nc_squared_error: 5.016469396650791e-06, Test Set nc_accuracy: 0.932, Test Set squared_error: 0.15842755126953126, group_sparsity: 0.0, \n"
     ]
    },
    {
     "name": "stderr",
     "output_type": "stream",
     "text": [
      "INFO:convex_nn:*Inner* termination criterion satisfied at iteration 2/10000. Exiting *inner* optimization loop.\n"
     ]
    },
    {
     "data": {
      "application/vnd.jupyter.widget-view+json": {
       "model_id": "66838b86fb464438a4fefcf271f5019d",
       "version_major": 2,
       "version_minor": 0
      },
      "text/plain": [
       "Inner al:   0%|          | 0/10000 [00:00<?, ?it/s]"
      ]
     },
     "metadata": {},
     "output_type": "display_data"
    },
    {
     "name": "stderr",
     "output_type": "stream",
     "text": [
      "INFO:convex_nn:*Inner* termination criterion satisfied at iteration 0/10000. Exiting *inner* optimization loop.\n"
     ]
    },
    {
     "name": "stdout",
     "output_type": "stream",
     "text": [
      "Train Set objective: 0.0032374515355471523, Train Set grad_norm: 9.412678423359466e-07, Train Set base_objective: 0.00280594868645072, Train Set accuracy: 1.0, Train Set nc_squared_error: 5.104037933051586e-06, Test Set nc_accuracy: 0.932, Test Set squared_error: 0.15842950439453124, group_sparsity: 0.0, \n"
     ]
    },
    {
     "data": {
      "application/vnd.jupyter.widget-view+json": {
       "model_id": "8333a1d5e4ce4d1bbfd60e7becc0f1eb",
       "version_major": 2,
       "version_minor": 0
      },
      "text/plain": [
       "Inner al:   0%|          | 0/10000 [00:00<?, ?it/s]"
      ]
     },
     "metadata": {},
     "output_type": "display_data"
    },
    {
     "name": "stdout",
     "output_type": "stream",
     "text": [
      "Train Set objective: 0.0032374515355471523, Train Set grad_norm: 9.412678423359466e-07, Train Set base_objective: 0.00280594868645072, Train Set accuracy: 1.0, Train Set nc_squared_error: 5.104037933051586e-06, Test Set nc_accuracy: 0.932, Test Set squared_error: 0.15842950439453124, group_sparsity: 0.0, \n"
     ]
    },
    {
     "name": "stderr",
     "output_type": "stream",
     "text": [
      "INFO:convex_nn:*Outer* termination criterion satisfied at iteration 9/10000. Exiting *outer* optimization loop.\n",
      "INFO:convex_nn:Post-Optimization Metrics: Train Set objective: 0.0032352609045337884, Train Set grad_norm: 9.207304287883744e-07, Train Set base_objective: 0.0028069895701482894, Train Set accuracy: 1.0, Train Set nc_squared_error: 5.128592252731323e-06, Test Set nc_accuracy: 0.932, Test Set squared_error: 0.15840765380859376, group_sparsity: 0.0, \n"
     ]
    }
   ],
   "source": [
    "model = ConvexReLU(G)\n",
    "solver = AL(model)\n",
    "\n",
    "relu_model_path, relu_metric_path = optimize_path(\n",
    "    model,\n",
    "    solver,\n",
    "    path,\n",
    "    metrics,\n",
    "    X_train, \n",
    "    y_train, \n",
    "    X_test, \n",
    "    y_test,\n",
    "    verbose=True,\n",
    ")"
   ]
  },
  {
   "cell_type": "code",
   "execution_count": 17,
   "id": "28be6840",
   "metadata": {},
   "outputs": [],
   "source": [
    "# extract summary statistics:\n",
    "gated_accuracies = [metrics.train_accuracy[-1] for metrics in gated_metric_path]\n",
    "gated_sparsities = [metrics.neuron_sparsity[-1] for metrics in gated_metric_path]\n",
    "\n",
    "relu_accuracies = [metrics.train_accuracy[-1] for metrics in relu_metric_path]\n",
    "relu_sparsities = [metrics.neuron_sparsity[-1] for metrics in relu_metric_path]"
   ]
  },
  {
   "cell_type": "code",
   "execution_count": 19,
   "id": "6f674660",
   "metadata": {},
   "outputs": [
    {
     "data": {
      "image/png": "[encoded data removed]",
      "text/plain": [
       "<Figure size 1296x432 with 2 Axes>"
      ]
     },
     "metadata": {
      "needs_background": "light"
     },
     "output_type": "display_data"
    }
   ],
   "source": [
    "# Plot Results\n",
    "\n",
    "fig = plt.figure(figsize=(18,6))\n",
    "spec = fig.add_gridspec(ncols=2, nrows=1)\n",
    "ax0 = fig.add_subplot(spec[0, 0])\n",
    "\n",
    "ax0.plot(np.flip(lambda_path), \n",
    "         np.flip(relu_accuracies), \n",
    "         label=\"Relu\", \n",
    "         color=\"#ff7f0e\",\n",
    "         marker=\"^\",\n",
    "         markevery=1,\n",
    "         markersize=14,\n",
    "         linewidth=\"3\")\n",
    "\n",
    "ax0.plot(np.flip(lambda_path), \n",
    "         np.flip(gated_accuracies), \n",
    "         label=\"Gated Relu\", \n",
    "         color=\"#1f77b4\",\n",
    "         marker=\"v\", \n",
    "         markevery=1,\n",
    "         markersize=14,\n",
    "         linewidth=\"3\")\n",
    "\n",
    "ax0.set_title(\"Test Accuracy\", fontsize=22)\n",
    "ax0.set_xlabel(\"Reg. Strength\", fontsize=18)\n",
    "ax0.set_xscale(\"log\")\n",
    "\n",
    "ax1 = fig.add_subplot(spec[0, 1])\n",
    "\n",
    "ax1.plot(np.flip(lambda_path), \n",
    "         np.flip(relu_sparsities), \n",
    "         label=\"Relu\", \n",
    "         color=\"#ff7f0e\",\n",
    "         marker=\"^\",\n",
    "         markevery=1,\n",
    "         markersize=14,\n",
    "         linewidth=\"3\")\n",
    "\n",
    "ax1.plot(np.flip(lambda_path), \n",
    "         np.flip(gated_sparsities), \n",
    "         label=\"Gated Relu\", \n",
    "         color=\"#1f77b4\",\n",
    "         marker=\"v\", \n",
    "         markevery=1,\n",
    "         markersize=14,\n",
    "         linewidth=\"3\")\n",
    "\n",
    "ax1.set_title(\"Neuron Sparsity\")\n",
    "ax1.set_xlabel(\"Reg. Strength\", fontsize=18)\n",
    "ax1.set_xscale(\"log\")\n",
    "handles, labels = ax0.get_legend_handles_labels()\n",
    "legend = fig.legend(\n",
    "    handles=handles,\n",
    "    labels=labels,\n",
    "    loc=\"lower center\",\n",
    "    borderaxespad=0.1,\n",
    "    fancybox=False,\n",
    "    shadow=False,\n",
    "    ncol=2,\n",
    "    fontsize=16,\n",
    "    frameon=False,\n",
    ")\n",
    "fig.subplots_adjust(\n",
    "    bottom=0.15,\n",
    ")"
   ]
  },
  {
   "cell_type": "code",
   "execution_count": null,
   "id": "aaeec44c",
   "metadata": {},
   "outputs": [],
   "source": []
  }
 ],
 "metadata": {
  "kernelspec": {
   "display_name": "Python 3",
   "language": "python",
   "name": "python3"
  },
  "language_info": {
   "codemirror_mode": {
    "name": "ipython",
    "version": 3
   },
   "file_extension": ".py",
   "mimetype": "text/x-python",
   "name": "python",
   "nbconvert_exporter": "python",
   "pygments_lexer": "ipython3",
   "version": "3.9.9"
  }
 },
 "nbformat": 4,
 "nbformat_minor": 5
}
