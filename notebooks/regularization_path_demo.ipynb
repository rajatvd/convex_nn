{
 "cells": [
  {
   "cell_type": "code",
   "execution_count": null,
   "id": "750474ec",
   "metadata": {},
   "outputs": [],
   "source": [
    "\"\"\"\n",
    "Train convex LassoNet models on a synthetic classification dataset using convex optimization.\n",
    "\"\"\"\n",
    "\n",
    "import sys\n",
    "sys.path.append(\"..\")"
   ]
  },
  {
   "cell_type": "code",
   "execution_count": null,
   "id": "6284d725",
   "metadata": {},
   "outputs": [],
   "source": [
    "import numpy as np\n",
    "import matplotlib.pyplot as plt\n",
    "\n",
    "from convex_nn import opt_nn\n",
    "from convex_nn.datasets import generate_synthetic_classification"
   ]
  },
  {
   "cell_type": "code",
   "execution_count": null,
   "id": "bf47351b",
   "metadata": {},
   "outputs": [],
   "source": [
    "# Generate realizable synthetic classification problem (ie. Figure 1)\n",
    "n_train = 250\n",
    "n_test = 250\n",
    "d = 50\n",
    "hidden_units = 100\n",
    "kappa = 10  # condition number\n",
    "\n",
    "(X_train, y_train), (X_test, y_test) = generate_synthetic_classification(123, n_train, n_test, d, hidden_units, kappa)"
   ]
  },
  {
   "cell_type": "code",
   "execution_count": null,
   "id": "54a3260e",
   "metadata": {},
   "outputs": [],
   "source": [
    "# Step 1: Get an convex formulation by solving an initial problem.\n",
    "\n",
    "lambda_path = np.flip(np.logspace(-2, 0, 10))\n",
    "\n",
    "# start with huge lambda to guarantee full sparsity\n",
    "lam = 10\n",
    "convex_model, grelu_metrics = opt_nn(X_train, \n",
    "               y_train, \n",
    "               X_test, \n",
    "               y_test, \n",
    "               train_metrics=[\"accuracy\"],\n",
    "               test_metrics=[\"accuracy\"],\n",
    "               additional_metrics=[\"feature_sparsity\", \"active_features\", \"step_size\"],\n",
    "               max_patterns=250,\n",
    "               formulation=\"grelu_lasso_net\",\n",
    "               reg_strength=lam,\n",
    "               backend=\"numpy\",\n",
    "               return_convex_form=True,   # make sure to use get the convex formulation\n",
    "               verbose=True)\n"
   ]
  },
  {
   "cell_type": "code",
   "execution_count": null,
   "id": "e5e3ce9b",
   "metadata": {
    "scrolled": true
   },
   "outputs": [],
   "source": [
    "# Step 2: Get the regularization path by warm-starting the optimization procedure.\n",
    "\n",
    "sparsities = []\n",
    "accuracies = []\n",
    "\n",
    "for lam in lambda_path:\n",
    "    \n",
    "    print(f\"\\n Trying lambda = {lam}\")\n",
    "    \n",
    "    convex_model, grelu_metrics = opt_nn(X_train, \n",
    "               y_train, \n",
    "               X_test, \n",
    "               y_test, \n",
    "               train_metrics=[\"accuracy\"],\n",
    "               test_metrics=[\"accuracy\"],\n",
    "               additional_metrics=[\"feature_sparsity\", \"active_features\", \"step_size\"],\n",
    "               warm_start=convex_model, # warm start at the previous solution \n",
    "               formulation=\"grelu_lasso_net\",\n",
    "               reg_strength=lam,\n",
    "               backend=\"numpy\",\n",
    "               return_convex_form=True,\n",
    "               verbose=True)\n",
    "    \n",
    "    # final record sparsity and test accuracy\n",
    "    sparsities.append(grelu_metrics[\"feature_sparsity\"][-1])\n",
    "    accuracies.append(grelu_metrics[\"test_accuracy\"][-1])"
   ]
  },
  {
   "cell_type": "code",
   "execution_count": null,
   "id": "6f674660",
   "metadata": {},
   "outputs": [],
   "source": [
    "# Plot Results\n",
    "\n",
    "fig = plt.figure(figsize=(18,6))\n",
    "spec = fig.add_gridspec(ncols=2, nrows=1)\n",
    "ax0 = fig.add_subplot(spec[0, 0])\n",
    "\n",
    "ax0.plot(np.flip(lambda_path), \n",
    "         np.flip(accuracies), \n",
    "         label=\"Gated Relu LassoNet\", \n",
    "         color=\"#ff7f0e\",\n",
    "         marker=\"^\",\n",
    "         markevery=1,\n",
    "         markersize=14,\n",
    "         linewidth=\"3\")\n",
    "\n",
    "ax0.set_title(\"Test Accuracy\", fontsize=22)\n",
    "ax0.set_xlabel(\"Reg. Strength\", fontsize=18)\n",
    "ax0.set_xscale(\"log\")\n",
    "\n",
    "ax1 = fig.add_subplot(spec[0, 1])\n",
    "\n",
    "ax1.plot(np.flip(lambda_path), \n",
    "         np.flip(sparsities), \n",
    "         label=\"Gated Relu LassoNet\", \n",
    "         color=\"#ff7f0e\",\n",
    "         marker=\"^\",\n",
    "         markevery=1,\n",
    "         markersize=14,\n",
    "         linewidth=\"3\")\n",
    "\n",
    "ax1.set_title(\"Feature Sparsity\")\n",
    "ax1.set_xlabel(\"Reg. Strength\", fontsize=18)\n",
    "ax1.set_xscale(\"log\")\n",
    "handles, labels = ax0.get_legend_handles_labels()\n",
    "legend = fig.legend(\n",
    "    handles=handles,\n",
    "    labels=labels,\n",
    "    loc=\"lower center\",\n",
    "    borderaxespad=0.1,\n",
    "    fancybox=False,\n",
    "    shadow=False,\n",
    "    ncol=2,\n",
    "    fontsize=16,\n",
    "    frameon=False,\n",
    ")\n",
    "fig.subplots_adjust(\n",
    "    bottom=0.15,\n",
    ")"
   ]
  },
  {
   "cell_type": "code",
   "execution_count": null,
   "id": "5ee05dc7",
   "metadata": {},
   "outputs": [],
   "source": []
  }
 ],
 "metadata": {
  "kernelspec": {
   "display_name": "Python 3",
   "language": "python",
   "name": "python3"
  },
  "language_info": {
   "codemirror_mode": {
    "name": "ipython",
    "version": 3
   },
   "file_extension": ".py",
   "mimetype": "text/x-python",
   "name": "python",
   "nbconvert_exporter": "python",
   "pygments_lexer": "ipython3",
   "version": "3.9.6"
  }
 },
 "nbformat": 4,
 "nbformat_minor": 5
}
