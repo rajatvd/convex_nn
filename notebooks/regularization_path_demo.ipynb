{
 "cells": [
  {
   "cell_type": "code",
   "execution_count": null,
   "id": "750474ec",
   "metadata": {},
   "outputs": [],
   "source": [
    "\"\"\"\n",
    "Train convex LassoNet models on a synthetic classification dataset using convex optimization.\n",
    "\"\"\"\n",
    "\n",
    "import sys\n",
    "sys.path.append(\"..\")"
   ]
  },
  {
   "cell_type": "code",
   "execution_count": null,
   "id": "6284d725",
   "metadata": {},
   "outputs": [],
   "source": [
    "import numpy as np\n",
    "import matplotlib.pyplot as plt\n",
    "\n",
    "from convex_nn import optimize_path\n",
    "from convex_nn.utils.data import gen_classification_data"
   ]
  },
  {
   "cell_type": "code",
   "execution_count": null,
   "id": "bf47351b",
   "metadata": {},
   "outputs": [],
   "source": [
    "# Generate realizable synthetic classification problem (ie. Figure 1)\n",
    "n_train = 250\n",
    "n_test = 250\n",
    "d = 50\n",
    "hidden_units = 100\n",
    "kappa = 10  # condition number\n",
    "\n",
    "(X_train, y_train), (X_test, y_test) = gen_classification_data(123, n_train, n_test, d, hidden_units, kappa)"
   ]
  },
  {
   "cell_type": "code",
   "execution_count": null,
   "id": "2ae33372",
   "metadata": {
    "scrolled": true
   },
   "outputs": [],
   "source": [
    "lambda_path = np.flip(np.logspace(-2, 0, 10))\n",
    "\n",
    "results = optimize_path(\n",
    "               lambda_path,\n",
    "               X_train, \n",
    "               y_train, \n",
    "               X_test, \n",
    "               y_test, \n",
    "               train_metrics=[\"accuracy\"],\n",
    "               test_metrics=[\"accuracy\"],\n",
    "               additional_metrics=[\"feature_sparsity\", \"active_features\", \"step_size\"],\n",
    "               max_patterns=250,\n",
    "               formulation=\"grelu_lasso_net\",\n",
    "               backend=\"numpy\",\n",
    "#                model_dest=\"./models\", # comment remove comment to save models to disk.\n",
    "               verbose=True)"
   ]
  },
  {
   "cell_type": "code",
   "execution_count": null,
   "id": "28be6840",
   "metadata": {},
   "outputs": [],
   "source": [
    "# extract summary statistics:\n",
    "accuracies = [metrics[\"train_accuracy\"][-1] for (model, metrics) in results.values()]\n",
    "sparsities = [metrics[\"feature_sparsity\"][-1] for (model, metrics) in results.values()]"
   ]
  },
  {
   "cell_type": "code",
   "execution_count": null,
   "id": "6f674660",
   "metadata": {},
   "outputs": [],
   "source": [
    "# Plot Results\n",
    "\n",
    "fig = plt.figure(figsize=(18,6))\n",
    "spec = fig.add_gridspec(ncols=2, nrows=1)\n",
    "ax0 = fig.add_subplot(spec[0, 0])\n",
    "\n",
    "ax0.plot(np.flip(lambda_path), \n",
    "         np.flip(accuracies), \n",
    "         label=\"Gated Relu LassoNet\", \n",
    "         color=\"#ff7f0e\",\n",
    "         marker=\"^\",\n",
    "         markevery=1,\n",
    "         markersize=14,\n",
    "         linewidth=\"3\")\n",
    "\n",
    "ax0.set_title(\"Test Accuracy\", fontsize=22)\n",
    "ax0.set_xlabel(\"Reg. Strength\", fontsize=18)\n",
    "ax0.set_xscale(\"log\")\n",
    "\n",
    "ax1 = fig.add_subplot(spec[0, 1])\n",
    "\n",
    "ax1.plot(np.flip(lambda_path), \n",
    "         np.flip(sparsities), \n",
    "         label=\"Gated Relu LassoNet\", \n",
    "         color=\"#ff7f0e\",\n",
    "         marker=\"^\",\n",
    "         markevery=1,\n",
    "         markersize=14,\n",
    "         linewidth=\"3\")\n",
    "\n",
    "ax1.set_title(\"Feature Sparsity\")\n",
    "ax1.set_xlabel(\"Reg. Strength\", fontsize=18)\n",
    "ax1.set_xscale(\"log\")\n",
    "handles, labels = ax0.get_legend_handles_labels()\n",
    "legend = fig.legend(\n",
    "    handles=handles,\n",
    "    labels=labels,\n",
    "    loc=\"lower center\",\n",
    "    borderaxespad=0.1,\n",
    "    fancybox=False,\n",
    "    shadow=False,\n",
    "    ncol=2,\n",
    "    fontsize=16,\n",
    "    frameon=False,\n",
    ")\n",
    "fig.subplots_adjust(\n",
    "    bottom=0.15,\n",
    ")"
   ]
  }
 ],
 "metadata": {
  "kernelspec": {
   "display_name": "Python 3",
   "language": "python",
   "name": "python3"
  },
  "language_info": {
   "codemirror_mode": {
    "name": "ipython",
    "version": 3
   },
   "file_extension": ".py",
   "mimetype": "text/x-python",
   "name": "python",
   "nbconvert_exporter": "python",
   "pygments_lexer": "ipython3",
   "version": "3.9.9"
  }
 },
 "nbformat": 4,
 "nbformat_minor": 5
}
