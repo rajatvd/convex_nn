{
 "cells": [
  {
   "cell_type": "code",
   "execution_count": 1,
   "id": "750474ec",
   "metadata": {},
   "outputs": [],
   "source": [
    "\"\"\"\n",
    "Train convex LassoNet models on a synthetic classification dataset using conve|x optimization.\n",
    "\"\"\"\n",
    "\n",
    "import sys\n",
    "sys.path.append(\"..\")"
   ]
  },
  {
   "cell_type": "code",
   "execution_count": 2,
   "id": "6284d725",
   "metadata": {},
   "outputs": [],
   "source": [
    "import numpy as np\n",
    "import matplotlib.pyplot as plt\n",
    "\n",
    "from convex_nn.private.utils.data import gen_classification_data\n",
    "\n",
    "\n",
    "from convex_nn.models import ConvexGatedReLU, ConvexReLU\n",
    "from convex_nn.solvers import RFISTA, AL, LeastSquaresSolver, CVXPYSolver\n",
    "from convex_nn.regularizers import NeuronGL1, L2, L1\n",
    "from convex_nn.metrics import Metrics\n",
    "from convex_nn.activations import sample_gate_vectors\n",
    "from convex_nn.optimize import optimize_model, optimize"
   ]
  },
  {
   "cell_type": "code",
   "execution_count": 3,
   "id": "bf47351b",
   "metadata": {},
   "outputs": [],
   "source": [
    "# Generate realizable synthetic classification problem (ie. Figure 1)\n",
    "n_train = 1000\n",
    "n_test = 1000\n",
    "d = 50\n",
    "hidden_units = 100\n",
    "kappa = 10  # condition number\n",
    "\n",
    "(X_train, y_train), (X_test, y_test) = gen_classification_data(123, n_train, n_test, d, hidden_units, kappa)"
   ]
  },
  {
   "cell_type": "code",
   "execution_count": 4,
   "id": "4dd5ec91",
   "metadata": {},
   "outputs": [],
   "source": [
    "lam = 0.001\n",
    "max_neurons = 500"
   ]
  },
  {
   "cell_type": "code",
   "execution_count": 5,
   "id": "c20ec14f",
   "metadata": {},
   "outputs": [
    {
     "name": "stderr",
     "output_type": "stream",
     "text": [
      "INFO:convex_nn:Pre-Optimization Metrics: Train Set objective: 0.5, Train Set grad_norm: 0.007702792529016733, \n"
     ]
    },
    {
     "data": {
      "application/vnd.jupyter.widget-view+json": {
       "model_id": "151f3e12af284657859920f98ff935e5",
       "version_major": 2,
       "version_minor": 0
      },
      "text/plain": [
       "fista:   0%|          | 0/10000 [00:00<?, ?it/s]"
      ]
     },
     "metadata": {},
     "output_type": "display_data"
    },
    {
     "name": "stderr",
     "output_type": "stream",
     "text": [
      "INFO:convex_nn:Termination criterion satisfied at iteration 20/10000. Exiting optimization loop.\n",
      "INFO:convex_nn:Post-Optimization Metrics: Train Set objective: 0.4586989536285401, Train Set grad_norm: 9.152432767223218e-07, \n"
     ]
    },
    {
     "name": "stdout",
     "output_type": "stream",
     "text": [
      "Train Set objective: 0.5, Train Set grad_norm: 0.007702792529016733, \n"
     ]
    }
   ],
   "source": [
    "model, metrics = optimize(\"gated_relu\", \n",
    "                          max_neurons, \n",
    "                          X_train, \n",
    "                          y_train, \n",
    "                          X_test, \n",
    "                          y_test,\n",
    "                          regularizer = NeuronGL1(0.01),\n",
    "                          verbose=True,  \n",
    "                          device=\"cpu\")"
   ]
  },
  {
   "cell_type": "code",
   "execution_count": 6,
   "id": "e4c0a72a",
   "metadata": {},
   "outputs": [],
   "source": [
    "# Instantiate convex model and other options.\n",
    "G = sample_gate_vectors(np.random.default_rng(123), d, max_neurons)\n",
    "model = ConvexGatedReLU(G)\n",
    "solver = RFISTA(model, tol=1e-8)\n",
    "regularizer = NeuronGL1(0.01)\n",
    "metrics = Metrics(metric_freq=25, model_loss=True, train_accuracy=True, train_mse=True, test_mse=True, test_accuracy=True, neuron_sparsity=True)"
   ]
  },
  {
   "cell_type": "code",
   "execution_count": 7,
   "id": "635a0f46",
   "metadata": {
    "scrolled": true
   },
   "outputs": [
    {
     "name": "stderr",
     "output_type": "stream",
     "text": [
      "INFO:convex_nn:Pre-Optimization Metrics: Train Set objective: 0.5, Train Set grad_norm: 0.09645780175924301, Train Set base_objective: 0.5, Train Set accuracy: 0.0, Train Set nc_squared_error: 0.5, Test Set nc_accuracy: 0.0, Test Set squared_error: 0.5, group_sparsity: 1.0, \n"
     ]
    },
    {
     "data": {
      "application/vnd.jupyter.widget-view+json": {
       "model_id": "7045af4264f046458d39667160572c92",
       "version_major": 2,
       "version_minor": 0
      },
      "text/plain": [
       "fista:   0%|          | 0/10000 [00:00<?, ?it/s]"
      ]
     },
     "metadata": {},
     "output_type": "display_data"
    },
    {
     "name": "stdout",
     "output_type": "stream",
     "text": [
      "Train Set objective: 0.5, Train Set grad_norm: 0.09645780175924301, Train Set base_objective: 0.5, Train Set accuracy: 0.0, Train Set nc_squared_error: 0.5, Test Set nc_accuracy: 0.0, Test Set squared_error: 0.5, group_sparsity: 1.0, \n",
      "Train Set objective: 0.024476349353790283, Train Set grad_norm: 9.197350664180703e-06, Train Set base_objective: 0.024476349353790283, Train Set accuracy: 1.0, Train Set nc_squared_error: 0.003871481418609619, Test Set nc_accuracy: 0.934, Test Set squared_error: 0.11726786804199218, group_sparsity: 0.0, \n"
     ]
    },
    {
     "name": "stderr",
     "output_type": "stream",
     "text": [
      "INFO:convex_nn:Termination criterion satisfied at iteration 51/10000. Exiting optimization loop.\n",
      "INFO:convex_nn:Post-Optimization Metrics: Train Set objective: 0.023809797286987306, Train Set grad_norm: 9.665082068011088e-09, Train Set base_objective: 0.023809797286987306, Train Set accuracy: 1.0, Train Set nc_squared_error: 0.004664318084716797, Test Set nc_accuracy: 0.936, Test Set squared_error: 0.11564991760253907, group_sparsity: 0.0, \n"
     ]
    },
    {
     "name": "stdout",
     "output_type": "stream",
     "text": [
      "Train Set objective: 0.023810088634490967, Train Set grad_norm: 1.243412484086548e-08, Train Set base_objective: 0.023810088634490967, Train Set accuracy: 1.0, Train Set nc_squared_error: 0.004674040317535401, Test Set nc_accuracy: 0.936, Test Set squared_error: 0.11564414978027343, group_sparsity: 0.0, \n"
     ]
    }
   ],
   "source": [
    "grelu_model, grelu_metrics = optimize_model(\n",
    "    model,\n",
    "    solver,\n",
    "    metrics,\n",
    "    X_train, \n",
    "    y_train, \n",
    "    X_test, \n",
    "    y_test,\n",
    "    regularizer=L2(0.001),\n",
    "    verbose=True,\n",
    ")"
   ]
  },
  {
   "cell_type": "code",
   "execution_count": 8,
   "id": "3e728fff",
   "metadata": {},
   "outputs": [
    {
     "data": {
      "text/plain": [
       "1.0"
      ]
     },
     "execution_count": 8,
     "metadata": {},
     "output_type": "execute_result"
    }
   ],
   "source": [
    "# Training Accuracy\n",
    "np.sum(np.sign(grelu_model(X_train)) == y_train) / len(y_train)"
   ]
  },
  {
   "cell_type": "code",
   "execution_count": 9,
   "id": "bffbecf3",
   "metadata": {
    "scrolled": true
   },
   "outputs": [
    {
     "name": "stderr",
     "output_type": "stream",
     "text": [
      "INFO:convex_nn:Pre-Optimization Metrics: Train Set objective: 0.5, Train Set grad_norm: 0.01577875018119812, Train Set base_objective: 0.5, Train Set accuracy: 0.0, Train Set nc_squared_error: 0.5, Test Set nc_accuracy: 0.0, Test Set squared_error: 0.5, group_sparsity: 1.0, \n"
     ]
    },
    {
     "data": {
      "application/vnd.jupyter.widget-view+json": {
       "model_id": "e909d6da50c742d5bc67c6c01d9ee3c9",
       "version_major": 2,
       "version_minor": 0
      },
      "text/plain": [
       "Outer al:   0%|          | 0/10000 [00:00<?, ?it/s]"
      ]
     },
     "metadata": {},
     "output_type": "display_data"
    },
    {
     "data": {
      "application/vnd.jupyter.widget-view+json": {
       "model_id": "5c168b101473491eb299b366f1c3594d",
       "version_major": 2,
       "version_minor": 0
      },
      "text/plain": [
       "Inner al:   0%|          | 0/10000 [00:00<?, ?it/s]"
      ]
     },
     "metadata": {},
     "output_type": "display_data"
    },
    {
     "name": "stdout",
     "output_type": "stream",
     "text": [
      "Train Set objective: 0.5, Train Set grad_norm: 0.01577875018119812, Train Set base_objective: 0.5, Train Set accuracy: 0.0, Train Set nc_squared_error: 0.5, Test Set nc_accuracy: 0.0, Test Set squared_error: 0.5, group_sparsity: 1.0, \n"
     ]
    },
    {
     "name": "stderr",
     "output_type": "stream",
     "text": [
      "INFO:convex_nn:*Inner* termination criterion satisfied at iteration 6/10000. Exiting *inner* optimization loop.\n"
     ]
    },
    {
     "data": {
      "application/vnd.jupyter.widget-view+json": {
       "model_id": "7de9689af6214af3a0842f2ca917509d",
       "version_major": 2,
       "version_minor": 0
      },
      "text/plain": [
       "Inner al:   0%|          | 0/10000 [00:00<?, ?it/s]"
      ]
     },
     "metadata": {},
     "output_type": "display_data"
    },
    {
     "name": "stdout",
     "output_type": "stream",
     "text": [
      "Train Set objective: 0.4770087515804916, Train Set grad_norm: 0.0007291387300938368, Train Set base_objective: 0.4744866981506347, Train Set accuracy: 0.949, Train Set nc_squared_error: 0.38528195190429687, Test Set nc_accuracy: 0.918, Test Set squared_error: 0.39804763793945314, group_sparsity: 0.01, \n",
      "Train Set objective: 0.47004539415054025, Train Set grad_norm: 1.389190128975315e-05, Train Set base_objective: 0.46671931457519533, Train Set accuracy: 0.918, Train Set nc_squared_error: 0.3328005981445312, Test Set nc_accuracy: 0.914, Test Set squared_error: 0.35427752685546876, group_sparsity: 0.312, \n",
      "Train Set objective: 0.4684321279954165, Train Set grad_norm: 4.160646312811878e-06, Train Set base_objective: 0.4653919849395752, Train Set accuracy: 0.917, Train Set nc_squared_error: 0.3269974365234375, Test Set nc_accuracy: 0.914, Test Set squared_error: 0.34932110595703125, group_sparsity: 0.429, \n",
      "Train Set objective: 0.46785923153720793, Train Set grad_norm: 1.4887848465150455e-06, Train Set base_objective: 0.46514029884338376, Train Set accuracy: 0.917, Train Set nc_squared_error: 0.32591259765625, Test Set nc_accuracy: 0.914, Test Set squared_error: 0.34832723999023435, group_sparsity: 0.48, \n"
     ]
    },
    {
     "name": "stderr",
     "output_type": "stream",
     "text": [
      "INFO:convex_nn:*Inner* termination criterion satisfied at iteration 87/10000. Exiting *inner* optimization loop.\n"
     ]
    },
    {
     "data": {
      "application/vnd.jupyter.widget-view+json": {
       "model_id": "1f0d041eb9f142adb1575ade1ae971c9",
       "version_major": 2,
       "version_minor": 0
      },
      "text/plain": [
       "Inner al:   0%|          | 0/10000 [00:00<?, ?it/s]"
      ]
     },
     "metadata": {},
     "output_type": "display_data"
    },
    {
     "name": "stdout",
     "output_type": "stream",
     "text": [
      "Train Set objective: 0.4677541820295155, Train Set grad_norm: 9.990783382818336e-07, Train Set base_objective: 0.4651372470855713, Train Set accuracy: 0.918, Train Set nc_squared_error: 0.3253385314941406, Test Set nc_accuracy: 0.914, Test Set squared_error: 0.34781655883789064, group_sparsity: 0.503, \n"
     ]
    },
    {
     "name": "stderr",
     "output_type": "stream",
     "text": [
      "INFO:convex_nn:*Inner* termination criterion satisfied at iteration 20/10000. Exiting *inner* optimization loop.\n"
     ]
    },
    {
     "data": {
      "application/vnd.jupyter.widget-view+json": {
       "model_id": "70d236d8b29b4c868c26de957fe6e4a6",
       "version_major": 2,
       "version_minor": 0
      },
      "text/plain": [
       "Inner al:   0%|          | 0/10000 [00:00<?, ?it/s]"
      ]
     },
     "metadata": {},
     "output_type": "display_data"
    },
    {
     "name": "stdout",
     "output_type": "stream",
     "text": [
      "Train Set objective: 0.4741251643896103, Train Set grad_norm: 8.900809120859776e-07, Train Set base_objective: 0.46843293571472167, Train Set accuracy: 0.911, Train Set nc_squared_error: 0.3320885009765625, Test Set nc_accuracy: 0.914, Test Set squared_error: 0.352185302734375, group_sparsity: 0.357, \n"
     ]
    },
    {
     "name": "stderr",
     "output_type": "stream",
     "text": [
      "INFO:convex_nn:*Inner* termination criterion satisfied at iteration 21/10000. Exiting *inner* optimization loop.\n"
     ]
    },
    {
     "data": {
      "application/vnd.jupyter.widget-view+json": {
       "model_id": "f12db8f89dac4a8f8e861d30979995de",
       "version_major": 2,
       "version_minor": 0
      },
      "text/plain": [
       "Inner al:   0%|          | 0/10000 [00:00<?, ?it/s]"
      ]
     },
     "metadata": {},
     "output_type": "display_data"
    },
    {
     "name": "stdout",
     "output_type": "stream",
     "text": [
      "Train Set objective: 0.4783499028906226, Train Set grad_norm: 8.961499133874895e-07, Train Set base_objective: 0.4699790573120117, Train Set accuracy: 0.911, Train Set nc_squared_error: 0.33638485717773436, Test Set nc_accuracy: 0.914, Test Set squared_error: 0.35529580688476564, group_sparsity: 0.3, \n",
      "Train Set objective: 0.4815495088100433, Train Set grad_norm: 1.0513606412132503e-06, Train Set base_objective: 0.471008695602417, Train Set accuracy: 0.911, Train Set nc_squared_error: 0.339202880859375, Test Set nc_accuracy: 0.914, Test Set squared_error: 0.35738232421875, group_sparsity: 0.264, \n"
     ]
    },
    {
     "name": "stderr",
     "output_type": "stream",
     "text": [
      "INFO:convex_nn:*Inner* termination criterion satisfied at iteration 33/10000. Exiting *inner* optimization loop.\n"
     ]
    },
    {
     "data": {
      "application/vnd.jupyter.widget-view+json": {
       "model_id": "7d63c923ef564fd5852c00b0ff610a6b",
       "version_major": 2,
       "version_minor": 0
      },
      "text/plain": [
       "Inner al:   0%|          | 0/10000 [00:00<?, ?it/s]"
      ]
     },
     "metadata": {},
     "output_type": "display_data"
    },
    {
     "name": "stdout",
     "output_type": "stream",
     "text": [
      "Train Set objective: 0.481474755436182, Train Set grad_norm: 9.593796903573093e-07, Train Set base_objective: 0.4710043315887451, Train Set accuracy: 0.911, Train Set nc_squared_error: 0.33914389038085935, Test Set nc_accuracy: 0.914, Test Set squared_error: 0.3573271484375, group_sparsity: 0.267, \n",
      "Train Set objective: 0.48382180171459915, Train Set grad_norm: 1.2035335430482519e-06, Train Set base_objective: 0.47169831848144533, Train Set accuracy: 0.911, Train Set nc_squared_error: 0.34069281005859375, Test Set nc_accuracy: 0.914, Test Set squared_error: 0.35848638916015624, group_sparsity: 0.269, \n"
     ]
    },
    {
     "name": "stderr",
     "output_type": "stream",
     "text": [
      "INFO:convex_nn:*Inner* termination criterion satisfied at iteration 41/10000. Exiting *inner* optimization loop.\n"
     ]
    },
    {
     "data": {
      "application/vnd.jupyter.widget-view+json": {
       "model_id": "20a09c34c5494fde89265eb8eb3dd980",
       "version_major": 2,
       "version_minor": 0
      },
      "text/plain": [
       "Inner al:   0%|          | 0/10000 [00:00<?, ?it/s]"
      ]
     },
     "metadata": {},
     "output_type": "display_data"
    },
    {
     "name": "stdout",
     "output_type": "stream",
     "text": [
      "Train Set objective: 0.4836718322262168, Train Set grad_norm: 9.56335725277313e-07, Train Set base_objective: 0.47170243072509765, Train Set accuracy: 0.911, Train Set nc_squared_error: 0.340500244140625, Test Set nc_accuracy: 0.914, Test Set squared_error: 0.35830581665039063, group_sparsity: 0.348, \n"
     ]
    },
    {
     "name": "stderr",
     "output_type": "stream",
     "text": [
      "INFO:convex_nn:*Inner* termination criterion satisfied at iteration 26/10000. Exiting *inner* optimization loop.\n"
     ]
    },
    {
     "name": "stdout",
     "output_type": "stream",
     "text": [
      "Train Set objective: 0.4852829897105694, Train Set grad_norm: 1.1754187880796962e-06, Train Set base_objective: 0.4721713275909424, Train Set accuracy: 0.911, Train Set nc_squared_error: 0.34126699829101564, Test Set nc_accuracy: 0.914, Test Set squared_error: 0.3587003173828125, group_sparsity: 0.258, \n"
     ]
    },
    {
     "data": {
      "application/vnd.jupyter.widget-view+json": {
       "model_id": "b8479d81717c4745a4af62aac0bc245c",
       "version_major": 2,
       "version_minor": 0
      },
      "text/plain": [
       "Inner al:   0%|          | 0/10000 [00:00<?, ?it/s]"
      ]
     },
     "metadata": {},
     "output_type": "display_data"
    },
    {
     "name": "stdout",
     "output_type": "stream",
     "text": [
      "Train Set objective: 0.48527656151354315, Train Set grad_norm: 9.967268397303997e-07, Train Set base_objective: 0.47217759704589846, Train Set accuracy: 0.911, Train Set nc_squared_error: 0.34121148681640623, Test Set nc_accuracy: 0.914, Test Set squared_error: 0.35877127075195314, group_sparsity: 0.321, \n"
     ]
    },
    {
     "name": "stderr",
     "output_type": "stream",
     "text": [
      "INFO:convex_nn:*Inner* termination criterion satisfied at iteration 5/10000. Exiting *inner* optimization loop.\n"
     ]
    },
    {
     "data": {
      "application/vnd.jupyter.widget-view+json": {
       "model_id": "181e9c0ebd3c492eaadab437d6f8ebe4",
       "version_major": 2,
       "version_minor": 0
      },
      "text/plain": [
       "Inner al:   0%|          | 0/10000 [00:00<?, ?it/s]"
      ]
     },
     "metadata": {},
     "output_type": "display_data"
    },
    {
     "name": "stdout",
     "output_type": "stream",
     "text": [
      "Train Set objective: 0.4865419404655695, Train Set grad_norm: 9.836682011155062e-07, Train Set base_objective: 0.47236675453186033, Train Set accuracy: 0.911, Train Set nc_squared_error: 0.34171481323242187, Test Set nc_accuracy: 0.914, Test Set squared_error: 0.35907183837890627, group_sparsity: 0.254, \n"
     ]
    },
    {
     "name": "stderr",
     "output_type": "stream",
     "text": [
      "INFO:convex_nn:*Inner* termination criterion satisfied at iteration 5/10000. Exiting *inner* optimization loop.\n"
     ]
    },
    {
     "data": {
      "application/vnd.jupyter.widget-view+json": {
       "model_id": "52f76c55f90849269828eade58295746",
       "version_major": 2,
       "version_minor": 0
      },
      "text/plain": [
       "Inner al:   0%|          | 0/10000 [00:00<?, ?it/s]"
      ]
     },
     "metadata": {},
     "output_type": "display_data"
    },
    {
     "name": "stdout",
     "output_type": "stream",
     "text": [
      "Train Set objective: 0.4876889780685306, Train Set grad_norm: 9.874599982140353e-07, Train Set base_objective: 0.47265362167358405, Train Set accuracy: 0.911, Train Set nc_squared_error: 0.3417481384277344, Test Set nc_accuracy: 0.914, Test Set squared_error: 0.35914361572265624, group_sparsity: 0.375, \n"
     ]
    },
    {
     "name": "stderr",
     "output_type": "stream",
     "text": [
      "INFO:convex_nn:*Inner* termination criterion satisfied at iteration 6/10000. Exiting *inner* optimization loop.\n"
     ]
    },
    {
     "data": {
      "application/vnd.jupyter.widget-view+json": {
       "model_id": "8c2e0db8c7d448eca498d3517ffd3979",
       "version_major": 2,
       "version_minor": 0
      },
      "text/plain": [
       "Inner al:   0%|          | 0/10000 [00:00<?, ?it/s]"
      ]
     },
     "metadata": {},
     "output_type": "display_data"
    },
    {
     "name": "stdout",
     "output_type": "stream",
     "text": [
      "Train Set objective: 0.4886148032546044, Train Set grad_norm: 9.989561249312828e-07, Train Set base_objective: 0.47285716056823734, Train Set accuracy: 0.911, Train Set nc_squared_error: 0.3422317199707031, Test Set nc_accuracy: 0.914, Test Set squared_error: 0.35946160888671874, group_sparsity: 0.252, \n"
     ]
    },
    {
     "name": "stderr",
     "output_type": "stream",
     "text": [
      "INFO:convex_nn:*Inner* termination criterion satisfied at iteration 7/10000. Exiting *inner* optimization loop.\n"
     ]
    },
    {
     "data": {
      "application/vnd.jupyter.widget-view+json": {
       "model_id": "fc21afbe1a9f4c37a3da74d76e4ae716",
       "version_major": 2,
       "version_minor": 0
      },
      "text/plain": [
       "Inner al:   0%|          | 0/10000 [00:00<?, ?it/s]"
      ]
     },
     "metadata": {},
     "output_type": "display_data"
    },
    {
     "name": "stdout",
     "output_type": "stream",
     "text": [
      "Train Set objective: 0.48936970745027064, Train Set grad_norm: 9.364454172100523e-07, Train Set base_objective: 0.47304869842529296, Train Set accuracy: 0.911, Train Set nc_squared_error: 0.3423989562988281, Test Set nc_accuracy: 0.914, Test Set squared_error: 0.3596106872558594, group_sparsity: 0.402, \n"
     ]
    },
    {
     "name": "stderr",
     "output_type": "stream",
     "text": [
      "INFO:convex_nn:*Inner* termination criterion satisfied at iteration 6/10000. Exiting *inner* optimization loop.\n"
     ]
    },
    {
     "data": {
      "application/vnd.jupyter.widget-view+json": {
       "model_id": "2b82df488afa422fac1c72bd88781474",
       "version_major": 2,
       "version_minor": 0
      },
      "text/plain": [
       "Inner al:   0%|          | 0/10000 [00:00<?, ?it/s]"
      ]
     },
     "metadata": {},
     "output_type": "display_data"
    },
    {
     "name": "stdout",
     "output_type": "stream",
     "text": [
      "Train Set objective: 0.48995507855713366, Train Set grad_norm: 9.317296871813596e-07, Train Set base_objective: 0.4731782169342041, Train Set accuracy: 0.911, Train Set nc_squared_error: 0.34257815551757814, Test Set nc_accuracy: 0.914, Test Set squared_error: 0.35973431396484373, group_sparsity: 0.293, \n"
     ]
    },
    {
     "name": "stderr",
     "output_type": "stream",
     "text": [
      "INFO:convex_nn:*Inner* termination criterion satisfied at iteration 7/10000. Exiting *inner* optimization loop.\n"
     ]
    },
    {
     "data": {
      "application/vnd.jupyter.widget-view+json": {
       "model_id": "da34917898124b22a54a6f1a72638cf4",
       "version_major": 2,
       "version_minor": 0
      },
      "text/plain": [
       "Inner al:   0%|          | 0/10000 [00:00<?, ?it/s]"
      ]
     },
     "metadata": {},
     "output_type": "display_data"
    },
    {
     "name": "stderr",
     "output_type": "stream",
     "text": [
      "INFO:convex_nn:*Inner* termination criterion satisfied at iteration 0/10000. Exiting *inner* optimization loop.\n"
     ]
    },
    {
     "name": "stdout",
     "output_type": "stream",
     "text": [
      "Train Set objective: 0.49039992643892766, Train Set grad_norm: 8.121835435304092e-07, Train Set base_objective: 0.47330607986450196, Train Set accuracy: 0.911, Train Set nc_squared_error: 0.34263015747070313, Test Set nc_accuracy: 0.914, Test Set squared_error: 0.35978305053710935, group_sparsity: 0.777, \n"
     ]
    },
    {
     "data": {
      "application/vnd.jupyter.widget-view+json": {
       "model_id": "aee4d1730f2e4218b773e865951628d5",
       "version_major": 2,
       "version_minor": 0
      },
      "text/plain": [
       "Inner al:   0%|          | 0/10000 [00:00<?, ?it/s]"
      ]
     },
     "metadata": {},
     "output_type": "display_data"
    },
    {
     "name": "stderr",
     "output_type": "stream",
     "text": [
      "INFO:convex_nn:*Inner* termination criterion satisfied at iteration 2/10000. Exiting *inner* optimization loop.\n"
     ]
    },
    {
     "name": "stdout",
     "output_type": "stream",
     "text": [
      "Train Set objective: 0.49039992643892766, Train Set grad_norm: 8.121835435304092e-07, Train Set base_objective: 0.47330607986450196, Train Set accuracy: 0.911, Train Set nc_squared_error: 0.34263015747070313, Test Set nc_accuracy: 0.914, Test Set squared_error: 0.35978305053710935, group_sparsity: 0.777, \n"
     ]
    },
    {
     "data": {
      "application/vnd.jupyter.widget-view+json": {
       "model_id": "c9a9d53ff2ec4a9ba6938c5f87f746d7",
       "version_major": 2,
       "version_minor": 0
      },
      "text/plain": [
       "Inner al:   0%|          | 0/10000 [00:00<?, ?it/s]"
      ]
     },
     "metadata": {},
     "output_type": "display_data"
    },
    {
     "name": "stdout",
     "output_type": "stream",
     "text": [
      "Train Set objective: 0.49110664555430417, Train Set grad_norm: 8.749637459004589e-07, Train Set base_objective: 0.4733848323822022, Train Set accuracy: 0.911, Train Set nc_squared_error: 0.3426178894042969, Test Set nc_accuracy: 0.914, Test Set squared_error: 0.35975439453125, group_sparsity: 0.9, \n"
     ]
    },
    {
     "name": "stderr",
     "output_type": "stream",
     "text": [
      "INFO:convex_nn:*Inner* termination criterion satisfied at iteration 2/10000. Exiting *inner* optimization loop.\n"
     ]
    },
    {
     "data": {
      "application/vnd.jupyter.widget-view+json": {
       "model_id": "23950edaed1e4dcc8db73e6d81ff94aa",
       "version_major": 2,
       "version_minor": 0
      },
      "text/plain": [
       "Inner al:   0%|          | 0/10000 [00:00<?, ?it/s]"
      ]
     },
     "metadata": {},
     "output_type": "display_data"
    },
    {
     "name": "stdout",
     "output_type": "stream",
     "text": [
      "Train Set objective: 0.49139140574634077, Train Set grad_norm: 9.738503194967052e-07, Train Set base_objective: 0.473437162399292, Train Set accuracy: 0.911, Train Set nc_squared_error: 0.3425177307128906, Test Set nc_accuracy: 0.914, Test Set squared_error: 0.3596563720703125, group_sparsity: 0.936, \n"
     ]
    },
    {
     "name": "stderr",
     "output_type": "stream",
     "text": [
      "INFO:convex_nn:*Inner* termination criterion satisfied at iteration 4/10000. Exiting *inner* optimization loop.\n"
     ]
    },
    {
     "data": {
      "application/vnd.jupyter.widget-view+json": {
       "model_id": "9edc6e18c5074b8ba4f32fe5b98b4e06",
       "version_major": 2,
       "version_minor": 0
      },
      "text/plain": [
       "Inner al:   0%|          | 0/10000 [00:00<?, ?it/s]"
      ]
     },
     "metadata": {},
     "output_type": "display_data"
    },
    {
     "name": "stderr",
     "output_type": "stream",
     "text": [
      "INFO:convex_nn:*Inner* termination criterion satisfied at iteration 0/10000. Exiting *inner* optimization loop.\n"
     ]
    },
    {
     "name": "stdout",
     "output_type": "stream",
     "text": [
      "Train Set objective: 0.4916161334067583, Train Set grad_norm: 7.7156153110991e-07, Train Set base_objective: 0.47349134254455566, Train Set accuracy: 0.911, Train Set nc_squared_error: 0.34224462890625, Test Set nc_accuracy: 0.914, Test Set squared_error: 0.35940826416015625, group_sparsity: 0.949, \n"
     ]
    },
    {
     "data": {
      "application/vnd.jupyter.widget-view+json": {
       "model_id": "f361b957eb7b436ebdfcd8952e13e2d0",
       "version_major": 2,
       "version_minor": 0
      },
      "text/plain": [
       "Inner al:   0%|          | 0/10000 [00:00<?, ?it/s]"
      ]
     },
     "metadata": {},
     "output_type": "display_data"
    },
    {
     "name": "stderr",
     "output_type": "stream",
     "text": [
      "INFO:convex_nn:*Inner* termination criterion satisfied at iteration 0/10000. Exiting *inner* optimization loop.\n"
     ]
    },
    {
     "name": "stdout",
     "output_type": "stream",
     "text": [
      "Train Set objective: 0.4916161334067583, Train Set grad_norm: 7.7156153110991e-07, Train Set base_objective: 0.47349134254455566, Train Set accuracy: 0.911, Train Set nc_squared_error: 0.34224462890625, Test Set nc_accuracy: 0.914, Test Set squared_error: 0.35940826416015625, group_sparsity: 0.949, \n"
     ]
    },
    {
     "data": {
      "application/vnd.jupyter.widget-view+json": {
       "model_id": "5b383b652da0456191f51784b6af991b",
       "version_major": 2,
       "version_minor": 0
      },
      "text/plain": [
       "Inner al:   0%|          | 0/10000 [00:00<?, ?it/s]"
      ]
     },
     "metadata": {},
     "output_type": "display_data"
    },
    {
     "name": "stderr",
     "output_type": "stream",
     "text": [
      "INFO:convex_nn:*Inner* termination criterion satisfied at iteration 1/10000. Exiting *inner* optimization loop.\n"
     ]
    },
    {
     "name": "stdout",
     "output_type": "stream",
     "text": [
      "Train Set objective: 0.4916161334067583, Train Set grad_norm: 7.7156153110991e-07, Train Set base_objective: 0.47349134254455566, Train Set accuracy: 0.911, Train Set nc_squared_error: 0.34224462890625, Test Set nc_accuracy: 0.914, Test Set squared_error: 0.35940826416015625, group_sparsity: 0.949, \n"
     ]
    },
    {
     "data": {
      "application/vnd.jupyter.widget-view+json": {
       "model_id": "aa8f3530e58c48ada46d3c0b3ea1017a",
       "version_major": 2,
       "version_minor": 0
      },
      "text/plain": [
       "Inner al:   0%|          | 0/10000 [00:00<?, ?it/s]"
      ]
     },
     "metadata": {},
     "output_type": "display_data"
    },
    {
     "name": "stdout",
     "output_type": "stream",
     "text": [
      "Train Set objective: 0.4922027385234833, Train Set grad_norm: 9.320719982497394e-07, Train Set base_objective: 0.4735467529296875, Train Set accuracy: 0.911, Train Set nc_squared_error: 0.34224407958984376, Test Set nc_accuracy: 0.914, Test Set squared_error: 0.359399658203125, group_sparsity: 0.954, \n"
     ]
    },
    {
     "name": "stderr",
     "output_type": "stream",
     "text": [
      "INFO:convex_nn:*Inner* termination criterion satisfied at iteration 3/10000. Exiting *inner* optimization loop.\n"
     ]
    },
    {
     "data": {
      "application/vnd.jupyter.widget-view+json": {
       "model_id": "11ce9110dbd7465b92c44f4d2ab095fe",
       "version_major": 2,
       "version_minor": 0
      },
      "text/plain": [
       "Inner al:   0%|          | 0/10000 [00:00<?, ?it/s]"
      ]
     },
     "metadata": {},
     "output_type": "display_data"
    },
    {
     "name": "stderr",
     "output_type": "stream",
     "text": [
      "INFO:convex_nn:*Inner* termination criterion satisfied at iteration 0/10000. Exiting *inner* optimization loop.\n"
     ]
    },
    {
     "name": "stdout",
     "output_type": "stream",
     "text": [
      "Train Set objective: 0.49235593038797376, Train Set grad_norm: 7.957453931339842e-07, Train Set base_objective: 0.47358937072753904, Train Set accuracy: 0.911, Train Set nc_squared_error: 0.34210430908203127, Test Set nc_accuracy: 0.914, Test Set squared_error: 0.359267333984375, group_sparsity: 0.958, \n"
     ]
    },
    {
     "data": {
      "application/vnd.jupyter.widget-view+json": {
       "model_id": "c694ca07f7574eefaa74fd89dc7e2c23",
       "version_major": 2,
       "version_minor": 0
      },
      "text/plain": [
       "Inner al:   0%|          | 0/10000 [00:00<?, ?it/s]"
      ]
     },
     "metadata": {},
     "output_type": "display_data"
    },
    {
     "name": "stdout",
     "output_type": "stream",
     "text": [
      "Train Set objective: 0.49235593038797376, Train Set grad_norm: 7.957453931339842e-07, Train Set base_objective: 0.47358937072753904, Train Set accuracy: 0.911, Train Set nc_squared_error: 0.34210430908203127, Test Set nc_accuracy: 0.914, Test Set squared_error: 0.359267333984375, group_sparsity: 0.958, \n"
     ]
    },
    {
     "name": "stderr",
     "output_type": "stream",
     "text": [
      "INFO:convex_nn:*Inner* termination criterion satisfied at iteration 3/10000. Exiting *inner* optimization loop.\n"
     ]
    },
    {
     "data": {
      "application/vnd.jupyter.widget-view+json": {
       "model_id": "fe2ddda854f94edf916a5b2a2babf2ef",
       "version_major": 2,
       "version_minor": 0
      },
      "text/plain": [
       "Inner al:   0%|          | 0/10000 [00:00<?, ?it/s]"
      ]
     },
     "metadata": {},
     "output_type": "display_data"
    },
    {
     "name": "stderr",
     "output_type": "stream",
     "text": [
      "INFO:convex_nn:*Inner* termination criterion satisfied at iteration 0/10000. Exiting *inner* optimization loop.\n"
     ]
    },
    {
     "name": "stdout",
     "output_type": "stream",
     "text": [
      "Train Set objective: 0.49258082880079745, Train Set grad_norm: 7.764544989186106e-07, Train Set base_objective: 0.4736240539550781, Train Set accuracy: 0.911, Train Set nc_squared_error: 0.341946533203125, Test Set nc_accuracy: 0.914, Test Set squared_error: 0.35913031005859375, group_sparsity: 0.961, \n"
     ]
    },
    {
     "data": {
      "application/vnd.jupyter.widget-view+json": {
       "model_id": "a23c9dfc43144b199657a43c664dc1cd",
       "version_major": 2,
       "version_minor": 0
      },
      "text/plain": [
       "Inner al:   0%|          | 0/10000 [00:00<?, ?it/s]"
      ]
     },
     "metadata": {},
     "output_type": "display_data"
    },
    {
     "name": "stderr",
     "output_type": "stream",
     "text": [
      "INFO:convex_nn:*Outer* termination criterion satisfied at iteration 24/10000. Exiting *outer* optimization loop.\n",
      "INFO:convex_nn:Post-Optimization Metrics: Train Set objective: 0.4927546567171812, Train Set grad_norm: 8.930802550821682e-07, Train Set base_objective: 0.47364226531982423, Train Set accuracy: 0.911, Train Set nc_squared_error: 0.3418751220703125, Test Set nc_accuracy: 0.914, Test Set squared_error: 0.359066650390625, group_sparsity: 0.961, \n"
     ]
    },
    {
     "name": "stdout",
     "output_type": "stream",
     "text": [
      "Train Set objective: 0.49258082880079745, Train Set grad_norm: 7.764544989186106e-07, Train Set base_objective: 0.4736240539550781, Train Set accuracy: 0.911, Train Set nc_squared_error: 0.341946533203125, Test Set nc_accuracy: 0.914, Test Set squared_error: 0.35913031005859375, group_sparsity: 0.961, \n"
     ]
    }
   ],
   "source": [
    "model = ConvexReLU(G)\n",
    "solver = AL(model      )\n",
    "metrics = Metrics(metric_freq=25, model_loss=True, train_accuracy=True, train_mse=True, test_mse=True, test_accuracy=True, neuron_sparsity=True)\n",
    "relu_model, relu_metrics = optimize_model(\n",
    "    model,\n",
    "    solver,\n",
    "    metrics,\n",
    "    X_train, \n",
    "    y_train, \n",
    "    X_test, \n",
    "    y_test,\n",
    "    regularizer,\n",
    "    verbose=True,\n",
    ")"
   ]
  },
  {
   "cell_type": "code",
   "execution_count": 10,
   "id": "5a122a18",
   "metadata": {},
   "outputs": [
    {
     "data": {
      "text/plain": [
       "0.911"
      ]
     },
     "execution_count": 10,
     "metadata": {},
     "output_type": "execute_result"
    }
   ],
   "source": [
    "# Training Accuracy\n",
    "np.sum(np.sign(relu_model(X_train)) == y_train) / len(y_train)"
   ]
  },
  {
   "cell_type": "code",
   "execution_count": 11,
   "id": "cf7327ec",
   "metadata": {},
   "outputs": [
    {
     "data": {
      "image/png": "[encoded data removed]",
      "text/plain": [
       "<Figure size 1296x432 with 3 Axes>"
      ]
     },
     "metadata": {
      "needs_background": "light"
     },
     "output_type": "display_data"
    }
   ],
   "source": [
    "fig = plt.figure(figsize=(18,6))\n",
    "spec = fig.add_gridspec(ncols=3, nrows=1)\n",
    "ax0 = fig.add_subplot(spec[0, 0])\n",
    "\n",
    "ax0.plot(np.arange(len(relu_metrics.objective)), \n",
    "         relu_metrics.objective, \n",
    "         label=\"ReLU\", \n",
    "         color=\"#ff7f0e\",\n",
    "         marker=\"^\",\n",
    "         markevery=0.1,\n",
    "         markersize=14,\n",
    "         linewidth=\"3\")\n",
    "\n",
    "ax0.plot(np.arange(len(grelu_metrics.objective)), \n",
    "         grelu_metrics.objective, \n",
    "         label=\"Gated ReLU\", \n",
    "         color=\"#1f77b4\",\n",
    "         marker=\"v\", \n",
    "         markevery=0.1,\n",
    "         markersize=14,\n",
    "         linewidth=\"3\"\n",
    "        )\n",
    "\n",
    "ax0.set_title(\"Training Objective\", fontsize=22)\n",
    "ax0.set_xlabel(\"Iterations\", fontsize=18)\n",
    "\n",
    "ax1 = fig.add_subplot(spec[0, 1])\n",
    "\n",
    "ax1.plot(np.arange(len(relu_metrics.train_accuracy)), \n",
    "         relu_metrics.train_accuracy, \n",
    "         label=\"Relu\", \n",
    "         color=\"#ff7f0e\",\n",
    "         marker=\"^\",\n",
    "         markevery=0.1,\n",
    "         markersize=14,\n",
    "         linewidth=\"3\")\n",
    "\n",
    "ax1.plot(np.arange(len(grelu_metrics.train_accuracy)), \n",
    "         grelu_metrics.train_accuracy, \n",
    "         label=\"Gated ReLU\", \n",
    "         color=\"#1f77b4\",\n",
    "         marker=\"v\", \n",
    "         markevery=0.1,\n",
    "         markersize=14,\n",
    "         linewidth=\"3\"\n",
    "        )\n",
    "\n",
    "ax1.set_title(\"Training Accuracy\", fontsize=22)\n",
    "ax1.set_xlabel(\"Iterations\", fontsize=18)\n",
    "\n",
    "ax2 = fig.add_subplot(spec[0, 2])\n",
    "\n",
    "\n",
    "ax2.plot(np.arange(len(relu_metrics.test_accuracy)), \n",
    "         relu_metrics.test_accuracy, \n",
    "         label=\"Relu\", \n",
    "         color=\"#ff7f0e\",\n",
    "         marker=\"^\",\n",
    "         markevery=0.1,\n",
    "         markersize=14,\n",
    "         linewidth=\"3\")\n",
    "\n",
    "ax2.plot(np.arange(len(grelu_metrics.test_accuracy)), \n",
    "         grelu_metrics.test_accuracy, \n",
    "         label=\"Gated ReLU\", \n",
    "         color=\"#1f77b4\",\n",
    "         marker=\"v\", \n",
    "         markevery=0.1,\n",
    "         markersize=14,\n",
    "         linewidth=\"3\"\n",
    "        )\n",
    "\n",
    "ax2.set_title(\"Test Accuracy\", fontsize=22)\n",
    "ax2.set_xlabel(\"Iterations\", fontsize=18)\n",
    "handles, labels = ax0.get_legend_handles_labels()\n",
    "legend = fig.legend(\n",
    "    handles=handles,\n",
    "    labels=labels,\n",
    "    loc=\"lower center\",\n",
    "    borderaxespad=0.1,\n",
    "    fancybox=False,\n",
    "    shadow=False,\n",
    "    ncol=2,\n",
    "    fontsize=16,\n",
    "    frameon=False,\n",
    ")\n",
    "fig.subplots_adjust(\n",
    "    bottom=0.15,\n",
    ")"
   ]
  },
  {
   "cell_type": "code",
   "execution_count": 12,
   "id": "0464a6be",
   "metadata": {},
   "outputs": [
    {
     "name": "stderr",
     "output_type": "stream",
     "text": [
      "INFO:convex_nn:Pre-Training Metrics: Train Set objective: 0.5, Train Set grad_norm: 0.09645780175924301, Train Set base_objective: 0.5, Train Set accuracy: 0.0, Train Set nc_squared_error: 0.5, Test Set nc_accuracy: 0.0, Test Set squared_error: 0.5, group_sparsity: 1.0, \n",
      "INFO:convex_nn:Post-Training Metrics: Train Set objective: 0.10596883459402834, Train Set grad_norm: 8.607546412607804e-16, Train Set base_objective: 0.10596883459402834, Train Set accuracy: 0.999, Train Set nc_squared_error: 0.05206110324112671, Test Set nc_accuracy: 0.937, Test Set squared_error: 0.1180487650629652, group_sparsity: 0.0, \n"
     ]
    }
   ],
   "source": [
    "# Super-fast least-squares solver.\n",
    "model = ConvexGatedReLU(G)\n",
    "solver = LeastSquaresSolver(model, tol=1e-8)\n",
    "regularizer = L2(0.01)\n",
    "lstsq_model, lstsq_metrics = optimize_model(\n",
    "    model,\n",
    "    solver,\n",
    "    metrics,\n",
    "    X_train, \n",
    "    y_train, \n",
    "    X_test, \n",
    "    y_test,\n",
    "    regularizer=regularizer,\n",
    "    verbose=True,\n",
    ")"
   ]
  },
  {
   "cell_type": "code",
   "execution_count": 13,
   "id": "35508e63",
   "metadata": {},
   "outputs": [
    {
     "data": {
      "text/plain": [
       "0.998"
      ]
     },
     "execution_count": 13,
     "metadata": {},
     "output_type": "execute_result"
    }
   ],
   "source": [
    "# Training Accuracy\n",
    "np.sum(np.sign(lstsq_model(X_train)) == y_train) / len(y_train)"
   ]
  },
  {
   "cell_type": "code",
   "execution_count": 14,
   "id": "cf622025",
   "metadata": {},
   "outputs": [
    {
     "name": "stderr",
     "output_type": "stream",
     "text": [
      "INFO:convex_nn:Pre-Training Metrics: Train Set objective: 0.5, Train Set grad_norm: 0.00788937509059906, Train Set base_objective: 0.5, Train Set accuracy: 0.0, Train Set nc_squared_error: 0.5, Test Set nc_accuracy: 0.0, Test Set squared_error: 0.5, group_sparsity: 1.0, \n"
     ]
    },
    {
     "name": "stdout",
     "output_type": "stream",
     "text": [
      "===============================================================================\n",
      "                                     CVXPY                                     \n",
      "                                    v1.1.15                                    \n",
      "===============================================================================\n",
      "(CVXPY) Mar 14 09:55:33 PM: Your problem has 25000 variables, 0 constraints, and 0 parameters.\n",
      "(CVXPY) Mar 14 09:55:33 PM: It is compliant with the following grammars: DCP, DQCP\n",
      "(CVXPY) Mar 14 09:55:33 PM: (If you need to solve this problem multiple times, but with different data, consider using parameters.)\n",
      "(CVXPY) Mar 14 09:55:33 PM: CVXPY will first compile your problem; then, it will invoke a numerical solver to obtain a solution.\n",
      "-------------------------------------------------------------------------------\n",
      "                                  Compilation                                  \n",
      "-------------------------------------------------------------------------------\n",
      "(CVXPY) Mar 14 09:55:33 PM: Compiling problem (target solver=MOSEK).\n",
      "(CVXPY) Mar 14 09:55:33 PM: Reduction chain: Dcp2Cone -> CvxAttr2Constr -> ConeMatrixStuffing -> MOSEK\n",
      "(CVXPY) Mar 14 09:55:33 PM: Applying reduction Dcp2Cone\n",
      "(CVXPY) Mar 14 09:55:33 PM: Applying reduction CvxAttr2Constr\n",
      "(CVXPY) Mar 14 09:55:33 PM: Applying reduction ConeMatrixStuffing\n",
      "(CVXPY) Mar 14 09:55:45 PM: Applying reduction MOSEK\n",
      "(CVXPY) Mar 14 09:55:48 PM: Finished problem compilation (took 1.506e+01 seconds).\n",
      "-------------------------------------------------------------------------------\n",
      "                                Numerical solver                               \n",
      "-------------------------------------------------------------------------------\n",
      "(CVXPY) Mar 14 09:55:48 PM: Invoking solver MOSEK  to obtain a solution.\n",
      "\n",
      "\n",
      "Problem\n",
      "  Name                   :                 \n",
      "  Objective sense        : max             \n",
      "  Type                   : CONIC (conic optimization problem)\n",
      "  Constraints            : 26001           \n",
      "  Cones                  : 501             \n",
      "  Scalar variables       : 27502           \n",
      "  Matrix variables       : 0               \n",
      "  Integer variables      : 0               \n",
      "\n",
      "Optimizer started.\n",
      "Problem\n",
      "  Name                   :                 \n",
      "  Objective sense        : max             \n",
      "  Type                   : CONIC (conic optimization problem)\n",
      "  Constraints            : 26001           \n",
      "  Cones                  : 501             \n",
      "  Scalar variables       : 27502           \n",
      "  Matrix variables       : 0               \n",
      "  Integer variables      : 0               \n",
      "\n",
      "Optimizer  - threads                : 12              \n",
      "Optimizer  - solved problem         : the primal      \n",
      "Optimizer  - Constraints            : 25001\n",
      "Optimizer  - Cones                  : 501\n",
      "Optimizer  - Scalar variables       : 26502             conic                  : 26502           \n",
      "Optimizer  - Semi-definite variables: 0                 scalarized             : 0               \n",
      "Factor     - setup time             : 2.30              dense det. time        : 0.58            \n",
      "Factor     - ML order time          : 0.04              GP order time          : 0.00            \n",
      "Factor     - nonzeros before factor : 1.31e+07          after factor           : 1.31e+07        \n",
      "Factor     - dense dim.             : 1002              flops                  : 7.24e+09        \n",
      "ITE PFEAS    DFEAS    GFEAS    PRSTATUS   POBJ              DOBJ              MU       TIME  \n",
      "0   1.0e+00  2.0e+00  7.0e+00  0.00e+00   -1.000000000e+00  5.000000000e+00   1.0e+00  4.99  \n",
      "1   1.3e-01  2.5e-01  1.3e+00  -7.64e-01  1.519159983e+01   1.569642422e+01   1.3e-01  5.32  \n",
      "2   6.3e-02  1.3e-01  8.3e-02  3.57e+00   4.444522419e+00   4.842659329e+00   6.3e-02  5.61  \n",
      "3   3.4e-02  6.8e-02  2.8e-02  3.04e+00   2.197280309e+00   2.300133370e+00   3.4e-02  5.91  \n",
      "4   3.0e-02  6.0e-02  2.2e-02  2.02e+00   1.759116880e+00   1.842778415e+00   3.0e-02  6.20  \n",
      "5   5.6e-03  1.1e-02  2.4e-03  1.75e+00   8.633659817e-01   8.751360160e-01   5.6e-03  6.74  \n",
      "6   1.8e-03  3.7e-03  5.0e-04  7.41e-01   7.048722632e-01   7.095012604e-01   1.8e-03  7.04  \n",
      "7   7.8e-04  1.6e-03  1.6e-04  7.18e-01   6.197543505e-01   6.221682204e-01   7.8e-04  7.36  \n",
      "8   4.4e-04  8.8e-04  8.3e-05  4.67e-01   5.686664412e-01   5.703922523e-01   4.4e-04  7.67  \n",
      "9   2.2e-04  4.3e-04  2.6e-05  7.43e-01   5.357136045e-01   5.366731219e-01   2.2e-04  7.97  \n",
      "10  7.8e-05  1.6e-04  7.1e-06  4.27e-01   4.923301371e-01   4.927746635e-01   7.8e-05  8.30  \n",
      "11  1.2e-05  2.4e-05  3.4e-07  8.92e-01   4.644105062e-01   4.644919968e-01   1.2e-05  8.80  \n",
      "12  6.1e-06  6.9e-05  1.3e-07  8.28e-01   4.606183188e-01   4.606619175e-01   6.1e-06  9.13  \n",
      "13  8.6e-07  8.8e-06  6.9e-09  9.91e-01   4.573398157e-01   4.573458469e-01   8.6e-07  9.54  \n",
      "14  6.4e-08  1.3e-05  1.4e-10  9.93e-01   4.567735970e-01   4.567740539e-01   6.4e-08  9.90  \n",
      "15  3.9e-09  1.9e-04  2.1e-12  9.99e-01   4.567298975e-01   4.567299252e-01   3.9e-09  10.29 \n",
      "16  1.2e-10  2.1e-02  1.1e-14  1.00e+00   4.567271421e-01   4.567271429e-01   1.2e-10  10.83 \n",
      "Optimizer terminated. Time: 11.17   \n",
      "\n",
      "\n",
      "Interior-point solution summary\n",
      "  Problem status  : PRIMAL_AND_DUAL_FEASIBLE\n",
      "  Solution status : OPTIMAL\n",
      "  Primal.  obj: 4.5672714206e-01    nrm: 1e-01    Viol.  con: 2e-10    var: 0e+00    cones: 9e-11  \n",
      "  Dual.    obj: 4.5672714290e-01    nrm: 6e+02    Viol.  con: 0e+00    var: 9e-15    cones: 0e+00  \n",
      "-------------------------------------------------------------------------------\n",
      "                                    Summary                                    \n",
      "-------------------------------------------------------------------------------\n",
      "(CVXPY) Mar 14 09:56:03 PM: Problem status: optimal\n",
      "(CVXPY) Mar 14 09:56:03 PM: Optimal value: 4.567e-01\n",
      "(CVXPY) Mar 14 09:56:03 PM: Compilation took 1.506e+01 seconds\n",
      "(CVXPY) Mar 14 09:56:03 PM: Solver (including time spent in interface) took 1.551e+01 seconds\n"
     ]
    },
    {
     "name": "stderr",
     "output_type": "stream",
     "text": [
      "INFO:convex_nn:Post-Training Metrics: Train Set objective: 0.45672714233398437, Train Set grad_norm: 0.0003996694867964834, Train Set base_objective: 0.45672714233398437, Train Set accuracy: 0.95, Train Set nc_squared_error: 0.2976923828125, Test Set nc_accuracy: 0.915, Test Set squared_error: 0.3295959167480469, group_sparsity: 0.0, \n"
     ]
    }
   ],
   "source": [
    "# Solver based on CXVPY.\n",
    "model = ConvexGatedReLU(G)\n",
    "solver = CVXPYSolver(model, \"mosek\")\n",
    "regularizer = NeuronGL1(0.01)\n",
    "cvxpy_model, cvxpy_metrics = optimize_model(\n",
    "    model,\n",
    "    solver,\n",
    "    metrics,\n",
    "    X_train, \n",
    "    y_train, \n",
    "    X_test, \n",
    "    y_test,\n",
    "    regularizer=regularizer,\n",
    "    verbose=True,\n",
    ")"
   ]
  },
  {
   "cell_type": "code",
   "execution_count": null,
   "id": "15df95e1",
   "metadata": {},
   "outputs": [],
   "source": []
  },
  {
   "cell_type": "code",
   "execution_count": null,
   "id": "cbf685a6",
   "metadata": {},
   "outputs": [],
   "source": []
  }
 ],
 "metadata": {
  "kernelspec": {
   "display_name": "Python 3",
   "language": "python",
   "name": "python3"
  },
  "language_info": {
   "codemirror_mode": {
    "name": "ipython",
    "version": 3
   },
   "file_extension": ".py",
   "mimetype": "text/x-python",
   "name": "python",
   "nbconvert_exporter": "python",
   "pygments_lexer": "ipython3",
   "version": "3.9.9"
  }
 },
 "nbformat": 4,
 "nbformat_minor": 5
}
