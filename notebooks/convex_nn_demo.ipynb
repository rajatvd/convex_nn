{
 "cells": [
  {
   "cell_type": "code",
   "execution_count": 1,
   "id": "750474ec",
   "metadata": {},
   "outputs": [],
   "source": [
    "\"\"\"\n",
    "Train convex LassoNet models on a synthetic classification dataset using conve|x optimization.\n",
    "\"\"\"\n",
    "\n",
    "import sys\n",
    "sys.path.append(\"..\")"
   ]
  },
  {
   "cell_type": "code",
   "execution_count": 2,
   "id": "6284d725",
   "metadata": {},
   "outputs": [],
   "source": [
    "import numpy as np\n",
    "import matplotlib.pyplot as plt\n",
    "\n",
    "from convex_nn.private.utils.data import gen_classification_data\n",
    "\n",
    "\n",
    "from convex_nn.models import ConvexGatedReLU, ConvexReLU\n",
    "from convex_nn.solvers import RFISTA, AL\n",
    "from convex_nn.regularizers import NeuronGL1\n",
    "from convex_nn.metrics import Metrics\n",
    "from convex_nn.activations import sample_gate_vectors\n",
    "from convex_nn.optimize import optimize_model, optimize"
   ]
  },
  {
   "cell_type": "code",
   "execution_count": 3,
   "id": "bf47351b",
   "metadata": {},
   "outputs": [],
   "source": [
    "# Generate realizable synthetic classification problem (ie. Figure 1)\n",
    "n_train = 1000\n",
    "n_test = 1000\n",
    "d = 50\n",
    "hidden_units = 100\n",
    "kappa = 10  # condition number\n",
    "\n",
    "(X_train, y_train), (X_test, y_test) = gen_classification_data(123, n_train, n_test, d, hidden_units, kappa)"
   ]
  },
  {
   "cell_type": "code",
   "execution_count": 4,
   "id": "4dd5ec91",
   "metadata": {},
   "outputs": [],
   "source": [
    "lam = 0.001\n",
    "max_neurons = 500"
   ]
  },
  {
   "cell_type": "code",
   "execution_count": 5,
   "id": "c20ec14f",
   "metadata": {},
   "outputs": [
    {
     "name": "stderr",
     "output_type": "stream",
     "text": [
      "INFO:convex_nn:Pre-Optimization Metrics: Train Set objective: 0.5, Train Set grad_norm: 0.08252204209566116, \n"
     ]
    },
    {
     "data": {
      "application/vnd.jupyter.widget-view+json": {
       "model_id": "9c54944f4b844fd7a52d2ec506ebafee",
       "version_major": 2,
       "version_minor": 0
      },
      "text/plain": [
       "fista:   0%|          | 0/10000 [00:00<?, ?it/s]"
      ]
     },
     "metadata": {},
     "output_type": "display_data"
    },
    {
     "name": "stdout",
     "output_type": "stream",
     "text": [
      "Train Set objective: 0.5, Train Set grad_norm: 0.08252204209566116, \n",
      "Train Set objective: 0.11929751205444336, Train Set grad_norm: 7.562035989394644e-06, \n"
     ]
    },
    {
     "name": "stderr",
     "output_type": "stream",
     "text": [
      "INFO:convex_nn:Termination criterion satisfied at iteration 61/10000. Exiting optimization loop.\n",
      "INFO:convex_nn:Post-Optimization Metrics: Train Set objective: 0.11440114402770996, Train Set grad_norm: 9.364450761495391e-07, \n"
     ]
    },
    {
     "name": "stdout",
     "output_type": "stream",
     "text": [
      "Train Set objective: 0.11532616806030274, Train Set grad_norm: 1.6332401173713151e-06, \n"
     ]
    }
   ],
   "source": [
    "model, metrics = optimize(\"gated_relu\", \n",
    "                          max_neurons, \n",
    "                          lam, \n",
    "                          X_train, \n",
    "                          y_train, \n",
    "                          X_test, \n",
    "                          y_test, \n",
    "                          verbose=True,  \n",
    "                          device=\"cpu\")"
   ]
  },
  {
   "cell_type": "code",
   "execution_count": 6,
   "id": "e4c0a72a",
   "metadata": {},
   "outputs": [],
   "source": [
    "# Instantiate convex model and other options.\n",
    "G = sample_gate_vectors(np.random.default_rng(123), d, max_neurons)\n",
    "model = ConvexGatedReLU(G)\n",
    "solver = RFISTA(model, tol=1e-8)\n",
    "regularizer = NeuronGL1(lam)\n",
    "metrics = Metrics(metric_freq=25, model_loss=True, train_accuracy=True, train_mse=True, test_mse=True, test_accuracy=True, neuron_sparsity=True)"
   ]
  },
  {
   "cell_type": "code",
   "execution_count": 7,
   "id": "635a0f46",
   "metadata": {
    "scrolled": true
   },
   "outputs": [
    {
     "name": "stderr",
     "output_type": "stream",
     "text": [
      "INFO:convex_nn:Pre-Optimization Metrics: Train Set objective: 0.5, Train Set grad_norm: 0.08310095965862274, Train Set base_objective: 0.5, Train Set accuracy: 0.0, Train Set nc_squared_error: 0.5, Test Set nc_accuracy: 0.0, Test Set squared_error: 0.5, group_sparsity: 1.0, \n"
     ]
    },
    {
     "data": {
      "application/vnd.jupyter.widget-view+json": {
       "model_id": "90774a1a5aa8419abd7776042ba0676f",
       "version_major": 2,
       "version_minor": 0
      },
      "text/plain": [
       "fista:   0%|          | 0/10000 [00:00<?, ?it/s]"
      ]
     },
     "metadata": {},
     "output_type": "display_data"
    },
    {
     "name": "stdout",
     "output_type": "stream",
     "text": [
      "Train Set objective: 0.5, Train Set grad_norm: 0.08310095965862274, Train Set base_objective: 0.5, Train Set accuracy: 0.0, Train Set nc_squared_error: 0.5, Test Set nc_accuracy: 0.0, Test Set squared_error: 0.5, group_sparsity: 1.0, \n",
      "Train Set objective: 0.11960908699035645, Train Set grad_norm: 7.062554232106777e-06, Train Set base_objective: 0.11960908699035645, Train Set accuracy: 1.0, Train Set nc_squared_error: 0.030168588638305665, Test Set nc_accuracy: 0.94, Test Set squared_error: 0.11168362426757812, group_sparsity: 0.006, \n",
      "Train Set objective: 0.1157255973815918, Train Set grad_norm: 2.0013769699289696e-06, Train Set base_objective: 0.1157255973815918, Train Set accuracy: 1.0, Train Set nc_squared_error: 0.029887596130371095, Test Set nc_accuracy: 0.941, Test Set squared_error: 0.10983995819091796, group_sparsity: 0.276, \n",
      "Train Set objective: 0.11423622512817383, Train Set grad_norm: 8.817787602311e-07, Train Set base_objective: 0.11423622512817383, Train Set accuracy: 1.0, Train Set nc_squared_error: 0.029603084564208983, Test Set nc_accuracy: 0.938, Test Set squared_error: 0.11016992950439453, group_sparsity: 0.536, \n",
      "Train Set objective: 0.11376166534423827, Train Set grad_norm: 4.1315367127481295e-08, Train Set base_objective: 0.11376166534423827, Train Set accuracy: 1.0, Train Set nc_squared_error: 0.029370834350585937, Test Set nc_accuracy: 0.94, Test Set squared_error: 0.11243465423583984, group_sparsity: 0.65, \n"
     ]
    },
    {
     "name": "stderr",
     "output_type": "stream",
     "text": [
      "INFO:convex_nn:Termination criterion satisfied at iteration 126/10000. Exiting optimization loop.\n",
      "INFO:convex_nn:Post-Optimization Metrics: Train Set objective: 0.11367369079589844, Train Set grad_norm: 9.842191950326651e-09, Train Set base_objective: 0.11367369079589844, Train Set accuracy: 1.0, Train Set nc_squared_error: 0.02936664581298828, Test Set nc_accuracy: 0.939, Test Set squared_error: 0.11393643951416016, group_sparsity: 0.696, \n"
     ]
    },
    {
     "name": "stdout",
     "output_type": "stream",
     "text": [
      "Train Set objective: 0.11367445564270019, Train Set grad_norm: 1.0162385599699064e-08, Train Set base_objective: 0.11367445564270019, Train Set accuracy: 1.0, Train Set nc_squared_error: 0.02935738754272461, Test Set nc_accuracy: 0.939, Test Set squared_error: 0.11393914031982422, group_sparsity: 0.694, \n"
     ]
    }
   ],
   "source": [
    "grelu_model, grelu_metrics = optimize_model(\n",
    "    model,\n",
    "    solver,\n",
    "    metrics,\n",
    "    X_train, \n",
    "    y_train, \n",
    "    X_test, \n",
    "    y_test,\n",
    "    regularizer,\n",
    "    verbose=True,\n",
    ")"
   ]
  },
  {
   "cell_type": "code",
   "execution_count": 8,
   "id": "bffbecf3",
   "metadata": {
    "scrolled": true
   },
   "outputs": [
    {
     "name": "stderr",
     "output_type": "stream",
     "text": [
      "INFO:convex_nn:Pre-Optimization Metrics: Train Set objective: 0.5, Train Set grad_norm: 0.1662019044160843, Train Set base_objective: 0.5, Train Set accuracy: 0.0, Train Set nc_squared_error: 0.5, Test Set nc_accuracy: 0.0, Test Set squared_error: 0.5, group_sparsity: 1.0, \n"
     ]
    },
    {
     "data": {
      "application/vnd.jupyter.widget-view+json": {
       "model_id": "0a171cd4058941d98b04d5e9b3030965",
       "version_major": 2,
       "version_minor": 0
      },
      "text/plain": [
       "Outer al:   0%|          | 0/10000 [00:00<?, ?it/s]"
      ]
     },
     "metadata": {},
     "output_type": "display_data"
    },
    {
     "data": {
      "application/vnd.jupyter.widget-view+json": {
       "model_id": "23ab5e4ec12a477a996d707a79938a59",
       "version_major": 2,
       "version_minor": 0
      },
      "text/plain": [
       "Inner al:   0%|          | 0/10000 [00:00<?, ?it/s]"
      ]
     },
     "metadata": {},
     "output_type": "display_data"
    },
    {
     "name": "stdout",
     "output_type": "stream",
     "text": [
      "Train Set objective: 0.5, Train Set grad_norm: 0.1662019044160843, Train Set base_objective: 0.5, Train Set accuracy: 0.0, Train Set nc_squared_error: 0.5, Test Set nc_accuracy: 0.0, Test Set squared_error: 0.5, group_sparsity: 1.0, \n"
     ]
    },
    {
     "name": "stderr",
     "output_type": "stream",
     "text": [
      "INFO:convex_nn:*Inner* termination criterion satisfied at iteration 10/10000. Exiting *inner* optimization loop.\n"
     ]
    },
    {
     "data": {
      "application/vnd.jupyter.widget-view+json": {
       "model_id": "57fb7b31284a4165976c45f50c3a73ca",
       "version_major": 2,
       "version_minor": 0
      },
      "text/plain": [
       "Inner al:   0%|          | 0/10000 [00:00<?, ?it/s]"
      ]
     },
     "metadata": {},
     "output_type": "display_data"
    },
    {
     "name": "stdout",
     "output_type": "stream",
     "text": [
      "Train Set objective: 0.18489198637753726, Train Set grad_norm: 0.0008515887893736362, Train Set base_objective: 0.17175760650634767, Train Set accuracy: 0.911, Train Set nc_squared_error: 0.1249534454345703, Test Set nc_accuracy: 0.914, Test Set squared_error: 0.13682568359375, group_sparsity: 0.0, \n"
     ]
    },
    {
     "name": "stderr",
     "output_type": "stream",
     "text": [
      "INFO:convex_nn:*Inner* termination criterion satisfied at iteration 4/10000. Exiting *inner* optimization loop.\n"
     ]
    },
    {
     "data": {
      "application/vnd.jupyter.widget-view+json": {
       "model_id": "7e12cf9b0b884d8d87f339f44dd9efd2",
       "version_major": 2,
       "version_minor": 0
      },
      "text/plain": [
       "Inner al:   0%|          | 0/10000 [00:00<?, ?it/s]"
      ]
     },
     "metadata": {},
     "output_type": "display_data"
    },
    {
     "name": "stdout",
     "output_type": "stream",
     "text": [
      "Train Set objective: 0.19026978860050442, Train Set grad_norm: 0.000987596926279366, Train Set base_objective: 0.1766186103820801, Train Set accuracy: 0.911, Train Set nc_squared_error: 0.12726626586914064, Test Set nc_accuracy: 0.914, Test Set squared_error: 0.1386533203125, group_sparsity: 0.0, \n"
     ]
    },
    {
     "name": "stderr",
     "output_type": "stream",
     "text": [
      "INFO:convex_nn:*Inner* termination criterion satisfied at iteration 7/10000. Exiting *inner* optimization loop.\n"
     ]
    },
    {
     "data": {
      "application/vnd.jupyter.widget-view+json": {
       "model_id": "5b825725ecc64c2d9393d9f099943cd0",
       "version_major": 2,
       "version_minor": 0
      },
      "text/plain": [
       "Inner al:   0%|          | 0/10000 [00:00<?, ?it/s]"
      ]
     },
     "metadata": {},
     "output_type": "display_data"
    },
    {
     "name": "stdout",
     "output_type": "stream",
     "text": [
      "Train Set objective: 0.19399142714589834, Train Set grad_norm: 0.0009320243843831122, Train Set base_objective: 0.1828532943725586, Train Set accuracy: 0.911, Train Set nc_squared_error: 0.13165580749511718, Test Set nc_accuracy: 0.914, Test Set squared_error: 0.14112860107421876, group_sparsity: 0.0, \n",
      "Train Set objective: 0.1851553229689598, Train Set grad_norm: 6.113983545219526e-05, Train Set base_objective: 0.17873677444458008, Train Set accuracy: 0.911, Train Set nc_squared_error: 0.12074569702148437, Test Set nc_accuracy: 0.914, Test Set squared_error: 0.13064202880859374, group_sparsity: 0.0, \n",
      "Train Set objective: 0.18146536585316062, Train Set grad_norm: 5.922971831751056e-05, Train Set base_objective: 0.17621133422851562, Train Set accuracy: 0.911, Train Set nc_squared_error: 0.11710907745361328, Test Set nc_accuracy: 0.914, Test Set squared_error: 0.12926026916503905, group_sparsity: 0.0, \n",
      "Train Set objective: 0.1787222210727632, Train Set grad_norm: 3.376676977495663e-05, Train Set base_objective: 0.17435765838623046, Train Set accuracy: 0.911, Train Set nc_squared_error: 0.11523233795166016, Test Set nc_accuracy: 0.914, Test Set squared_error: 0.12887359619140626, group_sparsity: 0.0, \n",
      "Train Set objective: 0.1768398676738143, Train Set grad_norm: 4.100612932234071e-05, Train Set base_objective: 0.17309105682373047, Train Set accuracy: 0.911, Train Set nc_squared_error: 0.11385337829589844, Test Set nc_accuracy: 0.914, Test Set squared_error: 0.12869584655761718, group_sparsity: 0.0, \n",
      "Train Set objective: 0.17547360347770155, Train Set grad_norm: 2.533804035920184e-05, Train Set base_objective: 0.17213333892822266, Train Set accuracy: 0.911, Train Set nc_squared_error: 0.1127935562133789, Test Set nc_accuracy: 0.914, Test Set squared_error: 0.12858769226074218, group_sparsity: 0.0, \n",
      "Train Set objective: 0.1744734976477921, Train Set grad_norm: 1.7696242139209062e-05, Train Set base_objective: 0.1714389762878418, Train Set accuracy: 0.911, Train Set nc_squared_error: 0.11179450225830079, Test Set nc_accuracy: 0.914, Test Set squared_error: 0.12847262573242188, group_sparsity: 0.0, \n",
      "Train Set objective: 0.17374805066548288, Train Set grad_norm: 1.8169706891058013e-05, Train Set base_objective: 0.17092152786254883, Train Set accuracy: 0.911, Train Set nc_squared_error: 0.11114808654785156, Test Set nc_accuracy: 0.914, Test Set squared_error: 0.12843629455566405, group_sparsity: 0.0, \n",
      "Train Set objective: 0.17316719844006, Train Set grad_norm: 9.35115349420812e-06, Train Set base_objective: 0.17051958084106444, Train Set accuracy: 0.911, Train Set nc_squared_error: 0.11037166595458985, Test Set nc_accuracy: 0.914, Test Set squared_error: 0.12816737365722655, group_sparsity: 0.0, \n",
      "Train Set objective: 0.1727000411208719, Train Set grad_norm: 1.079132744052913e-05, Train Set base_objective: 0.17012728881835937, Train Set accuracy: 0.911, Train Set nc_squared_error: 0.1098813018798828, Test Set nc_accuracy: 0.914, Test Set squared_error: 0.12815179443359376, group_sparsity: 0.0, \n",
      "Train Set objective: 0.1723424269128591, Train Set grad_norm: 6.329284133244073e-06, Train Set base_objective: 0.16988184356689454, Train Set accuracy: 0.911, Train Set nc_squared_error: 0.10943338012695313, Test Set nc_accuracy: 0.914, Test Set squared_error: 0.12808042907714845, group_sparsity: 0.0, \n",
      "Train Set objective: 0.17204157206043602, Train Set grad_norm: 3.3771657399483956e-06, Train Set base_objective: 0.1696824188232422, Train Set accuracy: 0.911, Train Set nc_squared_error: 0.10894359588623047, Test Set nc_accuracy: 0.914, Test Set squared_error: 0.12796400451660156, group_sparsity: 0.0, \n",
      "Train Set objective: 0.17178319684043525, Train Set grad_norm: 6.871587174828164e-06, Train Set base_objective: 0.1695057792663574, Train Set accuracy: 0.911, Train Set nc_squared_error: 0.10849275970458984, Test Set nc_accuracy: 0.914, Test Set squared_error: 0.1279155502319336, group_sparsity: 0.0, \n",
      "Train Set objective: 0.1715893208067864, Train Set grad_norm: 3.110141733486671e-06, Train Set base_objective: 0.16938271331787108, Train Set accuracy: 0.911, Train Set nc_squared_error: 0.10813813781738281, Test Set nc_accuracy: 0.914, Test Set squared_error: 0.12783055114746095, group_sparsity: 0.0, \n",
      "Train Set objective: 0.17142740891687572, Train Set grad_norm: 4.070706381753553e-06, Train Set base_objective: 0.16927472686767578, Train Set accuracy: 0.911, Train Set nc_squared_error: 0.10777110290527343, Test Set nc_accuracy: 0.914, Test Set squared_error: 0.12766515350341798, group_sparsity: 0.0, \n",
      "Train Set objective: 0.17128231369517743, Train Set grad_norm: 2.1065377495688153e-06, Train Set base_objective: 0.16918604278564453, Train Set accuracy: 0.911, Train Set nc_squared_error: 0.10748909759521484, Test Set nc_accuracy: 0.914, Test Set squared_error: 0.1275892105102539, group_sparsity: 0.0, \n",
      "Train Set objective: 0.17119020458497108, Train Set grad_norm: 3.858085619867779e-06, Train Set base_objective: 0.16913502502441408, Train Set accuracy: 0.911, Train Set nc_squared_error: 0.10723875427246093, Test Set nc_accuracy: 0.914, Test Set squared_error: 0.12752574920654297, group_sparsity: 0.0, \n",
      "Train Set objective: 0.17112393776327373, Train Set grad_norm: 3.3382477795385057e-06, Train Set base_objective: 0.16910728073120118, Train Set accuracy: 0.911, Train Set nc_squared_error: 0.10700871276855468, Test Set nc_accuracy: 0.914, Test Set squared_error: 0.1274749526977539, group_sparsity: 0.0, \n",
      "Train Set objective: 0.1710607262533158, Train Set grad_norm: 1.2941857221449027e-06, Train Set base_objective: 0.16907236862182617, Train Set accuracy: 0.911, Train Set nc_squared_error: 0.10678732299804687, Test Set nc_accuracy: 0.915, Test Set squared_error: 0.1274039764404297, group_sparsity: 0.0, \n"
     ]
    },
    {
     "name": "stderr",
     "output_type": "stream",
     "text": [
      "INFO:convex_nn:*Inner* termination criterion satisfied at iteration 455/10000. Exiting *inner* optimization loop.\n"
     ]
    },
    {
     "data": {
      "application/vnd.jupyter.widget-view+json": {
       "model_id": "828b0187f21a43a99f9a5c2d2c13de9c",
       "version_major": 2,
       "version_minor": 0
      },
      "text/plain": [
       "Inner al:   0%|          | 0/10000 [00:00<?, ?it/s]"
      ]
     },
     "metadata": {},
     "output_type": "display_data"
    },
    {
     "name": "stdout",
     "output_type": "stream",
     "text": [
      "Train Set objective: 0.17105629049055276, Train Set grad_norm: 9.557605835652794e-07, Train Set base_objective: 0.16907042694091795, Train Set accuracy: 0.911, Train Set nc_squared_error: 0.106775146484375, Test Set nc_accuracy: 0.915, Test Set squared_error: 0.12740185546875, group_sparsity: 0.0, \n",
      "Train Set objective: 0.1754493342116475, Train Set grad_norm: 2.9283864932949655e-06, Train Set base_objective: 0.17235657119750974, Train Set accuracy: 0.911, Train Set nc_squared_error: 0.11002554321289063, Test Set nc_accuracy: 0.914, Test Set squared_error: 0.12926052856445314, group_sparsity: 0.004, \n"
     ]
    },
    {
     "name": "stderr",
     "output_type": "stream",
     "text": [
      "INFO:convex_nn:*Inner* termination criterion satisfied at iteration 43/10000. Exiting *inner* optimization loop.\n"
     ]
    },
    {
     "data": {
      "application/vnd.jupyter.widget-view+json": {
       "model_id": "e3eabd67564a4eba8a2c76d7fd7eab47",
       "version_major": 2,
       "version_minor": 0
      },
      "text/plain": [
       "Inner al:   0%|          | 0/10000 [00:00<?, ?it/s]"
      ]
     },
     "metadata": {},
     "output_type": "display_data"
    },
    {
     "name": "stdout",
     "output_type": "stream",
     "text": [
      "Train Set objective: 0.17537267539277673, Train Set grad_norm: 9.819893875828711e-07, Train Set base_objective: 0.17246174240112305, Train Set accuracy: 0.911, Train Set nc_squared_error: 0.1099749755859375, Test Set nc_accuracy: 0.914, Test Set squared_error: 0.12908831787109376, group_sparsity: 0.005, \n"
     ]
    },
    {
     "name": "stderr",
     "output_type": "stream",
     "text": [
      "INFO:convex_nn:*Inner* termination criterion satisfied at iteration 26/10000. Exiting *inner* optimization loop.\n"
     ]
    },
    {
     "name": "stdout",
     "output_type": "stream",
     "text": [
      "Train Set objective: 0.17654424180835487, Train Set grad_norm: 1.137095978265279e-06, Train Set base_objective: 0.17311466598510744, Train Set accuracy: 0.911, Train Set nc_squared_error: 0.11071348571777344, Test Set nc_accuracy: 0.914, Test Set squared_error: 0.12955947875976562, group_sparsity: 0.003, \n"
     ]
    },
    {
     "data": {
      "application/vnd.jupyter.widget-view+json": {
       "model_id": "6a14f8e4f1744c3bb57dd82665cd4bea",
       "version_major": 2,
       "version_minor": 0
      },
      "text/plain": [
       "Inner al:   0%|          | 0/10000 [00:00<?, ?it/s]"
      ]
     },
     "metadata": {},
     "output_type": "display_data"
    },
    {
     "name": "stdout",
     "output_type": "stream",
     "text": [
      "Train Set objective: 0.17654159318841994, Train Set grad_norm: 9.842644885793561e-07, Train Set base_objective: 0.1731177978515625, Train Set accuracy: 0.911, Train Set nc_squared_error: 0.11071523284912109, Test Set nc_accuracy: 0.914, Test Set squared_error: 0.12955908203125, group_sparsity: 0.004, \n"
     ]
    },
    {
     "name": "stderr",
     "output_type": "stream",
     "text": [
      "INFO:convex_nn:*Inner* termination criterion satisfied at iteration 26/10000. Exiting *inner* optimization loop.\n"
     ]
    },
    {
     "name": "stdout",
     "output_type": "stream",
     "text": [
      "Train Set objective: 0.17711910511925816, Train Set grad_norm: 1.328951498180686e-06, Train Set base_objective: 0.17344150924682616, Train Set accuracy: 0.911, Train Set nc_squared_error: 0.11104469299316407, Test Set nc_accuracy: 0.914, Test Set squared_error: 0.12974008178710938, group_sparsity: 0.009, \n"
     ]
    },
    {
     "data": {
      "application/vnd.jupyter.widget-view+json": {
       "model_id": "94f50bc74431433a9e49cc6061b501ad",
       "version_major": 2,
       "version_minor": 0
      },
      "text/plain": [
       "Inner al:   0%|          | 0/10000 [00:00<?, ?it/s]"
      ]
     },
     "metadata": {},
     "output_type": "display_data"
    },
    {
     "name": "stdout",
     "output_type": "stream",
     "text": [
      "Train Set objective: 0.17711606554500758, Train Set grad_norm: 9.840961183726904e-07, Train Set base_objective: 0.17344643783569336, Train Set accuracy: 0.911, Train Set nc_squared_error: 0.11104752349853515, Test Set nc_accuracy: 0.914, Test Set squared_error: 0.12973971557617187, group_sparsity: 0.008, \n"
     ]
    },
    {
     "name": "stderr",
     "output_type": "stream",
     "text": [
      "INFO:convex_nn:*Inner* termination criterion satisfied at iteration 12/10000. Exiting *inner* optimization loop.\n"
     ]
    },
    {
     "data": {
      "application/vnd.jupyter.widget-view+json": {
       "model_id": "0b43e6d7e52343428a29ba303213c103",
       "version_major": 2,
       "version_minor": 0
      },
      "text/plain": [
       "Inner al:   0%|          | 0/10000 [00:00<?, ?it/s]"
      ]
     },
     "metadata": {},
     "output_type": "display_data"
    },
    {
     "name": "stdout",
     "output_type": "stream",
     "text": [
      "Train Set objective: 0.1774006991572678, Train Set grad_norm: 9.897659083435428e-07, Train Set base_objective: 0.17356625366210937, Train Set accuracy: 0.911, Train Set nc_squared_error: 0.1111716537475586, Test Set nc_accuracy: 0.914, Test Set squared_error: 0.1298031005859375, group_sparsity: 0.025, \n"
     ]
    },
    {
     "name": "stderr",
     "output_type": "stream",
     "text": [
      "INFO:convex_nn:*Inner* termination criterion satisfied at iteration 12/10000. Exiting *inner* optimization loop.\n"
     ]
    },
    {
     "data": {
      "application/vnd.jupyter.widget-view+json": {
       "model_id": "7c988fa670544bba81bb1b311fe8e8d2",
       "version_major": 2,
       "version_minor": 0
      },
      "text/plain": [
       "Inner al:   0%|          | 0/10000 [00:00<?, ?it/s]"
      ]
     },
     "metadata": {},
     "output_type": "display_data"
    },
    {
     "name": "stdout",
     "output_type": "stream",
     "text": [
      "Train Set objective: 0.1775845298320055, Train Set grad_norm: 9.894307595459395e-07, Train Set base_objective: 0.17364847564697267, Train Set accuracy: 0.911, Train Set nc_squared_error: 0.11125405120849609, Test Set nc_accuracy: 0.914, Test Set squared_error: 0.12983805847167967, group_sparsity: 0.058, \n"
     ]
    },
    {
     "name": "stderr",
     "output_type": "stream",
     "text": [
      "INFO:convex_nn:*Outer* termination criterion satisfied at iteration 9/10000. Exiting *outer* optimization loop.\n",
      "INFO:convex_nn:Post-Optimization Metrics: Train Set objective: 0.17770085478201508, Train Set grad_norm: 9.855989446805324e-07, Train Set base_objective: 0.17369752883911133, Train Set accuracy: 0.911, Train Set nc_squared_error: 0.11130221557617187, Test Set nc_accuracy: 0.914, Test Set squared_error: 0.12985650634765625, group_sparsity: 0.129, \n"
     ]
    }
   ],
   "source": [
    "model = ConvexReLU(G)\n",
    "solver = AL(model)\n",
    "relu_model, relu_metrics = optimize_model(\n",
    "    model,\n",
    "    solver,\n",
    "    metrics,\n",
    "    X_train, \n",
    "    y_train, \n",
    "    X_test, \n",
    "    y_test,\n",
    "    regularizer,\n",
    "    verbose=True,\n",
    ")"
   ]
  },
  {
   "cell_type": "code",
   "execution_count": 9,
   "id": "5a122a18",
   "metadata": {},
   "outputs": [
    {
     "data": {
      "text/plain": [
       "0.911"
      ]
     },
     "execution_count": 9,
     "metadata": {},
     "output_type": "execute_result"
    }
   ],
   "source": [
    "np.sum(np.sign(relu_model(X_train)) == y_train) / len(y_train)"
   ]
  },
  {
   "cell_type": "code",
   "execution_count": 10,
   "id": "cf7327ec",
   "metadata": {},
   "outputs": [
    {
     "data": {
      "image/png": "[encoded data removed]",
      "text/plain": [
       "<Figure size 1296x432 with 3 Axes>"
      ]
     },
     "metadata": {
      "needs_background": "light"
     },
     "output_type": "display_data"
    }
   ],
   "source": [
    "fig = plt.figure(figsize=(18,6))\n",
    "spec = fig.add_gridspec(ncols=3, nrows=1)\n",
    "ax0 = fig.add_subplot(spec[0, 0])\n",
    "\n",
    "ax0.plot(np.arange(len(relu_metrics.objective)), \n",
    "         relu_metrics.objective, \n",
    "         label=\"ReLU\", \n",
    "         color=\"#ff7f0e\",\n",
    "         marker=\"^\",\n",
    "         markevery=0.1,\n",
    "         markersize=14,\n",
    "         linewidth=\"3\")\n",
    "\n",
    "ax0.plot(np.arange(len(grelu_metrics.objective)), \n",
    "         grelu_metrics.objective, \n",
    "         label=\"Gated ReLU\", \n",
    "         color=\"#1f77b4\",\n",
    "         marker=\"v\", \n",
    "         markevery=0.1,\n",
    "         markersize=14,\n",
    "         linewidth=\"3\"\n",
    "        )\n",
    "\n",
    "ax0.set_title(\"Training Objective\", fontsize=22)\n",
    "ax0.set_xlabel(\"Iterations\", fontsize=18)\n",
    "\n",
    "ax1 = fig.add_subplot(spec[0, 1])\n",
    "\n",
    "ax1.plot(np.arange(len(relu_metrics.train_accuracy)), \n",
    "         relu_metrics.train_accuracy, \n",
    "         label=\"Relu\", \n",
    "         color=\"#ff7f0e\",\n",
    "         marker=\"^\",\n",
    "         markevery=0.1,\n",
    "         markersize=14,\n",
    "         linewidth=\"3\")\n",
    "\n",
    "ax1.plot(np.arange(len(grelu_metrics.train_accuracy)), \n",
    "         grelu_metrics.train_accuracy, \n",
    "         label=\"Gated ReLU\", \n",
    "         color=\"#1f77b4\",\n",
    "         marker=\"v\", \n",
    "         markevery=0.1,\n",
    "         markersize=14,\n",
    "         linewidth=\"3\"\n",
    "        )\n",
    "\n",
    "ax1.set_title(\"Training Accuracy\", fontsize=22)\n",
    "ax1.set_xlabel(\"Iterations\", fontsize=18)\n",
    "\n",
    "ax2 = fig.add_subplot(spec[0, 2])\n",
    "\n",
    "\n",
    "ax2.plot(np.arange(len(relu_metrics.test_accuracy)), \n",
    "         relu_metrics.test_accuracy, \n",
    "         label=\"Relu\", \n",
    "         color=\"#ff7f0e\",\n",
    "         marker=\"^\",\n",
    "         markevery=0.1,\n",
    "         markersize=14,\n",
    "         linewidth=\"3\")\n",
    "\n",
    "ax2.plot(np.arange(len(grelu_metrics.test_accuracy)), \n",
    "         grelu_metrics.test_accuracy, \n",
    "         label=\"Gated ReLU\", \n",
    "         color=\"#1f77b4\",\n",
    "         marker=\"v\", \n",
    "         markevery=0.1,\n",
    "         markersize=14,\n",
    "         linewidth=\"3\"\n",
    "        )\n",
    "\n",
    "ax2.set_title(\"Test Accuracy\", fontsize=22)\n",
    "ax2.set_xlabel(\"Iterations\", fontsize=18)\n",
    "handles, labels = ax0.get_legend_handles_labels()\n",
    "legend = fig.legend(\n",
    "    handles=handles,\n",
    "    labels=labels,\n",
    "    loc=\"lower center\",\n",
    "    borderaxespad=0.1,\n",
    "    fancybox=False,\n",
    "    shadow=False,\n",
    "    ncol=2,\n",
    "    fontsize=16,\n",
    "    frameon=False,\n",
    ")\n",
    "fig.subplots_adjust(\n",
    "    bottom=0.15,\n",
    ")"
   ]
  },
  {
   "cell_type": "code",
   "execution_count": null,
   "id": "66d1863b",
   "metadata": {},
   "outputs": [],
   "source": []
  }
 ],
 "metadata": {
  "kernelspec": {
   "display_name": "Python 3",
   "language": "python",
   "name": "python3"
  },
  "language_info": {
   "codemirror_mode": {
    "name": "ipython",
    "version": 3
   },
   "file_extension": ".py",
   "mimetype": "text/x-python",
   "name": "python",
   "nbconvert_exporter": "python",
   "pygments_lexer": "ipython3",
   "version": "3.9.9"
  }
 },
 "nbformat": 4,
 "nbformat_minor": 5
}
