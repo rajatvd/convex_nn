{
 "cells": [
  {
   "cell_type": "code",
   "execution_count": 1,
   "id": "750474ec",
   "metadata": {},
   "outputs": [],
   "source": [
    "\"\"\"\n",
    "Train convex LassoNet models on a synthetic classification dataset using conve|x optimization.\n",
    "\"\"\"\n",
    "\n",
    "import sys\n",
    "sys.path.append(\"..\")"
   ]
  },
  {
   "cell_type": "code",
   "execution_count": 2,
   "id": "6284d725",
   "metadata": {},
   "outputs": [],
   "source": [
    "import numpy as np\n",
    "import matplotlib.pyplot as plt\n",
    "\n",
    "from convex_nn.private.utils.data import gen_classification_data\n",
    "\n",
    "\n",
    "from convex_nn.models import ConvexGatedReLU, ConvexReLU\n",
    "from convex_nn.solvers import RFISTA, AL\n",
    "from convex_nn.regularizers import NeuronGL1\n",
    "from convex_nn.metrics import Metrics\n",
    "from convex_nn.activations import sample_gate_vectors\n",
    "from convex_nn.optimize import optimize_model, optimize"
   ]
  },
  {
   "cell_type": "code",
   "execution_count": 3,
   "id": "bf47351b",
   "metadata": {},
   "outputs": [],
   "source": [
    "# Generate realizable synthetic classification problem (ie. Figure 1)\n",
    "n_train = 1000\n",
    "n_test = 1000\n",
    "d = 50\n",
    "hidden_units = 100\n",
    "kappa = 10  # condition number\n",
    "\n",
    "(X_train, y_train), (X_test, y_test) = gen_classification_data(123, n_train, n_test, d, hidden_units, kappa)"
   ]
  },
  {
   "cell_type": "code",
   "execution_count": 4,
   "id": "4dd5ec91",
   "metadata": {},
   "outputs": [],
   "source": [
    "lam = 0.001\n",
    "max_neurons = 500"
   ]
  },
  {
   "cell_type": "code",
   "execution_count": 6,
   "id": "c20ec14f",
   "metadata": {},
   "outputs": [
    {
     "name": "stderr",
     "output_type": "stream",
     "text": [
      "INFO:convex_nn:Pre-Optimization Metrics: Train Set objective: 0.5, Train Set grad_norm: 0.08252203464508057, Train Set base_objective: 0.5, Train Set accuracy: 0.0, Test Set nc_accuracy: 0.0, group_sparsity: 1.0, \n"
     ]
    },
    {
     "data": {
      "application/vnd.jupyter.widget-view+json": {
       "model_id": "aa7c36ac7acb40b98dd181dd78046f43",
       "version_major": 2,
       "version_minor": 0
      },
      "text/plain": [
       "fista:   0%|          | 0/10000 [00:00<?, ?it/s]"
      ]
     },
     "metadata": {},
     "output_type": "display_data"
    },
    {
     "name": "stdout",
     "output_type": "stream",
     "text": [
      "Train Set objective: 0.5, Train Set grad_norm: 0.08252203464508057, Train Set base_objective: 0.5, Train Set accuracy: 0.0, Test Set nc_accuracy: 0.0, group_sparsity: 1.0, \n",
      "Train Set objective: 0.20554351806640625, Train Set grad_norm: 0.01135412510484457, Train Set base_objective: 0.20554351806640625, Train Set accuracy: 0.949999988079071, Test Set nc_accuracy: 0.9120000004768372, group_sparsity: 0.0, \n",
      "Train Set objective: 0.1671169102191925, Train Set grad_norm: 0.0030854204669594765, Train Set base_objective: 0.1671169102191925, Train Set accuracy: 0.9340000152587891, Test Set nc_accuracy: 0.9259999990463257, group_sparsity: 0.0, \n",
      "Train Set objective: 0.15418946743011475, Train Set grad_norm: 0.001024787430651486, Train Set base_objective: 0.15418946743011475, Train Set accuracy: 0.9359999895095825, Test Set nc_accuracy: 0.9259999990463257, group_sparsity: 0.0, \n",
      "Train Set objective: 0.1473623514175415, Train Set grad_norm: 0.0007096211775206029, Train Set base_objective: 0.1473623514175415, Train Set accuracy: 0.9449999928474426, Test Set nc_accuracy: 0.9279999732971191, group_sparsity: 0.0, \n",
      "Train Set objective: 0.14172399044036865, Train Set grad_norm: 0.0005184553447179496, Train Set base_objective: 0.14172399044036865, Train Set accuracy: 0.9570000171661377, Test Set nc_accuracy: 0.9290000200271606, group_sparsity: 0.0, \n",
      "Train Set objective: 0.13651645183563232, Train Set grad_norm: 0.00034717953531071544, Train Set base_objective: 0.13651645183563232, Train Set accuracy: 0.9729999899864197, Test Set nc_accuracy: 0.9300000071525574, group_sparsity: 0.0, \n",
      "Train Set objective: 0.131902813911438, Train Set grad_norm: 0.00021427149476949126, Train Set base_objective: 0.131902813911438, Train Set accuracy: 0.9810000061988831, Test Set nc_accuracy: 0.9350000023841858, group_sparsity: 0.0, \n",
      "Train Set objective: 0.12808042764663696, Train Set grad_norm: 0.00012385830632410944, Train Set base_objective: 0.12808042764663696, Train Set accuracy: 0.9919999837875366, Test Set nc_accuracy: 0.9359999895095825, group_sparsity: 0.0, \n",
      "Train Set objective: 0.125168576836586, Train Set grad_norm: 7.526679110014811e-05, Train Set base_objective: 0.125168576836586, Train Set accuracy: 0.9980000257492065, Test Set nc_accuracy: 0.9399999976158142, group_sparsity: 0.0, \n",
      "Train Set objective: 0.12335371971130371, Train Set grad_norm: 5.4237043514149264e-05, Train Set base_objective: 0.12335371971130371, Train Set accuracy: 1.0, Test Set nc_accuracy: 0.9449999928474426, group_sparsity: 0.0, \n",
      "Train Set objective: 0.12229552865028381, Train Set grad_norm: 2.2536183678312227e-05, Train Set base_objective: 0.12229552865028381, Train Set accuracy: 1.0, Test Set nc_accuracy: 0.9449999928474426, group_sparsity: 0.0, \n",
      "Train Set objective: 0.12176530063152313, Train Set grad_norm: 1.7601048966753297e-05, Train Set base_objective: 0.12176530063152313, Train Set accuracy: 1.0, Test Set nc_accuracy: 0.9440000057220459, group_sparsity: 0.0, \n",
      "Train Set objective: 0.1215200424194336, Train Set grad_norm: 1.6925876479945146e-05, Train Set base_objective: 0.1215200424194336, Train Set accuracy: 1.0, Test Set nc_accuracy: 0.9449999928474426, group_sparsity: 0.0, \n",
      "Train Set objective: 0.12140402942895889, Train Set grad_norm: 1.727380367810838e-05, Train Set base_objective: 0.12140402942895889, Train Set accuracy: 1.0, Test Set nc_accuracy: 0.9440000057220459, group_sparsity: 0.0, \n",
      "Train Set objective: 0.1213131695985794, Train Set grad_norm: 1.6945399693213403e-05, Train Set base_objective: 0.1213131695985794, Train Set accuracy: 1.0, Test Set nc_accuracy: 0.9430000185966492, group_sparsity: 0.0, \n",
      "Train Set objective: 0.12118726968765259, Train Set grad_norm: 1.6447062080260366e-05, Train Set base_objective: 0.12118726968765259, Train Set accuracy: 1.0, Test Set nc_accuracy: 0.9430000185966492, group_sparsity: 0.0, \n",
      "Train Set objective: 0.12101863324642181, Train Set grad_norm: 2.7509800929692574e-05, Train Set base_objective: 0.12101863324642181, Train Set accuracy: 1.0, Test Set nc_accuracy: 0.9440000057220459, group_sparsity: 0.0, \n",
      "Train Set objective: 0.12082546949386597, Train Set grad_norm: 1.259938653674908e-05, Train Set base_objective: 0.12082546949386597, Train Set accuracy: 1.0, Test Set nc_accuracy: 0.9440000057220459, group_sparsity: 0.0, \n",
      "Train Set objective: 0.12066984176635742, Train Set grad_norm: 1.1884023479069583e-05, Train Set base_objective: 0.12066984176635742, Train Set accuracy: 1.0, Test Set nc_accuracy: 0.9440000057220459, group_sparsity: 0.0, \n",
      "Train Set objective: 0.12051533162593842, Train Set grad_norm: 1.1754376828321256e-05, Train Set base_objective: 0.12051533162593842, Train Set accuracy: 1.0, Test Set nc_accuracy: 0.9440000057220459, group_sparsity: 0.0, \n",
      "Train Set objective: 0.12034013867378235, Train Set grad_norm: 1.173554210254224e-05, Train Set base_objective: 0.12034013867378235, Train Set accuracy: 1.0, Test Set nc_accuracy: 0.9440000057220459, group_sparsity: 0.0, \n",
      "Train Set objective: 0.12012597918510437, Train Set grad_norm: 1.1280811122560408e-05, Train Set base_objective: 0.12012597918510437, Train Set accuracy: 1.0, Test Set nc_accuracy: 0.9449999928474426, group_sparsity: 0.0, \n",
      "Train Set objective: 0.1198650524020195, Train Set grad_norm: 1.1081760931119788e-05, Train Set base_objective: 0.1198650524020195, Train Set accuracy: 1.0, Test Set nc_accuracy: 0.9459999799728394, group_sparsity: 0.0, \n",
      "Train Set objective: 0.11958406865596771, Train Set grad_norm: 1.5623743820469826e-05, Train Set base_objective: 0.11958406865596771, Train Set accuracy: 1.0, Test Set nc_accuracy: 0.9459999799728394, group_sparsity: 0.0, \n",
      "Train Set objective: 0.11929751187562943, Train Set grad_norm: 7.562024165963521e-06, Train Set base_objective: 0.11929751187562943, Train Set accuracy: 1.0, Test Set nc_accuracy: 0.9449999928474426, group_sparsity: 0.0, \n",
      "Train Set objective: 0.11904846131801605, Train Set grad_norm: 9.864203093457036e-06, Train Set base_objective: 0.11904846131801605, Train Set accuracy: 1.0, Test Set nc_accuracy: 0.9459999799728394, group_sparsity: 0.0, \n",
      "Train Set objective: 0.11882121860980988, Train Set grad_norm: 1.3067596228211187e-05, Train Set base_objective: 0.11882121860980988, Train Set accuracy: 1.0, Test Set nc_accuracy: 0.9459999799728394, group_sparsity: 0.0020000000949949026, \n",
      "Train Set objective: 0.11860527098178864, Train Set grad_norm: 6.4369746723969e-06, Train Set base_objective: 0.11860527098178864, Train Set accuracy: 1.0, Test Set nc_accuracy: 0.9459999799728394, group_sparsity: 0.00800000037997961, \n",
      "Train Set objective: 0.11839456856250763, Train Set grad_norm: 5.663965566782281e-06, Train Set base_objective: 0.11839456856250763, Train Set accuracy: 1.0, Test Set nc_accuracy: 0.9459999799728394, group_sparsity: 0.01600000075995922, \n",
      "Train Set objective: 0.11818411201238632, Train Set grad_norm: 5.5640061873418745e-06, Train Set base_objective: 0.11818411201238632, Train Set accuracy: 1.0, Test Set nc_accuracy: 0.9459999799728394, group_sparsity: 0.019999999552965164, \n",
      "Train Set objective: 0.11797939985990524, Train Set grad_norm: 1.0056056453322526e-05, Train Set base_objective: 0.11797939985990524, Train Set accuracy: 1.0, Test Set nc_accuracy: 0.9459999799728394, group_sparsity: 0.03799999877810478, \n",
      "Train Set objective: 0.11777767539024353, Train Set grad_norm: 6.529010533995461e-06, Train Set base_objective: 0.11777767539024353, Train Set accuracy: 1.0, Test Set nc_accuracy: 0.9459999799728394, group_sparsity: 0.04800000041723251, \n",
      "Train Set objective: 0.11759617924690247, Train Set grad_norm: 6.519381713587791e-06, Train Set base_objective: 0.11759617924690247, Train Set accuracy: 1.0, Test Set nc_accuracy: 0.9459999799728394, group_sparsity: 0.0560000017285347, \n",
      "Train Set objective: 0.11742186546325684, Train Set grad_norm: 5.233574029261945e-06, Train Set base_objective: 0.11742186546325684, Train Set accuracy: 1.0, Test Set nc_accuracy: 0.9459999799728394, group_sparsity: 0.07199999690055847, \n",
      "Train Set objective: 0.11725562810897827, Train Set grad_norm: 4.948103196511511e-06, Train Set base_objective: 0.11725562810897827, Train Set accuracy: 1.0, Test Set nc_accuracy: 0.9449999928474426, group_sparsity: 0.08399999886751175, \n"
     ]
    },
    {
     "name": "stdout",
     "output_type": "stream",
     "text": [
      "Train Set objective: 0.11709718406200409, Train Set grad_norm: 4.3172667574253865e-06, Train Set base_objective: 0.11709718406200409, Train Set accuracy: 1.0, Test Set nc_accuracy: 0.9449999928474426, group_sparsity: 0.09600000083446503, \n",
      "Train Set objective: 0.11694306135177612, Train Set grad_norm: 3.656086846604012e-06, Train Set base_objective: 0.11694306135177612, Train Set accuracy: 1.0, Test Set nc_accuracy: 0.9449999928474426, group_sparsity: 0.1120000034570694, \n",
      "Train Set objective: 0.11679454147815704, Train Set grad_norm: 3.2279076549457386e-06, Train Set base_objective: 0.11679454147815704, Train Set accuracy: 1.0, Test Set nc_accuracy: 0.9440000057220459, group_sparsity: 0.12600000202655792, \n",
      "Train Set objective: 0.11664826422929764, Train Set grad_norm: 3.1884308100416092e-06, Train Set base_objective: 0.11664826422929764, Train Set accuracy: 1.0, Test Set nc_accuracy: 0.9430000185966492, group_sparsity: 0.13600000739097595, \n",
      "Train Set objective: 0.11650378257036209, Train Set grad_norm: 2.9703203381359344e-06, Train Set base_objective: 0.11650378257036209, Train Set accuracy: 1.0, Test Set nc_accuracy: 0.9430000185966492, group_sparsity: 0.15000000596046448, \n",
      "Train Set objective: 0.11636368185281754, Train Set grad_norm: 2.997848241648171e-06, Train Set base_objective: 0.11636368185281754, Train Set accuracy: 1.0, Test Set nc_accuracy: 0.9430000185966492, group_sparsity: 0.15600000321865082, \n",
      "Train Set objective: 0.11622804403305054, Train Set grad_norm: 2.8977553938602796e-06, Train Set base_objective: 0.11622804403305054, Train Set accuracy: 1.0, Test Set nc_accuracy: 0.9430000185966492, group_sparsity: 0.1720000058412552, \n",
      "Train Set objective: 0.11610041558742523, Train Set grad_norm: 2.8212880351929925e-06, Train Set base_objective: 0.11610041558742523, Train Set accuracy: 1.0, Test Set nc_accuracy: 0.9430000185966492, group_sparsity: 0.1860000044107437, \n",
      "Train Set objective: 0.11597781628370285, Train Set grad_norm: 2.7572971248446265e-06, Train Set base_objective: 0.11597781628370285, Train Set accuracy: 1.0, Test Set nc_accuracy: 0.9430000185966492, group_sparsity: 0.19599999487400055, \n",
      "Train Set objective: 0.11585981398820877, Train Set grad_norm: 2.7820392460853327e-06, Train Set base_objective: 0.11585981398820877, Train Set accuracy: 1.0, Test Set nc_accuracy: 0.9430000185966492, group_sparsity: 0.20399999618530273, \n",
      "Train Set objective: 0.11574467271566391, Train Set grad_norm: 2.4933153781603323e-06, Train Set base_objective: 0.11574467271566391, Train Set accuracy: 1.0, Test Set nc_accuracy: 0.9430000185966492, group_sparsity: 0.21799999475479126, \n",
      "Train Set objective: 0.11563476920127869, Train Set grad_norm: 2.3636525838810485e-06, Train Set base_objective: 0.11563476920127869, Train Set accuracy: 1.0, Test Set nc_accuracy: 0.9430000185966492, group_sparsity: 0.23000000417232513, \n",
      "Train Set objective: 0.11552900820970535, Train Set grad_norm: 2.007148395932745e-06, Train Set base_objective: 0.11552900820970535, Train Set accuracy: 1.0, Test Set nc_accuracy: 0.9440000057220459, group_sparsity: 0.24400000274181366, \n",
      "Train Set objective: 0.11542689800262451, Train Set grad_norm: 1.832130124057585e-06, Train Set base_objective: 0.11542689800262451, Train Set accuracy: 1.0, Test Set nc_accuracy: 0.9430000185966492, group_sparsity: 0.24799999594688416, \n",
      "Train Set objective: 0.1153261661529541, Train Set grad_norm: 1.6332204495483893e-06, Train Set base_objective: 0.1153261661529541, Train Set accuracy: 1.0, Test Set nc_accuracy: 0.9440000057220459, group_sparsity: 0.25600001215934753, \n",
      "Train Set objective: 0.11522872745990753, Train Set grad_norm: 1.4485029851130093e-06, Train Set base_objective: 0.11522872745990753, Train Set accuracy: 1.0, Test Set nc_accuracy: 0.9440000057220459, group_sparsity: 0.27000001072883606, \n",
      "Train Set objective: 0.11513535678386688, Train Set grad_norm: 1.2639940223380108e-06, Train Set base_objective: 0.11513535678386688, Train Set accuracy: 1.0, Test Set nc_accuracy: 0.9440000057220459, group_sparsity: 0.28600001335144043, \n",
      "Train Set objective: 0.11504550278186798, Train Set grad_norm: 1.226574795509805e-06, Train Set base_objective: 0.11504550278186798, Train Set accuracy: 1.0, Test Set nc_accuracy: 0.9440000057220459, group_sparsity: 0.2919999957084656, \n",
      "Train Set objective: 0.11495685577392578, Train Set grad_norm: 1.214824010276061e-06, Train Set base_objective: 0.11495685577392578, Train Set accuracy: 1.0, Test Set nc_accuracy: 0.9440000057220459, group_sparsity: 0.30399999022483826, \n",
      "Train Set objective: 0.11486991494894028, Train Set grad_norm: 1.1445449672464747e-06, Train Set base_objective: 0.11486991494894028, Train Set accuracy: 1.0, Test Set nc_accuracy: 0.9440000057220459, group_sparsity: 0.3160000145435333, \n",
      "Train Set objective: 0.1147858202457428, Train Set grad_norm: 1.0728709867180442e-06, Train Set base_objective: 0.1147858202457428, Train Set accuracy: 1.0, Test Set nc_accuracy: 0.9440000057220459, group_sparsity: 0.3319999873638153, \n",
      "Train Set objective: 0.11470459401607513, Train Set grad_norm: 1.138517973231501e-06, Train Set base_objective: 0.11470459401607513, Train Set accuracy: 1.0, Test Set nc_accuracy: 0.9430000185966492, group_sparsity: 0.33799999952316284, \n",
      "Train Set objective: 0.11462400108575821, Train Set grad_norm: 1.062567207554821e-06, Train Set base_objective: 0.11462400108575821, Train Set accuracy: 1.0, Test Set nc_accuracy: 0.9440000057220459, group_sparsity: 0.3540000021457672, \n",
      "Train Set objective: 0.11454857140779495, Train Set grad_norm: 1.1636001318038325e-06, Train Set base_objective: 0.11454857140779495, Train Set accuracy: 1.0, Test Set nc_accuracy: 0.9440000057220459, group_sparsity: 0.36800000071525574, \n",
      "Train Set objective: 0.11447407305240631, Train Set grad_norm: 1.0373341865488328e-06, Train Set base_objective: 0.11447407305240631, Train Set accuracy: 1.0, Test Set nc_accuracy: 0.9440000057220459, group_sparsity: 0.37599998712539673, \n"
     ]
    },
    {
     "name": "stderr",
     "output_type": "stream",
     "text": [
      "INFO:convex_nn:Termination criterion satisfied at iteration 61/10000. Exiting optimization loop.\n",
      "INFO:convex_nn:Post-Optimization Metrics: Train Set objective: 0.11440114676952362, Train Set grad_norm: 9.364478046336444e-07, Train Set base_objective: 0.11440114676952362, Train Set accuracy: 1.0, Test Set nc_accuracy: 0.9449999928474426, group_sparsity: 0.3840000033378601, \n"
     ]
    },
    {
     "name": "stdout",
     "output_type": "stream",
     "text": [
      "Train Set objective: 0.11440114676952362, Train Set grad_norm: 9.364478046336444e-07, Train Set base_objective: 0.11440114676952362, Train Set accuracy: 1.0, Test Set nc_accuracy: 0.9449999928474426, group_sparsity: 0.3840000033378601, \n"
     ]
    }
   ],
   "source": [
    "model, metrics = optimize(\"gated_relu\", \n",
    "                          max_neurons, \n",
    "                          lam, \n",
    "                          X_train, \n",
    "                          y_train, \n",
    "                          X_test, \n",
    "                          y_test, \n",
    "                          verbose=True,  \n",
    "                          device=\"cpu\")"
   ]
  },
  {
   "cell_type": "code",
   "execution_count": 9,
   "id": "e4c0a72a",
   "metadata": {},
   "outputs": [],
   "source": [
    "# Instantiate convex model and other options.\n",
    "G = sample_gate_vectors(np.random.default_rng(123), d, max_neurons)\n",
    "model = ConvexGatedReLU(G)\n",
    "solver = RFISTA(model, tol=1e-8)\n",
    "regularizer = NeuronGL1(lam)\n",
    "metrics = Metrics(metric_freq=25, model_loss=True, train_accuracy=True, train_mse=True, test_mse=True, test_accuracy=True, neuron_sparsity=True)"
   ]
  },
  {
   "cell_type": "code",
   "execution_count": 10,
   "id": "635a0f46",
   "metadata": {
    "scrolled": true
   },
   "outputs": [
    {
     "name": "stderr",
     "output_type": "stream",
     "text": [
      "INFO:convex_nn:Pre-Optimization Metrics: Train Set objective: 0.5, Train Set grad_norm: 0.08310095220804214, Train Set base_objective: 0.5, Train Set accuracy: 0.0, Train Set nc_squared_error: 0.5, Test Set nc_accuracy: 0.0, Test Set squared_error: 0.5, group_sparsity: 1.0, \n"
     ]
    },
    {
     "data": {
      "application/vnd.jupyter.widget-view+json": {
       "model_id": "96351dd5bcf94cfd9a4e86be40facbb1",
       "version_major": 2,
       "version_minor": 0
      },
      "text/plain": [
       "fista:   0%|          | 0/10000 [00:00<?, ?it/s]"
      ]
     },
     "metadata": {},
     "output_type": "display_data"
    },
    {
     "name": "stdout",
     "output_type": "stream",
     "text": [
      "Train Set objective: 0.5, Train Set grad_norm: 0.08310095220804214, Train Set base_objective: 0.5, Train Set accuracy: 0.0, Train Set nc_squared_error: 0.5, Test Set nc_accuracy: 0.0, Test Set squared_error: 0.5, group_sparsity: 1.0, \n",
      "Train Set objective: 0.11960909515619278, Train Set grad_norm: 7.062597433105111e-06, Train Set base_objective: 0.11960909515619278, Train Set accuracy: 1.0, Train Set nc_squared_error: 0.03016858734190464, Test Set nc_accuracy: 0.9399999976158142, Test Set squared_error: 0.11168362200260162, group_sparsity: 0.006000000052154064, \n",
      "Train Set objective: 0.11572559922933578, Train Set grad_norm: 2.001475195356761e-06, Train Set base_objective: 0.11572559922933578, Train Set accuracy: 1.0, Train Set nc_squared_error: 0.029887598007917404, Test Set nc_accuracy: 0.9409999847412109, Test Set squared_error: 0.10983996838331223, group_sparsity: 0.2759999930858612, \n",
      "Train Set objective: 0.11423622071743011, Train Set grad_norm: 8.815756018520915e-07, Train Set base_objective: 0.11423622071743011, Train Set accuracy: 1.0, Train Set nc_squared_error: 0.029603084549307823, Test Set nc_accuracy: 0.9380000233650208, Test Set squared_error: 0.11016993969678879, group_sparsity: 0.5360000133514404, \n",
      "Train Set objective: 0.11376158148050308, Train Set grad_norm: 4.088564153903462e-08, Train Set base_objective: 0.11376158148050308, Train Set accuracy: 1.0, Train Set nc_squared_error: 0.029371002689003944, Test Set nc_accuracy: 0.9399999976158142, Test Set squared_error: 0.11243446171283722, group_sparsity: 0.6499999761581421, \n",
      "Train Set objective: 0.11366850882768631, Train Set grad_norm: 1.787874026604186e-08, Train Set base_objective: 0.11366850882768631, Train Set accuracy: 1.0, Train Set nc_squared_error: 0.029299549758434296, Test Set nc_accuracy: 0.9390000104904175, Test Set squared_error: 0.11467357724905014, group_sparsity: 0.7059999704360962, \n"
     ]
    },
    {
     "name": "stderr",
     "output_type": "stream",
     "text": [
      "INFO:convex_nn:Termination criterion satisfied at iteration 140/10000. Exiting optimization loop.\n",
      "INFO:convex_nn:Post-Optimization Metrics: Train Set objective: 0.11366136372089386, Train Set grad_norm: 9.954113977528323e-09, Train Set base_objective: 0.11366136372089386, Train Set accuracy: 1.0, Train Set nc_squared_error: 0.02936391532421112, Test Set nc_accuracy: 0.9390000104904175, Test Set squared_error: 0.1150580644607544, group_sparsity: 0.7039999961853027, \n"
     ]
    }
   ],
   "source": [
    "grelu_model, grelu_metrics = optimize_model(\n",
    "    model,\n",
    "    solver,\n",
    "    metrics,\n",
    "    X_train, \n",
    "    y_train, \n",
    "    X_test, \n",
    "    y_test,\n",
    "    regularizer,\n",
    "    verbose=True,\n",
    ")"
   ]
  },
  {
   "cell_type": "code",
   "execution_count": null,
   "id": "bffbecf3",
   "metadata": {
    "scrolled": true
   },
   "outputs": [],
   "source": [
    "model = ConvexReLU(G)\n",
    "solver = AL(model)\n",
    "relu_model, relu_metrics = optimize_model(\n",
    "    model,\n",
    "    solver,\n",
    "    metrics,\n",
    "    X_train, \n",
    "    y_train, \n",
    "    X_test, \n",
    "    y_test,\n",
    "    regularizer,\n",
    "    verbose=True,\n",
    ")"
   ]
  },
  {
   "cell_type": "code",
   "execution_count": null,
   "id": "5a122a18",
   "metadata": {},
   "outputs": [],
   "source": [
    "np.sum(np.sign(relu_model(X_train)) == y_train) / len(y_train)"
   ]
  },
  {
   "cell_type": "code",
   "execution_count": null,
   "id": "cf7327ec",
   "metadata": {},
   "outputs": [],
   "source": [
    "fig = plt.figure(figsize=(18,6))\n",
    "spec = fig.add_gridspec(ncols=3, nrows=1)\n",
    "ax0 = fig.add_subplot(spec[0, 0])\n",
    "\n",
    "ax0.plot(np.arange(len(relu_metrics.objective)), \n",
    "         relu_metrics.objective, \n",
    "         label=\"ReLU\", \n",
    "         color=\"#ff7f0e\",\n",
    "         marker=\"^\",\n",
    "         markevery=0.1,\n",
    "         markersize=14,\n",
    "         linewidth=\"3\")\n",
    "\n",
    "ax0.plot(np.arange(len(grelu_metrics.objective)), \n",
    "         grelu_metrics.objective, \n",
    "         label=\"Gated ReLU\", \n",
    "         color=\"#1f77b4\",\n",
    "         marker=\"v\", \n",
    "         markevery=0.1,\n",
    "         markersize=14,\n",
    "         linewidth=\"3\"\n",
    "        )\n",
    "\n",
    "ax0.set_title(\"Training Objective\", fontsize=22)\n",
    "ax0.set_xlabel(\"Iterations\", fontsize=18)\n",
    "\n",
    "ax1 = fig.add_subplot(spec[0, 1])\n",
    "\n",
    "ax1.plot(np.arange(len(relu_metrics.train_accuracy)), \n",
    "         relu_metrics.train_accuracy, \n",
    "         label=\"Relu\", \n",
    "         color=\"#ff7f0e\",\n",
    "         marker=\"^\",\n",
    "         markevery=0.1,\n",
    "         markersize=14,\n",
    "         linewidth=\"3\")\n",
    "\n",
    "ax1.plot(np.arange(len(grelu_metrics.train_accuracy)), \n",
    "         grelu_metrics.train_accuracy, \n",
    "         label=\"Gated ReLU\", \n",
    "         color=\"#1f77b4\",\n",
    "         marker=\"v\", \n",
    "         markevery=0.1,\n",
    "         markersize=14,\n",
    "         linewidth=\"3\"\n",
    "        )\n",
    "\n",
    "ax1.set_title(\"Training Accuracy\", fontsize=22)\n",
    "ax1.set_xlabel(\"Iterations\", fontsize=18)\n",
    "\n",
    "ax2 = fig.add_subplot(spec[0, 2])\n",
    "\n",
    "\n",
    "ax2.plot(np.arange(len(relu_metrics.test_accuracy)), \n",
    "         relu_metrics.test_accuracy, \n",
    "         label=\"Relu\", \n",
    "         color=\"#ff7f0e\",\n",
    "         marker=\"^\",\n",
    "         markevery=0.1,\n",
    "         markersize=14,\n",
    "         linewidth=\"3\")\n",
    "\n",
    "ax2.plot(np.arange(len(grelu_metrics.test_accuracy)), \n",
    "         grelu_metrics.test_accuracy, \n",
    "         label=\"Gated ReLU\", \n",
    "         color=\"#1f77b4\",\n",
    "         marker=\"v\", \n",
    "         markevery=0.1,\n",
    "         markersize=14,\n",
    "         linewidth=\"3\"\n",
    "        )\n",
    "\n",
    "ax2.set_title(\"Test Accuracy\", fontsize=22)\n",
    "ax2.set_xlabel(\"Iterations\", fontsize=18)\n",
    "handles, labels = ax0.get_legend_handles_labels()\n",
    "legend = fig.legend(\n",
    "    handles=handles,\n",
    "    labels=labels,\n",
    "    loc=\"lower center\",\n",
    "    borderaxespad=0.1,\n",
    "    fancybox=False,\n",
    "    shadow=False,\n",
    "    ncol=2,\n",
    "    fontsize=16,\n",
    "    frameon=False,\n",
    ")\n",
    "fig.subplots_adjust(\n",
    "    bottom=0.15,\n",
    ")"
   ]
  },
  {
   "cell_type": "code",
   "execution_count": null,
   "id": "201676b3",
   "metadata": {},
   "outputs": [],
   "source": []
  },
  {
   "cell_type": "code",
   "execution_count": null,
   "id": "0858a91b",
   "metadata": {},
   "outputs": [],
   "source": []
  },
  {
   "cell_type": "code",
   "execution_count": null,
   "id": "d13ac4e6",
   "metadata": {},
   "outputs": [],
   "source": []
  }
 ],
 "metadata": {
  "kernelspec": {
   "display_name": "Python 3",
   "language": "python",
   "name": "python3"
  },
  "language_info": {
   "codemirror_mode": {
    "name": "ipython",
    "version": 3
   },
   "file_extension": ".py",
   "mimetype": "text/x-python",
   "name": "python",
   "nbconvert_exporter": "python",
   "pygments_lexer": "ipython3",
   "version": "3.9.9"
  }
 },
 "nbformat": 4,
 "nbformat_minor": 5
}
