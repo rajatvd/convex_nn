{
 "cells": [
  {
   "cell_type": "code",
   "execution_count": 1,
   "id": "750474ec",
   "metadata": {},
   "outputs": [],
   "source": [
    "\"\"\"\n",
    "Train shallow neural networks on a synthetic classification dataset using convex optimization.\n",
    "\"\"\"\n",
    "\n",
    "import sys\n",
    "sys.path.append(\"..\")"
   ]
  },
  {
   "cell_type": "code",
   "execution_count": 2,
   "id": "6284d725",
   "metadata": {},
   "outputs": [],
   "source": [
    "import numpy as np\n",
    "import matplotlib.pyplot as plt\n",
    "\n",
    "from convex_nn.private.utils.data import gen_classification_data\n",
    "\n",
    "\n",
    "from convex_nn.models import ConvexGatedReLU, ConvexReLU\n",
    "from convex_nn.solvers import RFISTA, AL, LeastSquaresSolver, CVXPYSolver\n",
    "from convex_nn.regularizers import NeuronGL1, L2, L1\n",
    "from convex_nn.metrics import Metrics\n",
    "from convex_nn.activations import sample_gate_vectors\n",
    "from convex_nn.optimize import optimize_model, optimize"
   ]
  },
  {
   "cell_type": "code",
   "execution_count": 3,
   "id": "bf47351b",
   "metadata": {},
   "outputs": [],
   "source": [
    "# Generate realizable synthetic classification problem (ie. Figure 1)\n",
    "n_train = 1000\n",
    "n_test = 1000\n",
    "d = 50\n",
    "hidden_units = 100\n",
    "kappa = 10  # condition number\n",
    "\n",
    "(X_train, y_train), (X_test, y_test) = gen_classification_data(123, n_train, n_test, d, hidden_units, kappa)"
   ]
  },
  {
   "cell_type": "code",
   "execution_count": 4,
   "id": "4dd5ec91",
   "metadata": {},
   "outputs": [],
   "source": [
    "lam = 0.001\n",
    "max_neurons = 500\n",
    "G = sample_gate_vectors(123, d, max_neurons)\n",
    "metrics = Metrics(metric_freq=25, model_loss=True, train_accuracy=True, train_mse=True, test_mse=True, test_accuracy=True, neuron_sparsity=True)"
   ]
  },
  {
   "cell_type": "code",
   "execution_count": 5,
   "id": "c20ec14f",
   "metadata": {},
   "outputs": [
    {
     "name": "stderr",
     "output_type": "stream",
     "text": [
      "INFO:convex_nn:Pre-Optimization Metrics: Train Set objective: 0.5, Train Set grad_norm: 0.007702790706538584, \n"
     ]
    },
    {
     "data": {
      "application/vnd.jupyter.widget-view+json": {
       "model_id": "ee07661ea5b9424f94c99c7308d23b2b",
       "version_major": 2,
       "version_minor": 0
      },
      "text/plain": [
       "fista:   0%|          | 0/10000 [00:00<?, ?it/s]"
      ]
     },
     "metadata": {},
     "output_type": "display_data"
    },
    {
     "name": "stderr",
     "output_type": "stream",
     "text": [
      "INFO:convex_nn:Termination criterion satisfied at iteration 20/10000. Exiting optimization loop.\n",
      "INFO:convex_nn:Post-Optimization Metrics: Train Set objective: 0.4586989605079592, Train Set grad_norm: 9.152438347338347e-07, \n"
     ]
    },
    {
     "name": "stdout",
     "output_type": "stream",
     "text": [
      "Train Set objective: 0.5, Train Set grad_norm: 0.007702790706538584, \n"
     ]
    }
   ],
   "source": [
    "model, _ = optimize(\"gated_relu\", \n",
    "                          max_neurons, \n",
    "                          X_train, \n",
    "                          y_train, \n",
    "                          X_test, \n",
    "                          y_test,\n",
    "                          regularizer = NeuronGL1(0.01),\n",
    "                          verbose=True,  \n",
    "                          device=\"cpu\")"
   ]
  },
  {
   "cell_type": "code",
   "execution_count": 6,
   "id": "e4c0a72a",
   "metadata": {},
   "outputs": [],
   "source": [
    "# Instantiate convex model and other options.\n",
    "model = ConvexGatedReLU(G)\n",
    "solver = RFISTA(model, tol=1e-8)\n",
    "regularizer = NeuronGL1(0.01)"
   ]
  },
  {
   "cell_type": "code",
   "execution_count": 7,
   "id": "635a0f46",
   "metadata": {
    "scrolled": true
   },
   "outputs": [
    {
     "name": "stderr",
     "output_type": "stream",
     "text": [
      "INFO:convex_nn:Pre-Optimization Metrics: Train Set objective: 0.5, Train Set grad_norm: 0.09645779567347587, Train Set base_objective: 0.5, Train Set accuracy: 0.0, Train Set nc_squared_error: 0.5, Test Set nc_accuracy: 0.0, Test Set nc_squared_error: 0.5, group_sparsity: 1.0, \n"
     ]
    },
    {
     "data": {
      "application/vnd.jupyter.widget-view+json": {
       "model_id": "b858d1af9e11447f8b7dfd35a6240200",
       "version_major": 2,
       "version_minor": 0
      },
      "text/plain": [
       "fista:   0%|          | 0/10000 [00:00<?, ?it/s]"
      ]
     },
     "metadata": {},
     "output_type": "display_data"
    },
    {
     "name": "stdout",
     "output_type": "stream",
     "text": [
      "Train Set objective: 0.5, Train Set grad_norm: 0.09645779567347587, Train Set base_objective: 0.5, Train Set accuracy: 0.0, Train Set nc_squared_error: 0.5, Test Set nc_accuracy: 0.0, Test Set nc_squared_error: 0.5, group_sparsity: 1.0, \n",
      "Train Set objective: 0.024476354606861157, Train Set grad_norm: 9.19740494438319e-06, Train Set base_objective: 0.024476354606861157, Train Set accuracy: 1.0, Train Set nc_squared_error: 0.0038714702780028023, Test Set nc_accuracy: 0.934, Test Set nc_squared_error: 0.11726787430446074, group_sparsity: 0.0, \n"
     ]
    },
    {
     "name": "stderr",
     "output_type": "stream",
     "text": [
      "INFO:convex_nn:Termination criterion satisfied at iteration 51/10000. Exiting optimization loop.\n",
      "INFO:convex_nn:Post-Optimization Metrics: Train Set objective: 0.023809798919276523, Train Set grad_norm: 9.662728677344846e-09, Train Set base_objective: 0.023809798919276523, Train Set accuracy: 1.0, Train Set nc_squared_error: 0.004664286956699712, Test Set nc_accuracy: 0.936, Test Set nc_squared_error: 0.11564994285583545, group_sparsity: 0.0, \n"
     ]
    },
    {
     "name": "stdout",
     "output_type": "stream",
     "text": [
      "Train Set objective: 0.023810088246165144, Train Set grad_norm: 1.2431276089396148e-08, Train Set base_objective: 0.023810088246165144, Train Set accuracy: 1.0, Train Set nc_squared_error: 0.004674011020609241, Test Set nc_accuracy: 0.936, Test Set nc_squared_error: 0.11564416046014714, group_sparsity: 0.0, \n"
     ]
    }
   ],
   "source": [
    "grelu_model, grelu_metrics = optimize_model(\n",
    "    model,\n",
    "    solver,\n",
    "    metrics,\n",
    "    X_train, \n",
    "    y_train, \n",
    "    X_test, \n",
    "    y_test,\n",
    "    regularizer=L2(0.001),\n",
    "    verbose=True,\n",
    ")"
   ]
  },
  {
   "cell_type": "code",
   "execution_count": 8,
   "id": "3e728fff",
   "metadata": {},
   "outputs": [
    {
     "data": {
      "text/plain": [
       "1.0"
      ]
     },
     "execution_count": 8,
     "metadata": {},
     "output_type": "execute_result"
    }
   ],
   "source": [
    "# Training Accuracy\n",
    "np.sum(np.sign(grelu_model(X_train)) == y_train) / len(y_train)"
   ]
  },
  {
   "cell_type": "code",
   "execution_count": 9,
   "id": "bffbecf3",
   "metadata": {
    "scrolled": true
   },
   "outputs": [
    {
     "name": "stderr",
     "output_type": "stream",
     "text": [
      "INFO:convex_nn:Pre-Optimization Metrics: Train Set objective: 0.5, Train Set grad_norm: 0.01577874745195641, Train Set base_objective: 0.5, Train Set accuracy: 0.0, Train Set nc_squared_error: 0.5, Test Set nc_accuracy: 0.0, Test Set nc_squared_error: 0.5, group_sparsity: 1.0, \n"
     ]
    },
    {
     "data": {
      "application/vnd.jupyter.widget-view+json": {
       "model_id": "9ed4049220db4e1393ea6e46ca39ab3b",
       "version_major": 2,
       "version_minor": 0
      },
      "text/plain": [
       "Outer al:   0%|          | 0/10000 [00:00<?, ?it/s]"
      ]
     },
     "metadata": {},
     "output_type": "display_data"
    },
    {
     "data": {
      "application/vnd.jupyter.widget-view+json": {
       "model_id": "ee6f92b899c948eb883a62c474d2d16a",
       "version_major": 2,
       "version_minor": 0
      },
      "text/plain": [
       "Inner al:   0%|          | 0/10000 [00:00<?, ?it/s]"
      ]
     },
     "metadata": {},
     "output_type": "display_data"
    },
    {
     "name": "stdout",
     "output_type": "stream",
     "text": [
      "Train Set objective: 0.5, Train Set grad_norm: 0.01577874745195641, Train Set base_objective: 0.5, Train Set accuracy: 0.0, Train Set nc_squared_error: 0.5, Test Set nc_accuracy: 0.0, Test Set nc_squared_error: 0.5, group_sparsity: 1.0, \n"
     ]
    },
    {
     "name": "stderr",
     "output_type": "stream",
     "text": [
      "INFO:convex_nn:*Inner* termination criterion satisfied at iteration 6/10000. Exiting *inner* optimization loop.\n"
     ]
    },
    {
     "data": {
      "application/vnd.jupyter.widget-view+json": {
       "model_id": "dabfdb4ec45746a7b6ae78f08cefc989",
       "version_major": 2,
       "version_minor": 0
      },
      "text/plain": [
       "Inner al:   0%|          | 0/10000 [00:00<?, ?it/s]"
      ]
     },
     "metadata": {},
     "output_type": "display_data"
    },
    {
     "name": "stdout",
     "output_type": "stream",
     "text": [
      "Train Set objective: 0.477008744742761, Train Set grad_norm: 0.0007291383872247101, Train Set base_objective: 0.47448669109999236, Train Set accuracy: 0.949, Train Set nc_squared_error: 0.3852819420110194, Test Set nc_accuracy: 0.918, Test Set nc_squared_error: 0.3969358738583436, group_sparsity: 0.01, \n",
      "Train Set objective: 0.47004540103277004, Train Set grad_norm: 1.3891893329848757e-05, Train Set base_objective: 0.4667193229644051, Train Set accuracy: 0.918, Train Set nc_squared_error: 0.3328006529640424, Test Set nc_accuracy: 0.914, Test Set nc_squared_error: 0.34940306472467186, group_sparsity: 0.312, \n",
      "Train Set objective: 0.4684319075420138, Train Set grad_norm: 5.678191179893996e-06, Train Set base_objective: 0.4653938350304482, Train Set accuracy: 0.917, Train Set nc_squared_error: 0.3269845620824921, Test Set nc_accuracy: 0.914, Test Set nc_squared_error: 0.34510480365434343, group_sparsity: 0.428, \n",
      "Train Set objective: 0.4678577602619429, Train Set grad_norm: 1.7029515189141062e-06, Train Set base_objective: 0.46514220395950645, Train Set accuracy: 0.917, Train Set nc_squared_error: 0.3258580580815833, Test Set nc_accuracy: 0.914, Test Set nc_squared_error: 0.34447110424512484, group_sparsity: 0.483, \n"
     ]
    },
    {
     "name": "stderr",
     "output_type": "stream",
     "text": [
      "INFO:convex_nn:*Inner* termination criterion satisfied at iteration 85/10000. Exiting *inner* optimization loop.\n"
     ]
    },
    {
     "data": {
      "application/vnd.jupyter.widget-view+json": {
       "model_id": "594831fc01e8420b86eb9340c115aa01",
       "version_major": 2,
       "version_minor": 0
      },
      "text/plain": [
       "Inner al:   0%|          | 0/10000 [00:00<?, ?it/s]"
      ]
     },
     "metadata": {},
     "output_type": "display_data"
    },
    {
     "name": "stdout",
     "output_type": "stream",
     "text": [
      "Train Set objective: 0.46776573289005896, Train Set grad_norm: 9.370728590040404e-07, Train Set base_objective: 0.46513461282028845, Train Set accuracy: 0.917, Train Set nc_squared_error: 0.32530468706780774, Test Set nc_accuracy: 0.914, Test Set nc_squared_error: 0.3440577946855895, group_sparsity: 0.498, \n"
     ]
    },
    {
     "name": "stderr",
     "output_type": "stream",
     "text": [
      "INFO:convex_nn:*Inner* termination criterion satisfied at iteration 20/10000. Exiting *inner* optimization loop.\n"
     ]
    },
    {
     "data": {
      "application/vnd.jupyter.widget-view+json": {
       "model_id": "54c586bc5623464d88c2e440f4018ef8",
       "version_major": 2,
       "version_minor": 0
      },
      "text/plain": [
       "Inner al:   0%|          | 0/10000 [00:00<?, ?it/s]"
      ]
     },
     "metadata": {},
     "output_type": "display_data"
    },
    {
     "name": "stdout",
     "output_type": "stream",
     "text": [
      "Train Set objective: 0.4741736039568045, Train Set grad_norm: 9.255161782386187e-07, Train Set base_objective: 0.4684372929889541, Train Set accuracy: 0.911, Train Set nc_squared_error: 0.3321570360507618, Test Set nc_accuracy: 0.914, Test Set nc_squared_error: 0.34924115353960666, group_sparsity: 0.355, \n"
     ]
    },
    {
     "name": "stderr",
     "output_type": "stream",
     "text": [
      "INFO:convex_nn:*Inner* termination criterion satisfied at iteration 23/10000. Exiting *inner* optimization loop.\n"
     ]
    },
    {
     "data": {
      "application/vnd.jupyter.widget-view+json": {
       "model_id": "536b342eccde47439db030b9104ea01b",
       "version_major": 2,
       "version_minor": 0
      },
      "text/plain": [
       "Inner al:   0%|          | 0/10000 [00:00<?, ?it/s]"
      ]
     },
     "metadata": {},
     "output_type": "display_data"
    },
    {
     "name": "stdout",
     "output_type": "stream",
     "text": [
      "Train Set objective: 0.47842182400808986, Train Set grad_norm: 9.161657929050212e-07, Train Set base_objective: 0.47000263436918344, Train Set accuracy: 0.911, Train Set nc_squared_error: 0.33649374385631314, Test Set nc_accuracy: 0.914, Test Set nc_squared_error: 0.35283791933542963, group_sparsity: 0.3, \n",
      "Train Set objective: 0.4816219448614456, Train Set grad_norm: 1.0663642593912203e-06, Train Set base_objective: 0.47102095872892474, Train Set accuracy: 0.911, Train Set nc_squared_error: 0.339283655945618, Test Set nc_accuracy: 0.914, Test Set nc_squared_error: 0.3552562190487098, group_sparsity: 0.264, \n"
     ]
    },
    {
     "name": "stderr",
     "output_type": "stream",
     "text": [
      "INFO:convex_nn:*Inner* termination criterion satisfied at iteration 32/10000. Exiting *inner* optimization loop.\n"
     ]
    },
    {
     "data": {
      "application/vnd.jupyter.widget-view+json": {
       "model_id": "e6ad45224ede4e62b1c679b3a8c35fa5",
       "version_major": 2,
       "version_minor": 0
      },
      "text/plain": [
       "Inner al:   0%|          | 0/10000 [00:00<?, ?it/s]"
      ]
     },
     "metadata": {},
     "output_type": "display_data"
    },
    {
     "name": "stdout",
     "output_type": "stream",
     "text": [
      "Train Set objective: 0.4815549925301791, Train Set grad_norm: 9.670373474563723e-07, Train Set base_objective: 0.47101410874856586, Train Set accuracy: 0.911, Train Set nc_squared_error: 0.339237269433679, Test Set nc_accuracy: 0.914, Test Set nc_squared_error: 0.3552610294149994, group_sparsity: 0.264, \n",
      "Train Set objective: 0.4839201922664227, Train Set grad_norm: 1.1611282034137528e-06, Train Set base_objective: 0.4717100177337279, Train Set accuracy: 0.911, Train Set nc_squared_error: 0.3408085128727992, Test Set nc_accuracy: 0.914, Test Set nc_squared_error: 0.3566491565963904, group_sparsity: 0.267, \n"
     ]
    },
    {
     "name": "stderr",
     "output_type": "stream",
     "text": [
      "INFO:convex_nn:*Inner* termination criterion satisfied at iteration 39/10000. Exiting *inner* optimization loop.\n"
     ]
    },
    {
     "data": {
      "application/vnd.jupyter.widget-view+json": {
       "model_id": "a456a95c1d0b4b4e98221a90d458bf0c",
       "version_major": 2,
       "version_minor": 0
      },
      "text/plain": [
       "Inner al:   0%|          | 0/10000 [00:00<?, ?it/s]"
      ]
     },
     "metadata": {},
     "output_type": "display_data"
    },
    {
     "name": "stdout",
     "output_type": "stream",
     "text": [
      "Train Set objective: 0.4837842949561103, Train Set grad_norm: 9.528840231419502e-07, Train Set base_objective: 0.4717111231621707, Train Set accuracy: 0.911, Train Set nc_squared_error: 0.34064428575955163, Test Set nc_accuracy: 0.914, Test Set nc_squared_error: 0.3565892055152002, group_sparsity: 0.309, \n"
     ]
    },
    {
     "name": "stderr",
     "output_type": "stream",
     "text": [
      "INFO:convex_nn:*Inner* termination criterion satisfied at iteration 26/10000. Exiting *inner* optimization loop.\n"
     ]
    },
    {
     "name": "stdout",
     "output_type": "stream",
     "text": [
      "Train Set objective: 0.4854231304643984, Train Set grad_norm: 1.0868142414454712e-06, Train Set base_objective: 0.47218537609447087, Train Set accuracy: 0.911, Train Set nc_squared_error: 0.34142923168385414, Test Set nc_accuracy: 0.914, Test Set nc_squared_error: 0.3573314464636452, group_sparsity: 0.256, \n"
     ]
    },
    {
     "data": {
      "application/vnd.jupyter.widget-view+json": {
       "model_id": "952335938979431b97c865d2dec3d952",
       "version_major": 2,
       "version_minor": 0
      },
      "text/plain": [
       "Inner al:   0%|          | 0/10000 [00:00<?, ?it/s]"
      ]
     },
     "metadata": {},
     "output_type": "display_data"
    },
    {
     "name": "stdout",
     "output_type": "stream",
     "text": [
      "Train Set objective: 0.48541610052741624, Train Set grad_norm: 9.85642689248515e-07, Train Set base_objective: 0.472190422639006, Train Set accuracy: 0.911, Train Set nc_squared_error: 0.34138313127647574, Test Set nc_accuracy: 0.914, Test Set nc_squared_error: 0.3572876306572284, group_sparsity: 0.31, \n"
     ]
    },
    {
     "name": "stderr",
     "output_type": "stream",
     "text": [
      "INFO:convex_nn:*Inner* termination criterion satisfied at iteration 6/10000. Exiting *inner* optimization loop.\n"
     ]
    },
    {
     "data": {
      "application/vnd.jupyter.widget-view+json": {
       "model_id": "cd4f49ddef1344658b6d2b04afbf69b7",
       "version_major": 2,
       "version_minor": 0
      },
      "text/plain": [
       "Inner al:   0%|          | 0/10000 [00:00<?, ?it/s]"
      ]
     },
     "metadata": {},
     "output_type": "display_data"
    },
    {
     "name": "stdout",
     "output_type": "stream",
     "text": [
      "Train Set objective: 0.4867014288965229, Train Set grad_norm: 9.993769287529552e-07, Train Set base_objective: 0.4724057229596229, Train Set accuracy: 0.911, Train Set nc_squared_error: 0.3419390926309918, Test Set nc_accuracy: 0.914, Test Set nc_squared_error: 0.35777926344362737, group_sparsity: 0.249, \n"
     ]
    },
    {
     "name": "stderr",
     "output_type": "stream",
     "text": [
      "INFO:convex_nn:*Inner* termination criterion satisfied at iteration 8/10000. Exiting *inner* optimization loop.\n"
     ]
    },
    {
     "data": {
      "application/vnd.jupyter.widget-view+json": {
       "model_id": "01daec0c7a5848ec800d8e38207c8d46",
       "version_major": 2,
       "version_minor": 0
      },
      "text/plain": [
       "Inner al:   0%|          | 0/10000 [00:00<?, ?it/s]"
      ]
     },
     "metadata": {},
     "output_type": "display_data"
    },
    {
     "name": "stdout",
     "output_type": "stream",
     "text": [
      "Train Set objective: 0.4878420804746991, Train Set grad_norm: 9.876879036955135e-07, Train Set base_objective: 0.4726863445945765, Train Set accuracy: 0.911, Train Set nc_squared_error: 0.34208181571004415, Test Set nc_accuracy: 0.914, Test Set nc_squared_error: 0.35789390011200706, group_sparsity: 0.248, \n"
     ]
    },
    {
     "name": "stderr",
     "output_type": "stream",
     "text": [
      "INFO:convex_nn:*Inner* termination criterion satisfied at iteration 7/10000. Exiting *inner* optimization loop.\n"
     ]
    },
    {
     "data": {
      "application/vnd.jupyter.widget-view+json": {
       "model_id": "5be0629711ad4959801d9d31b686f290",
       "version_major": 2,
       "version_minor": 0
      },
      "text/plain": [
       "Inner al:   0%|          | 0/10000 [00:00<?, ?it/s]"
      ]
     },
     "metadata": {},
     "output_type": "display_data"
    },
    {
     "name": "stdout",
     "output_type": "stream",
     "text": [
      "Train Set objective: 0.48876002369497235, Train Set grad_norm: 9.98119133643702e-07, Train Set base_objective: 0.4728942353498329, Train Set accuracy: 0.911, Train Set nc_squared_error: 0.3423916535937912, Test Set nc_accuracy: 0.914, Test Set nc_squared_error: 0.3581809999053811, group_sparsity: 0.297, \n"
     ]
    },
    {
     "name": "stderr",
     "output_type": "stream",
     "text": [
      "INFO:convex_nn:*Inner* termination criterion satisfied at iteration 6/10000. Exiting *inner* optimization loop.\n"
     ]
    },
    {
     "data": {
      "application/vnd.jupyter.widget-view+json": {
       "model_id": "ffe2cde616b4425fb0b3f54381423c5e",
       "version_major": 2,
       "version_minor": 0
      },
      "text/plain": [
       "Inner al:   0%|          | 0/10000 [00:00<?, ?it/s]"
      ]
     },
     "metadata": {},
     "output_type": "display_data"
    },
    {
     "name": "stdout",
     "output_type": "stream",
     "text": [
      "Train Set objective: 0.48950451475392054, Train Set grad_norm: 9.977945843387952e-07, Train Set base_objective: 0.4730577763067574, Train Set accuracy: 0.911, Train Set nc_squared_error: 0.34265036084389705, Test Set nc_accuracy: 0.914, Test Set nc_squared_error: 0.3584335087162004, group_sparsity: 0.245, \n"
     ]
    },
    {
     "name": "stderr",
     "output_type": "stream",
     "text": [
      "INFO:convex_nn:*Inner* termination criterion satisfied at iteration 8/10000. Exiting *inner* optimization loop.\n"
     ]
    },
    {
     "data": {
      "application/vnd.jupyter.widget-view+json": {
       "model_id": "d9a4eced1f9342fabc50ebe2b641a3f9",
       "version_major": 2,
       "version_minor": 0
      },
      "text/plain": [
       "Inner al:   0%|          | 0/10000 [00:00<?, ?it/s]"
      ]
     },
     "metadata": {},
     "output_type": "display_data"
    },
    {
     "name": "stderr",
     "output_type": "stream",
     "text": [
      "INFO:convex_nn:*Inner* termination criterion satisfied at iteration 1/10000. Exiting *inner* optimization loop.\n"
     ]
    },
    {
     "name": "stdout",
     "output_type": "stream",
     "text": [
      "Train Set objective: 0.49008008301183337, Train Set grad_norm: 9.378625787712404e-07, Train Set base_objective: 0.47323830840154046, Train Set accuracy: 0.911, Train Set nc_squared_error: 0.3428938451521488, Test Set nc_accuracy: 0.914, Test Set nc_squared_error: 0.35869747902940685, group_sparsity: 0.262, \n"
     ]
    },
    {
     "data": {
      "application/vnd.jupyter.widget-view+json": {
       "model_id": "cedacdcfe39f433fa05f87344f582aa9",
       "version_major": 2,
       "version_minor": 0
      },
      "text/plain": [
       "Inner al:   0%|          | 0/10000 [00:00<?, ?it/s]"
      ]
     },
     "metadata": {},
     "output_type": "display_data"
    },
    {
     "name": "stdout",
     "output_type": "stream",
     "text": [
      "Train Set objective: 0.49051613820339623, Train Set grad_norm: 9.58044068539489e-07, Train Set base_objective: 0.47327117427858845, Train Set accuracy: 0.911, Train Set nc_squared_error: 0.34289560558077253, Test Set nc_accuracy: 0.914, Test Set nc_squared_error: 0.3587032627116887, group_sparsity: 0.756, \n"
     ]
    },
    {
     "name": "stderr",
     "output_type": "stream",
     "text": [
      "INFO:convex_nn:*Inner* termination criterion satisfied at iteration 4/10000. Exiting *inner* optimization loop.\n"
     ]
    },
    {
     "data": {
      "application/vnd.jupyter.widget-view+json": {
       "model_id": "0ec72602b4704cd1bb566f7d8d95a7a0",
       "version_major": 2,
       "version_minor": 0
      },
      "text/plain": [
       "Inner al:   0%|          | 0/10000 [00:00<?, ?it/s]"
      ]
     },
     "metadata": {},
     "output_type": "display_data"
    },
    {
     "name": "stdout",
     "output_type": "stream",
     "text": [
      "Train Set objective: 0.4909019905126688, Train Set grad_norm: 9.825612885325918e-07, Train Set base_objective: 0.47336450842672667, Train Set accuracy: 0.911, Train Set nc_squared_error: 0.3425817249969579, Test Set nc_accuracy: 0.914, Test Set nc_squared_error: 0.35843181833463666, group_sparsity: 0.879, \n"
     ]
    },
    {
     "name": "stderr",
     "output_type": "stream",
     "text": [
      "INFO:convex_nn:*Inner* termination criterion satisfied at iteration 3/10000. Exiting *inner* optimization loop.\n"
     ]
    },
    {
     "data": {
      "application/vnd.jupyter.widget-view+json": {
       "model_id": "8195b1d1d8ef46fbae496b690d2bf354",
       "version_major": 2,
       "version_minor": 0
      },
      "text/plain": [
       "Inner al:   0%|          | 0/10000 [00:00<?, ?it/s]"
      ]
     },
     "metadata": {},
     "output_type": "display_data"
    },
    {
     "name": "stdout",
     "output_type": "stream",
     "text": [
      "Train Set objective: 0.4912048881325105, Train Set grad_norm: 9.649519581195575e-07, Train Set base_objective: 0.4734142422186376, Train Set accuracy: 0.911, Train Set nc_squared_error: 0.3424222549225135, Test Set nc_accuracy: 0.914, Test Set nc_squared_error: 0.3582953372697425, group_sparsity: 0.938, \n"
     ]
    },
    {
     "name": "stderr",
     "output_type": "stream",
     "text": [
      "INFO:convex_nn:*Inner* termination criterion satisfied at iteration 3/10000. Exiting *inner* optimization loop.\n"
     ]
    },
    {
     "data": {
      "application/vnd.jupyter.widget-view+json": {
       "model_id": "16d8e9a3b5c443b8b2c4d5b3e742ef02",
       "version_major": 2,
       "version_minor": 0
      },
      "text/plain": [
       "Inner al:   0%|          | 0/10000 [00:00<?, ?it/s]"
      ]
     },
     "metadata": {},
     "output_type": "display_data"
    },
    {
     "name": "stdout",
     "output_type": "stream",
     "text": [
      "Train Set objective: 0.49146501064200687, Train Set grad_norm: 8.518885289316417e-07, Train Set base_objective: 0.47345469686784913, Train Set accuracy: 0.911, Train Set nc_squared_error: 0.34225527244064985, Test Set nc_accuracy: 0.914, Test Set nc_squared_error: 0.35815717444070205, group_sparsity: 0.957, \n"
     ]
    },
    {
     "name": "stderr",
     "output_type": "stream",
     "text": [
      "INFO:convex_nn:*Inner* termination criterion satisfied at iteration 3/10000. Exiting *inner* optimization loop.\n"
     ]
    },
    {
     "data": {
      "application/vnd.jupyter.widget-view+json": {
       "model_id": "9b79eb1a755a4ebf8a366cd42cbf29ea",
       "version_major": 2,
       "version_minor": 0
      },
      "text/plain": [
       "Inner al:   0%|          | 0/10000 [00:00<?, ?it/s]"
      ]
     },
     "metadata": {},
     "output_type": "display_data"
    },
    {
     "name": "stdout",
     "output_type": "stream",
     "text": [
      "Train Set objective: 0.4916820257358476, Train Set grad_norm: 8.530835662582142e-07, Train Set base_objective: 0.4734917149621507, Train Set accuracy: 0.911, Train Set nc_squared_error: 0.34208028213261504, Test Set nc_accuracy: 0.914, Test Set nc_squared_error: 0.35800576297203973, group_sparsity: 0.958, \n"
     ]
    },
    {
     "name": "stderr",
     "output_type": "stream",
     "text": [
      "INFO:convex_nn:*Inner* termination criterion satisfied at iteration 3/10000. Exiting *inner* optimization loop.\n"
     ]
    },
    {
     "data": {
      "application/vnd.jupyter.widget-view+json": {
       "model_id": "3e02cc6008014c9a8cae13d23738914b",
       "version_major": 2,
       "version_minor": 0
      },
      "text/plain": [
       "Inner al:   0%|          | 0/10000 [00:00<?, ?it/s]"
      ]
     },
     "metadata": {},
     "output_type": "display_data"
    },
    {
     "name": "stderr",
     "output_type": "stream",
     "text": [
      "INFO:convex_nn:*Inner* termination criterion satisfied at iteration 0/10000. Exiting *inner* optimization loop.\n"
     ]
    },
    {
     "name": "stdout",
     "output_type": "stream",
     "text": [
      "Train Set objective: 0.49186233396706747, Train Set grad_norm: 8.321055835093893e-07, Train Set base_objective: 0.47351794766365607, Train Set accuracy: 0.911, Train Set nc_squared_error: 0.34189718532738783, Test Set nc_accuracy: 0.914, Test Set nc_squared_error: 0.35785404556529565, group_sparsity: 0.96, \n"
     ]
    },
    {
     "data": {
      "application/vnd.jupyter.widget-view+json": {
       "model_id": "a18b2f59131d40c282fbb2106c1567be",
       "version_major": 2,
       "version_minor": 0
      },
      "text/plain": [
       "Inner al:   0%|          | 0/10000 [00:00<?, ?it/s]"
      ]
     },
     "metadata": {},
     "output_type": "display_data"
    },
    {
     "name": "stdout",
     "output_type": "stream",
     "text": [
      "Train Set objective: 0.49186233396706747, Train Set grad_norm: 8.321055835093893e-07, Train Set base_objective: 0.47351794766365607, Train Set accuracy: 0.911, Train Set nc_squared_error: 0.34189718532738783, Test Set nc_accuracy: 0.914, Test Set nc_squared_error: 0.35785404556529565, group_sparsity: 0.96, \n"
     ]
    },
    {
     "name": "stderr",
     "output_type": "stream",
     "text": [
      "INFO:convex_nn:*Inner* termination criterion satisfied at iteration 2/10000. Exiting *inner* optimization loop.\n"
     ]
    },
    {
     "data": {
      "application/vnd.jupyter.widget-view+json": {
       "model_id": "ce4f330330c64d0d8904d2858735805d",
       "version_major": 2,
       "version_minor": 0
      },
      "text/plain": [
       "Inner al:   0%|          | 0/10000 [00:00<?, ?it/s]"
      ]
     },
     "metadata": {},
     "output_type": "display_data"
    },
    {
     "name": "stdout",
     "output_type": "stream",
     "text": [
      "Train Set objective: 0.49219160882009727, Train Set grad_norm: 9.304389930700298e-07, Train Set base_objective: 0.4735524440694199, Train Set accuracy: 0.911, Train Set nc_squared_error: 0.3418370445276563, Test Set nc_accuracy: 0.914, Test Set nc_squared_error: 0.35780351429634877, group_sparsity: 0.961, \n"
     ]
    },
    {
     "name": "stderr",
     "output_type": "stream",
     "text": [
      "INFO:convex_nn:*Inner* termination criterion satisfied at iteration 3/10000. Exiting *inner* optimization loop.\n"
     ]
    },
    {
     "data": {
      "application/vnd.jupyter.widget-view+json": {
       "model_id": "e9a6c6731cf649ae8dba2f30b3105928",
       "version_major": 2,
       "version_minor": 0
      },
      "text/plain": [
       "Inner al:   0%|          | 0/10000 [00:00<?, ?it/s]"
      ]
     },
     "metadata": {},
     "output_type": "display_data"
    },
    {
     "name": "stderr",
     "output_type": "stream",
     "text": [
      "INFO:convex_nn:*Inner* termination criterion satisfied at iteration 0/10000. Exiting *inner* optimization loop.\n"
     ]
    },
    {
     "name": "stdout",
     "output_type": "stream",
     "text": [
      "Train Set objective: 0.4923156803099733, Train Set grad_norm: 7.376075925812217e-07, Train Set base_objective: 0.4735784852192172, Train Set accuracy: 0.911, Train Set nc_squared_error: 0.3417198083111215, Test Set nc_accuracy: 0.914, Test Set nc_squared_error: 0.35770503578739055, group_sparsity: 0.962, \n"
     ]
    },
    {
     "data": {
      "application/vnd.jupyter.widget-view+json": {
       "model_id": "600e532b13ac41da842f9c6039c8871b",
       "version_major": 2,
       "version_minor": 0
      },
      "text/plain": [
       "Inner al:   0%|          | 0/10000 [00:00<?, ?it/s]"
      ]
     },
     "metadata": {},
     "output_type": "display_data"
    },
    {
     "name": "stdout",
     "output_type": "stream",
     "text": [
      "Train Set objective: 0.4923156803099733, Train Set grad_norm: 7.376075925812217e-07, Train Set base_objective: 0.4735784852192172, Train Set accuracy: 0.911, Train Set nc_squared_error: 0.3417198083111215, Test Set nc_accuracy: 0.914, Test Set nc_squared_error: 0.35770503578739055, group_sparsity: 0.962, \n"
     ]
    },
    {
     "name": "stderr",
     "output_type": "stream",
     "text": [
      "INFO:convex_nn:*Outer* termination criterion satisfied at iteration 22/10000. Exiting *outer* optimization loop.\n",
      "INFO:convex_nn:Post-Optimization Metrics: Train Set objective: 0.4925336727826379, Train Set grad_norm: 7.136124583400142e-07, Train Set base_objective: 0.47360463827748406, Train Set accuracy: 0.911, Train Set nc_squared_error: 0.3416042209198046, Test Set nc_accuracy: 0.914, Test Set nc_squared_error: 0.3576167150722869, group_sparsity: 0.964, \n"
     ]
    }
   ],
   "source": [
    "model = ConvexReLU(G)\n",
    "solver = AL(model      )\n",
    "relu_model, relu_metrics = optimize_model(\n",
    "    model,\n",
    "    solver,\n",
    "    metrics,\n",
    "    X_train, \n",
    "    y_train, \n",
    "    X_test, \n",
    "    y_test,\n",
    "    regularizer,\n",
    "    verbose=True,\n",
    ")"
   ]
  },
  {
   "cell_type": "code",
   "execution_count": 10,
   "id": "5a122a18",
   "metadata": {},
   "outputs": [
    {
     "data": {
      "text/plain": [
       "0.911"
      ]
     },
     "execution_count": 10,
     "metadata": {},
     "output_type": "execute_result"
    }
   ],
   "source": [
    "# Training Accuracy\n",
    "np.sum(np.sign(relu_model(X_train)) == y_train) / len(y_train)"
   ]
  },
  {
   "cell_type": "code",
   "execution_count": 11,
   "id": "cf7327ec",
   "metadata": {},
   "outputs": [
    {
     "data": {
      "image/png": "[encoded data removed]",
      "text/plain": [
       "<Figure size 1296x432 with 3 Axes>"
      ]
     },
     "metadata": {
      "needs_background": "light"
     },
     "output_type": "display_data"
    }
   ],
   "source": [
    "fig = plt.figure(figsize=(18,6))\n",
    "spec = fig.add_gridspec(ncols=3, nrows=1)\n",
    "ax0 = fig.add_subplot(spec[0, 0])\n",
    "\n",
    "ax0.plot(np.arange(len(relu_metrics.objective)), \n",
    "         relu_metrics.objective, \n",
    "         label=\"ReLU\", \n",
    "         color=\"#ff7f0e\",\n",
    "         marker=\"^\",\n",
    "         markevery=0.1,\n",
    "         markersize=14,\n",
    "         linewidth=\"3\")\n",
    "\n",
    "ax0.plot(np.arange(len(grelu_metrics.objective)), \n",
    "         grelu_metrics.objective, \n",
    "         label=\"Gated ReLU\", \n",
    "         color=\"#1f77b4\",\n",
    "         marker=\"v\", \n",
    "         markevery=0.1,\n",
    "         markersize=14,\n",
    "         linewidth=\"3\"\n",
    "        )\n",
    "\n",
    "ax0.set_title(\"Training Objective\", fontsize=22)\n",
    "ax0.set_xlabel(\"Iterations\", fontsize=18)\n",
    "\n",
    "ax1 = fig.add_subplot(spec[0, 1])\n",
    "\n",
    "ax1.plot(np.arange(len(relu_metrics.train_accuracy)), \n",
    "         relu_metrics.train_accuracy, \n",
    "         label=\"Relu\", \n",
    "         color=\"#ff7f0e\",\n",
    "         marker=\"^\",\n",
    "         markevery=0.1,\n",
    "         markersize=14,\n",
    "         linewidth=\"3\")\n",
    "\n",
    "ax1.plot(np.arange(len(grelu_metrics.train_accuracy)), \n",
    "         grelu_metrics.train_accuracy, \n",
    "         label=\"Gated ReLU\", \n",
    "         color=\"#1f77b4\",\n",
    "         marker=\"v\", \n",
    "         markevery=0.1,\n",
    "         markersize=14,\n",
    "         linewidth=\"3\"\n",
    "        )\n",
    "\n",
    "ax1.set_title(\"Training Accuracy\", fontsize=22)\n",
    "ax1.set_xlabel(\"Iterations\", fontsize=18)\n",
    "\n",
    "ax2 = fig.add_subplot(spec[0, 2])\n",
    "\n",
    "\n",
    "ax2.plot(np.arange(len(relu_metrics.test_accuracy)), \n",
    "         relu_metrics.test_accuracy, \n",
    "         label=\"Relu\", \n",
    "         color=\"#ff7f0e\",\n",
    "         marker=\"^\",\n",
    "         markevery=0.1,\n",
    "         markersize=14,\n",
    "         linewidth=\"3\")\n",
    "\n",
    "ax2.plot(np.arange(len(grelu_metrics.test_accuracy)), \n",
    "         grelu_metrics.test_accuracy, \n",
    "         label=\"Gated ReLU\", \n",
    "         color=\"#1f77b4\",\n",
    "         marker=\"v\", \n",
    "         markevery=0.1,\n",
    "         markersize=14,\n",
    "         linewidth=\"3\"\n",
    "        )\n",
    "\n",
    "ax2.set_title(\"Test Accuracy\", fontsize=22)\n",
    "ax2.set_xlabel(\"Iterations\", fontsize=18)\n",
    "handles, labels = ax0.get_legend_handles_labels()\n",
    "legend = fig.legend(\n",
    "    handles=handles,\n",
    "    labels=labels,\n",
    "    loc=\"lower center\",\n",
    "    borderaxespad=0.1,\n",
    "    fancybox=False,\n",
    "    shadow=False,\n",
    "    ncol=2,\n",
    "    fontsize=16,\n",
    "    frameon=False,\n",
    ")\n",
    "fig.subplots_adjust(\n",
    "    bottom=0.15,\n",
    ")"
   ]
  },
  {
   "cell_type": "code",
   "execution_count": 12,
   "id": "0464a6be",
   "metadata": {},
   "outputs": [
    {
     "name": "stderr",
     "output_type": "stream",
     "text": [
      "INFO:convex_nn:Pre-Training Metrics: Train Set objective: 0.5, Train Set grad_norm: 0.09645779567347587, Train Set base_objective: 0.5, Train Set accuracy: 0.0, Train Set nc_squared_error: 0.5, Test Set nc_accuracy: 0.0, Test Set nc_squared_error: 0.5, group_sparsity: 1.0, \n",
      "INFO:convex_nn:Post-Training Metrics: Train Set objective: 0.10596883641351104, Train Set grad_norm: 6.485657554101871e-17, Train Set base_objective: 0.10596883641351104, Train Set accuracy: 0.999, Train Set nc_squared_error: 0.05206110466260934, Test Set nc_accuracy: 0.937, Test Set nc_squared_error: 0.11804876749986895, group_sparsity: 0.0, \n"
     ]
    }
   ],
   "source": [
    "# Super-fast least-squares solver.\n",
    "model = ConvexGatedReLU(G)\n",
    "solver = LeastSquaresSolver(model, tol=1e-8)\n",
    "regularizer = L2(0.01)\n",
    "lstsq_model, lstsq_metrics = optimize_model(\n",
    "    model,\n",
    "    solver,\n",
    "    metrics,\n",
    "    X_train, \n",
    "    y_train, \n",
    "    X_test, \n",
    "    y_test,\n",
    "    regularizer=regularizer,\n",
    "    verbose=True,\n",
    ")"
   ]
  },
  {
   "cell_type": "code",
   "execution_count": 13,
   "id": "35508e63",
   "metadata": {},
   "outputs": [
    {
     "data": {
      "text/plain": [
       "0.998"
      ]
     },
     "execution_count": 13,
     "metadata": {},
     "output_type": "execute_result"
    }
   ],
   "source": [
    "# Training Accuracy\n",
    "np.sum(np.sign(lstsq_model(X_train)) == y_train) / len(y_train)"
   ]
  },
  {
   "cell_type": "code",
   "execution_count": 14,
   "id": "848bc5d0",
   "metadata": {},
   "outputs": [],
   "source": [
    "solver = CVXPYSolver(model, \"mosek\", clean_sol=True)"
   ]
  },
  {
   "cell_type": "code",
   "execution_count": 15,
   "id": "cf622025",
   "metadata": {},
   "outputs": [
    {
     "name": "stderr",
     "output_type": "stream",
     "text": [
      "INFO:convex_nn:Pre-Training Metrics: Train Set objective: 0.5, Train Set grad_norm: 0.007889373725978205, Train Set base_objective: 0.5, Train Set accuracy: 0.0, Train Set nc_squared_error: 0.5, Test Set nc_accuracy: 0.0, Test Set nc_squared_error: 0.5, group_sparsity: 1.0, \n"
     ]
    },
    {
     "name": "stdout",
     "output_type": "stream",
     "text": [
      "===============================================================================\n",
      "                                     CVXPY                                     \n",
      "                                    v1.1.15                                    \n",
      "===============================================================================\n",
      "(CVXPY) Mar 15 06:25:56 PM: Your problem has 25000 variables, 0 constraints, and 0 parameters.\n",
      "(CVXPY) Mar 15 06:25:56 PM: It is compliant with the following grammars: DCP, DQCP\n",
      "(CVXPY) Mar 15 06:25:56 PM: (If you need to solve this problem multiple times, but with different data, consider using parameters.)\n",
      "(CVXPY) Mar 15 06:25:56 PM: CVXPY will first compile your problem; then, it will invoke a numerical solver to obtain a solution.\n",
      "-------------------------------------------------------------------------------\n",
      "                                  Compilation                                  \n",
      "-------------------------------------------------------------------------------\n",
      "(CVXPY) Mar 15 06:25:56 PM: Compiling problem (target solver=MOSEK).\n",
      "(CVXPY) Mar 15 06:25:56 PM: Reduction chain: Dcp2Cone -> CvxAttr2Constr -> ConeMatrixStuffing -> MOSEK\n",
      "(CVXPY) Mar 15 06:25:56 PM: Applying reduction Dcp2Cone\n",
      "(CVXPY) Mar 15 06:25:56 PM: Applying reduction CvxAttr2Constr\n",
      "(CVXPY) Mar 15 06:25:56 PM: Applying reduction ConeMatrixStuffing\n",
      "(CVXPY) Mar 15 06:26:09 PM: Applying reduction MOSEK\n",
      "(CVXPY) Mar 15 06:26:12 PM: Finished problem compilation (took 1.605e+01 seconds).\n",
      "-------------------------------------------------------------------------------\n",
      "                                Numerical solver                               \n",
      "-------------------------------------------------------------------------------\n",
      "(CVXPY) Mar 15 06:26:12 PM: Invoking solver MOSEK  to obtain a solution.\n",
      "\n",
      "\n",
      "Problem\n",
      "  Name                   :                 \n",
      "  Objective sense        : max             \n",
      "  Type                   : CONIC (conic optimization problem)\n",
      "  Constraints            : 26001           \n",
      "  Cones                  : 501             \n",
      "  Scalar variables       : 27502           \n",
      "  Matrix variables       : 0               \n",
      "  Integer variables      : 0               \n",
      "\n",
      "Optimizer started.\n",
      "Problem\n",
      "  Name                   :                 \n",
      "  Objective sense        : max             \n",
      "  Type                   : CONIC (conic optimization problem)\n",
      "  Constraints            : 26001           \n",
      "  Cones                  : 501             \n",
      "  Scalar variables       : 27502           \n",
      "  Matrix variables       : 0               \n",
      "  Integer variables      : 0               \n",
      "\n",
      "Optimizer  - threads                : 12              \n",
      "Optimizer  - solved problem         : the primal      \n",
      "Optimizer  - Constraints            : 25001\n",
      "Optimizer  - Cones                  : 501\n",
      "Optimizer  - Scalar variables       : 26502             conic                  : 26502           \n",
      "Optimizer  - Semi-definite variables: 0                 scalarized             : 0               \n",
      "Factor     - setup time             : 2.32              dense det. time        : 0.62            \n",
      "Factor     - ML order time          : 0.04              GP order time          : 0.00            \n",
      "Factor     - nonzeros before factor : 1.31e+07          after factor           : 1.31e+07        \n",
      "Factor     - dense dim.             : 1002              flops                  : 7.24e+09        \n",
      "ITE PFEAS    DFEAS    GFEAS    PRSTATUS   POBJ              DOBJ              MU       TIME  \n",
      "0   1.0e+00  2.0e+00  7.0e+00  0.00e+00   -1.000000000e+00  5.000000000e+00   1.0e+00  5.26  \n",
      "1   1.3e-01  2.5e-01  1.3e+00  -7.64e-01  1.519160020e+01   1.569642455e+01   1.3e-01  5.57  \n",
      "2   6.3e-02  1.3e-01  8.3e-02  3.57e+00   4.444522556e+00   4.842659478e+00   6.3e-02  5.87  \n",
      "3   3.4e-02  6.8e-02  2.8e-02  3.04e+00   2.197280345e+00   2.300133407e+00   3.4e-02  6.17  \n",
      "4   3.0e-02  6.0e-02  2.2e-02  2.02e+00   1.759116903e+00   1.842778438e+00   3.0e-02  6.48  \n",
      "5   5.6e-03  1.1e-02  2.4e-03  1.75e+00   8.633659910e-01   8.751360252e-01   5.6e-03  7.01  \n",
      "6   1.8e-03  3.7e-03  5.0e-04  7.41e-01   7.048722703e-01   7.095012676e-01   1.8e-03  7.31  \n",
      "7   7.8e-04  1.6e-03  1.6e-04  7.18e-01   6.197543577e-01   6.221682276e-01   7.8e-04  7.60  \n",
      "8   4.4e-04  8.8e-04  8.3e-05  4.67e-01   5.686664453e-01   5.703922563e-01   4.4e-04  7.91  \n",
      "9   2.2e-04  4.3e-04  2.6e-05  7.43e-01   5.357136168e-01   5.366731344e-01   2.2e-04  8.21  \n",
      "10  7.8e-05  1.6e-04  7.1e-06  4.27e-01   4.923301242e-01   4.927746503e-01   7.8e-05  8.50  \n",
      "11  1.2e-05  2.4e-05  3.4e-07  8.92e-01   4.644105046e-01   4.644919951e-01   1.2e-05  9.01  \n",
      "12  6.1e-06  6.5e-05  1.3e-07  8.28e-01   4.606183439e-01   4.606619429e-01   6.1e-06  9.31  \n",
      "13  8.6e-07  8.3e-06  6.9e-09  9.91e-01   4.573398231e-01   4.573458543e-01   8.6e-07  9.67  \n",
      "14  6.4e-08  1.4e-05  1.4e-10  9.93e-01   4.567736001e-01   4.567740570e-01   6.4e-08  10.03 \n",
      "15  3.9e-09  1.9e-04  2.1e-12  9.99e-01   4.567298998e-01   4.567299275e-01   3.9e-09  10.40 \n",
      "16  1.2e-10  2.0e-02  1.1e-14  1.00e+00   4.567271445e-01   4.567271453e-01   1.2e-10  10.92 \n",
      "Optimizer terminated. Time: 11.27   \n",
      "\n",
      "\n",
      "Interior-point solution summary\n",
      "  Problem status  : PRIMAL_AND_DUAL_FEASIBLE\n",
      "  Solution status : OPTIMAL\n",
      "  Primal.  obj: 4.5672714448e-01    nrm: 1e-01    Viol.  con: 2e-10    var: 0e+00    cones: 9e-11  \n",
      "  Dual.    obj: 4.5672714526e-01    nrm: 6e+02    Viol.  con: 0e+00    var: 1e-14    cones: 0e+00  \n",
      "-------------------------------------------------------------------------------\n",
      "                                    Summary                                    \n",
      "-------------------------------------------------------------------------------\n",
      "(CVXPY) Mar 15 06:26:29 PM: Problem status: optimal\n",
      "(CVXPY) Mar 15 06:26:29 PM: Optimal value: 4.567e-01\n",
      "(CVXPY) Mar 15 06:26:29 PM: Compilation took 1.605e+01 seconds\n",
      "(CVXPY) Mar 15 06:26:29 PM: Solver (including time spent in interface) took 1.660e+01 seconds\n"
     ]
    },
    {
     "name": "stderr",
     "output_type": "stream",
     "text": [
      "INFO:convex_nn:Post-Training Metrics: Train Set objective: 0.45672705611933206, Train Set grad_norm: 1.660297451811895e-10, Train Set base_objective: 0.45672705611933206, Train Set accuracy: 0.95, Train Set nc_squared_error: 0.297693501878627, Test Set nc_accuracy: 0.915, Test Set nc_squared_error: 0.32959689646674556, group_sparsity: 0.954, \n"
     ]
    }
   ],
   "source": [
    "# Interior-point solver using CXVPY.\n",
    "model = ConvexGatedReLU(G)\n",
    "solver = CVXPYSolver(model, \"mosek\", clean_sol=True)\n",
    "regularizer = NeuronGL1(0.01)\n",
    "cvxpy_model, cvxpy_metrics = optimize_model(\n",
    "    model,\n",
    "    solver,\n",
    "    metrics,\n",
    "    X_train, \n",
    "    y_train, \n",
    "    X_test, \n",
    "    y_test,\n",
    "    regularizer=regularizer,\n",
    "    verbose=True,\n",
    ")"
   ]
  },
  {
   "cell_type": "code",
   "execution_count": null,
   "id": "cbf685a6",
   "metadata": {},
   "outputs": [],
   "source": []
  }
 ],
 "metadata": {
  "kernelspec": {
   "display_name": "Python 3",
   "language": "python",
   "name": "python3"
  },
  "language_info": {
   "codemirror_mode": {
    "name": "ipython",
    "version": 3
   },
   "file_extension": ".py",
   "mimetype": "text/x-python",
   "name": "python",
   "nbconvert_exporter": "python",
   "pygments_lexer": "ipython3",
   "version": "3.9.9"
  }
 },
 "nbformat": 4,
 "nbformat_minor": 5
}
