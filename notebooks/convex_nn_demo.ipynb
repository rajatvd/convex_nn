{
 "cells": [
  {
   "cell_type": "code",
   "execution_count": 1,
   "id": "750474ec",
   "metadata": {},
   "outputs": [],
   "source": [
    "\"\"\"\n",
    "Train convex LassoNet models on a synthetic classification dataset using conve|x optimization.\n",
    "\"\"\"\n",
    "\n",
    "import sys\n",
    "sys.path.append(\"..\")"
   ]
  },
  {
   "cell_type": "code",
   "execution_count": 2,
   "id": "6284d725",
   "metadata": {},
   "outputs": [],
   "source": [
    "import numpy as np\n",
    "import matplotlib.pyplot as plt\n",
    "\n",
    "from convex_nn.private.utils.data import gen_classification_data\n",
    "\n",
    "\n",
    "from convex_nn.models import ConvexGatedReLU, ConvexReLU\n",
    "from convex_nn.solvers import RFISTA, AL\n",
    "from convex_nn.regularizers import NeuronGL1\n",
    "from convex_nn.metrics import Metrics\n",
    "from convex_nn.activations import sample_gate_vectors\n",
    "from convex_nn.optimize import optimize_model, optimize"
   ]
  },
  {
   "cell_type": "code",
   "execution_count": 3,
   "id": "bf47351b",
   "metadata": {},
   "outputs": [],
   "source": [
    "# Generate realizable synthetic classification problem (ie. Figure 1)\n",
    "n_train = 1000\n",
    "n_test = 1000\n",
    "d = 50\n",
    "hidden_units = 100\n",
    "kappa = 10  # condition number\n",
    "\n",
    "(X_train, y_train), (X_test, y_test) = gen_classification_data(123, n_train, n_test, d, hidden_units, kappa)"
   ]
  },
  {
   "cell_type": "code",
   "execution_count": 4,
   "id": "259ff006",
   "metadata": {},
   "outputs": [],
   "source": [
    "lam = 0.001\n",
    "max_neurons = 500"
   ]
  },
  {
   "cell_type": "code",
   "execution_count": 5,
   "id": "e4c0a72a",
   "metadata": {},
   "outputs": [],
   "source": [
    "# Instantiate convex model and other options.\n",
    "G = sample_gate_vectors(np.random.default_rng(123), d, max_neurons)\n",
    "model = ConvexGatedReLU(G)\n",
    "solver = RFISTA(model)\n",
    "regularizer = NeuronGL1(lam)\n",
    "metrics = Metrics(metric_freq=1, model_loss=True, train_accuracy=True, test_accuracy=True, neuron_sparsity=True)"
   ]
  },
  {
   "cell_type": "code",
   "execution_count": 6,
   "id": "635a0f46",
   "metadata": {
    "scrolled": true
   },
   "outputs": [
    {
     "name": "stderr",
     "output_type": "stream",
     "text": [
      "INFO:convex_nn:Pre-Optimization Metrics: Train Set objective: 0.5, Train Set grad_norm: 0.08310095965862274, Train Set base_objective: 0.5, Train Set accuracy: 0.0, Test Set nc_accuracy: 0.0, group_sparsity: 1.0, \n"
     ]
    },
    {
     "data": {
      "application/vnd.jupyter.widget-view+json": {
       "model_id": "4f02e1ca9a1b44b68a50be73993ed6b6",
       "version_major": 2,
       "version_minor": 0
      },
      "text/plain": [
       "fista:   0%|          | 0/10000 [00:00<?, ?it/s]"
      ]
     },
     "metadata": {},
     "output_type": "display_data"
    },
    {
     "name": "stdout",
     "output_type": "stream",
     "text": [
      "Train Set objective: 0.5, Train Set grad_norm: 0.08310095965862274, Train Set base_objective: 0.5, Train Set accuracy: 0.0, Test Set nc_accuracy: 0.0, group_sparsity: 1.0, \n",
      "Train Set objective: 0.2054232711791992, Train Set grad_norm: 0.011401686817407608, Train Set base_objective: 0.2054232711791992, Train Set accuracy: 0.947, Test Set nc_accuracy: 0.916, group_sparsity: 0.0, \n",
      "Train Set objective: 0.16740042877197264, Train Set grad_norm: 0.003129787277430296, Train Set base_objective: 0.16740042877197264, Train Set accuracy: 0.929, Test Set nc_accuracy: 0.924, group_sparsity: 0.0, \n",
      "Train Set objective: 0.15446463775634767, Train Set grad_norm: 0.0010319395223632455, Train Set base_objective: 0.15446463775634767, Train Set accuracy: 0.937, Test Set nc_accuracy: 0.927, group_sparsity: 0.0, \n",
      "Train Set objective: 0.1476056365966797, Train Set grad_norm: 0.0007143467664718628, Train Set base_objective: 0.1476056365966797, Train Set accuracy: 0.942, Test Set nc_accuracy: 0.928, group_sparsity: 0.0, \n",
      "Train Set objective: 0.14193032455444335, Train Set grad_norm: 0.0005200161831453443, Train Set base_objective: 0.14193032455444335, Train Set accuracy: 0.955, Test Set nc_accuracy: 0.929, group_sparsity: 0.0, \n",
      "Train Set objective: 0.13670190048217773, Train Set grad_norm: 0.0003476000565569848, Train Set base_objective: 0.13670190048217773, Train Set accuracy: 0.965, Test Set nc_accuracy: 0.929, group_sparsity: 0.0, \n",
      "Train Set objective: 0.1320789794921875, Train Set grad_norm: 0.00021433313668239862, Train Set base_objective: 0.1320789794921875, Train Set accuracy: 0.985, Test Set nc_accuracy: 0.931, group_sparsity: 0.0, \n",
      "Train Set objective: 0.12825767517089845, Train Set grad_norm: 0.0001242741127498448, Train Set base_objective: 0.12825767517089845, Train Set accuracy: 0.99, Test Set nc_accuracy: 0.935, group_sparsity: 0.0, \n",
      "Train Set objective: 0.12536653900146486, Train Set grad_norm: 8.353067096322775e-05, Train Set base_objective: 0.12536653900146486, Train Set accuracy: 0.996, Test Set nc_accuracy: 0.937, group_sparsity: 0.0, \n",
      "Train Set objective: 0.12356967163085938, Train Set grad_norm: 4.51117884949781e-05, Train Set base_objective: 0.12356967163085938, Train Set accuracy: 1.0, Test Set nc_accuracy: 0.937, group_sparsity: 0.0, \n",
      "Train Set objective: 0.1225482521057129, Train Set grad_norm: 2.333852171432227e-05, Train Set base_objective: 0.1225482521057129, Train Set accuracy: 1.0, Test Set nc_accuracy: 0.938, group_sparsity: 0.0, \n",
      "Train Set objective: 0.12201684951782227, Train Set grad_norm: 1.8363776689511724e-05, Train Set base_objective: 0.12201684951782227, Train Set accuracy: 1.0, Test Set nc_accuracy: 0.939, group_sparsity: 0.0, \n",
      "Train Set objective: 0.12175949859619141, Train Set grad_norm: 1.743633401929401e-05, Train Set base_objective: 0.12175949859619141, Train Set accuracy: 1.0, Test Set nc_accuracy: 0.94, group_sparsity: 0.0, \n",
      "Train Set objective: 0.12162702560424805, Train Set grad_norm: 1.7342028513667174e-05, Train Set base_objective: 0.12162702560424805, Train Set accuracy: 1.0, Test Set nc_accuracy: 0.94, group_sparsity: 0.0, \n",
      "Train Set objective: 0.12152173233032226, Train Set grad_norm: 1.656397944316268e-05, Train Set base_objective: 0.12152173233032226, Train Set accuracy: 1.0, Test Set nc_accuracy: 0.94, group_sparsity: 0.0, \n",
      "Train Set objective: 0.12138853836059571, Train Set grad_norm: 1.549385160615202e-05, Train Set base_objective: 0.12138853836059571, Train Set accuracy: 1.0, Test Set nc_accuracy: 0.94, group_sparsity: 0.0, \n",
      "Train Set objective: 0.12121812438964844, Train Set grad_norm: 2.303395922353957e-05, Train Set base_objective: 0.12121812438964844, Train Set accuracy: 1.0, Test Set nc_accuracy: 0.94, group_sparsity: 0.0, \n",
      "Train Set objective: 0.12104169273376465, Train Set grad_norm: 1.1716922017512843e-05, Train Set base_objective: 0.12104169273376465, Train Set accuracy: 1.0, Test Set nc_accuracy: 0.94, group_sparsity: 0.0, \n",
      "Train Set objective: 0.12090037155151367, Train Set grad_norm: 1.1209689546376467e-05, Train Set base_objective: 0.12090037155151367, Train Set accuracy: 1.0, Test Set nc_accuracy: 0.94, group_sparsity: 0.0, \n",
      "Train Set objective: 0.12076239013671876, Train Set grad_norm: 1.1331593668728601e-05, Train Set base_objective: 0.12076239013671876, Train Set accuracy: 1.0, Test Set nc_accuracy: 0.941, group_sparsity: 0.0, \n",
      "Train Set objective: 0.12060440063476563, Train Set grad_norm: 1.166773472505156e-05, Train Set base_objective: 0.12060440063476563, Train Set accuracy: 1.0, Test Set nc_accuracy: 0.94, group_sparsity: 0.0, \n",
      "Train Set objective: 0.12040913200378418, Train Set grad_norm: 1.0904172086156905e-05, Train Set base_objective: 0.12040913200378418, Train Set accuracy: 1.0, Test Set nc_accuracy: 0.94, group_sparsity: 0.002, \n",
      "Train Set objective: 0.12016795730590821, Train Set grad_norm: 1.0650930562405847e-05, Train Set base_objective: 0.12016795730590821, Train Set accuracy: 1.0, Test Set nc_accuracy: 0.94, group_sparsity: 0.002, \n",
      "Train Set objective: 0.11990004730224608, Train Set grad_norm: 2.1073596144560724e-05, Train Set base_objective: 0.11990004730224608, Train Set accuracy: 1.0, Test Set nc_accuracy: 0.941, group_sparsity: 0.002, \n",
      "Train Set objective: 0.11960908699035645, Train Set grad_norm: 7.062554232106777e-06, Train Set base_objective: 0.11960908699035645, Train Set accuracy: 1.0, Test Set nc_accuracy: 0.94, group_sparsity: 0.006, \n",
      "Train Set objective: 0.11937041664123535, Train Set grad_norm: 1.3451746781356633e-05, Train Set base_objective: 0.11937041664123535, Train Set accuracy: 1.0, Test Set nc_accuracy: 0.94, group_sparsity: 0.002, \n",
      "Train Set objective: 0.11915701866149903, Train Set grad_norm: 1.4390026080945972e-05, Train Set base_objective: 0.11915701866149903, Train Set accuracy: 1.0, Test Set nc_accuracy: 0.939, group_sparsity: 0.006, \n",
      "Train Set objective: 0.11895326614379884, Train Set grad_norm: 5.642508313030703e-06, Train Set base_objective: 0.11895326614379884, Train Set accuracy: 1.0, Test Set nc_accuracy: 0.939, group_sparsity: 0.014, \n",
      "Train Set objective: 0.11875867080688476, Train Set grad_norm: 5.451417564472649e-06, Train Set base_objective: 0.11875867080688476, Train Set accuracy: 1.0, Test Set nc_accuracy: 0.939, group_sparsity: 0.018, \n",
      "Train Set objective: 0.11856190872192383, Train Set grad_norm: 5.751794560637791e-06, Train Set base_objective: 0.11856190872192383, Train Set accuracy: 1.0, Test Set nc_accuracy: 0.939, group_sparsity: 0.022, \n",
      "Train Set objective: 0.11837178802490234, Train Set grad_norm: 8.953003998612985e-06, Train Set base_objective: 0.11837178802490234, Train Set accuracy: 1.0, Test Set nc_accuracy: 0.939, group_sparsity: 0.038, \n",
      "Train Set objective: 0.11820080947875977, Train Set grad_norm: 1.3604763807961717e-05, Train Set base_objective: 0.11820080947875977, Train Set accuracy: 1.0, Test Set nc_accuracy: 0.941, group_sparsity: 0.048, \n",
      "Train Set objective: 0.11801597595214844, Train Set grad_norm: 7.143033144529909e-06, Train Set base_objective: 0.11801597595214844, Train Set accuracy: 1.0, Test Set nc_accuracy: 0.939, group_sparsity: 0.052, \n",
      "Train Set objective: 0.11785708999633789, Train Set grad_norm: 3.7222137052594917e-06, Train Set base_objective: 0.11785708999633789, Train Set accuracy: 1.0, Test Set nc_accuracy: 0.939, group_sparsity: 0.066, \n",
      "Train Set objective: 0.11770773315429688, Train Set grad_norm: 3.5500572721502976e-06, Train Set base_objective: 0.11770773315429688, Train Set accuracy: 1.0, Test Set nc_accuracy: 0.94, group_sparsity: 0.074, \n",
      "Train Set objective: 0.1175577964782715, Train Set grad_norm: 3.7983286347298417e-06, Train Set base_objective: 0.1175577964782715, Train Set accuracy: 1.0, Test Set nc_accuracy: 0.94, group_sparsity: 0.074, \n",
      "Train Set objective: 0.11740415191650391, Train Set grad_norm: 3.3338512821501354e-06, Train Set base_objective: 0.11740415191650391, Train Set accuracy: 1.0, Test Set nc_accuracy: 0.94, group_sparsity: 0.084, \n",
      "Train Set objective: 0.11724713134765624, Train Set grad_norm: 2.8262650175747694e-06, Train Set base_objective: 0.11724713134765624, Train Set accuracy: 1.0, Test Set nc_accuracy: 0.94, group_sparsity: 0.102, \n",
      "Train Set objective: 0.11708697509765625, Train Set grad_norm: 2.838801719917683e-06, Train Set base_objective: 0.11708697509765625, Train Set accuracy: 1.0, Test Set nc_accuracy: 0.939, group_sparsity: 0.118, \n",
      "Train Set objective: 0.11693432998657227, Train Set grad_norm: 8.91012041392969e-06, Train Set base_objective: 0.11693432998657227, Train Set accuracy: 1.0, Test Set nc_accuracy: 0.94, group_sparsity: 0.13, \n",
      "Train Set objective: 0.1167706527709961, Train Set grad_norm: 3.0516046081174864e-06, Train Set base_objective: 0.1167706527709961, Train Set accuracy: 1.0, Test Set nc_accuracy: 0.939, group_sparsity: 0.148, \n",
      "Train Set objective: 0.11663354682922364, Train Set grad_norm: 2.461587200741633e-06, Train Set base_objective: 0.11663354682922364, Train Set accuracy: 1.0, Test Set nc_accuracy: 0.939, group_sparsity: 0.166, \n"
     ]
    },
    {
     "name": "stdout",
     "output_type": "stream",
     "text": [
      "Train Set objective: 0.1165060043334961, Train Set grad_norm: 2.116067889801343e-06, Train Set base_objective: 0.1165060043334961, Train Set accuracy: 1.0, Test Set nc_accuracy: 0.939, group_sparsity: 0.184, \n",
      "Train Set objective: 0.11638839530944825, Train Set grad_norm: 2.1786242996313376e-06, Train Set base_objective: 0.11638839530944825, Train Set accuracy: 1.0, Test Set nc_accuracy: 0.939, group_sparsity: 0.19, \n",
      "Train Set objective: 0.11627289199829101, Train Set grad_norm: 2.025742105615791e-06, Train Set base_objective: 0.11627289199829101, Train Set accuracy: 1.0, Test Set nc_accuracy: 0.94, group_sparsity: 0.202, \n",
      "Train Set objective: 0.11615989303588867, Train Set grad_norm: 1.8801470105245244e-06, Train Set base_objective: 0.11615989303588867, Train Set accuracy: 1.0, Test Set nc_accuracy: 0.94, group_sparsity: 0.216, \n",
      "Train Set objective: 0.11604559326171875, Train Set grad_norm: 2.05888341042737e-06, Train Set base_objective: 0.11604559326171875, Train Set accuracy: 1.0, Test Set nc_accuracy: 0.94, group_sparsity: 0.232, \n",
      "Train Set objective: 0.1159361686706543, Train Set grad_norm: 3.641283456090605e-06, Train Set base_objective: 0.1159361686706543, Train Set accuracy: 1.0, Test Set nc_accuracy: 0.941, group_sparsity: 0.246, \n",
      "Train Set objective: 0.11582653808593751, Train Set grad_norm: 2.186028495998471e-06, Train Set base_objective: 0.11582653808593751, Train Set accuracy: 1.0, Test Set nc_accuracy: 0.94, group_sparsity: 0.262, \n",
      "Train Set objective: 0.1157255973815918, Train Set grad_norm: 2.0013769699289696e-06, Train Set base_objective: 0.1157255973815918, Train Set accuracy: 1.0, Test Set nc_accuracy: 0.941, group_sparsity: 0.276, \n",
      "Train Set objective: 0.11563047981262206, Train Set grad_norm: 1.6049398254835978e-06, Train Set base_objective: 0.11563047981262206, Train Set accuracy: 1.0, Test Set nc_accuracy: 0.941, group_sparsity: 0.294, \n",
      "Train Set objective: 0.11554272079467774, Train Set grad_norm: 1.4114958730715443e-06, Train Set base_objective: 0.11554272079467774, Train Set accuracy: 1.0, Test Set nc_accuracy: 0.941, group_sparsity: 0.306, \n",
      "Train Set objective: 0.11545853233337403, Train Set grad_norm: 1.157339852397854e-06, Train Set base_objective: 0.11545853233337403, Train Set accuracy: 1.0, Test Set nc_accuracy: 0.941, group_sparsity: 0.326, \n",
      "Train Set objective: 0.11537884902954103, Train Set grad_norm: 1.0667793048924068e-06, Train Set base_objective: 0.11537884902954103, Train Set accuracy: 1.0, Test Set nc_accuracy: 0.941, group_sparsity: 0.34, \n",
      "Train Set objective: 0.11530006408691407, Train Set grad_norm: 1.137439426202036e-06, Train Set base_objective: 0.11530006408691407, Train Set accuracy: 1.0, Test Set nc_accuracy: 0.941, group_sparsity: 0.348, \n",
      "Train Set objective: 0.11522421836853027, Train Set grad_norm: 2.105695784848649e-06, Train Set base_objective: 0.11522421836853027, Train Set accuracy: 1.0, Test Set nc_accuracy: 0.941, group_sparsity: 0.366, \n"
     ]
    },
    {
     "name": "stderr",
     "output_type": "stream",
     "text": [
      "INFO:convex_nn:Termination criterion satisfied at iteration 60/10000. Exiting optimization loop.\n",
      "INFO:convex_nn:Post-Optimization Metrics: Train Set objective: 0.11494963073730469, Train Set grad_norm: 6.577050726264133e-07, Train Set base_objective: 0.11494963073730469, Train Set accuracy: 1.0, Test Set nc_accuracy: 0.939, group_sparsity: 0.416, \n"
     ]
    },
    {
     "name": "stdout",
     "output_type": "stream",
     "text": [
      "Train Set objective: 0.1151543197631836, Train Set grad_norm: 3.5994326026411727e-06, Train Set base_objective: 0.1151543197631836, Train Set accuracy: 1.0, Test Set nc_accuracy: 0.938, group_sparsity: 0.384, \n",
      "Train Set objective: 0.11508137512207031, Train Set grad_norm: 2.5376566554768942e-06, Train Set base_objective: 0.11508137512207031, Train Set accuracy: 1.0, Test Set nc_accuracy: 0.942, group_sparsity: 0.388, \n",
      "Train Set objective: 0.1150115203857422, Train Set grad_norm: 1.0109782806466683e-06, Train Set base_objective: 0.1150115203857422, Train Set accuracy: 1.0, Test Set nc_accuracy: 0.939, group_sparsity: 0.398, \n",
      "Train Set objective: 0.11494963073730469, Train Set grad_norm: 6.577050726264133e-07, Train Set base_objective: 0.11494963073730469, Train Set accuracy: 1.0, Test Set nc_accuracy: 0.939, group_sparsity: 0.416, \n"
     ]
    }
   ],
   "source": [
    "grelu_model, grelu_metrics = optimize_model(\n",
    "    model,\n",
    "    solver,\n",
    "    metrics,\n",
    "    X_train, \n",
    "    y_train, \n",
    "    X_test, \n",
    "    y_test,\n",
    "    regularizer,\n",
    "    verbose=True,\n",
    ")"
   ]
  },
  {
   "cell_type": "code",
   "execution_count": 7,
   "id": "bffbecf3",
   "metadata": {
    "scrolled": true
   },
   "outputs": [
    {
     "name": "stderr",
     "output_type": "stream",
     "text": [
      "INFO:convex_nn:Pre-Optimization Metrics: Train Set objective: 0.5, Train Set grad_norm: 0.1662019044160843, Train Set base_objective: 0.5, Train Set accuracy: 0.0, Test Set nc_accuracy: 0.0, group_sparsity: 1.0, \n"
     ]
    },
    {
     "data": {
      "application/vnd.jupyter.widget-view+json": {
       "model_id": "c9ab3d5f950241fa87210c910cc59d1e",
       "version_major": 2,
       "version_minor": 0
      },
      "text/plain": [
       "Outer al:   0%|          | 0/10000 [00:00<?, ?it/s]"
      ]
     },
     "metadata": {},
     "output_type": "display_data"
    },
    {
     "data": {
      "application/vnd.jupyter.widget-view+json": {
       "model_id": "ae15280c55b240f9890759d5aa84ff61",
       "version_major": 2,
       "version_minor": 0
      },
      "text/plain": [
       "Inner al:   0%|          | 0/10000 [00:00<?, ?it/s]"
      ]
     },
     "metadata": {},
     "output_type": "display_data"
    },
    {
     "name": "stdout",
     "output_type": "stream",
     "text": [
      "Train Set objective: 0.5, Train Set grad_norm: 0.1662019044160843, Train Set base_objective: 0.5, Train Set accuracy: 0.0, Test Set nc_accuracy: 0.0, group_sparsity: 1.0, \n",
      "Train Set objective: 0.4194059988260269, Train Set grad_norm: 0.07088924944400787, Train Set base_objective: 0.37433068656921387, Train Set accuracy: 0.947, Test Set nc_accuracy: 0.581, group_sparsity: 0.0, \n",
      "Train Set objective: 0.37528511124849323, Train Set grad_norm: 0.04448021575808525, Train Set base_objective: 0.35905988502502445, Train Set accuracy: 0.958, Test Set nc_accuracy: 0.88, group_sparsity: 0.0, \n",
      "Train Set objective: 0.33343766897916793, Train Set grad_norm: 0.033510807901620865, Train Set base_objective: 0.30462467193603515, Train Set accuracy: 0.95, Test Set nc_accuracy: 0.907, group_sparsity: 0.0, \n",
      "Train Set objective: 0.29491364404559134, Train Set grad_norm: 0.026287222281098366, Train Set base_objective: 0.27869908332824705, Train Set accuracy: 0.926, Test Set nc_accuracy: 0.924, group_sparsity: 0.0, \n",
      "Train Set objective: 0.26028282737731934, Train Set grad_norm: 0.01600840874016285, Train Set base_objective: 0.23804218864440918, Train Set accuracy: 0.922, Test Set nc_accuracy: 0.921, group_sparsity: 0.0, \n",
      "Train Set objective: 0.2336735854893923, Train Set grad_norm: 0.012679534032940865, Train Set base_objective: 0.21843432998657228, Train Set accuracy: 0.913, Test Set nc_accuracy: 0.914, group_sparsity: 0.0, \n",
      "Train Set objective: 0.21246083870530127, Train Set grad_norm: 0.005724091082811356, Train Set base_objective: 0.19544460296630858, Train Set accuracy: 0.913, Test Set nc_accuracy: 0.914, group_sparsity: 0.0, \n",
      "Train Set objective: 0.19874527481198312, Train Set grad_norm: 0.003088553436100483, Train Set base_objective: 0.18420306396484376, Train Set accuracy: 0.912, Test Set nc_accuracy: 0.914, group_sparsity: 0.0, \n"
     ]
    },
    {
     "name": "stderr",
     "output_type": "stream",
     "text": [
      "INFO:convex_nn:*Inner* termination criterion satisfied at iteration 10/10000. Exiting *inner* optimization loop.\n"
     ]
    },
    {
     "name": "stdout",
     "output_type": "stream",
     "text": [
      "Train Set objective: 0.19003125701099632, Train Set grad_norm: 0.0015134759014472365, Train Set base_objective: 0.17601106643676756, Train Set accuracy: 0.911, Test Set nc_accuracy: 0.914, group_sparsity: 0.0, \n",
      "Train Set objective: 0.18489198637753726, Train Set grad_norm: 0.0008515887893736362, Train Set base_objective: 0.17175760650634767, Train Set accuracy: 0.911, Test Set nc_accuracy: 0.914, group_sparsity: 0.0, \n"
     ]
    },
    {
     "data": {
      "application/vnd.jupyter.widget-view+json": {
       "model_id": "97e7db65e9464f5cb67a67b414f8b161",
       "version_major": 2,
       "version_minor": 0
      },
      "text/plain": [
       "Inner al:   0%|          | 0/10000 [00:00<?, ?it/s]"
      ]
     },
     "metadata": {},
     "output_type": "display_data"
    },
    {
     "name": "stdout",
     "output_type": "stream",
     "text": [
      "Train Set objective: 0.18489198637753726, Train Set grad_norm: 0.0008515887893736362, Train Set base_objective: 0.17175760650634767, Train Set accuracy: 0.911, Test Set nc_accuracy: 0.914, group_sparsity: 0.0, \n",
      "Train Set objective: 0.19398654390871525, Train Set grad_norm: 0.005411545746028423, Train Set base_objective: 0.17737752151489258, Train Set accuracy: 0.911, Test Set nc_accuracy: 0.914, group_sparsity: 0.005, \n",
      "Train Set objective: 0.1922939510345459, Train Set grad_norm: 0.002617055084556341, Train Set base_objective: 0.17571074676513673, Train Set accuracy: 0.911, Test Set nc_accuracy: 0.914, group_sparsity: 0.0, \n"
     ]
    },
    {
     "name": "stderr",
     "output_type": "stream",
     "text": [
      "INFO:convex_nn:*Inner* termination criterion satisfied at iteration 4/10000. Exiting *inner* optimization loop.\n"
     ]
    },
    {
     "name": "stdout",
     "output_type": "stream",
     "text": [
      "Train Set objective: 0.19122074333578348, Train Set grad_norm: 0.0015497180866077542, Train Set base_objective: 0.1767457618713379, Train Set accuracy: 0.911, Test Set nc_accuracy: 0.914, group_sparsity: 0.0, \n",
      "Train Set objective: 0.19026978860050442, Train Set grad_norm: 0.000987596926279366, Train Set base_objective: 0.1766186103820801, Train Set accuracy: 0.911, Test Set nc_accuracy: 0.914, group_sparsity: 0.0, \n"
     ]
    },
    {
     "data": {
      "application/vnd.jupyter.widget-view+json": {
       "model_id": "10a5eef6bcfc4864afe36ad424eb080a",
       "version_major": 2,
       "version_minor": 0
      },
      "text/plain": [
       "Inner al:   0%|          | 0/10000 [00:00<?, ?it/s]"
      ]
     },
     "metadata": {},
     "output_type": "display_data"
    },
    {
     "name": "stdout",
     "output_type": "stream",
     "text": [
      "Train Set objective: 0.19026978860050442, Train Set grad_norm: 0.000987596926279366, Train Set base_objective: 0.1766186103820801, Train Set accuracy: 0.911, Test Set nc_accuracy: 0.914, group_sparsity: 0.0, \n",
      "Train Set objective: 0.20023842497169972, Train Set grad_norm: 0.00814005360007286, Train Set base_objective: 0.18125890350341797, Train Set accuracy: 0.911, Test Set nc_accuracy: 0.914, group_sparsity: 0.004, \n",
      "Train Set objective: 0.19847680808603763, Train Set grad_norm: 0.005199583247303963, Train Set base_objective: 0.1805760040283203, Train Set accuracy: 0.911, Test Set nc_accuracy: 0.914, group_sparsity: 0.0, \n",
      "Train Set objective: 0.19735690566897393, Train Set grad_norm: 0.00269663636572659, Train Set base_objective: 0.18179209518432618, Train Set accuracy: 0.911, Test Set nc_accuracy: 0.914, group_sparsity: 0.0, \n",
      "Train Set objective: 0.1964652518182993, Train Set grad_norm: 0.0017368784174323082, Train Set base_objective: 0.18211380004882813, Train Set accuracy: 0.911, Test Set nc_accuracy: 0.914, group_sparsity: 0.0, \n",
      "Train Set objective: 0.19566622671484948, Train Set grad_norm: 0.0013672095956280828, Train Set base_objective: 0.1824680633544922, Train Set accuracy: 0.911, Test Set nc_accuracy: 0.914, group_sparsity: 0.0, \n",
      "Train Set objective: 0.19485129774361848, Train Set grad_norm: 0.001116790808737278, Train Set base_objective: 0.1827229995727539, Train Set accuracy: 0.911, Test Set nc_accuracy: 0.914, group_sparsity: 0.0, \n"
     ]
    },
    {
     "name": "stderr",
     "output_type": "stream",
     "text": [
      "INFO:convex_nn:*Inner* termination criterion satisfied at iteration 7/10000. Exiting *inner* optimization loop.\n"
     ]
    },
    {
     "name": "stdout",
     "output_type": "stream",
     "text": [
      "Train Set objective: 0.19399142714589834, Train Set grad_norm: 0.0009320243843831122, Train Set base_objective: 0.1828532943725586, Train Set accuracy: 0.911, Test Set nc_accuracy: 0.914, group_sparsity: 0.0, \n"
     ]
    },
    {
     "data": {
      "application/vnd.jupyter.widget-view+json": {
       "model_id": "04e9a40f33494329853a247d9c699fb6",
       "version_major": 2,
       "version_minor": 0
      },
      "text/plain": [
       "Inner al:   0%|          | 0/10000 [00:00<?, ?it/s]"
      ]
     },
     "metadata": {},
     "output_type": "display_data"
    },
    {
     "name": "stdout",
     "output_type": "stream",
     "text": [
      "Train Set objective: 0.19399142714589834, Train Set grad_norm: 0.0009320243843831122, Train Set base_objective: 0.1828532943725586, Train Set accuracy: 0.911, Test Set nc_accuracy: 0.914, group_sparsity: 0.0, \n",
      "Train Set objective: 0.18968790807574987, Train Set grad_norm: 0.004220522008836269, Train Set base_objective: 0.18145121765136718, Train Set accuracy: 0.911, Test Set nc_accuracy: 0.914, group_sparsity: 0.042, \n",
      "Train Set objective: 0.1892149298153818, Train Set grad_norm: 0.0009139136527664959, Train Set base_objective: 0.1817621536254883, Train Set accuracy: 0.911, Test Set nc_accuracy: 0.914, group_sparsity: 0.0, \n",
      "Train Set objective: 0.18899976987019182, Train Set grad_norm: 0.0006233478779904544, Train Set base_objective: 0.1817311897277832, Train Set accuracy: 0.911, Test Set nc_accuracy: 0.914, group_sparsity: 0.0, \n",
      "Train Set objective: 0.1887961914539337, Train Set grad_norm: 0.00043220497900620103, Train Set base_objective: 0.18166124725341795, Train Set accuracy: 0.911, Test Set nc_accuracy: 0.914, group_sparsity: 0.0, \n",
      "Train Set objective: 0.18859193287417292, Train Set grad_norm: 0.00033801645622588694, Train Set base_objective: 0.18155155563354491, Train Set accuracy: 0.911, Test Set nc_accuracy: 0.914, group_sparsity: 0.0, \n",
      "Train Set objective: 0.1883790113888681, Train Set grad_norm: 0.0002945730520877987, Train Set base_objective: 0.18134394454956054, Train Set accuracy: 0.911, Test Set nc_accuracy: 0.914, group_sparsity: 0.0, \n",
      "Train Set objective: 0.18817127902433278, Train Set grad_norm: 0.0003070985258091241, Train Set base_objective: 0.18112662887573241, Train Set accuracy: 0.911, Test Set nc_accuracy: 0.914, group_sparsity: 0.0, \n",
      "Train Set objective: 0.18796645684540272, Train Set grad_norm: 0.00028669697348959744, Train Set base_objective: 0.18082826232910157, Train Set accuracy: 0.911, Test Set nc_accuracy: 0.914, group_sparsity: 0.0, \n",
      "Train Set objective: 0.18778112521767615, Train Set grad_norm: 0.0002176231937482953, Train Set base_objective: 0.18061875915527345, Train Set accuracy: 0.911, Test Set nc_accuracy: 0.914, group_sparsity: 0.0, \n",
      "Train Set objective: 0.18761046063154938, Train Set grad_norm: 0.00015153235290199518, Train Set base_objective: 0.1803882598876953, Train Set accuracy: 0.911, Test Set nc_accuracy: 0.914, group_sparsity: 0.0, \n",
      "Train Set objective: 0.18745107704773545, Train Set grad_norm: 0.00014487004955299199, Train Set base_objective: 0.18020879745483398, Train Set accuracy: 0.911, Test Set nc_accuracy: 0.914, group_sparsity: 0.0, \n",
      "Train Set objective: 0.18729538207128643, Train Set grad_norm: 0.00013300609134603292, Train Set base_objective: 0.18004277038574218, Train Set accuracy: 0.911, Test Set nc_accuracy: 0.914, group_sparsity: 0.0, \n",
      "Train Set objective: 0.18713510887324808, Train Set grad_norm: 0.0001302217278862372, Train Set base_objective: 0.17991110229492185, Train Set accuracy: 0.911, Test Set nc_accuracy: 0.914, group_sparsity: 0.0, \n",
      "Train Set objective: 0.18696359561756254, Train Set grad_norm: 0.00013798527652397752, Train Set base_objective: 0.17977745056152344, Train Set accuracy: 0.911, Test Set nc_accuracy: 0.914, group_sparsity: 0.0, \n",
      "Train Set objective: 0.18678554484993218, Train Set grad_norm: 0.00017796963220462203, Train Set base_objective: 0.17969110107421876, Train Set accuracy: 0.911, Test Set nc_accuracy: 0.914, group_sparsity: 0.0, \n",
      "Train Set objective: 0.18659995188564066, Train Set grad_norm: 0.000154343040776439, Train Set base_objective: 0.1795581855773926, Train Set accuracy: 0.911, Test Set nc_accuracy: 0.914, group_sparsity: 0.0, \n",
      "Train Set objective: 0.18642188063263893, Train Set grad_norm: 0.00012178310862509534, Train Set base_objective: 0.17948651885986328, Train Set accuracy: 0.911, Test Set nc_accuracy: 0.914, group_sparsity: 0.0, \n",
      "Train Set objective: 0.18625212213024497, Train Set grad_norm: 8.657716534798965e-05, Train Set base_objective: 0.17938247680664063, Train Set accuracy: 0.911, Test Set nc_accuracy: 0.914, group_sparsity: 0.0, \n",
      "Train Set objective: 0.1860910262167454, Train Set grad_norm: 8.195517875719815e-05, Train Set base_objective: 0.1793003845214844, Train Set accuracy: 0.911, Test Set nc_accuracy: 0.914, group_sparsity: 0.0, \n",
      "Train Set objective: 0.18593581686913968, Train Set grad_norm: 7.489952986361459e-05, Train Set base_objective: 0.17920975494384767, Train Set accuracy: 0.911, Test Set nc_accuracy: 0.914, group_sparsity: 0.0, \n",
      "Train Set objective: 0.18578218781203032, Train Set grad_norm: 7.367142097791657e-05, Train Set base_objective: 0.17912682723999024, Train Set accuracy: 0.911, Test Set nc_accuracy: 0.914, group_sparsity: 0.0, \n",
      "Train Set objective: 0.1856258130297065, Train Set grad_norm: 7.962743984535336e-05, Train Set base_objective: 0.17902453994750978, Train Set accuracy: 0.911, Test Set nc_accuracy: 0.914, group_sparsity: 0.0, \n",
      "Train Set objective: 0.18546844357252124, Train Set grad_norm: 0.00010620801185723394, Train Set base_objective: 0.17894430541992187, Train Set accuracy: 0.911, Test Set nc_accuracy: 0.914, group_sparsity: 0.0, \n",
      "Train Set objective: 0.18530878627672792, Train Set grad_norm: 0.0001027690086630173, Train Set base_objective: 0.17882043838500977, Train Set accuracy: 0.911, Test Set nc_accuracy: 0.914, group_sparsity: 0.0, \n",
      "Train Set objective: 0.1851553229689598, Train Set grad_norm: 6.113983545219526e-05, Train Set base_objective: 0.17873677444458008, Train Set accuracy: 0.911, Test Set nc_accuracy: 0.914, group_sparsity: 0.0, \n",
      "Train Set objective: 0.18501266022399068, Train Set grad_norm: 5.576483818003908e-05, Train Set base_objective: 0.1786441307067871, Train Set accuracy: 0.911, Test Set nc_accuracy: 0.914, group_sparsity: 0.0, \n",
      "Train Set objective: 0.1848776275999844, Train Set grad_norm: 5.488195893121883e-05, Train Set base_objective: 0.1785583724975586, Train Set accuracy: 0.911, Test Set nc_accuracy: 0.914, group_sparsity: 0.0, \n",
      "Train Set objective: 0.18474606812000274, Train Set grad_norm: 5.554999370360747e-05, Train Set base_objective: 0.17847475051879882, Train Set accuracy: 0.911, Test Set nc_accuracy: 0.914, group_sparsity: 0.0, \n",
      "Train Set objective: 0.1846130093820393, Train Set grad_norm: 5.378449714044109e-05, Train Set base_objective: 0.1783889503479004, Train Set accuracy: 0.911, Test Set nc_accuracy: 0.914, group_sparsity: 0.0, \n",
      "Train Set objective: 0.1844750722013414, Train Set grad_norm: 5.086228338768706e-05, Train Set base_objective: 0.1782992286682129, Train Set accuracy: 0.911, Test Set nc_accuracy: 0.914, group_sparsity: 0.0, \n",
      "Train Set objective: 0.18432916339114308, Train Set grad_norm: 5.07443692185916e-05, Train Set base_objective: 0.1782030906677246, Train Set accuracy: 0.911, Test Set nc_accuracy: 0.914, group_sparsity: 0.0, \n",
      "Train Set objective: 0.18417248913645745, Train Set grad_norm: 6.785693403799087e-05, Train Set base_objective: 0.1780969467163086, Train Set accuracy: 0.911, Test Set nc_accuracy: 0.914, group_sparsity: 0.001, \n",
      "Train Set objective: 0.18401585524901748, Train Set grad_norm: 7.054233719827607e-05, Train Set base_objective: 0.1779918098449707, Train Set accuracy: 0.911, Test Set nc_accuracy: 0.914, group_sparsity: 0.0, \n",
      "Train Set objective: 0.1838594263456762, Train Set grad_norm: 5.7766821555560455e-05, Train Set base_objective: 0.17788467025756838, Train Set accuracy: 0.911, Test Set nc_accuracy: 0.914, group_sparsity: 0.0, \n",
      "Train Set objective: 0.18370414882525804, Train Set grad_norm: 5.1848532166332006e-05, Train Set base_objective: 0.1777727737426758, Train Set accuracy: 0.911, Test Set nc_accuracy: 0.914, group_sparsity: 0.0, \n",
      "Train Set objective: 0.18354995595663787, Train Set grad_norm: 5.582073572441004e-05, Train Set base_objective: 0.17766751861572266, Train Set accuracy: 0.911, Test Set nc_accuracy: 0.914, group_sparsity: 0.0, \n",
      "Train Set objective: 0.1833955868333578, Train Set grad_norm: 5.113299630465917e-05, Train Set base_objective: 0.17755468368530272, Train Set accuracy: 0.911, Test Set nc_accuracy: 0.914, group_sparsity: 0.0, \n",
      "Train Set objective: 0.1832419951185584, Train Set grad_norm: 5.6080305512296036e-05, Train Set base_objective: 0.17744982528686523, Train Set accuracy: 0.911, Test Set nc_accuracy: 0.914, group_sparsity: 0.0, \n"
     ]
    },
    {
     "name": "stdout",
     "output_type": "stream",
     "text": [
      "Train Set objective: 0.18308820397034287, Train Set grad_norm: 5.281846097204834e-05, Train Set base_objective: 0.17733699417114257, Train Set accuracy: 0.911, Test Set nc_accuracy: 0.914, group_sparsity: 0.0, \n",
      "Train Set objective: 0.18293542282283307, Train Set grad_norm: 5.715559746022336e-05, Train Set base_objective: 0.17723419570922852, Train Set accuracy: 0.911, Test Set nc_accuracy: 0.914, group_sparsity: 0.0, \n",
      "Train Set objective: 0.18278296384215353, Train Set grad_norm: 5.1441376854199916e-05, Train Set base_objective: 0.1771227912902832, Train Set accuracy: 0.911, Test Set nc_accuracy: 0.914, group_sparsity: 0.0, \n",
      "Train Set objective: 0.18263289352878928, Train Set grad_norm: 5.8327761507825926e-05, Train Set base_objective: 0.17702463150024414, Train Set accuracy: 0.911, Test Set nc_accuracy: 0.914, group_sparsity: 0.0, \n",
      "Train Set objective: 0.18248444272577763, Train Set grad_norm: 5.602763849310577e-05, Train Set base_objective: 0.17691804504394532, Train Set accuracy: 0.911, Test Set nc_accuracy: 0.914, group_sparsity: 0.0, \n",
      "Train Set objective: 0.18233725089579822, Train Set grad_norm: 6.656679033767432e-05, Train Set base_objective: 0.17682136535644533, Train Set accuracy: 0.911, Test Set nc_accuracy: 0.914, group_sparsity: 0.0, \n",
      "Train Set objective: 0.18218949188292027, Train Set grad_norm: 5.834264084114693e-05, Train Set base_objective: 0.17671391677856446, Train Set accuracy: 0.911, Test Set nc_accuracy: 0.914, group_sparsity: 0.0, \n",
      "Train Set objective: 0.1820438173301518, Train Set grad_norm: 6.711595051456243e-05, Train Set base_objective: 0.17661841583251953, Train Set accuracy: 0.911, Test Set nc_accuracy: 0.914, group_sparsity: 0.0, \n",
      "Train Set objective: 0.18189705392718314, Train Set grad_norm: 5.88691582379397e-05, Train Set base_objective: 0.1765074119567871, Train Set accuracy: 0.911, Test Set nc_accuracy: 0.914, group_sparsity: 0.0, \n",
      "Train Set objective: 0.18175156046822666, Train Set grad_norm: 6.405452586477622e-05, Train Set base_objective: 0.17641224670410155, Train Set accuracy: 0.911, Test Set nc_accuracy: 0.914, group_sparsity: 0.0, \n",
      "Train Set objective: 0.18160695476830008, Train Set grad_norm: 5.291353591019288e-05, Train Set base_objective: 0.17630342102050783, Train Set accuracy: 0.911, Test Set nc_accuracy: 0.914, group_sparsity: 0.0, \n",
      "Train Set objective: 0.18146536585316062, Train Set grad_norm: 5.922971831751056e-05, Train Set base_objective: 0.17621133422851562, Train Set accuracy: 0.911, Test Set nc_accuracy: 0.914, group_sparsity: 0.0, \n",
      "Train Set objective: 0.18132464784383776, Train Set grad_norm: 5.368471101974137e-05, Train Set base_objective: 0.17610558319091799, Train Set accuracy: 0.911, Test Set nc_accuracy: 0.914, group_sparsity: 0.0, \n",
      "Train Set objective: 0.1811875892020762, Train Set grad_norm: 4.4235199311515316e-05, Train Set base_objective: 0.17601545715332031, Train Set accuracy: 0.911, Test Set nc_accuracy: 0.914, group_sparsity: 0.0, \n",
      "Train Set objective: 0.1810549976490438, Train Set grad_norm: 4.097474447917193e-05, Train Set base_objective: 0.17592103958129882, Train Set accuracy: 0.911, Test Set nc_accuracy: 0.914, group_sparsity: 0.0, \n",
      "Train Set objective: 0.18092532944306733, Train Set grad_norm: 4.187642116448842e-05, Train Set base_objective: 0.17583385086059572, Train Set accuracy: 0.911, Test Set nc_accuracy: 0.914, group_sparsity: 0.0, \n",
      "Train Set objective: 0.18079931093752385, Train Set grad_norm: 4.090278162038885e-05, Train Set base_objective: 0.17574739074707033, Train Set accuracy: 0.911, Test Set nc_accuracy: 0.914, group_sparsity: 0.0, \n",
      "Train Set objective: 0.180677119448781, Train Set grad_norm: 4.479682320379652e-05, Train Set base_objective: 0.17566672134399414, Train Set accuracy: 0.911, Test Set nc_accuracy: 0.914, group_sparsity: 0.0, \n",
      "Train Set objective: 0.18055724716559052, Train Set grad_norm: 4.869817348662764e-05, Train Set base_objective: 0.17558516693115234, Train Set accuracy: 0.911, Test Set nc_accuracy: 0.914, group_sparsity: 0.0, \n",
      "Train Set objective: 0.1804381049759686, Train Set grad_norm: 4.7920617362251505e-05, Train Set base_objective: 0.17550482177734375, Train Set accuracy: 0.911, Test Set nc_accuracy: 0.914, group_sparsity: 0.0, \n",
      "Train Set objective: 0.18032015980035065, Train Set grad_norm: 4.282592999516055e-05, Train Set base_objective: 0.17542363357543944, Train Set accuracy: 0.911, Test Set nc_accuracy: 0.914, group_sparsity: 0.0, \n",
      "Train Set objective: 0.18020525563135742, Train Set grad_norm: 3.7797202821820974e-05, Train Set base_objective: 0.1753465881347656, Train Set accuracy: 0.911, Test Set nc_accuracy: 0.914, group_sparsity: 0.0, \n",
      "Train Set objective: 0.18009450937435031, Train Set grad_norm: 3.7807370972586796e-05, Train Set base_objective: 0.175272762298584, Train Set accuracy: 0.911, Test Set nc_accuracy: 0.914, group_sparsity: 0.0, \n",
      "Train Set objective: 0.17998706197366118, Train Set grad_norm: 3.931365063181147e-05, Train Set base_objective: 0.1752035903930664, Train Set accuracy: 0.911, Test Set nc_accuracy: 0.914, group_sparsity: 0.0, \n",
      "Train Set objective: 0.17988334416225554, Train Set grad_norm: 4.04381389671471e-05, Train Set base_objective: 0.1751382179260254, Train Set accuracy: 0.911, Test Set nc_accuracy: 0.914, group_sparsity: 0.0, \n",
      "Train Set objective: 0.17978335674107074, Train Set grad_norm: 4.668006658903323e-05, Train Set base_objective: 0.17507677841186522, Train Set accuracy: 0.911, Test Set nc_accuracy: 0.914, group_sparsity: 0.0, \n",
      "Train Set objective: 0.17968421077728272, Train Set grad_norm: 5.3750402003061026e-05, Train Set base_objective: 0.17501323318481446, Train Set accuracy: 0.911, Test Set nc_accuracy: 0.914, group_sparsity: 0.0, \n",
      "Train Set objective: 0.17958471503108742, Train Set grad_norm: 5.3603649575961754e-05, Train Set base_objective: 0.17494775772094728, Train Set accuracy: 0.911, Test Set nc_accuracy: 0.914, group_sparsity: 0.0, \n",
      "Train Set objective: 0.1794845946058631, Train Set grad_norm: 4.941369843436405e-05, Train Set base_objective: 0.1748787956237793, Train Set accuracy: 0.911, Test Set nc_accuracy: 0.914, group_sparsity: 0.0, \n",
      "Train Set objective: 0.17938515018299223, Train Set grad_norm: 4.343804175732657e-05, Train Set base_objective: 0.17481016540527344, Train Set accuracy: 0.911, Test Set nc_accuracy: 0.914, group_sparsity: 0.0, \n",
      "Train Set objective: 0.17928545882180333, Train Set grad_norm: 3.7791647628182545e-05, Train Set base_objective: 0.17474186706542968, Train Set accuracy: 0.911, Test Set nc_accuracy: 0.914, group_sparsity: 0.0, \n",
      "Train Set objective: 0.1791870869509876, Train Set grad_norm: 3.41442646458745e-05, Train Set base_objective: 0.17467395782470704, Train Set accuracy: 0.911, Test Set nc_accuracy: 0.914, group_sparsity: 0.0, \n",
      "Train Set objective: 0.17909105226024985, Train Set grad_norm: 3.316396760055795e-05, Train Set base_objective: 0.17460821533203125, Train Set accuracy: 0.911, Test Set nc_accuracy: 0.914, group_sparsity: 0.0, \n",
      "Train Set objective: 0.1789966525286436, Train Set grad_norm: 3.378698238520883e-05, Train Set base_objective: 0.17454378509521484, Train Set accuracy: 0.911, Test Set nc_accuracy: 0.914, group_sparsity: 0.0, \n",
      "Train Set objective: 0.17890364072471857, Train Set grad_norm: 3.294489943073131e-05, Train Set base_objective: 0.17447966384887695, Train Set accuracy: 0.911, Test Set nc_accuracy: 0.914, group_sparsity: 0.0, \n",
      "Train Set objective: 0.1788123213350773, Train Set grad_norm: 3.40180704370141e-05, Train Set base_objective: 0.174419246673584, Train Set accuracy: 0.911, Test Set nc_accuracy: 0.914, group_sparsity: 0.0, \n",
      "Train Set objective: 0.1787222210727632, Train Set grad_norm: 3.376676977495663e-05, Train Set base_objective: 0.17435765838623046, Train Set accuracy: 0.911, Test Set nc_accuracy: 0.914, group_sparsity: 0.0, \n",
      "Train Set objective: 0.17863367591425777, Train Set grad_norm: 3.362809002283029e-05, Train Set base_objective: 0.174299617767334, Train Set accuracy: 0.911, Test Set nc_accuracy: 0.914, group_sparsity: 0.0, \n",
      "Train Set objective: 0.17854751937836408, Train Set grad_norm: 3.364210351719521e-05, Train Set base_objective: 0.17424170684814452, Train Set accuracy: 0.911, Test Set nc_accuracy: 0.914, group_sparsity: 0.0, \n",
      "Train Set objective: 0.17846302858740093, Train Set grad_norm: 3.764063148992136e-05, Train Set base_objective: 0.174186580657959, Train Set accuracy: 0.911, Test Set nc_accuracy: 0.914, group_sparsity: 0.0, \n"
     ]
    },
    {
     "name": "stdout",
     "output_type": "stream",
     "text": [
      "Train Set objective: 0.17837923237308861, Train Set grad_norm: 3.757611193577759e-05, Train Set base_objective: 0.17412936019897463, Train Set accuracy: 0.911, Test Set nc_accuracy: 0.914, group_sparsity: 0.0, \n",
      "Train Set objective: 0.17829600583389402, Train Set grad_norm: 3.905402627424337e-05, Train Set base_objective: 0.1740747299194336, Train Set accuracy: 0.911, Test Set nc_accuracy: 0.914, group_sparsity: 0.0, \n",
      "Train Set objective: 0.17821323817968368, Train Set grad_norm: 3.6970657674828544e-05, Train Set base_objective: 0.17401645278930664, Train Set accuracy: 0.911, Test Set nc_accuracy: 0.914, group_sparsity: 0.0, \n",
      "Train Set objective: 0.1781305768415332, Train Set grad_norm: 3.711377939907834e-05, Train Set base_objective: 0.1739614601135254, Train Set accuracy: 0.911, Test Set nc_accuracy: 0.914, group_sparsity: 0.0, \n",
      "Train Set objective: 0.17804900971427562, Train Set grad_norm: 3.174407174810767e-05, Train Set base_objective: 0.17390370178222658, Train Set accuracy: 0.911, Test Set nc_accuracy: 0.914, group_sparsity: 0.0, \n",
      "Train Set objective: 0.17797041658684612, Train Set grad_norm: 3.4319971746299416e-05, Train Set base_objective: 0.17385451889038087, Train Set accuracy: 0.911, Test Set nc_accuracy: 0.914, group_sparsity: 0.0, \n",
      "Train Set objective: 0.17789386855810882, Train Set grad_norm: 3.3588672522455454e-05, Train Set base_objective: 0.17380189514160158, Train Set accuracy: 0.911, Test Set nc_accuracy: 0.914, group_sparsity: 0.0, \n",
      "Train Set objective: 0.17781947911530732, Train Set grad_norm: 3.847176776616834e-05, Train Set base_objective: 0.17375703048706054, Train Set accuracy: 0.911, Test Set nc_accuracy: 0.914, group_sparsity: 0.0, \n",
      "Train Set objective: 0.17774603578820825, Train Set grad_norm: 3.7185600376687944e-05, Train Set base_objective: 0.17370645904541016, Train Set accuracy: 0.911, Test Set nc_accuracy: 0.914, group_sparsity: 0.0, \n",
      "Train Set objective: 0.17767325289547445, Train Set grad_norm: 4.231264756526798e-05, Train Set base_objective: 0.17366205215454103, Train Set accuracy: 0.911, Test Set nc_accuracy: 0.914, group_sparsity: 0.0, \n",
      "Train Set objective: 0.17760034631192684, Train Set grad_norm: 3.744168134289794e-05, Train Set base_objective: 0.17361012268066406, Train Set accuracy: 0.911, Test Set nc_accuracy: 0.914, group_sparsity: 0.0, \n",
      "Train Set objective: 0.17752859795093537, Train Set grad_norm: 4.109195651835762e-05, Train Set base_objective: 0.17356588745117188, Train Set accuracy: 0.911, Test Set nc_accuracy: 0.914, group_sparsity: 0.0, \n",
      "Train Set objective: 0.17745795258134606, Train Set grad_norm: 3.8580790715059265e-05, Train Set base_objective: 0.173514949798584, Train Set accuracy: 0.911, Test Set nc_accuracy: 0.914, group_sparsity: 0.0, \n",
      "Train Set objective: 0.1773880386836827, Train Set grad_norm: 4.922249718219973e-05, Train Set base_objective: 0.17347048568725587, Train Set accuracy: 0.911, Test Set nc_accuracy: 0.914, group_sparsity: 0.0, \n",
      "Train Set objective: 0.17731573479063809, Train Set grad_norm: 4.3358908442314714e-05, Train Set base_objective: 0.17341380310058593, Train Set accuracy: 0.911, Test Set nc_accuracy: 0.914, group_sparsity: 0.0, \n",
      "Train Set objective: 0.17724296925216915, Train Set grad_norm: 4.070706563652493e-05, Train Set base_objective: 0.17336559677124025, Train Set accuracy: 0.911, Test Set nc_accuracy: 0.914, group_sparsity: 0.0, \n",
      "Train Set objective: 0.17717066504247486, Train Set grad_norm: 3.0394057830562815e-05, Train Set base_objective: 0.1733092384338379, Train Set accuracy: 0.911, Test Set nc_accuracy: 0.914, group_sparsity: 0.0, \n",
      "Train Set objective: 0.17710108918510378, Train Set grad_norm: 3.302793993498199e-05, Train Set base_objective: 0.17326556777954102, Train Set accuracy: 0.911, Test Set nc_accuracy: 0.914, group_sparsity: 0.0, \n",
      "Train Set objective: 0.17703305460326374, Train Set grad_norm: 2.8260219551157206e-05, Train Set base_objective: 0.1732140464782715, Train Set accuracy: 0.911, Test Set nc_accuracy: 0.914, group_sparsity: 0.0, \n",
      "Train Set objective: 0.17696761986985804, Train Set grad_norm: 3.360904520377517e-05, Train Set base_objective: 0.1731756706237793, Train Set accuracy: 0.911, Test Set nc_accuracy: 0.914, group_sparsity: 0.0, \n",
      "Train Set objective: 0.17690332587808372, Train Set grad_norm: 3.2004729291656986e-05, Train Set base_objective: 0.1731278419494629, Train Set accuracy: 0.911, Test Set nc_accuracy: 0.914, group_sparsity: 0.0, \n",
      "Train Set objective: 0.1768398676738143, Train Set grad_norm: 4.100612932234071e-05, Train Set base_objective: 0.17309105682373047, Train Set accuracy: 0.911, Test Set nc_accuracy: 0.914, group_sparsity: 0.0, \n",
      "Train Set objective: 0.1767746147569269, Train Set grad_norm: 3.528573506628163e-05, Train Set base_objective: 0.1730394973754883, Train Set accuracy: 0.911, Test Set nc_accuracy: 0.914, group_sparsity: 0.0, \n",
      "Train Set objective: 0.17670987297594548, Train Set grad_norm: 3.643084710347466e-05, Train Set base_objective: 0.17300078582763673, Train Set accuracy: 0.911, Test Set nc_accuracy: 0.914, group_sparsity: 0.0, \n",
      "Train Set objective: 0.17664541281946003, Train Set grad_norm: 2.9880196962039918e-05, Train Set base_objective: 0.17294949340820312, Train Set accuracy: 0.911, Test Set nc_accuracy: 0.914, group_sparsity: 0.0, \n",
      "Train Set objective: 0.17658348593115808, Train Set grad_norm: 2.5036757506313734e-05, Train Set base_objective: 0.17291205215454103, Train Set accuracy: 0.911, Test Set nc_accuracy: 0.914, group_sparsity: 0.0, \n",
      "Train Set objective: 0.17652429526485502, Train Set grad_norm: 2.2983429516898468e-05, Train Set base_objective: 0.17286994171142578, Train Set accuracy: 0.911, Test Set nc_accuracy: 0.914, group_sparsity: 0.0, \n",
      "Train Set objective: 0.1764673513174057, Train Set grad_norm: 2.870638491003774e-05, Train Set base_objective: 0.17283517837524415, Train Set accuracy: 0.911, Test Set nc_accuracy: 0.914, group_sparsity: 0.0, \n",
      "Train Set objective: 0.1764100473113358, Train Set grad_norm: 3.123584247077815e-05, Train Set base_objective: 0.17279551315307617, Train Set accuracy: 0.911, Test Set nc_accuracy: 0.914, group_sparsity: 0.0, \n",
      "Train Set objective: 0.17635264744609594, Train Set grad_norm: 2.810547812259756e-05, Train Set base_objective: 0.1727578773498535, Train Set accuracy: 0.911, Test Set nc_accuracy: 0.914, group_sparsity: 0.0, \n",
      "Train Set objective: 0.17629572886414824, Train Set grad_norm: 2.727160244830884e-05, Train Set base_objective: 0.1727182159423828, Train Set accuracy: 0.911, Test Set nc_accuracy: 0.914, group_sparsity: 0.0, \n",
      "Train Set objective: 0.17623882863670587, Train Set grad_norm: 2.6199440981145017e-05, Train Set base_objective: 0.17267911911010742, Train Set accuracy: 0.911, Test Set nc_accuracy: 0.914, group_sparsity: 0.0, \n",
      "Train Set objective: 0.17618256192840637, Train Set grad_norm: 2.3020062144496478e-05, Train Set base_objective: 0.1726389389038086, Train Set accuracy: 0.911, Test Set nc_accuracy: 0.914, group_sparsity: 0.0, \n",
      "Train Set objective: 0.17612668088823558, Train Set grad_norm: 2.0966490410501137e-05, Train Set base_objective: 0.17260037231445313, Train Set accuracy: 0.911, Test Set nc_accuracy: 0.914, group_sparsity: 0.0, \n",
      "Train Set objective: 0.17607186575233938, Train Set grad_norm: 2.1548456061282195e-05, Train Set base_objective: 0.1725611801147461, Train Set accuracy: 0.911, Test Set nc_accuracy: 0.914, group_sparsity: 0.0, \n",
      "Train Set objective: 0.17601814830116927, Train Set grad_norm: 2.3722139303572476e-05, Train Set base_objective: 0.17252400970458984, Train Set accuracy: 0.911, Test Set nc_accuracy: 0.914, group_sparsity: 0.0, \n",
      "Train Set objective: 0.17596508249081672, Train Set grad_norm: 2.367371052969247e-05, Train Set base_objective: 0.17248536682128907, Train Set accuracy: 0.911, Test Set nc_accuracy: 0.914, group_sparsity: 0.0, \n",
      "Train Set objective: 0.17591280189156533, Train Set grad_norm: 2.4989820303744636e-05, Train Set base_objective: 0.1724491424560547, Train Set accuracy: 0.911, Test Set nc_accuracy: 0.914, group_sparsity: 0.0, \n",
      "Train Set objective: 0.17586163273267447, Train Set grad_norm: 2.456430229358375e-05, Train Set base_objective: 0.17241110610961913, Train Set accuracy: 0.911, Test Set nc_accuracy: 0.914, group_sparsity: 0.0, \n",
      "Train Set objective: 0.1758113590236753, Train Set grad_norm: 2.6513132979744114e-05, Train Set base_objective: 0.1723773307800293, Train Set accuracy: 0.911, Test Set nc_accuracy: 0.914, group_sparsity: 0.0, \n"
     ]
    },
    {
     "name": "stdout",
     "output_type": "stream",
     "text": [
      "Train Set objective: 0.17576134781353175, Train Set grad_norm: 2.5947669200832024e-05, Train Set base_objective: 0.17233949661254883, Train Set accuracy: 0.911, Test Set nc_accuracy: 0.914, group_sparsity: 0.0, \n",
      "Train Set objective: 0.17571165102906525, Train Set grad_norm: 2.6832878575078212e-05, Train Set base_objective: 0.17230603790283203, Train Set accuracy: 0.911, Test Set nc_accuracy: 0.914, group_sparsity: 0.0, \n",
      "Train Set objective: 0.17566264771856369, Train Set grad_norm: 2.312294782313984e-05, Train Set base_objective: 0.17226837158203126, Train Set accuracy: 0.911, Test Set nc_accuracy: 0.914, group_sparsity: 0.0, \n",
      "Train Set objective: 0.17561485465057194, Train Set grad_norm: 2.6955474822898395e-05, Train Set base_objective: 0.17223720169067383, Train Set accuracy: 0.911, Test Set nc_accuracy: 0.914, group_sparsity: 0.0, \n",
      "Train Set objective: 0.17556718422286213, Train Set grad_norm: 2.517556094971951e-05, Train Set base_objective: 0.17220003890991212, Train Set accuracy: 0.911, Test Set nc_accuracy: 0.914, group_sparsity: 0.0, \n",
      "Train Set objective: 0.17552018759958446, Train Set grad_norm: 2.8853452022303827e-05, Train Set base_objective: 0.17216975021362305, Train Set accuracy: 0.911, Test Set nc_accuracy: 0.914, group_sparsity: 0.0, \n",
      "Train Set objective: 0.17547360347770155, Train Set grad_norm: 2.533804035920184e-05, Train Set base_objective: 0.17213333892822266, Train Set accuracy: 0.911, Test Set nc_accuracy: 0.914, group_sparsity: 0.0, \n",
      "Train Set objective: 0.17542860901542007, Train Set grad_norm: 3.064145494136028e-05, Train Set base_objective: 0.17210552597045897, Train Set accuracy: 0.911, Test Set nc_accuracy: 0.914, group_sparsity: 0.0, \n",
      "Train Set objective: 0.17538355572894215, Train Set grad_norm: 3.0417397283599712e-05, Train Set base_objective: 0.17206980895996093, Train Set accuracy: 0.911, Test Set nc_accuracy: 0.914, group_sparsity: 0.0, \n",
      "Train Set objective: 0.1753382459487766, Train Set grad_norm: 3.329440005472861e-05, Train Set base_objective: 0.1720408706665039, Train Set accuracy: 0.911, Test Set nc_accuracy: 0.914, group_sparsity: 0.0, \n",
      "Train Set objective: 0.17529266343079508, Train Set grad_norm: 2.6935334972222336e-05, Train Set base_objective: 0.17200439834594727, Train Set accuracy: 0.911, Test Set nc_accuracy: 0.914, group_sparsity: 0.0, \n",
      "Train Set objective: 0.17524810206703842, Train Set grad_norm: 2.9961100153741427e-05, Train Set base_objective: 0.17197664642333985, Train Set accuracy: 0.911, Test Set nc_accuracy: 0.914, group_sparsity: 0.0, \n",
      "Train Set objective: 0.1752045200560242, Train Set grad_norm: 2.727317769313231e-05, Train Set base_objective: 0.17194186401367187, Train Set accuracy: 0.911, Test Set nc_accuracy: 0.914, group_sparsity: 0.0, \n",
      "Train Set objective: 0.17516279636509718, Train Set grad_norm: 2.6577743483358063e-05, Train Set base_objective: 0.171916374206543, Train Set accuracy: 0.911, Test Set nc_accuracy: 0.914, group_sparsity: 0.0, \n",
      "Train Set objective: 0.17512245501950383, Train Set grad_norm: 2.657866025401745e-05, Train Set base_objective: 0.1718872299194336, Train Set accuracy: 0.911, Test Set nc_accuracy: 0.914, group_sparsity: 0.0, \n",
      "Train Set objective: 0.1750828741081059, Train Set grad_norm: 3.0069939384702593e-05, Train Set base_objective: 0.1718621292114258, Train Set accuracy: 0.911, Test Set nc_accuracy: 0.914, group_sparsity: 0.0, \n",
      "Train Set objective: 0.1750427374597639, Train Set grad_norm: 2.9599390472867526e-05, Train Set base_objective: 0.1718333740234375, Train Set accuracy: 0.911, Test Set nc_accuracy: 0.914, group_sparsity: 0.0, \n",
      "Train Set objective: 0.17500225438922642, Train Set grad_norm: 2.4042003133217804e-05, Train Set base_objective: 0.17180668640136718, Train Set accuracy: 0.911, Test Set nc_accuracy: 0.914, group_sparsity: 0.0, \n",
      "Train Set objective: 0.17496317054517568, Train Set grad_norm: 1.955792868102435e-05, Train Set base_objective: 0.17178037261962892, Train Set accuracy: 0.911, Test Set nc_accuracy: 0.914, group_sparsity: 0.0, \n",
      "Train Set objective: 0.1749261265937239, Train Set grad_norm: 2.2072163119446486e-05, Train Set base_objective: 0.17175714111328125, Train Set accuracy: 0.911, Test Set nc_accuracy: 0.914, group_sparsity: 0.0, \n",
      "Train Set objective: 0.17488934575207532, Train Set grad_norm: 2.527737888158299e-05, Train Set base_objective: 0.17173265838623047, Train Set accuracy: 0.911, Test Set nc_accuracy: 0.914, group_sparsity: 0.0, \n",
      "Train Set objective: 0.17485221986845134, Train Set grad_norm: 2.514214429538697e-05, Train Set base_objective: 0.1717083053588867, Train Set accuracy: 0.911, Test Set nc_accuracy: 0.914, group_sparsity: 0.0, \n",
      "Train Set objective: 0.17481490351818502, Train Set grad_norm: 2.3296412109630182e-05, Train Set base_objective: 0.17168281936645508, Train Set accuracy: 0.911, Test Set nc_accuracy: 0.914, group_sparsity: 0.0, \n",
      "Train Set objective: 0.17477780066803097, Train Set grad_norm: 2.126038816641085e-05, Train Set base_objective: 0.1716574821472168, Train Set accuracy: 0.911, Test Set nc_accuracy: 0.914, group_sparsity: 0.0, \n",
      "Train Set objective: 0.17474112490937113, Train Set grad_norm: 2.195853267039638e-05, Train Set base_objective: 0.17163191986083984, Train Set accuracy: 0.911, Test Set nc_accuracy: 0.914, group_sparsity: 0.0, \n",
      "Train Set objective: 0.17470401656441392, Train Set grad_norm: 2.1584924979833886e-05, Train Set base_objective: 0.17160553359985353, Train Set accuracy: 0.911, Test Set nc_accuracy: 0.914, group_sparsity: 0.0, \n",
      "Train Set objective: 0.17466627006419003, Train Set grad_norm: 1.867637547547929e-05, Train Set base_objective: 0.17157825469970703, Train Set accuracy: 0.911, Test Set nc_accuracy: 0.914, group_sparsity: 0.0, \n",
      "Train Set objective: 0.17462757492437958, Train Set grad_norm: 1.5258379789884202e-05, Train Set base_objective: 0.17155044555664062, Train Set accuracy: 0.911, Test Set nc_accuracy: 0.914, group_sparsity: 0.0, \n",
      "Train Set objective: 0.1745882580280304, Train Set grad_norm: 1.2782553312717937e-05, Train Set base_objective: 0.17152192687988282, Train Set accuracy: 0.911, Test Set nc_accuracy: 0.914, group_sparsity: 0.0, \n",
      "Train Set objective: 0.17454927396588027, Train Set grad_norm: 1.2450972462829668e-05, Train Set base_objective: 0.17149404907226562, Train Set accuracy: 0.911, Test Set nc_accuracy: 0.914, group_sparsity: 0.0, \n",
      "Train Set objective: 0.17451122701354324, Train Set grad_norm: 1.473331303714076e-05, Train Set base_objective: 0.17146563339233398, Train Set accuracy: 0.911, Test Set nc_accuracy: 0.914, group_sparsity: 0.0, \n",
      "Train Set objective: 0.1744734976477921, Train Set grad_norm: 1.7696242139209062e-05, Train Set base_objective: 0.1714389762878418, Train Set accuracy: 0.911, Test Set nc_accuracy: 0.914, group_sparsity: 0.0, \n",
      "Train Set objective: 0.17443628714978696, Train Set grad_norm: 1.7712196495267563e-05, Train Set base_objective: 0.17140957260131837, Train Set accuracy: 0.911, Test Set nc_accuracy: 0.914, group_sparsity: 0.0, \n",
      "Train Set objective: 0.17440044167451563, Train Set grad_norm: 1.8394281141809188e-05, Train Set base_objective: 0.17138519287109377, Train Set accuracy: 0.911, Test Set nc_accuracy: 0.914, group_sparsity: 0.0, \n",
      "Train Set objective: 0.17436552515812218, Train Set grad_norm: 1.4954035577829927e-05, Train Set base_objective: 0.17135746383666992, Train Set accuracy: 0.911, Test Set nc_accuracy: 0.914, group_sparsity: 0.0, \n",
      "Train Set objective: 0.17433167226426305, Train Set grad_norm: 1.8381415429757908e-05, Train Set base_objective: 0.17133454513549806, Train Set accuracy: 0.911, Test Set nc_accuracy: 0.914, group_sparsity: 0.0, \n",
      "Train Set objective: 0.17429789104498922, Train Set grad_norm: 1.680373134149704e-05, Train Set base_objective: 0.1713078498840332, Train Set accuracy: 0.911, Test Set nc_accuracy: 0.914, group_sparsity: 0.0, \n",
      "Train Set objective: 0.17426491787098347, Train Set grad_norm: 1.8994207493960857e-05, Train Set base_objective: 0.1712859878540039, Train Set accuracy: 0.911, Test Set nc_accuracy: 0.914, group_sparsity: 0.0, \n",
      "Train Set objective: 0.17423223391734063, Train Set grad_norm: 1.764994340192061e-05, Train Set base_objective: 0.1712595977783203, Train Set accuracy: 0.911, Test Set nc_accuracy: 0.914, group_sparsity: 0.0, \n"
     ]
    },
    {
     "name": "stdout",
     "output_type": "stream",
     "text": [
      "Train Set objective: 0.17420032400265337, Train Set grad_norm: 2.0839595890720375e-05, Train Set base_objective: 0.17123886489868165, Train Set accuracy: 0.911, Test Set nc_accuracy: 0.914, group_sparsity: 0.0, \n",
      "Train Set objective: 0.17416914204880596, Train Set grad_norm: 1.6779824363766238e-05, Train Set base_objective: 0.1712141342163086, Train Set accuracy: 0.911, Test Set nc_accuracy: 0.914, group_sparsity: 0.0, \n",
      "Train Set objective: 0.17413898066990077, Train Set grad_norm: 1.7439420844311826e-05, Train Set base_objective: 0.17119256591796875, Train Set accuracy: 0.911, Test Set nc_accuracy: 0.914, group_sparsity: 0.0, \n",
      "Train Set objective: 0.1741094668507576, Train Set grad_norm: 1.5833631550776772e-05, Train Set base_objective: 0.17117041397094726, Train Set accuracy: 0.911, Test Set nc_accuracy: 0.914, group_sparsity: 0.0, \n",
      "Train Set objective: 0.17408062270842492, Train Set grad_norm: 1.4961857232265174e-05, Train Set base_objective: 0.1711501121520996, Train Set accuracy: 0.911, Test Set nc_accuracy: 0.914, group_sparsity: 0.0, \n",
      "Train Set objective: 0.17405254049599173, Train Set grad_norm: 1.3043438229942694e-05, Train Set base_objective: 0.1711302719116211, Train Set accuracy: 0.911, Test Set nc_accuracy: 0.914, group_sparsity: 0.0, \n",
      "Train Set objective: 0.17402579815499483, Train Set grad_norm: 1.1849535439978354e-05, Train Set base_objective: 0.17111274337768553, Train Set accuracy: 0.911, Test Set nc_accuracy: 0.914, group_sparsity: 0.0, \n",
      "Train Set objective: 0.174000712223351, Train Set grad_norm: 1.3033622053626459e-05, Train Set base_objective: 0.17109668731689454, Train Set accuracy: 0.911, Test Set nc_accuracy: 0.914, group_sparsity: 0.0, \n",
      "Train Set objective: 0.17397700380533934, Train Set grad_norm: 1.6677920939400792e-05, Train Set base_objective: 0.17108259201049805, Train Set accuracy: 0.911, Test Set nc_accuracy: 0.914, group_sparsity: 0.0, \n",
      "Train Set objective: 0.173954160772264, Train Set grad_norm: 2.164757825084962e-05, Train Set base_objective: 0.17106925964355468, Train Set accuracy: 0.911, Test Set nc_accuracy: 0.914, group_sparsity: 0.0, \n",
      "Train Set objective: 0.17393034023046494, Train Set grad_norm: 2.4866138119250536e-05, Train Set base_objective: 0.17105439376831055, Train Set accuracy: 0.911, Test Set nc_accuracy: 0.914, group_sparsity: 0.0, \n",
      "Train Set objective: 0.17390557712316512, Train Set grad_norm: 2.509462137822993e-05, Train Set base_objective: 0.1710379753112793, Train Set accuracy: 0.911, Test Set nc_accuracy: 0.914, group_sparsity: 0.0, \n",
      "Train Set objective: 0.1738796363286674, Train Set grad_norm: 2.2315683963824995e-05, Train Set base_objective: 0.17101948928833008, Train Set accuracy: 0.911, Test Set nc_accuracy: 0.914, group_sparsity: 0.0, \n",
      "Train Set objective: 0.17385350540466607, Train Set grad_norm: 2.0134359147050418e-05, Train Set base_objective: 0.17100043106079102, Train Set accuracy: 0.911, Test Set nc_accuracy: 0.914, group_sparsity: 0.0, \n",
      "Train Set objective: 0.17382701061479747, Train Set grad_norm: 1.861434429883957e-05, Train Set base_objective: 0.17098056030273437, Train Set accuracy: 0.911, Test Set nc_accuracy: 0.914, group_sparsity: 0.0, \n",
      "Train Set objective: 0.17380066479742526, Train Set grad_norm: 1.7493621271569282e-05, Train Set base_objective: 0.17096077728271483, Train Set accuracy: 0.911, Test Set nc_accuracy: 0.914, group_sparsity: 0.0, \n",
      "Train Set objective: 0.17377442789822817, Train Set grad_norm: 1.8091801393893547e-05, Train Set base_objective: 0.17094128036499023, Train Set accuracy: 0.911, Test Set nc_accuracy: 0.914, group_sparsity: 0.0, \n",
      "Train Set objective: 0.17374805066548288, Train Set grad_norm: 1.8169706891058013e-05, Train Set base_objective: 0.17092152786254883, Train Set accuracy: 0.911, Test Set nc_accuracy: 0.914, group_sparsity: 0.0, \n",
      "Train Set objective: 0.17372226479649544, Train Set grad_norm: 1.705662907625083e-05, Train Set base_objective: 0.17090246963500977, Train Set accuracy: 0.911, Test Set nc_accuracy: 0.914, group_sparsity: 0.0, \n",
      "Train Set objective: 0.17369745953008534, Train Set grad_norm: 1.8035714674624614e-05, Train Set base_objective: 0.1708845901489258, Train Set accuracy: 0.911, Test Set nc_accuracy: 0.914, group_sparsity: 0.0, \n",
      "Train Set objective: 0.1736727291382849, Train Set grad_norm: 2.0057070287293755e-05, Train Set base_objective: 0.17086690521240233, Train Set accuracy: 0.911, Test Set nc_accuracy: 0.914, group_sparsity: 0.0, \n",
      "Train Set objective: 0.17364777311496438, Train Set grad_norm: 1.9473822248983197e-05, Train Set base_objective: 0.17084923934936525, Train Set accuracy: 0.911, Test Set nc_accuracy: 0.914, group_sparsity: 0.0, \n",
      "Train Set objective: 0.17362335593253375, Train Set grad_norm: 1.8494003597879782e-05, Train Set base_objective: 0.17083207321166993, Train Set accuracy: 0.911, Test Set nc_accuracy: 0.914, group_sparsity: 0.0, \n",
      "Train Set objective: 0.173599536055699, Train Set grad_norm: 1.849624459282495e-05, Train Set base_objective: 0.17081571578979493, Train Set accuracy: 0.911, Test Set nc_accuracy: 0.914, group_sparsity: 0.0, \n",
      "Train Set objective: 0.17357562569342555, Train Set grad_norm: 1.8506356354919262e-05, Train Set base_objective: 0.1707994613647461, Train Set accuracy: 0.911, Test Set nc_accuracy: 0.914, group_sparsity: 0.0, \n",
      "Train Set objective: 0.1735518078058958, Train Set grad_norm: 1.7691672837827355e-05, Train Set base_objective: 0.1707835464477539, Train Set accuracy: 0.911, Test Set nc_accuracy: 0.914, group_sparsity: 0.0, \n",
      "Train Set objective: 0.17352827658317982, Train Set grad_norm: 1.835103284975048e-05, Train Set base_objective: 0.17076772308349608, Train Set accuracy: 0.911, Test Set nc_accuracy: 0.914, group_sparsity: 0.0, \n",
      "Train Set objective: 0.1735047661177814, Train Set grad_norm: 1.8751614334178157e-05, Train Set base_objective: 0.17075143432617187, Train Set accuracy: 0.911, Test Set nc_accuracy: 0.914, group_sparsity: 0.0, \n",
      "Train Set objective: 0.1734811146631837, Train Set grad_norm: 1.529422115709167e-05, Train Set base_objective: 0.17073517990112305, Train Set accuracy: 0.911, Test Set nc_accuracy: 0.914, group_sparsity: 0.0, \n",
      "Train Set objective: 0.17345744859427215, Train Set grad_norm: 1.213197538163513e-05, Train Set base_objective: 0.1707198715209961, Train Set accuracy: 0.911, Test Set nc_accuracy: 0.914, group_sparsity: 0.0, \n",
      "Train Set objective: 0.1734339683111757, Train Set grad_norm: 1.1840044862765353e-05, Train Set base_objective: 0.1707044334411621, Train Set accuracy: 0.911, Test Set nc_accuracy: 0.914, group_sparsity: 0.0, \n",
      "Train Set objective: 0.17341089655831457, Train Set grad_norm: 1.1653440196823794e-05, Train Set base_objective: 0.17068941879272462, Train Set accuracy: 0.911, Test Set nc_accuracy: 0.914, group_sparsity: 0.0, \n",
      "Train Set objective: 0.1733884199205786, Train Set grad_norm: 1.0298002052877564e-05, Train Set base_objective: 0.17067488098144531, Train Set accuracy: 0.911, Test Set nc_accuracy: 0.914, group_sparsity: 0.0, \n",
      "Train Set objective: 0.17336692215316, Train Set grad_norm: 1.0535445653658826e-05, Train Set base_objective: 0.17066186523437502, Train Set accuracy: 0.911, Test Set nc_accuracy: 0.914, group_sparsity: 0.0, \n",
      "Train Set objective: 0.17334576985053718, Train Set grad_norm: 1.2729169611702673e-05, Train Set base_objective: 0.17064890670776367, Train Set accuracy: 0.911, Test Set nc_accuracy: 0.914, group_sparsity: 0.0, \n",
      "Train Set objective: 0.17332406774163248, Train Set grad_norm: 1.3897490134695545e-05, Train Set base_objective: 0.1706350898742676, Train Set accuracy: 0.911, Test Set nc_accuracy: 0.914, group_sparsity: 0.0, \n",
      "Train Set objective: 0.17330170044116677, Train Set grad_norm: 1.3068378393654712e-05, Train Set base_objective: 0.17061969375610353, Train Set accuracy: 0.911, Test Set nc_accuracy: 0.914, group_sparsity: 0.0, \n",
      "Train Set objective: 0.17327896364219486, Train Set grad_norm: 1.1511710908962414e-05, Train Set base_objective: 0.17060372161865234, Train Set accuracy: 0.911, Test Set nc_accuracy: 0.914, group_sparsity: 0.0, \n",
      "Train Set objective: 0.17325606048479678, Train Set grad_norm: 9.489042895438615e-06, Train Set base_objective: 0.1705870590209961, Train Set accuracy: 0.911, Test Set nc_accuracy: 0.914, group_sparsity: 0.0, \n",
      "Train Set objective: 0.17323337755165993, Train Set grad_norm: 8.607044037489686e-06, Train Set base_objective: 0.17057033538818359, Train Set accuracy: 0.911, Test Set nc_accuracy: 0.914, group_sparsity: 0.0, \n",
      "Train Set objective: 0.1732110077496618, Train Set grad_norm: 8.351477845280897e-06, Train Set base_objective: 0.17055335235595703, Train Set accuracy: 0.911, Test Set nc_accuracy: 0.914, group_sparsity: 0.0, \n",
      "Train Set objective: 0.1731890119239688, Train Set grad_norm: 8.877337677404284e-06, Train Set base_objective: 0.17053646087646485, Train Set accuracy: 0.911, Test Set nc_accuracy: 0.914, group_sparsity: 0.0, \n",
      "Train Set objective: 0.17316719844006, Train Set grad_norm: 9.35115349420812e-06, Train Set base_objective: 0.17051958084106444, Train Set accuracy: 0.911, Test Set nc_accuracy: 0.914, group_sparsity: 0.0, \n"
     ]
    },
    {
     "name": "stdout",
     "output_type": "stream",
     "text": [
      "Train Set objective: 0.1731452012900263, Train Set grad_norm: 9.63625825534109e-06, Train Set base_objective: 0.170501708984375, Train Set accuracy: 0.911, Test Set nc_accuracy: 0.914, group_sparsity: 0.0, \n",
      "Train Set objective: 0.17312328179366887, Train Set grad_norm: 9.143044735537842e-06, Train Set base_objective: 0.17048395156860352, Train Set accuracy: 0.911, Test Set nc_accuracy: 0.914, group_sparsity: 0.0, \n",
      "Train Set objective: 0.1731014904975891, Train Set grad_norm: 8.635436643089633e-06, Train Set base_objective: 0.17046571350097656, Train Set accuracy: 0.911, Test Set nc_accuracy: 0.914, group_sparsity: 0.0, \n",
      "Train Set objective: 0.17307996293716132, Train Set grad_norm: 8.075319783529267e-06, Train Set base_objective: 0.17044815826416015, Train Set accuracy: 0.911, Test Set nc_accuracy: 0.914, group_sparsity: 0.0, \n",
      "Train Set objective: 0.17305879922024905, Train Set grad_norm: 7.573243692604592e-06, Train Set base_objective: 0.17043010330200195, Train Set accuracy: 0.911, Test Set nc_accuracy: 0.914, group_sparsity: 0.0, \n",
      "Train Set objective: 0.1730380725953728, Train Set grad_norm: 8.266286386060528e-06, Train Set base_objective: 0.1704130744934082, Train Set accuracy: 0.911, Test Set nc_accuracy: 0.914, group_sparsity: 0.0, \n",
      "Train Set objective: 0.17301765517890452, Train Set grad_norm: 8.17401542008156e-06, Train Set base_objective: 0.17039532089233397, Train Set accuracy: 0.911, Test Set nc_accuracy: 0.914, group_sparsity: 0.0, \n",
      "Train Set objective: 0.17299760798737407, Train Set grad_norm: 9.192846846417524e-06, Train Set base_objective: 0.1703788299560547, Train Set accuracy: 0.911, Test Set nc_accuracy: 0.914, group_sparsity: 0.0, \n",
      "Train Set objective: 0.17297784346714615, Train Set grad_norm: 8.47410956339445e-06, Train Set base_objective: 0.17036146545410155, Train Set accuracy: 0.911, Test Set nc_accuracy: 0.914, group_sparsity: 0.0, \n",
      "Train Set objective: 0.17295857775211335, Train Set grad_norm: 1.0815157111210283e-05, Train Set base_objective: 0.17034573364257813, Train Set accuracy: 0.911, Test Set nc_accuracy: 0.914, group_sparsity: 0.0, \n",
      "Train Set objective: 0.17293943598680198, Train Set grad_norm: 9.384873010276351e-06, Train Set base_objective: 0.1703287239074707, Train Set accuracy: 0.911, Test Set nc_accuracy: 0.914, group_sparsity: 0.0, \n",
      "Train Set objective: 0.17292057187855245, Train Set grad_norm: 8.857496140990406e-06, Train Set base_objective: 0.170312255859375, Train Set accuracy: 0.911, Test Set nc_accuracy: 0.914, group_sparsity: 0.0, \n",
      "Train Set objective: 0.17290210842527448, Train Set grad_norm: 7.550100690423278e-06, Train Set base_objective: 0.1702960739135742, Train Set accuracy: 0.911, Test Set nc_accuracy: 0.914, group_sparsity: 0.0, \n",
      "Train Set objective: 0.17288477271422745, Train Set grad_norm: 8.805653123999946e-06, Train Set base_objective: 0.1702813186645508, Train Set accuracy: 0.911, Test Set nc_accuracy: 0.914, group_sparsity: 0.0, \n",
      "Train Set objective: 0.172867829374969, Train Set grad_norm: 1.2322847396717407e-05, Train Set base_objective: 0.17026660537719726, Train Set accuracy: 0.911, Test Set nc_accuracy: 0.914, group_sparsity: 0.0, \n",
      "Train Set objective: 0.17285036212392152, Train Set grad_norm: 1.1900905519723892e-05, Train Set base_objective: 0.17025207901000977, Train Set accuracy: 0.911, Test Set nc_accuracy: 0.914, group_sparsity: 0.0, \n",
      "Train Set objective: 0.17283294233679772, Train Set grad_norm: 1.0654922334651928e-05, Train Set base_objective: 0.17023749160766602, Train Set accuracy: 0.911, Test Set nc_accuracy: 0.914, group_sparsity: 0.0, \n",
      "Train Set objective: 0.1728161407802254, Train Set grad_norm: 1.0402059160696808e-05, Train Set base_objective: 0.17022355270385742, Train Set accuracy: 0.911, Test Set nc_accuracy: 0.914, group_sparsity: 0.0, \n",
      "Train Set objective: 0.17279961424320936, Train Set grad_norm: 1.1646638085949235e-05, Train Set base_objective: 0.1702098045349121, Train Set accuracy: 0.911, Test Set nc_accuracy: 0.914, group_sparsity: 0.0, \n",
      "Train Set objective: 0.1727827843800187, Train Set grad_norm: 1.2183601029391866e-05, Train Set base_objective: 0.1701956214904785, Train Set accuracy: 0.911, Test Set nc_accuracy: 0.914, group_sparsity: 0.0, \n",
      "Train Set objective: 0.17276584292389452, Train Set grad_norm: 1.0782993740576785e-05, Train Set base_objective: 0.17018131637573242, Train Set accuracy: 0.911, Test Set nc_accuracy: 0.914, group_sparsity: 0.0, \n",
      "Train Set objective: 0.17274899992905557, Train Set grad_norm: 1.0227221537206788e-05, Train Set base_objective: 0.17016722869873047, Train Set accuracy: 0.911, Test Set nc_accuracy: 0.914, group_sparsity: 0.0, \n",
      "Train Set objective: 0.17273227929137647, Train Set grad_norm: 9.79850119620096e-06, Train Set base_objective: 0.17015325546264648, Train Set accuracy: 0.911, Test Set nc_accuracy: 0.914, group_sparsity: 0.0, \n",
      "Train Set objective: 0.17271607625484467, Train Set grad_norm: 9.317689546151087e-06, Train Set base_objective: 0.17014021682739258, Train Set accuracy: 0.911, Test Set nc_accuracy: 0.914, group_sparsity: 0.0, \n",
      "Train Set objective: 0.1727000411208719, Train Set grad_norm: 1.079132744052913e-05, Train Set base_objective: 0.17012728881835937, Train Set accuracy: 0.911, Test Set nc_accuracy: 0.914, group_sparsity: 0.0, \n",
      "Train Set objective: 0.1726835799347609, Train Set grad_norm: 1.1097847163910046e-05, Train Set base_objective: 0.17011409378051756, Train Set accuracy: 0.911, Test Set nc_accuracy: 0.914, group_sparsity: 0.0, \n",
      "Train Set objective: 0.1726668328791857, Train Set grad_norm: 8.224203156714793e-06, Train Set base_objective: 0.17010061264038087, Train Set accuracy: 0.911, Test Set nc_accuracy: 0.914, group_sparsity: 0.0, \n",
      "Train Set objective: 0.1726501309219748, Train Set grad_norm: 5.602156306849793e-06, Train Set base_objective: 0.17008758544921876, Train Set accuracy: 0.911, Test Set nc_accuracy: 0.914, group_sparsity: 0.0, \n",
      "Train Set objective: 0.17263354605436326, Train Set grad_norm: 5.220776074565947e-06, Train Set base_objective: 0.17007520294189454, Train Set accuracy: 0.911, Test Set nc_accuracy: 0.914, group_sparsity: 0.0, \n",
      "Train Set objective: 0.17261738000437618, Train Set grad_norm: 5.691817932529375e-06, Train Set base_objective: 0.1700630569458008, Train Set accuracy: 0.911, Test Set nc_accuracy: 0.914, group_sparsity: 0.0, \n",
      "Train Set objective: 0.17260149848274886, Train Set grad_norm: 5.544155101233628e-06, Train Set base_objective: 0.17005113983154296, Train Set accuracy: 0.911, Test Set nc_accuracy: 0.914, group_sparsity: 0.0, \n",
      "Train Set objective: 0.17258607702516018, Train Set grad_norm: 4.391902166389627e-06, Train Set base_objective: 0.17003994750976562, Train Set accuracy: 0.911, Test Set nc_accuracy: 0.914, group_sparsity: 0.0, \n",
      "Train Set objective: 0.17257145057432355, Train Set grad_norm: 4.509792688622838e-06, Train Set base_objective: 0.17002977371215822, Train Set accuracy: 0.911, Test Set nc_accuracy: 0.914, group_sparsity: 0.0, \n",
      "Train Set objective: 0.17255758570320903, Train Set grad_norm: 5.959131613053614e-06, Train Set base_objective: 0.17002080154418944, Train Set accuracy: 0.911, Test Set nc_accuracy: 0.914, group_sparsity: 0.0, \n",
      "Train Set objective: 0.17254391677677633, Train Set grad_norm: 7.206063401099527e-06, Train Set base_objective: 0.17001207351684572, Train Set accuracy: 0.911, Test Set nc_accuracy: 0.914, group_sparsity: 0.0, \n",
      "Train Set objective: 0.1725307426005602, Train Set grad_norm: 8.065441761573311e-06, Train Set base_objective: 0.1700042190551758, Train Set accuracy: 0.911, Test Set nc_accuracy: 0.914, group_sparsity: 0.0, \n",
      "Train Set objective: 0.17251774604059755, Train Set grad_norm: 9.97051211015787e-06, Train Set base_objective: 0.1699963035583496, Train Set accuracy: 0.911, Test Set nc_accuracy: 0.914, group_sparsity: 0.0, \n",
      "Train Set objective: 0.1725043457504362, Train Set grad_norm: 1.0847174962691497e-05, Train Set base_objective: 0.1699879608154297, Train Set accuracy: 0.911, Test Set nc_accuracy: 0.914, group_sparsity: 0.0, \n",
      "Train Set objective: 0.17249072367511692, Train Set grad_norm: 1.0265139280818403e-05, Train Set base_objective: 0.16997927474975588, Train Set accuracy: 0.911, Test Set nc_accuracy: 0.914, group_sparsity: 0.0, \n",
      "Train Set objective: 0.1724769781026989, Train Set grad_norm: 1.0297947483195458e-05, Train Set base_objective: 0.16997030639648436, Train Set accuracy: 0.911, Test Set nc_accuracy: 0.914, group_sparsity: 0.0, \n",
      "Train Set objective: 0.17246332333795727, Train Set grad_norm: 1.1052063200622797e-05, Train Set base_objective: 0.169961238861084, Train Set accuracy: 0.911, Test Set nc_accuracy: 0.914, group_sparsity: 0.0, \n"
     ]
    },
    {
     "name": "stdout",
     "output_type": "stream",
     "text": [
      "Train Set objective: 0.17244913083314894, Train Set grad_norm: 9.256005796487443e-06, Train Set base_objective: 0.16995145034790038, Train Set accuracy: 0.911, Test Set nc_accuracy: 0.914, group_sparsity: 0.0, \n",
      "Train Set objective: 0.1724348678160459, Train Set grad_norm: 6.080458206270123e-06, Train Set base_objective: 0.1699416732788086, Train Set accuracy: 0.911, Test Set nc_accuracy: 0.914, group_sparsity: 0.0, \n",
      "Train Set objective: 0.17242089521326126, Train Set grad_norm: 4.317565526434919e-06, Train Set base_objective: 0.1699322967529297, Train Set accuracy: 0.911, Test Set nc_accuracy: 0.914, group_sparsity: 0.0, \n",
      "Train Set objective: 0.17240718961320817, Train Set grad_norm: 4.259708930476336e-06, Train Set base_objective: 0.1699234046936035, Train Set accuracy: 0.911, Test Set nc_accuracy: 0.914, group_sparsity: 0.0, \n",
      "Train Set objective: 0.17239387836679815, Train Set grad_norm: 5.1371189329074696e-06, Train Set base_objective: 0.16991471862792967, Train Set accuracy: 0.911, Test Set nc_accuracy: 0.914, group_sparsity: 0.0, \n",
      "Train Set objective: 0.17238069442287088, Train Set grad_norm: 5.636015885102097e-06, Train Set base_objective: 0.16990608978271485, Train Set accuracy: 0.911, Test Set nc_accuracy: 0.914, group_sparsity: 0.0, \n",
      "Train Set objective: 0.17236773439496755, Train Set grad_norm: 5.005870207241969e-06, Train Set base_objective: 0.1698978157043457, Train Set accuracy: 0.911, Test Set nc_accuracy: 0.914, group_sparsity: 0.0, \n",
      "Train Set objective: 0.17235498876683414, Train Set grad_norm: 5.580125616688747e-06, Train Set base_objective: 0.16988957977294922, Train Set accuracy: 0.911, Test Set nc_accuracy: 0.914, group_sparsity: 0.0, \n",
      "Train Set objective: 0.1723424269128591, Train Set grad_norm: 6.329284133244073e-06, Train Set base_objective: 0.16988184356689454, Train Set accuracy: 0.911, Test Set nc_accuracy: 0.914, group_sparsity: 0.0, \n",
      "Train Set objective: 0.17232996858097613, Train Set grad_norm: 6.48856075713411e-06, Train Set base_objective: 0.16987405395507812, Train Set accuracy: 0.911, Test Set nc_accuracy: 0.914, group_sparsity: 0.0, \n",
      "Train Set objective: 0.17231719065830112, Train Set grad_norm: 6.895007118146168e-06, Train Set base_objective: 0.1698658905029297, Train Set accuracy: 0.911, Test Set nc_accuracy: 0.914, group_sparsity: 0.0, \n",
      "Train Set objective: 0.17230418951623142, Train Set grad_norm: 6.893118552397937e-06, Train Set base_objective: 0.1698569450378418, Train Set accuracy: 0.911, Test Set nc_accuracy: 0.914, group_sparsity: 0.0, \n",
      "Train Set objective: 0.17229107627645135, Train Set grad_norm: 6.44534657112672e-06, Train Set base_objective: 0.16984844207763672, Train Set accuracy: 0.911, Test Set nc_accuracy: 0.914, group_sparsity: 0.0, \n",
      "Train Set objective: 0.1722780466284603, Train Set grad_norm: 6.1727982938464265e-06, Train Set base_objective: 0.1698393135070801, Train Set accuracy: 0.911, Test Set nc_accuracy: 0.914, group_sparsity: 0.0, \n",
      "Train Set objective: 0.17226518576405941, Train Set grad_norm: 6.733377631462645e-06, Train Set base_objective: 0.16983115768432616, Train Set accuracy: 0.911, Test Set nc_accuracy: 0.914, group_sparsity: 0.0, \n",
      "Train Set objective: 0.17225234617851676, Train Set grad_norm: 7.255889613588806e-06, Train Set base_objective: 0.16982200241088868, Train Set accuracy: 0.911, Test Set nc_accuracy: 0.914, group_sparsity: 0.0, \n",
      "Train Set objective: 0.1722392676435411, Train Set grad_norm: 8.379764949495438e-06, Train Set base_objective: 0.16981362915039064, Train Set accuracy: 0.911, Test Set nc_accuracy: 0.914, group_sparsity: 0.0, \n",
      "Train Set objective: 0.17222580449283123, Train Set grad_norm: 7.122446731955279e-06, Train Set base_objective: 0.16980327987670898, Train Set accuracy: 0.911, Test Set nc_accuracy: 0.914, group_sparsity: 0.0, \n",
      "Train Set objective: 0.17221240095421672, Train Set grad_norm: 5.395818334363867e-06, Train Set base_objective: 0.16979416275024414, Train Set accuracy: 0.911, Test Set nc_accuracy: 0.914, group_sparsity: 0.0, \n",
      "Train Set objective: 0.1721991568505764, Train Set grad_norm: 4.035421170556219e-06, Train Set base_objective: 0.16978409957885743, Train Set accuracy: 0.911, Test Set nc_accuracy: 0.914, group_sparsity: 0.0, \n",
      "Train Set objective: 0.17218622711487114, Train Set grad_norm: 3.6160395211481955e-06, Train Set base_objective: 0.16977518081665038, Train Set accuracy: 0.911, Test Set nc_accuracy: 0.914, group_sparsity: 0.0, \n",
      "Train Set objective: 0.17217365955933928, Train Set grad_norm: 3.2199593533732696e-06, Train Set base_objective: 0.1697661781311035, Train Set accuracy: 0.911, Test Set nc_accuracy: 0.914, group_sparsity: 0.0, \n",
      "Train Set objective: 0.17216156066954136, Train Set grad_norm: 3.224475449314923e-06, Train Set base_objective: 0.16975824737548828, Train Set accuracy: 0.911, Test Set nc_accuracy: 0.914, group_sparsity: 0.0, \n",
      "Train Set objective: 0.17214996654540302, Train Set grad_norm: 3.630724222603021e-06, Train Set base_objective: 0.16975061416625978, Train Set accuracy: 0.911, Test Set nc_accuracy: 0.914, group_sparsity: 0.0, \n",
      "Train Set objective: 0.1721386248022318, Train Set grad_norm: 4.4034327402187046e-06, Train Set base_objective: 0.16974365615844728, Train Set accuracy: 0.911, Test Set nc_accuracy: 0.914, group_sparsity: 0.0, \n",
      "Train Set objective: 0.1721275496352464, Train Set grad_norm: 4.871307737630559e-06, Train Set base_objective: 0.1697366180419922, Train Set accuracy: 0.911, Test Set nc_accuracy: 0.914, group_sparsity: 0.0, \n",
      "Train Set objective: 0.17211688601225614, Train Set grad_norm: 5.0202479542349465e-06, Train Set base_objective: 0.16973035049438476, Train Set accuracy: 0.911, Test Set nc_accuracy: 0.914, group_sparsity: 0.0, \n",
      "Train Set objective: 0.17210681779310105, Train Set grad_norm: 7.310867204068927e-06, Train Set base_objective: 0.16972450256347654, Train Set accuracy: 0.911, Test Set nc_accuracy: 0.914, group_sparsity: 0.0, \n",
      "Train Set objective: 0.17209675602428615, Train Set grad_norm: 1.3617584045277908e-05, Train Set base_objective: 0.1697181053161621, Train Set accuracy: 0.911, Test Set nc_accuracy: 0.914, group_sparsity: 0.0, \n",
      "Train Set objective: 0.17208584022521972, Train Set grad_norm: 1.1940515832975507e-05, Train Set base_objective: 0.16971095275878906, Train Set accuracy: 0.911, Test Set nc_accuracy: 0.914, group_sparsity: 0.0, \n",
      "Train Set objective: 0.1720747700650245, Train Set grad_norm: 7.474177891708678e-06, Train Set base_objective: 0.16970365142822266, Train Set accuracy: 0.911, Test Set nc_accuracy: 0.914, group_sparsity: 0.0, \n",
      "Train Set objective: 0.17206373423524202, Train Set grad_norm: 5.090345439384691e-06, Train Set base_objective: 0.1696964340209961, Train Set accuracy: 0.911, Test Set nc_accuracy: 0.914, group_sparsity: 0.0, \n",
      "Train Set objective: 0.17205271863564847, Train Set grad_norm: 3.879139967466472e-06, Train Set base_objective: 0.16968943405151365, Train Set accuracy: 0.911, Test Set nc_accuracy: 0.914, group_sparsity: 0.0, \n",
      "Train Set objective: 0.17204157206043602, Train Set grad_norm: 3.3771657399483956e-06, Train Set base_objective: 0.1696824188232422, Train Set accuracy: 0.911, Test Set nc_accuracy: 0.914, group_sparsity: 0.0, \n",
      "Train Set objective: 0.17203004800900817, Train Set grad_norm: 3.1815270631341264e-06, Train Set base_objective: 0.16967503356933594, Train Set accuracy: 0.911, Test Set nc_accuracy: 0.914, group_sparsity: 0.0, \n",
      "Train Set objective: 0.17201801434531808, Train Set grad_norm: 4.216313300275942e-06, Train Set base_objective: 0.16966668701171875, Train Set accuracy: 0.911, Test Set nc_accuracy: 0.914, group_sparsity: 0.0, \n",
      "Train Set objective: 0.1720060617867857, Train Set grad_norm: 6.614027370233089e-06, Train Set base_objective: 0.16965859222412108, Train Set accuracy: 0.911, Test Set nc_accuracy: 0.914, group_sparsity: 0.0, \n",
      "Train Set objective: 0.17199416120536626, Train Set grad_norm: 7.386863671854371e-06, Train Set base_objective: 0.16964996337890625, Train Set accuracy: 0.911, Test Set nc_accuracy: 0.914, group_sparsity: 0.0, \n",
      "Train Set objective: 0.1719818870369345, Train Set grad_norm: 7.4625190791266505e-06, Train Set base_objective: 0.1696413688659668, Train Set accuracy: 0.911, Test Set nc_accuracy: 0.914, group_sparsity: 0.0, \n"
     ]
    },
    {
     "name": "stdout",
     "output_type": "stream",
     "text": [
      "Train Set objective: 0.17196953897736966, Train Set grad_norm: 5.339948984328657e-06, Train Set base_objective: 0.1696316680908203, Train Set accuracy: 0.911, Test Set nc_accuracy: 0.914, group_sparsity: 0.0, \n",
      "Train Set objective: 0.17195734025351703, Train Set grad_norm: 4.526202701526927e-06, Train Set base_objective: 0.16962287521362304, Train Set accuracy: 0.911, Test Set nc_accuracy: 0.914, group_sparsity: 0.0, \n",
      "Train Set objective: 0.17194542548060415, Train Set grad_norm: 3.0663927645946387e-06, Train Set base_objective: 0.16961347198486326, Train Set accuracy: 0.911, Test Set nc_accuracy: 0.914, group_sparsity: 0.0, \n",
      "Train Set objective: 0.1719339463301003, Train Set grad_norm: 2.66384995484259e-06, Train Set base_objective: 0.16960512161254884, Train Set accuracy: 0.911, Test Set nc_accuracy: 0.914, group_sparsity: 0.0, \n",
      "Train Set objective: 0.17192291673645377, Train Set grad_norm: 2.5933886718121357e-06, Train Set base_objective: 0.16959685897827148, Train Set accuracy: 0.911, Test Set nc_accuracy: 0.914, group_sparsity: 0.0, \n",
      "Train Set objective: 0.17191232583113014, Train Set grad_norm: 3.0123569558782037e-06, Train Set base_objective: 0.16958956146240234, Train Set accuracy: 0.911, Test Set nc_accuracy: 0.914, group_sparsity: 0.0, \n",
      "Train Set objective: 0.1719019236844033, Train Set grad_norm: 3.5244991067884257e-06, Train Set base_objective: 0.1695821418762207, Train Set accuracy: 0.911, Test Set nc_accuracy: 0.914, group_sparsity: 0.0, \n",
      "Train Set objective: 0.17189184281788766, Train Set grad_norm: 3.1818622119317297e-06, Train Set base_objective: 0.1695754165649414, Train Set accuracy: 0.911, Test Set nc_accuracy: 0.914, group_sparsity: 0.0, \n",
      "Train Set objective: 0.17188230034708976, Train Set grad_norm: 3.3730416362232063e-06, Train Set base_objective: 0.16956912231445312, Train Set accuracy: 0.911, Test Set nc_accuracy: 0.914, group_sparsity: 0.0, \n",
      "Train Set objective: 0.17187326966039837, Train Set grad_norm: 5.343226803233847e-06, Train Set base_objective: 0.16956366348266602, Train Set accuracy: 0.911, Test Set nc_accuracy: 0.914, group_sparsity: 0.0, \n",
      "Train Set objective: 0.171864361429587, Train Set grad_norm: 7.1063459472497925e-06, Train Set base_objective: 0.16955807495117187, Train Set accuracy: 0.911, Test Set nc_accuracy: 0.914, group_sparsity: 0.0, \n",
      "Train Set objective: 0.17185521533153952, Train Set grad_norm: 6.724641480104765e-06, Train Set base_objective: 0.16955258941650392, Train Set accuracy: 0.911, Test Set nc_accuracy: 0.914, group_sparsity: 0.0, \n",
      "Train Set objective: 0.1718461372014135, Train Set grad_norm: 5.950227205175906e-06, Train Set base_objective: 0.16954712295532226, Train Set accuracy: 0.911, Test Set nc_accuracy: 0.914, group_sparsity: 0.0, \n",
      "Train Set objective: 0.17183711379021407, Train Set grad_norm: 5.811093160446035e-06, Train Set base_objective: 0.16954155731201173, Train Set accuracy: 0.911, Test Set nc_accuracy: 0.914, group_sparsity: 0.0, \n",
      "Train Set objective: 0.1718279429078102, Train Set grad_norm: 5.634762601403054e-06, Train Set base_objective: 0.1695355110168457, Train Set accuracy: 0.911, Test Set nc_accuracy: 0.914, group_sparsity: 0.0, \n",
      "Train Set objective: 0.1718188722245395, Train Set grad_norm: 5.177473212825134e-06, Train Set base_objective: 0.16952966690063476, Train Set accuracy: 0.911, Test Set nc_accuracy: 0.914, group_sparsity: 0.0, \n",
      "Train Set objective: 0.17180980207398533, Train Set grad_norm: 5.907780177949462e-06, Train Set base_objective: 0.16952346801757812, Train Set accuracy: 0.911, Test Set nc_accuracy: 0.914, group_sparsity: 0.0, \n",
      "Train Set objective: 0.17180068322271108, Train Set grad_norm: 5.364189746615011e-06, Train Set base_objective: 0.1695173568725586, Train Set accuracy: 0.911, Test Set nc_accuracy: 0.914, group_sparsity: 0.0, \n",
      "Train Set objective: 0.1717918926831335, Train Set grad_norm: 5.415800387709169e-06, Train Set base_objective: 0.1695116539001465, Train Set accuracy: 0.911, Test Set nc_accuracy: 0.914, group_sparsity: 0.0, \n",
      "Train Set objective: 0.17178319684043525, Train Set grad_norm: 6.871587174828164e-06, Train Set base_objective: 0.1695057792663574, Train Set accuracy: 0.911, Test Set nc_accuracy: 0.914, group_sparsity: 0.0, \n",
      "Train Set objective: 0.1717741335593164, Train Set grad_norm: 5.487104772328166e-06, Train Set base_objective: 0.16949979400634765, Train Set accuracy: 0.911, Test Set nc_accuracy: 0.914, group_sparsity: 0.0, \n",
      "Train Set objective: 0.17176518434472382, Train Set grad_norm: 3.7407787658594316e-06, Train Set base_objective: 0.16949387741088867, Train Set accuracy: 0.911, Test Set nc_accuracy: 0.914, group_sparsity: 0.0, \n",
      "Train Set objective: 0.17175645945966245, Train Set grad_norm: 3.131533958367072e-06, Train Set base_objective: 0.16948827362060548, Train Set accuracy: 0.911, Test Set nc_accuracy: 0.914, group_sparsity: 0.0, \n",
      "Train Set objective: 0.1717476667650044, Train Set grad_norm: 3.164040663250489e-06, Train Set base_objective: 0.16948272705078124, Train Set accuracy: 0.911, Test Set nc_accuracy: 0.914, group_sparsity: 0.0, \n",
      "Train Set objective: 0.1717387675177306, Train Set grad_norm: 3.914370608981699e-06, Train Set base_objective: 0.16947685623168945, Train Set accuracy: 0.911, Test Set nc_accuracy: 0.914, group_sparsity: 0.0, \n",
      "Train Set objective: 0.17172975424118342, Train Set grad_norm: 5.278116077533923e-06, Train Set base_objective: 0.16947087860107424, Train Set accuracy: 0.911, Test Set nc_accuracy: 0.914, group_sparsity: 0.0, \n",
      "Train Set objective: 0.17172089629620313, Train Set grad_norm: 4.856770374317421e-06, Train Set base_objective: 0.16946496200561523, Train Set accuracy: 0.911, Test Set nc_accuracy: 0.914, group_sparsity: 0.0, \n",
      "Train Set objective: 0.1717122630365193, Train Set grad_norm: 4.235565484123072e-06, Train Set base_objective: 0.16945942306518555, Train Set accuracy: 0.911, Test Set nc_accuracy: 0.914, group_sparsity: 0.0, \n",
      "Train Set objective: 0.17170367647893725, Train Set grad_norm: 5.0530356929812115e-06, Train Set base_objective: 0.16945312499999998, Train Set accuracy: 0.911, Test Set nc_accuracy: 0.914, group_sparsity: 0.0, \n",
      "Train Set objective: 0.17169502528011799, Train Set grad_norm: 4.7664993871876504e-06, Train Set base_objective: 0.16944692993164062, Train Set accuracy: 0.911, Test Set nc_accuracy: 0.914, group_sparsity: 0.0, \n",
      "Train Set objective: 0.17168628759682178, Train Set grad_norm: 3.304569190731854e-06, Train Set base_objective: 0.1694406509399414, Train Set accuracy: 0.911, Test Set nc_accuracy: 0.914, group_sparsity: 0.0, \n",
      "Train Set objective: 0.17167780723050236, Train Set grad_norm: 2.315148549314472e-06, Train Set base_objective: 0.16943476104736327, Train Set accuracy: 0.911, Test Set nc_accuracy: 0.914, group_sparsity: 0.0, \n",
      "Train Set objective: 0.17166965911723675, Train Set grad_norm: 2.0001882603537524e-06, Train Set base_objective: 0.16942924880981447, Train Set accuracy: 0.911, Test Set nc_accuracy: 0.914, group_sparsity: 0.0, \n",
      "Train Set objective: 0.1716618009880185, Train Set grad_norm: 1.8938911807708791e-06, Train Set base_objective: 0.1694241485595703, Train Set accuracy: 0.911, Test Set nc_accuracy: 0.914, group_sparsity: 0.0, \n",
      "Train Set objective: 0.17165422109514475, Train Set grad_norm: 1.868244908109773e-06, Train Set base_objective: 0.16941942596435547, Train Set accuracy: 0.911, Test Set nc_accuracy: 0.914, group_sparsity: 0.0, \n",
      "Train Set objective: 0.1716469038054347, Train Set grad_norm: 1.855244477155793e-06, Train Set base_objective: 0.16941501998901368, Train Set accuracy: 0.911, Test Set nc_accuracy: 0.914, group_sparsity: 0.0, \n",
      "Train Set objective: 0.17163987576775253, Train Set grad_norm: 1.904759074022877e-06, Train Set base_objective: 0.1694109649658203, Train Set accuracy: 0.911, Test Set nc_accuracy: 0.914, group_sparsity: 0.0, \n",
      "Train Set objective: 0.17163316404633225, Train Set grad_norm: 2.0467068679863587e-06, Train Set base_objective: 0.16940720367431641, Train Set accuracy: 0.911, Test Set nc_accuracy: 0.914, group_sparsity: 0.0, \n",
      "Train Set objective: 0.17162681663408874, Train Set grad_norm: 2.535148951210431e-06, Train Set base_objective: 0.1694038963317871, Train Set accuracy: 0.911, Test Set nc_accuracy: 0.914, group_sparsity: 0.0, \n",
      "Train Set objective: 0.17162075619958342, Train Set grad_norm: 3.5087339256278938e-06, Train Set base_objective: 0.16940093231201173, Train Set accuracy: 0.911, Test Set nc_accuracy: 0.914, group_sparsity: 0.0, \n",
      "Train Set objective: 0.1716145103611052, Train Set grad_norm: 4.2445262806722894e-06, Train Set base_objective: 0.16939746856689453, Train Set accuracy: 0.911, Test Set nc_accuracy: 0.914, group_sparsity: 0.0, \n"
     ]
    },
    {
     "name": "stdout",
     "output_type": "stream",
     "text": [
      "Train Set objective: 0.17160837218165398, Train Set grad_norm: 4.629348040907644e-06, Train Set base_objective: 0.16939395904541016, Train Set accuracy: 0.911, Test Set nc_accuracy: 0.914, group_sparsity: 0.0, \n",
      "Train Set objective: 0.17160215246118604, Train Set grad_norm: 3.955269221478375e-06, Train Set base_objective: 0.1693903579711914, Train Set accuracy: 0.911, Test Set nc_accuracy: 0.914, group_sparsity: 0.0, \n",
      "Train Set objective: 0.17159580134227873, Train Set grad_norm: 3.164104100505938e-06, Train Set base_objective: 0.16938655471801758, Train Set accuracy: 0.911, Test Set nc_accuracy: 0.914, group_sparsity: 0.0, \n",
      "Train Set objective: 0.1715893208067864, Train Set grad_norm: 3.110141733486671e-06, Train Set base_objective: 0.16938271331787108, Train Set accuracy: 0.911, Test Set nc_accuracy: 0.914, group_sparsity: 0.0, \n",
      "Train Set objective: 0.1715827283207327, Train Set grad_norm: 3.62742252946191e-06, Train Set base_objective: 0.16937825775146484, Train Set accuracy: 0.911, Test Set nc_accuracy: 0.914, group_sparsity: 0.0, \n",
      "Train Set objective: 0.17157614200562238, Train Set grad_norm: 4.71398971058079e-06, Train Set base_objective: 0.16937401580810546, Train Set accuracy: 0.911, Test Set nc_accuracy: 0.914, group_sparsity: 0.0, \n",
      "Train Set objective: 0.17156947167217731, Train Set grad_norm: 3.4366341878921958e-06, Train Set base_objective: 0.16936935806274414, Train Set accuracy: 0.911, Test Set nc_accuracy: 0.914, group_sparsity: 0.0, \n",
      "Train Set objective: 0.17156282504089176, Train Set grad_norm: 4.159691343375016e-06, Train Set base_objective: 0.16936450958251953, Train Set accuracy: 0.911, Test Set nc_accuracy: 0.914, group_sparsity: 0.0, \n",
      "Train Set objective: 0.17155599506385624, Train Set grad_norm: 4.3492168515513185e-06, Train Set base_objective: 0.16935967636108398, Train Set accuracy: 0.911, Test Set nc_accuracy: 0.914, group_sparsity: 0.0, \n",
      "Train Set objective: 0.17154898946732283, Train Set grad_norm: 4.697565600508824e-06, Train Set base_objective: 0.1693541946411133, Train Set accuracy: 0.911, Test Set nc_accuracy: 0.914, group_sparsity: 0.0, \n",
      "Train Set objective: 0.17154174254275859, Train Set grad_norm: 4.522652488958556e-06, Train Set base_objective: 0.16934892654418945, Train Set accuracy: 0.911, Test Set nc_accuracy: 0.914, group_sparsity: 0.0, \n",
      "Train Set objective: 0.17153438637778162, Train Set grad_norm: 4.278042979422025e-06, Train Set base_objective: 0.16934289169311523, Train Set accuracy: 0.911, Test Set nc_accuracy: 0.914, group_sparsity: 0.0, \n",
      "Train Set objective: 0.1715270825009793, Train Set grad_norm: 3.104402367171133e-06, Train Set base_objective: 0.16933757781982423, Train Set accuracy: 0.911, Test Set nc_accuracy: 0.914, group_sparsity: 0.0, \n",
      "Train Set objective: 0.17151996825262905, Train Set grad_norm: 2.492266730769188e-06, Train Set base_objective: 0.16933187103271485, Train Set accuracy: 0.911, Test Set nc_accuracy: 0.914, group_sparsity: 0.0, \n",
      "Train Set objective: 0.1715130575094372, Train Set grad_norm: 2.506184500816744e-06, Train Set base_objective: 0.16932682037353516, Train Set accuracy: 0.911, Test Set nc_accuracy: 0.914, group_sparsity: 0.0, \n",
      "Train Set objective: 0.17150627695769072, Train Set grad_norm: 2.4874680093489587e-06, Train Set base_objective: 0.16932168197631836, Train Set accuracy: 0.911, Test Set nc_accuracy: 0.914, group_sparsity: 0.0, \n",
      "Train Set objective: 0.17149959350004793, Train Set grad_norm: 2.503661789887701e-06, Train Set base_objective: 0.16931692123413086, Train Set accuracy: 0.911, Test Set nc_accuracy: 0.914, group_sparsity: 0.0, \n",
      "Train Set objective: 0.17149298497848214, Train Set grad_norm: 2.3734044134471333e-06, Train Set base_objective: 0.16931214904785158, Train Set accuracy: 0.911, Test Set nc_accuracy: 0.914, group_sparsity: 0.0, \n",
      "Train Set objective: 0.17148650469630958, Train Set grad_norm: 2.224162699349108e-06, Train Set base_objective: 0.1693077621459961, Train Set accuracy: 0.911, Test Set nc_accuracy: 0.914, group_sparsity: 0.0, \n",
      "Train Set objective: 0.17148018907196821, Train Set grad_norm: 2.1427431420306675e-06, Train Set base_objective: 0.16930356597900392, Train Set accuracy: 0.911, Test Set nc_accuracy: 0.914, group_sparsity: 0.0, \n",
      "Train Set objective: 0.17147409932874144, Train Set grad_norm: 2.1816304069943726e-06, Train Set base_objective: 0.16929985809326173, Train Set accuracy: 0.911, Test Set nc_accuracy: 0.914, group_sparsity: 0.0, \n",
      "Train Set objective: 0.17146827283129096, Train Set grad_norm: 2.418636086076731e-06, Train Set base_objective: 0.16929652404785156, Train Set accuracy: 0.911, Test Set nc_accuracy: 0.914, group_sparsity: 0.0, \n",
      "Train Set objective: 0.17146268215589225, Train Set grad_norm: 2.9767295472993283e-06, Train Set base_objective: 0.1692936553955078, Train Set accuracy: 0.911, Test Set nc_accuracy: 0.914, group_sparsity: 0.0, \n",
      "Train Set objective: 0.17145703920535743, Train Set grad_norm: 3.5363491406315006e-06, Train Set base_objective: 0.1692906723022461, Train Set accuracy: 0.911, Test Set nc_accuracy: 0.914, group_sparsity: 0.0, \n",
      "Train Set objective: 0.17145131824165583, Train Set grad_norm: 3.6519595596473664e-06, Train Set base_objective: 0.1692876091003418, Train Set accuracy: 0.911, Test Set nc_accuracy: 0.914, group_sparsity: 0.0, \n",
      "Train Set objective: 0.17144552666135132, Train Set grad_norm: 2.997371211677091e-06, Train Set base_objective: 0.16928447341918945, Train Set accuracy: 0.911, Test Set nc_accuracy: 0.914, group_sparsity: 0.0, \n",
      "Train Set objective: 0.17143964707106352, Train Set grad_norm: 2.624026592457085e-06, Train Set base_objective: 0.1692813377380371, Train Set accuracy: 0.911, Test Set nc_accuracy: 0.914, group_sparsity: 0.0, \n",
      "Train Set objective: 0.17143364975973963, Train Set grad_norm: 2.7089056402473943e-06, Train Set base_objective: 0.16927815628051757, Train Set accuracy: 0.911, Test Set nc_accuracy: 0.914, group_sparsity: 0.0, \n",
      "Train Set objective: 0.17142740891687572, Train Set grad_norm: 4.070706381753553e-06, Train Set base_objective: 0.16927472686767578, Train Set accuracy: 0.911, Test Set nc_accuracy: 0.914, group_sparsity: 0.0, \n",
      "Train Set objective: 0.17142126475088298, Train Set grad_norm: 5.159651664143894e-06, Train Set base_objective: 0.1692713394165039, Train Set accuracy: 0.911, Test Set nc_accuracy: 0.914, group_sparsity: 0.0, \n",
      "Train Set objective: 0.1714151800647378, Train Set grad_norm: 5.538802270166343e-06, Train Set base_objective: 0.16926793670654297, Train Set accuracy: 0.911, Test Set nc_accuracy: 0.914, group_sparsity: 0.0, \n",
      "Train Set objective: 0.1714091551285237, Train Set grad_norm: 6.076396857679356e-06, Train Set base_objective: 0.1692640037536621, Train Set accuracy: 0.911, Test Set nc_accuracy: 0.914, group_sparsity: 0.0, \n",
      "Train Set objective: 0.17140270996652546, Train Set grad_norm: 4.838573659071699e-06, Train Set base_objective: 0.16926013183593752, Train Set accuracy: 0.911, Test Set nc_accuracy: 0.914, group_sparsity: 0.0, \n",
      "Train Set objective: 0.1713961389493197, Train Set grad_norm: 3.207619101885939e-06, Train Set base_objective: 0.16925581741333007, Train Set accuracy: 0.911, Test Set nc_accuracy: 0.914, group_sparsity: 0.0, \n",
      "Train Set objective: 0.17138976202346384, Train Set grad_norm: 2.3781194613547996e-06, Train Set base_objective: 0.1692519760131836, Train Set accuracy: 0.911, Test Set nc_accuracy: 0.914, group_sparsity: 0.0, \n",
      "Train Set objective: 0.17138355952687562, Train Set grad_norm: 2.1019441192038357e-06, Train Set base_objective: 0.169248046875, Train Set accuracy: 0.911, Test Set nc_accuracy: 0.914, group_sparsity: 0.0, \n",
      "Train Set objective: 0.17137750867940485, Train Set grad_norm: 2.050993998636841e-06, Train Set base_objective: 0.16924446868896484, Train Set accuracy: 0.911, Test Set nc_accuracy: 0.914, group_sparsity: 0.0, \n",
      "Train Set objective: 0.17137154047377406, Train Set grad_norm: 2.022896524067619e-06, Train Set base_objective: 0.16924076080322265, Train Set accuracy: 0.911, Test Set nc_accuracy: 0.914, group_sparsity: 0.0, \n",
      "Train Set objective: 0.17136565636470913, Train Set grad_norm: 2.0179111288598506e-06, Train Set base_objective: 0.1692372932434082, Train Set accuracy: 0.911, Test Set nc_accuracy: 0.914, group_sparsity: 0.0, \n",
      "Train Set objective: 0.17135987001098693, Train Set grad_norm: 2.0112570382480044e-06, Train Set base_objective: 0.1692337646484375, Train Set accuracy: 0.911, Test Set nc_accuracy: 0.914, group_sparsity: 0.0, \n",
      "Train Set objective: 0.1713540553338826, Train Set grad_norm: 2.093862121910206e-06, Train Set base_objective: 0.1692304382324219, Train Set accuracy: 0.911, Test Set nc_accuracy: 0.914, group_sparsity: 0.0, \n",
      "Train Set objective: 0.1713481191303581, Train Set grad_norm: 2.4154496713890694e-06, Train Set base_objective: 0.16922681427001954, Train Set accuracy: 0.911, Test Set nc_accuracy: 0.914, group_sparsity: 0.0, \n"
     ]
    },
    {
     "name": "stdout",
     "output_type": "stream",
     "text": [
      "Train Set objective: 0.1713421232048422, Train Set grad_norm: 3.6363235267344862e-06, Train Set base_objective: 0.16922345352172852, Train Set accuracy: 0.911, Test Set nc_accuracy: 0.914, group_sparsity: 0.0, \n",
      "Train Set objective: 0.17133618392795325, Train Set grad_norm: 2.61579316429561e-06, Train Set base_objective: 0.1692196388244629, Train Set accuracy: 0.911, Test Set nc_accuracy: 0.914, group_sparsity: 0.0, \n",
      "Train Set objective: 0.17133051013201475, Train Set grad_norm: 2.4495013803971233e-06, Train Set base_objective: 0.16921629333496094, Train Set accuracy: 0.911, Test Set nc_accuracy: 0.914, group_sparsity: 0.0, \n",
      "Train Set objective: 0.17132488721609118, Train Set grad_norm: 2.6667378278943943e-06, Train Set base_objective: 0.16921253585815432, Train Set accuracy: 0.911, Test Set nc_accuracy: 0.914, group_sparsity: 0.0, \n",
      "Train Set objective: 0.17131932622008025, Train Set grad_norm: 2.857285380741814e-06, Train Set base_objective: 0.16920912551879883, Train Set accuracy: 0.911, Test Set nc_accuracy: 0.914, group_sparsity: 0.0, \n",
      "Train Set objective: 0.17131385168246926, Train Set grad_norm: 2.5711590296850773e-06, Train Set base_objective: 0.16920553970336916, Train Set accuracy: 0.911, Test Set nc_accuracy: 0.914, group_sparsity: 0.0, \n",
      "Train Set objective: 0.17130861545167864, Train Set grad_norm: 3.097925855399808e-06, Train Set base_objective: 0.16920254516601563, Train Set accuracy: 0.911, Test Set nc_accuracy: 0.914, group_sparsity: 0.0, \n",
      "Train Set objective: 0.17130324745737016, Train Set grad_norm: 3.6758299302164232e-06, Train Set base_objective: 0.16919905471801758, Train Set accuracy: 0.911, Test Set nc_accuracy: 0.914, group_sparsity: 0.0, \n",
      "Train Set objective: 0.17129784866794945, Train Set grad_norm: 3.044976665478316e-06, Train Set base_objective: 0.16919577026367189, Train Set accuracy: 0.911, Test Set nc_accuracy: 0.914, group_sparsity: 0.0, \n",
      "Train Set objective: 0.1712926236446947, Train Set grad_norm: 2.272067149533541e-06, Train Set base_objective: 0.16919240951538086, Train Set accuracy: 0.911, Test Set nc_accuracy: 0.914, group_sparsity: 0.0, \n",
      "Train Set objective: 0.17128748074360192, Train Set grad_norm: 1.9958490611315938e-06, Train Set base_objective: 0.16918940353393555, Train Set accuracy: 0.911, Test Set nc_accuracy: 0.914, group_sparsity: 0.0, \n",
      "Train Set objective: 0.17128231369517743, Train Set grad_norm: 2.1065377495688153e-06, Train Set base_objective: 0.16918604278564453, Train Set accuracy: 0.911, Test Set nc_accuracy: 0.914, group_sparsity: 0.0, \n",
      "Train Set objective: 0.171277183432132, Train Set grad_norm: 3.011479293490993e-06, Train Set base_objective: 0.16918320846557616, Train Set accuracy: 0.911, Test Set nc_accuracy: 0.914, group_sparsity: 0.0, \n",
      "Train Set objective: 0.17127210575528443, Train Set grad_norm: 2.738042894634418e-06, Train Set base_objective: 0.16917935943603515, Train Set accuracy: 0.911, Test Set nc_accuracy: 0.914, group_sparsity: 0.0, \n",
      "Train Set objective: 0.17126720361411574, Train Set grad_norm: 2.2869410258863354e-06, Train Set base_objective: 0.1691764831542969, Train Set accuracy: 0.911, Test Set nc_accuracy: 0.914, group_sparsity: 0.0, \n",
      "Train Set objective: 0.17126251833513378, Train Set grad_norm: 1.7212289549206616e-06, Train Set base_objective: 0.16917293548583984, Train Set accuracy: 0.911, Test Set nc_accuracy: 0.914, group_sparsity: 0.0, \n",
      "Train Set objective: 0.1712580694705248, Train Set grad_norm: 1.80314111730695e-06, Train Set base_objective: 0.16917029571533204, Train Set accuracy: 0.911, Test Set nc_accuracy: 0.914, group_sparsity: 0.0, \n",
      "Train Set objective: 0.17125386139564217, Train Set grad_norm: 1.6991095890261931e-06, Train Set base_objective: 0.1691674690246582, Train Set accuracy: 0.911, Test Set nc_accuracy: 0.914, group_sparsity: 0.0, \n",
      "Train Set objective: 0.17124993266910316, Train Set grad_norm: 1.827098799367377e-06, Train Set base_objective: 0.16916545486450196, Train Set accuracy: 0.911, Test Set nc_accuracy: 0.914, group_sparsity: 0.0, \n",
      "Train Set objective: 0.17124627716094254, Train Set grad_norm: 2.004616590056685e-06, Train Set base_objective: 0.16916342544555663, Train Set accuracy: 0.911, Test Set nc_accuracy: 0.914, group_sparsity: 0.0, \n",
      "Train Set objective: 0.17124285895377397, Train Set grad_norm: 2.4755363483563997e-06, Train Set base_objective: 0.1691620635986328, Train Set accuracy: 0.911, Test Set nc_accuracy: 0.914, group_sparsity: 0.0, \n",
      "Train Set objective: 0.1712395556997508, Train Set grad_norm: 3.1874039905233076e-06, Train Set base_objective: 0.16916053009033205, Train Set accuracy: 0.911, Test Set nc_accuracy: 0.914, group_sparsity: 0.0, \n",
      "Train Set objective: 0.17123610699921848, Train Set grad_norm: 3.7552015328401467e-06, Train Set base_objective: 0.1691589698791504, Train Set accuracy: 0.911, Test Set nc_accuracy: 0.914, group_sparsity: 0.0, \n",
      "Train Set objective: 0.17123244132287802, Train Set grad_norm: 3.4929043977172114e-06, Train Set base_objective: 0.16915681457519532, Train Set accuracy: 0.911, Test Set nc_accuracy: 0.914, group_sparsity: 0.0, \n",
      "Train Set objective: 0.1712285791579634, Train Set grad_norm: 2.952622025986784e-06, Train Set base_objective: 0.16915459060668947, Train Set accuracy: 0.911, Test Set nc_accuracy: 0.914, group_sparsity: 0.0, \n",
      "Train Set objective: 0.17122453312762081, Train Set grad_norm: 2.4408791432506405e-06, Train Set base_objective: 0.16915191268920898, Train Set accuracy: 0.911, Test Set nc_accuracy: 0.914, group_sparsity: 0.0, \n",
      "Train Set objective: 0.1712203511297703, Train Set grad_norm: 2.341975914532668e-06, Train Set base_objective: 0.16914956283569338, Train Set accuracy: 0.911, Test Set nc_accuracy: 0.914, group_sparsity: 0.0, \n",
      "Train Set objective: 0.17121624458022416, Train Set grad_norm: 3.0967662496550474e-06, Train Set base_objective: 0.16914643859863282, Train Set accuracy: 0.911, Test Set nc_accuracy: 0.914, group_sparsity: 0.0, \n",
      "Train Set objective: 0.1712123405914754, Train Set grad_norm: 1.7434763321944047e-06, Train Set base_objective: 0.16914431762695314, Train Set accuracy: 0.911, Test Set nc_accuracy: 0.914, group_sparsity: 0.0, \n",
      "Train Set objective: 0.17120892102085056, Train Set grad_norm: 1.550989281895454e-06, Train Set base_objective: 0.16914206314086916, Train Set accuracy: 0.911, Test Set nc_accuracy: 0.914, group_sparsity: 0.0, \n",
      "Train Set objective: 0.17120590859651566, Train Set grad_norm: 1.7266363556700526e-06, Train Set base_objective: 0.16914036178588868, Train Set accuracy: 0.911, Test Set nc_accuracy: 0.914, group_sparsity: 0.0, \n",
      "Train Set objective: 0.17120323953963817, Train Set grad_norm: 2.1205851226113737e-06, Train Set base_objective: 0.16913924407958986, Train Set accuracy: 0.911, Test Set nc_accuracy: 0.914, group_sparsity: 0.0, \n",
      "Train Set objective: 0.17120076247304677, Train Set grad_norm: 2.6332811557949753e-06, Train Set base_objective: 0.1691387481689453, Train Set accuracy: 0.911, Test Set nc_accuracy: 0.914, group_sparsity: 0.0, \n",
      "Train Set objective: 0.17119816398620608, Train Set grad_norm: 3.1180502446659375e-06, Train Set base_objective: 0.16913798904418947, Train Set accuracy: 0.911, Test Set nc_accuracy: 0.914, group_sparsity: 0.0, \n",
      "Train Set objective: 0.171195638589561, Train Set grad_norm: 3.1217382456816267e-06, Train Set base_objective: 0.16913724899291993, Train Set accuracy: 0.911, Test Set nc_accuracy: 0.914, group_sparsity: 0.0, \n",
      "Train Set objective: 0.17119315421022474, Train Set grad_norm: 3.620211373345228e-06, Train Set base_objective: 0.16913642120361327, Train Set accuracy: 0.911, Test Set nc_accuracy: 0.914, group_sparsity: 0.0, \n",
      "Train Set objective: 0.17119020458497108, Train Set grad_norm: 3.858085619867779e-06, Train Set base_objective: 0.16913502502441408, Train Set accuracy: 0.911, Test Set nc_accuracy: 0.914, group_sparsity: 0.0, \n",
      "Train Set objective: 0.17118702006712555, Train Set grad_norm: 3.024181523869629e-06, Train Set base_objective: 0.16913321304321288, Train Set accuracy: 0.911, Test Set nc_accuracy: 0.914, group_sparsity: 0.0, \n",
      "Train Set objective: 0.17118388336524368, Train Set grad_norm: 2.5391846065758727e-06, Train Set base_objective: 0.1691315040588379, Train Set accuracy: 0.911, Test Set nc_accuracy: 0.914, group_sparsity: 0.0, \n",
      "Train Set objective: 0.17118076830357315, Train Set grad_norm: 2.2926228666619863e-06, Train Set base_objective: 0.16912966537475588, Train Set accuracy: 0.911, Test Set nc_accuracy: 0.914, group_sparsity: 0.0, \n"
     ]
    },
    {
     "name": "stdout",
     "output_type": "stream",
     "text": [
      "Train Set objective: 0.17117766328155995, Train Set grad_norm: 2.243213430119795e-06, Train Set base_objective: 0.16912803649902344, Train Set accuracy: 0.911, Test Set nc_accuracy: 0.914, group_sparsity: 0.0, \n",
      "Train Set objective: 0.17117463085241616, Train Set grad_norm: 2.547998519730754e-06, Train Set base_objective: 0.16912631607055664, Train Set accuracy: 0.911, Test Set nc_accuracy: 0.914, group_sparsity: 0.0, \n",
      "Train Set objective: 0.17117165550403296, Train Set grad_norm: 2.3904506178951124e-06, Train Set base_objective: 0.16912503433227538, Train Set accuracy: 0.911, Test Set nc_accuracy: 0.914, group_sparsity: 0.0, \n",
      "Train Set objective: 0.17116877038404343, Train Set grad_norm: 2.7521487027115654e-06, Train Set base_objective: 0.16912334060668943, Train Set accuracy: 0.911, Test Set nc_accuracy: 0.914, group_sparsity: 0.0, \n",
      "Train Set objective: 0.17116602409258486, Train Set grad_norm: 2.169775825677789e-06, Train Set base_objective: 0.16912239456176759, Train Set accuracy: 0.911, Test Set nc_accuracy: 0.914, group_sparsity: 0.0, \n",
      "Train Set objective: 0.17116348161175848, Train Set grad_norm: 2.058797235804377e-06, Train Set base_objective: 0.16912112426757814, Train Set accuracy: 0.911, Test Set nc_accuracy: 0.914, group_sparsity: 0.0, \n",
      "Train Set objective: 0.1711611736007035, Train Set grad_norm: 2.3943125597725157e-06, Train Set base_objective: 0.16912055969238282, Train Set accuracy: 0.911, Test Set nc_accuracy: 0.914, group_sparsity: 0.0, \n",
      "Train Set objective: 0.17115901320800186, Train Set grad_norm: 3.0639996566605987e-06, Train Set base_objective: 0.1691198959350586, Train Set accuracy: 0.911, Test Set nc_accuracy: 0.914, group_sparsity: 0.0, \n",
      "Train Set objective: 0.17115676146931946, Train Set grad_norm: 4.539659585134359e-06, Train Set base_objective: 0.16911935806274414, Train Set accuracy: 0.911, Test Set nc_accuracy: 0.914, group_sparsity: 0.0, \n",
      "Train Set objective: 0.1711539871711284, Train Set grad_norm: 4.547694061329821e-06, Train Set base_objective: 0.16911781311035157, Train Set accuracy: 0.911, Test Set nc_accuracy: 0.914, group_sparsity: 0.0, \n",
      "Train Set objective: 0.1711509832665324, Train Set grad_norm: 3.2693674256734084e-06, Train Set base_objective: 0.16911625671386718, Train Set accuracy: 0.911, Test Set nc_accuracy: 0.914, group_sparsity: 0.0, \n",
      "Train Set objective: 0.17114796900004148, Train Set grad_norm: 2.296979573657154e-06, Train Set base_objective: 0.16911448669433593, Train Set accuracy: 0.911, Test Set nc_accuracy: 0.914, group_sparsity: 0.0, \n",
      "Train Set objective: 0.17114503245428206, Train Set grad_norm: 1.874977897386998e-06, Train Set base_objective: 0.16911295318603517, Train Set accuracy: 0.911, Test Set nc_accuracy: 0.914, group_sparsity: 0.0, \n",
      "Train Set objective: 0.1711422216165811, Train Set grad_norm: 1.687855501586455e-06, Train Set base_objective: 0.16911148834228518, Train Set accuracy: 0.911, Test Set nc_accuracy: 0.914, group_sparsity: 0.0, \n",
      "Train Set objective: 0.17113955703750253, Train Set grad_norm: 1.5996055253708619e-06, Train Set base_objective: 0.1691103630065918, Train Set accuracy: 0.911, Test Set nc_accuracy: 0.914, group_sparsity: 0.0, \n",
      "Train Set objective: 0.17113706449605526, Train Set grad_norm: 1.5679634088883176e-06, Train Set base_objective: 0.16910940551757814, Train Set accuracy: 0.911, Test Set nc_accuracy: 0.914, group_sparsity: 0.0, \n",
      "Train Set objective: 0.17113475295901298, Train Set grad_norm: 1.6233657333941665e-06, Train Set base_objective: 0.16910877990722656, Train Set accuracy: 0.911, Test Set nc_accuracy: 0.914, group_sparsity: 0.0, \n",
      "Train Set objective: 0.1711326864566654, Train Set grad_norm: 1.8917155557574006e-06, Train Set base_objective: 0.16910843658447267, Train Set accuracy: 0.911, Test Set nc_accuracy: 0.914, group_sparsity: 0.0, \n",
      "Train Set objective: 0.17113079376891255, Train Set grad_norm: 2.6049303869513096e-06, Train Set base_objective: 0.16910863494873046, Train Set accuracy: 0.911, Test Set nc_accuracy: 0.914, group_sparsity: 0.0, \n",
      "Train Set objective: 0.17112866026349366, Train Set grad_norm: 3.654304236988537e-06, Train Set base_objective: 0.1691083335876465, Train Set accuracy: 0.911, Test Set nc_accuracy: 0.914, group_sparsity: 0.0, \n",
      "Train Set objective: 0.171126336844638, Train Set grad_norm: 3.616498815972591e-06, Train Set base_objective: 0.16910790634155273, Train Set accuracy: 0.911, Test Set nc_accuracy: 0.914, group_sparsity: 0.0, \n",
      "Train Set objective: 0.17112393776327373, Train Set grad_norm: 3.3382477795385057e-06, Train Set base_objective: 0.16910728073120118, Train Set accuracy: 0.911, Test Set nc_accuracy: 0.914, group_sparsity: 0.0, \n",
      "Train Set objective: 0.17112137720920145, Train Set grad_norm: 3.3997505397564964e-06, Train Set base_objective: 0.16910654067993164, Train Set accuracy: 0.911, Test Set nc_accuracy: 0.914, group_sparsity: 0.0, \n",
      "Train Set objective: 0.17111856109276413, Train Set grad_norm: 3.014220283148461e-06, Train Set base_objective: 0.16910494995117187, Train Set accuracy: 0.911, Test Set nc_accuracy: 0.914, group_sparsity: 0.0, \n",
      "Train Set objective: 0.17111572402529418, Train Set grad_norm: 2.9744135190412635e-06, Train Set base_objective: 0.1691037368774414, Train Set accuracy: 0.911, Test Set nc_accuracy: 0.914, group_sparsity: 0.0, \n",
      "Train Set objective: 0.17111284439079463, Train Set grad_norm: 2.795639829855645e-06, Train Set base_objective: 0.16910190963745117, Train Set accuracy: 0.911, Test Set nc_accuracy: 0.915, group_sparsity: 0.0, \n",
      "Train Set objective: 0.17111004549078643, Train Set grad_norm: 2.0174659312033327e-06, Train Set base_objective: 0.16910066604614257, Train Set accuracy: 0.911, Test Set nc_accuracy: 0.915, group_sparsity: 0.0, \n",
      "Train Set objective: 0.17110736393742265, Train Set grad_norm: 1.5988498489605263e-06, Train Set base_objective: 0.1690989456176758, Train Set accuracy: 0.911, Test Set nc_accuracy: 0.915, group_sparsity: 0.0, \n",
      "Train Set objective: 0.17110479406826198, Train Set grad_norm: 1.6425897229055408e-06, Train Set base_objective: 0.1690977783203125, Train Set accuracy: 0.911, Test Set nc_accuracy: 0.915, group_sparsity: 0.0, \n",
      "Train Set objective: 0.1711022932883352, Train Set grad_norm: 1.5479196235901327e-06, Train Set base_objective: 0.16909634017944336, Train Set accuracy: 0.911, Test Set nc_accuracy: 0.915, group_sparsity: 0.0, \n",
      "Train Set objective: 0.17109986621141432, Train Set grad_norm: 1.5716879033789155e-06, Train Set base_objective: 0.16909529495239256, Train Set accuracy: 0.911, Test Set nc_accuracy: 0.915, group_sparsity: 0.0, \n",
      "Train Set objective: 0.1710975294429809, Train Set grad_norm: 1.5969740161381196e-06, Train Set base_objective: 0.16909408950805666, Train Set accuracy: 0.911, Test Set nc_accuracy: 0.915, group_sparsity: 0.0, \n",
      "Train Set objective: 0.17109527508355676, Train Set grad_norm: 1.7930727835846483e-06, Train Set base_objective: 0.16909323120117187, Train Set accuracy: 0.911, Test Set nc_accuracy: 0.915, group_sparsity: 0.0, \n",
      "Train Set objective: 0.17109311600774527, Train Set grad_norm: 2.2613264718529535e-06, Train Set base_objective: 0.16909231567382813, Train Set accuracy: 0.911, Test Set nc_accuracy: 0.915, group_sparsity: 0.0, \n",
      "Train Set objective: 0.17109077711962162, Train Set grad_norm: 2.779630904115038e-06, Train Set base_objective: 0.16909127807617186, Train Set accuracy: 0.911, Test Set nc_accuracy: 0.915, group_sparsity: 0.0, \n",
      "Train Set objective: 0.17108831934444607, Train Set grad_norm: 3.119296479781042e-06, Train Set base_objective: 0.1690897674560547, Train Set accuracy: 0.911, Test Set nc_accuracy: 0.915, group_sparsity: 0.0, \n",
      "Train Set objective: 0.17108570149168373, Train Set grad_norm: 2.310427589691244e-06, Train Set base_objective: 0.169088191986084, Train Set accuracy: 0.911, Test Set nc_accuracy: 0.915, group_sparsity: 0.0, \n",
      "Train Set objective: 0.17108302307501436, Train Set grad_norm: 1.6238681155300583e-06, Train Set base_objective: 0.16908640670776368, Train Set accuracy: 0.911, Test Set nc_accuracy: 0.915, group_sparsity: 0.0, \n",
      "Train Set objective: 0.1710803209580481, Train Set grad_norm: 1.3557591955759563e-06, Train Set base_objective: 0.16908476257324218, Train Set accuracy: 0.911, Test Set nc_accuracy: 0.915, group_sparsity: 0.0, \n"
     ]
    },
    {
     "name": "stdout",
     "output_type": "stream",
     "text": [
      "Train Set objective: 0.17107758200727402, Train Set grad_norm: 1.3540009149437537e-06, Train Set base_objective: 0.1690829277038574, Train Set accuracy: 0.911, Test Set nc_accuracy: 0.915, group_sparsity: 0.0, \n",
      "Train Set objective: 0.1710748185068369, Train Set grad_norm: 1.7625758346184739e-06, Train Set base_objective: 0.16908143615722657, Train Set accuracy: 0.911, Test Set nc_accuracy: 0.915, group_sparsity: 0.0, \n",
      "Train Set objective: 0.17107210501469672, Train Set grad_norm: 1.5914955611151527e-06, Train Set base_objective: 0.16907937622070313, Train Set accuracy: 0.911, Test Set nc_accuracy: 0.915, group_sparsity: 0.0, \n",
      "Train Set objective: 0.17106951685249805, Train Set grad_norm: 1.4565071069227997e-06, Train Set base_objective: 0.16907791519165039, Train Set accuracy: 0.911, Test Set nc_accuracy: 0.915, group_sparsity: 0.0, \n",
      "Train Set objective: 0.1710670832321048, Train Set grad_norm: 1.1806276916104252e-06, Train Set base_objective: 0.1690760841369629, Train Set accuracy: 0.911, Test Set nc_accuracy: 0.915, group_sparsity: 0.0, \n",
      "Train Set objective: 0.1710648005567491, Train Set grad_norm: 1.2304435585974716e-06, Train Set base_objective: 0.1690747528076172, Train Set accuracy: 0.911, Test Set nc_accuracy: 0.915, group_sparsity: 0.0, \n",
      "Train Set objective: 0.17106266965530814, Train Set grad_norm: 1.185779524348618e-06, Train Set base_objective: 0.1690733108520508, Train Set accuracy: 0.911, Test Set nc_accuracy: 0.915, group_sparsity: 0.0, \n",
      "Train Set objective: 0.1710607262533158, Train Set grad_norm: 1.2941857221449027e-06, Train Set base_objective: 0.16907236862182617, Train Set accuracy: 0.911, Test Set nc_accuracy: 0.915, group_sparsity: 0.0, \n",
      "Train Set objective: 0.17105899110622702, Train Set grad_norm: 1.5026886330815614e-06, Train Set base_objective: 0.1690715103149414, Train Set accuracy: 0.911, Test Set nc_accuracy: 0.915, group_sparsity: 0.0, \n",
      "Train Set objective: 0.17105754623934627, Train Set grad_norm: 2.6477896426513325e-06, Train Set base_objective: 0.16907128524780274, Train Set accuracy: 0.911, Test Set nc_accuracy: 0.915, group_sparsity: 0.0, \n"
     ]
    },
    {
     "name": "stderr",
     "output_type": "stream",
     "text": [
      "INFO:convex_nn:*Inner* termination criterion satisfied at iteration 455/10000. Exiting *inner* optimization loop.\n"
     ]
    },
    {
     "name": "stdout",
     "output_type": "stream",
     "text": [
      "Train Set objective: 0.17105711046233774, Train Set grad_norm: 1.5687830909882905e-06, Train Set base_objective: 0.1690710105895996, Train Set accuracy: 0.911, Test Set nc_accuracy: 0.915, group_sparsity: 0.0, \n",
      "Train Set objective: 0.1710567543823272, Train Set grad_norm: 1.153246216745174e-06, Train Set base_objective: 0.16907080841064454, Train Set accuracy: 0.911, Test Set nc_accuracy: 0.915, group_sparsity: 0.0, \n",
      "Train Set objective: 0.17105629049055276, Train Set grad_norm: 9.557605835652794e-07, Train Set base_objective: 0.16907042694091795, Train Set accuracy: 0.911, Test Set nc_accuracy: 0.915, group_sparsity: 0.0, \n"
     ]
    },
    {
     "data": {
      "application/vnd.jupyter.widget-view+json": {
       "model_id": "b8c25b1fb09d40e4aeb732b39a83ec40",
       "version_major": 2,
       "version_minor": 0
      },
      "text/plain": [
       "Inner al:   0%|          | 0/10000 [00:00<?, ?it/s]"
      ]
     },
     "metadata": {},
     "output_type": "display_data"
    },
    {
     "name": "stdout",
     "output_type": "stream",
     "text": [
      "Train Set objective: 0.17105629049055276, Train Set grad_norm: 9.557605835652794e-07, Train Set base_objective: 0.16907042694091795, Train Set accuracy: 0.911, Test Set nc_accuracy: 0.915, group_sparsity: 0.0, \n",
      "Train Set objective: 0.1763177831657231, Train Set grad_norm: 0.000707731582224369, Train Set base_objective: 0.1704591751098633, Train Set accuracy: 0.911, Test Set nc_accuracy: 0.914, group_sparsity: 0.072, \n",
      "Train Set objective: 0.1761406303793192, Train Set grad_norm: 0.00027115223929286003, Train Set base_objective: 0.1705662307739258, Train Set accuracy: 0.911, Test Set nc_accuracy: 0.914, group_sparsity: 0.007, \n",
      "Train Set objective: 0.17601734460890295, Train Set grad_norm: 0.00019057837198488414, Train Set base_objective: 0.17090887451171877, Train Set accuracy: 0.911, Test Set nc_accuracy: 0.914, group_sparsity: 0.014, \n",
      "Train Set objective: 0.17592011592164636, Train Set grad_norm: 0.00011915848153876141, Train Set base_objective: 0.17106929016113281, Train Set accuracy: 0.911, Test Set nc_accuracy: 0.914, group_sparsity: 0.004, \n",
      "Train Set objective: 0.1758438921160996, Train Set grad_norm: 9.711620077723637e-05, Train Set base_objective: 0.17131237030029298, Train Set accuracy: 0.911, Test Set nc_accuracy: 0.914, group_sparsity: 0.022, \n",
      "Train Set objective: 0.17578233588486908, Train Set grad_norm: 7.644495053682476e-05, Train Set base_objective: 0.17142108917236326, Train Set accuracy: 0.911, Test Set nc_accuracy: 0.914, group_sparsity: 0.004, \n",
      "Train Set objective: 0.1757353863790631, Train Set grad_norm: 4.4798242015531287e-05, Train Set base_objective: 0.1715773468017578, Train Set accuracy: 0.911, Test Set nc_accuracy: 0.914, group_sparsity: 0.005, \n",
      "Train Set objective: 0.17569908774644138, Train Set grad_norm: 2.8421431125025265e-05, Train Set base_objective: 0.17167210388183596, Train Set accuracy: 0.911, Test Set nc_accuracy: 0.914, group_sparsity: 0.004, \n",
      "Train Set objective: 0.17566931090503932, Train Set grad_norm: 2.2655749489786103e-05, Train Set base_objective: 0.17176569747924805, Train Set accuracy: 0.911, Test Set nc_accuracy: 0.914, group_sparsity: 0.005, \n",
      "Train Set objective: 0.17564383491501212, Train Set grad_norm: 1.839345713960938e-05, Train Set base_objective: 0.1718358268737793, Train Set accuracy: 0.911, Test Set nc_accuracy: 0.914, group_sparsity: 0.004, \n",
      "Train Set objective: 0.17562043672055005, Train Set grad_norm: 1.5181491107796319e-05, Train Set base_objective: 0.17189983749389648, Train Set accuracy: 0.911, Test Set nc_accuracy: 0.914, group_sparsity: 0.007, \n",
      "Train Set objective: 0.17559808383136988, Train Set grad_norm: 1.4435640878218692e-05, Train Set base_objective: 0.17194993591308594, Train Set accuracy: 0.911, Test Set nc_accuracy: 0.914, group_sparsity: 0.003, \n",
      "Train Set objective: 0.1755770043246448, Train Set grad_norm: 1.0702319741540123e-05, Train Set base_objective: 0.1720010986328125, Train Set accuracy: 0.911, Test Set nc_accuracy: 0.914, group_sparsity: 0.013, \n",
      "Train Set objective: 0.17555834366008638, Train Set grad_norm: 1.703013367659878e-05, Train Set base_objective: 0.17204080581665038, Train Set accuracy: 0.911, Test Set nc_accuracy: 0.914, group_sparsity: 0.003, \n",
      "Train Set objective: 0.17554150536283852, Train Set grad_norm: 1.2592641724040732e-05, Train Set base_objective: 0.17208523178100588, Train Set accuracy: 0.911, Test Set nc_accuracy: 0.914, group_sparsity: 0.006, \n",
      "Train Set objective: 0.17552741998806595, Train Set grad_norm: 7.931022992124781e-06, Train Set base_objective: 0.17212190628051757, Train Set accuracy: 0.911, Test Set nc_accuracy: 0.914, group_sparsity: 0.003, \n",
      "Train Set objective: 0.17551503351889552, Train Set grad_norm: 6.7151104303775355e-06, Train Set base_objective: 0.1721596908569336, Train Set accuracy: 0.911, Test Set nc_accuracy: 0.914, group_sparsity: 0.005, \n",
      "Train Set objective: 0.17550418798066675, Train Set grad_norm: 6.361497526086168e-06, Train Set base_objective: 0.17219260025024413, Train Set accuracy: 0.911, Test Set nc_accuracy: 0.914, group_sparsity: 0.003, \n",
      "Train Set objective: 0.17549434363283217, Train Set grad_norm: 5.236744527792325e-06, Train Set base_objective: 0.17222501373291016, Train Set accuracy: 0.911, Test Set nc_accuracy: 0.914, group_sparsity: 0.004, \n",
      "Train Set objective: 0.17548543463274835, Train Set grad_norm: 4.964668278262252e-06, Train Set base_objective: 0.17225325775146483, Train Set accuracy: 0.911, Test Set nc_accuracy: 0.914, group_sparsity: 0.003, \n",
      "Train Set objective: 0.1754771848861128, Train Set grad_norm: 4.2174942791461945e-06, Train Set base_objective: 0.1722800064086914, Train Set accuracy: 0.911, Test Set nc_accuracy: 0.914, group_sparsity: 0.004, \n",
      "Train Set objective: 0.17546956919319928, Train Set grad_norm: 4.057723344885744e-06, Train Set base_objective: 0.17230288314819336, Train Set accuracy: 0.911, Test Set nc_accuracy: 0.914, group_sparsity: 0.003, \n",
      "Train Set objective: 0.17546240766718985, Train Set grad_norm: 3.4836336908483645e-06, Train Set base_objective: 0.17232374954223634, Train Set accuracy: 0.911, Test Set nc_accuracy: 0.914, group_sparsity: 0.004, \n",
      "Train Set objective: 0.17545570509135722, Train Set grad_norm: 3.395629391889088e-06, Train Set base_objective: 0.1723411407470703, Train Set accuracy: 0.911, Test Set nc_accuracy: 0.914, group_sparsity: 0.003, \n",
      "Train Set objective: 0.1754493342116475, Train Set grad_norm: 2.9283864932949655e-06, Train Set base_objective: 0.17235657119750974, Train Set accuracy: 0.911, Test Set nc_accuracy: 0.914, group_sparsity: 0.004, \n",
      "Train Set objective: 0.17544332325085998, Train Set grad_norm: 2.876535290852189e-06, Train Set base_objective: 0.17236917877197266, Train Set accuracy: 0.911, Test Set nc_accuracy: 0.914, group_sparsity: 0.003, \n",
      "Train Set objective: 0.17543759034760298, Train Set grad_norm: 2.4730641143833054e-06, Train Set base_objective: 0.17238024902343752, Train Set accuracy: 0.911, Test Set nc_accuracy: 0.914, group_sparsity: 0.004, \n",
      "Train Set objective: 0.17543216412328183, Train Set grad_norm: 2.446130338285002e-06, Train Set base_objective: 0.17238927459716796, Train Set accuracy: 0.911, Test Set nc_accuracy: 0.914, group_sparsity: 0.003, \n",
      "Train Set objective: 0.17542699077166618, Train Set grad_norm: 2.1008631847507786e-06, Train Set base_objective: 0.17239732742309571, Train Set accuracy: 0.911, Test Set nc_accuracy: 0.914, group_sparsity: 0.004, \n",
      "Train Set objective: 0.17542209006100895, Train Set grad_norm: 2.1095984266139567e-06, Train Set base_objective: 0.17240404891967775, Train Set accuracy: 0.911, Test Set nc_accuracy: 0.914, group_sparsity: 0.003, \n",
      "Train Set objective: 0.175417406976223, Train Set grad_norm: 1.8216046555608045e-06, Train Set base_objective: 0.17241027069091797, Train Set accuracy: 0.911, Test Set nc_accuracy: 0.914, group_sparsity: 0.004, \n",
      "Train Set objective: 0.1754129437506199, Train Set grad_norm: 1.8562648165243445e-06, Train Set base_objective: 0.1724156608581543, Train Set accuracy: 0.911, Test Set nc_accuracy: 0.914, group_sparsity: 0.003, \n",
      "Train Set objective: 0.1754086564090103, Train Set grad_norm: 1.6081883131846553e-06, Train Set base_objective: 0.17242085647583008, Train Set accuracy: 0.911, Test Set nc_accuracy: 0.914, group_sparsity: 0.004, \n",
      "Train Set objective: 0.17540456475317479, Train Set grad_norm: 1.6564898714932497e-06, Train Set base_objective: 0.1724255599975586, Train Set accuracy: 0.911, Test Set nc_accuracy: 0.914, group_sparsity: 0.003, \n",
      "Train Set objective: 0.1754006401449442, Train Set grad_norm: 1.4399909105122788e-06, Train Set base_objective: 0.17243024826049805, Train Set accuracy: 0.911, Test Set nc_accuracy: 0.914, group_sparsity: 0.004, \n",
      "Train Set objective: 0.17539687564969064, Train Set grad_norm: 1.5036245031296858e-06, Train Set base_objective: 0.17243453598022462, Train Set accuracy: 0.911, Test Set nc_accuracy: 0.914, group_sparsity: 0.003, \n",
      "Train Set objective: 0.17539321599900723, Train Set grad_norm: 1.3043625131103909e-06, Train Set base_objective: 0.17243884658813477, Train Set accuracy: 0.911, Test Set nc_accuracy: 0.914, group_sparsity: 0.004, \n",
      "Train Set objective: 0.17538970656879246, Train Set grad_norm: 1.365221919513715e-06, Train Set base_objective: 0.17244292068481445, Train Set accuracy: 0.911, Test Set nc_accuracy: 0.914, group_sparsity: 0.003, \n",
      "Train Set objective: 0.17538621895015238, Train Set grad_norm: 1.1973494338235469e-06, Train Set base_objective: 0.17244707107543944, Train Set accuracy: 0.911, Test Set nc_accuracy: 0.914, group_sparsity: 0.004, \n",
      "Train Set objective: 0.1753827627468854, Train Set grad_norm: 1.4232143712433754e-06, Train Set base_objective: 0.17245071411132812, Train Set accuracy: 0.911, Test Set nc_accuracy: 0.914, group_sparsity: 0.003, \n"
     ]
    },
    {
     "name": "stdout",
     "output_type": "stream",
     "text": [
      "Train Set objective: 0.17537934036739172, Train Set grad_norm: 1.0681887943064794e-06, Train Set base_objective: 0.17245457839965822, Train Set accuracy: 0.911, Test Set nc_accuracy: 0.914, group_sparsity: 0.005, \n"
     ]
    },
    {
     "name": "stderr",
     "output_type": "stream",
     "text": [
      "INFO:convex_nn:*Inner* termination criterion satisfied at iteration 43/10000. Exiting *inner* optimization loop.\n"
     ]
    },
    {
     "name": "stdout",
     "output_type": "stream",
     "text": [
      "Train Set objective: 0.17537601124309005, Train Set grad_norm: 1.6416926200690796e-06, Train Set base_objective: 0.1724580307006836, Train Set accuracy: 0.911, Test Set nc_accuracy: 0.914, group_sparsity: 0.003, \n",
      "Train Set objective: 0.17537267539277673, Train Set grad_norm: 9.819893875828711e-07, Train Set base_objective: 0.17246174240112305, Train Set accuracy: 0.911, Test Set nc_accuracy: 0.914, group_sparsity: 0.005, \n"
     ]
    },
    {
     "data": {
      "application/vnd.jupyter.widget-view+json": {
       "model_id": "12fa2e3b585241948b19a9310cacc467",
       "version_major": 2,
       "version_minor": 0
      },
      "text/plain": [
       "Inner al:   0%|          | 0/10000 [00:00<?, ?it/s]"
      ]
     },
     "metadata": {},
     "output_type": "display_data"
    },
    {
     "name": "stdout",
     "output_type": "stream",
     "text": [
      "Train Set objective: 0.17537267539277673, Train Set grad_norm: 9.819893875828711e-07, Train Set base_objective: 0.17246174240112305, Train Set accuracy: 0.911, Test Set nc_accuracy: 0.914, group_sparsity: 0.005, \n",
      "Train Set objective: 0.17662740578502417, Train Set grad_norm: 3.170006311847828e-05, Train Set base_objective: 0.17279314422607422, Train Set accuracy: 0.911, Test Set nc_accuracy: 0.914, group_sparsity: 0.259, \n",
      "Train Set objective: 0.1766162712238729, Train Set grad_norm: 1.274736860068515e-05, Train Set base_objective: 0.17278145599365236, Train Set accuracy: 0.911, Test Set nc_accuracy: 0.914, group_sparsity: 0.006, \n",
      "Train Set objective: 0.1766081611979753, Train Set grad_norm: 1.3365380254981574e-05, Train Set base_objective: 0.17289153289794923, Train Set accuracy: 0.911, Test Set nc_accuracy: 0.914, group_sparsity: 0.156, \n",
      "Train Set objective: 0.17660194946452976, Train Set grad_norm: 6.008365289744688e-06, Train Set base_objective: 0.17290178298950196, Train Set accuracy: 0.911, Test Set nc_accuracy: 0.914, group_sparsity: 0.005, \n",
      "Train Set objective: 0.17659756888076664, Train Set grad_norm: 5.87957492825808e-06, Train Set base_objective: 0.17293899154663087, Train Set accuracy: 0.911, Test Set nc_accuracy: 0.914, group_sparsity: 0.034, \n",
      "Train Set objective: 0.1765935422088951, Train Set grad_norm: 3.832011316262651e-06, Train Set base_objective: 0.17295830917358399, Train Set accuracy: 0.911, Test Set nc_accuracy: 0.914, group_sparsity: 0.005, \n",
      "Train Set objective: 0.17659003582969307, Train Set grad_norm: 5.3623061830876395e-06, Train Set base_objective: 0.1729827194213867, Train Set accuracy: 0.911, Test Set nc_accuracy: 0.914, group_sparsity: 0.044, \n",
      "Train Set objective: 0.1765867048520595, Train Set grad_norm: 4.5031733861833345e-06, Train Set base_objective: 0.17299927520751954, Train Set accuracy: 0.911, Test Set nc_accuracy: 0.914, group_sparsity: 0.003, \n",
      "Train Set objective: 0.17658387536183, Train Set grad_norm: 2.4154435322998324e-06, Train Set base_objective: 0.1730142402648926, Train Set accuracy: 0.911, Test Set nc_accuracy: 0.914, group_sparsity: 0.003, \n",
      "Train Set objective: 0.17658122139796614, Train Set grad_norm: 1.9210119717172347e-06, Train Set base_objective: 0.1730270881652832, Train Set accuracy: 0.911, Test Set nc_accuracy: 0.914, group_sparsity: 0.004, \n",
      "Train Set objective: 0.17657871034741401, Train Set grad_norm: 1.9448693819867913e-06, Train Set base_objective: 0.17303826522827148, Train Set accuracy: 0.911, Test Set nc_accuracy: 0.914, group_sparsity: 0.003, \n",
      "Train Set objective: 0.17657625839300453, Train Set grad_norm: 1.6560162521273014e-06, Train Set base_objective: 0.17304819869995117, Train Set accuracy: 0.911, Test Set nc_accuracy: 0.914, group_sparsity: 0.004, \n",
      "Train Set objective: 0.1765738665945828, Train Set grad_norm: 1.6994418956528534e-06, Train Set base_objective: 0.17305680465698242, Train Set accuracy: 0.911, Test Set nc_accuracy: 0.914, group_sparsity: 0.003, \n",
      "Train Set objective: 0.1765714812744409, Train Set grad_norm: 1.4791028206673218e-06, Train Set base_objective: 0.17306459426879883, Train Set accuracy: 0.911, Test Set nc_accuracy: 0.914, group_sparsity: 0.004, \n",
      "Train Set objective: 0.17656911327503622, Train Set grad_norm: 1.5368775621027453e-06, Train Set base_objective: 0.17307138442993164, Train Set accuracy: 0.911, Test Set nc_accuracy: 0.914, group_sparsity: 0.003, \n",
      "Train Set objective: 0.17656673170253634, Train Set grad_norm: 1.3535411653720075e-06, Train Set base_objective: 0.1730776252746582, Train Set accuracy: 0.911, Test Set nc_accuracy: 0.914, group_sparsity: 0.004, \n",
      "Train Set objective: 0.1765643480811268, Train Set grad_norm: 1.422321020072559e-06, Train Set base_objective: 0.17308310317993164, Train Set accuracy: 0.911, Test Set nc_accuracy: 0.914, group_sparsity: 0.003, \n",
      "Train Set objective: 0.17656192736327647, Train Set grad_norm: 1.2564456710606464e-06, Train Set base_objective: 0.17308823013305663, Train Set accuracy: 0.911, Test Set nc_accuracy: 0.914, group_sparsity: 0.004, \n",
      "Train Set objective: 0.1765595038551837, Train Set grad_norm: 1.3335072708287043e-06, Train Set base_objective: 0.17309278106689452, Train Set accuracy: 0.911, Test Set nc_accuracy: 0.914, group_sparsity: 0.003, \n",
      "Train Set objective: 0.17655702938325704, Train Set grad_norm: 1.1773731785069685e-06, Train Set base_objective: 0.1730971145629883, Train Set accuracy: 0.911, Test Set nc_accuracy: 0.914, group_sparsity: 0.004, \n",
      "Train Set objective: 0.17655454561486839, Train Set grad_norm: 1.2613375020009698e-06, Train Set base_objective: 0.17310100173950194, Train Set accuracy: 0.911, Test Set nc_accuracy: 0.914, group_sparsity: 0.003, \n",
      "Train Set objective: 0.17655200147628786, Train Set grad_norm: 1.1077763701905496e-06, Train Set base_objective: 0.17310476684570314, Train Set accuracy: 0.911, Test Set nc_accuracy: 0.914, group_sparsity: 0.004, \n",
      "Train Set objective: 0.17654945083148776, Train Set grad_norm: 1.1964011719101109e-06, Train Set base_objective: 0.17310818481445311, Train Set accuracy: 0.911, Test Set nc_accuracy: 0.914, group_sparsity: 0.003, \n",
      "Train Set objective: 0.17654685793817043, Train Set grad_norm: 1.0436833690619096e-06, Train Set base_objective: 0.17311156845092773, Train Set accuracy: 0.911, Test Set nc_accuracy: 0.914, group_sparsity: 0.004, \n"
     ]
    },
    {
     "name": "stderr",
     "output_type": "stream",
     "text": [
      "INFO:convex_nn:*Inner* termination criterion satisfied at iteration 26/10000. Exiting *inner* optimization loop.\n"
     ]
    },
    {
     "name": "stdout",
     "output_type": "stream",
     "text": [
      "Train Set objective: 0.17654424180835487, Train Set grad_norm: 1.137095978265279e-06, Train Set base_objective: 0.17311466598510744, Train Set accuracy: 0.911, Test Set nc_accuracy: 0.914, group_sparsity: 0.003, \n",
      "Train Set objective: 0.17654159318841994, Train Set grad_norm: 9.842644885793561e-07, Train Set base_objective: 0.1731177978515625, Train Set accuracy: 0.911, Test Set nc_accuracy: 0.914, group_sparsity: 0.004, \n"
     ]
    },
    {
     "data": {
      "application/vnd.jupyter.widget-view+json": {
       "model_id": "0a9e3f632ad9448fa7e7306df0e3f88d",
       "version_major": 2,
       "version_minor": 0
      },
      "text/plain": [
       "Inner al:   0%|          | 0/10000 [00:00<?, ?it/s]"
      ]
     },
     "metadata": {},
     "output_type": "display_data"
    },
    {
     "name": "stdout",
     "output_type": "stream",
     "text": [
      "Train Set objective: 0.17654159318841994, Train Set grad_norm: 9.842644885793561e-07, Train Set base_objective: 0.1731177978515625, Train Set accuracy: 0.911, Test Set nc_accuracy: 0.914, group_sparsity: 0.004, \n",
      "Train Set objective: 0.17718340599350632, Train Set grad_norm: 6.984516858210554e-06, Train Set base_objective: 0.1732779655456543, Train Set accuracy: 0.911, Test Set nc_accuracy: 0.914, group_sparsity: 0.347, \n",
      "Train Set objective: 0.17717930392920972, Train Set grad_norm: 4.815222382603679e-06, Train Set base_objective: 0.17325270080566407, Train Set accuracy: 0.911, Test Set nc_accuracy: 0.914, group_sparsity: 0.005, \n",
      "Train Set objective: 0.17717612423747778, Train Set grad_norm: 4.767399786942406e-06, Train Set base_objective: 0.17330645751953125, Train Set accuracy: 0.911, Test Set nc_accuracy: 0.914, group_sparsity: 0.21, \n",
      "Train Set objective: 0.1771734297182411, Train Set grad_norm: 3.220610096832388e-06, Train Set base_objective: 0.1733070945739746, Train Set accuracy: 0.911, Test Set nc_accuracy: 0.914, group_sparsity: 0.005, \n",
      "Train Set objective: 0.1771712559182197, Train Set grad_norm: 4.168962277617538e-06, Train Set base_objective: 0.17332244873046876, Train Set accuracy: 0.911, Test Set nc_accuracy: 0.914, group_sparsity: 0.064, \n",
      "Train Set objective: 0.1771690519656986, Train Set grad_norm: 2.1033833945693914e-06, Train Set base_objective: 0.17333091354370117, Train Set accuracy: 0.911, Test Set nc_accuracy: 0.914, group_sparsity: 0.004, \n",
      "Train Set objective: 0.17716707957722247, Train Set grad_norm: 2.478010628692573e-06, Train Set base_objective: 0.1733397216796875, Train Set accuracy: 0.911, Test Set nc_accuracy: 0.914, group_sparsity: 0.017, \n",
      "Train Set objective: 0.17716499771550298, Train Set grad_norm: 1.768871356944146e-06, Train Set base_objective: 0.17334680938720703, Train Set accuracy: 0.911, Test Set nc_accuracy: 0.914, group_sparsity: 0.004, \n",
      "Train Set objective: 0.17716294735111296, Train Set grad_norm: 2.507615363356308e-06, Train Set base_objective: 0.1733535919189453, Train Set accuracy: 0.911, Test Set nc_accuracy: 0.914, group_sparsity: 0.016, \n",
      "Train Set objective: 0.17716071110591292, Train Set grad_norm: 1.6447201005576062e-06, Train Set base_objective: 0.1733596954345703, Train Set accuracy: 0.911, Test Set nc_accuracy: 0.914, group_sparsity: 0.004, \n",
      "Train Set objective: 0.17715850679948925, Train Set grad_norm: 2.423181740596192e-06, Train Set base_objective: 0.17336566162109374, Train Set accuracy: 0.911, Test Set nc_accuracy: 0.914, group_sparsity: 0.017, \n",
      "Train Set objective: 0.17715609960071743, Train Set grad_norm: 1.5618539919159957e-06, Train Set base_objective: 0.17337134552001954, Train Set accuracy: 0.911, Test Set nc_accuracy: 0.914, group_sparsity: 0.005, \n",
      "Train Set objective: 0.17715370773524047, Train Set grad_norm: 2.3276536467164988e-06, Train Set base_objective: 0.17337696838378908, Train Set accuracy: 0.911, Test Set nc_accuracy: 0.914, group_sparsity: 0.017, \n",
      "Train Set objective: 0.17715112529322505, Train Set grad_norm: 1.4956957556933048e-06, Train Set base_objective: 0.17338247680664062, Train Set accuracy: 0.911, Test Set nc_accuracy: 0.914, group_sparsity: 0.005, \n",
      "Train Set objective: 0.17714857088029384, Train Set grad_norm: 2.242047003164771e-06, Train Set base_objective: 0.17338798904418945, Train Set accuracy: 0.911, Test Set nc_accuracy: 0.914, group_sparsity: 0.017, \n",
      "Train Set objective: 0.17714582336321472, Train Set grad_norm: 1.438698745914735e-06, Train Set base_objective: 0.17339344787597655, Train Set accuracy: 0.911, Test Set nc_accuracy: 0.914, group_sparsity: 0.005, \n",
      "Train Set objective: 0.1771431029792875, Train Set grad_norm: 2.160533995265723e-06, Train Set base_objective: 0.17339892196655274, Train Set accuracy: 0.911, Test Set nc_accuracy: 0.914, group_sparsity: 0.017, \n",
      "Train Set objective: 0.17714022926799955, Train Set grad_norm: 1.3872880799681298e-06, Train Set base_objective: 0.17340438079833986, Train Set accuracy: 0.911, Test Set nc_accuracy: 0.914, group_sparsity: 0.005, \n",
      "Train Set objective: 0.17713738018274308, Train Set grad_norm: 2.0856800801993813e-06, Train Set base_objective: 0.1734098472595215, Train Set accuracy: 0.911, Test Set nc_accuracy: 0.914, group_sparsity: 0.017, \n",
      "Train Set objective: 0.17713437318615616, Train Set grad_norm: 1.3416960200629546e-06, Train Set base_objective: 0.1734152717590332, Train Set accuracy: 0.911, Test Set nc_accuracy: 0.914, group_sparsity: 0.005, \n",
      "Train Set objective: 0.17713142102956772, Train Set grad_norm: 2.01555099010875e-06, Train Set base_objective: 0.173420711517334, Train Set accuracy: 0.911, Test Set nc_accuracy: 0.914, group_sparsity: 0.019, \n",
      "Train Set objective: 0.17712830847501754, Train Set grad_norm: 1.3098975841785432e-06, Train Set base_objective: 0.17342603302001952, Train Set accuracy: 0.911, Test Set nc_accuracy: 0.914, group_sparsity: 0.005, \n",
      "Train Set objective: 0.17712525909021498, Train Set grad_norm: 1.956190999408136e-06, Train Set base_objective: 0.17343132781982423, Train Set accuracy: 0.911, Test Set nc_accuracy: 0.914, group_sparsity: 0.018, \n"
     ]
    },
    {
     "name": "stderr",
     "output_type": "stream",
     "text": [
      "INFO:convex_nn:*Inner* termination criterion satisfied at iteration 26/10000. Exiting *inner* optimization loop.\n"
     ]
    },
    {
     "name": "stdout",
     "output_type": "stream",
     "text": [
      "Train Set objective: 0.17712213307246566, Train Set grad_norm: 1.1769072898459854e-06, Train Set base_objective: 0.1734365119934082, Train Set accuracy: 0.911, Test Set nc_accuracy: 0.914, group_sparsity: 0.006, \n",
      "Train Set objective: 0.17711910511925816, Train Set grad_norm: 1.328951498180686e-06, Train Set base_objective: 0.17344150924682616, Train Set accuracy: 0.911, Test Set nc_accuracy: 0.914, group_sparsity: 0.009, \n",
      "Train Set objective: 0.17711606554500758, Train Set grad_norm: 9.840961183726904e-07, Train Set base_objective: 0.17344643783569336, Train Set accuracy: 0.911, Test Set nc_accuracy: 0.914, group_sparsity: 0.008, \n"
     ]
    },
    {
     "data": {
      "application/vnd.jupyter.widget-view+json": {
       "model_id": "3a8e0a3467a64f44ba27c2a3160cc28b",
       "version_major": 2,
       "version_minor": 0
      },
      "text/plain": [
       "Inner al:   0%|          | 0/10000 [00:00<?, ?it/s]"
      ]
     },
     "metadata": {},
     "output_type": "display_data"
    },
    {
     "name": "stdout",
     "output_type": "stream",
     "text": [
      "Train Set objective: 0.17711606554500758, Train Set grad_norm: 9.840961183726904e-07, Train Set base_objective: 0.17344643783569336, Train Set accuracy: 0.911, Test Set nc_accuracy: 0.914, group_sparsity: 0.008, \n",
      "Train Set objective: 0.17741791641898452, Train Set grad_norm: 3.6010369512951e-06, Train Set base_objective: 0.17353502655029296, Train Set accuracy: 0.911, Test Set nc_accuracy: 0.914, group_sparsity: 0.408, \n",
      "Train Set objective: 0.17741551999002697, Train Set grad_norm: 2.65235394181218e-06, Train Set base_objective: 0.17350574493408205, Train Set accuracy: 0.911, Test Set nc_accuracy: 0.914, group_sparsity: 0.019, \n",
      "Train Set objective: 0.17741375000216067, Train Set grad_norm: 3.2525258575333282e-06, Train Set base_objective: 0.17352745056152344, Train Set accuracy: 0.911, Test Set nc_accuracy: 0.914, group_sparsity: 0.203, \n",
      "Train Set objective: 0.17741202462837102, Train Set grad_norm: 1.5904562360447017e-06, Train Set base_objective: 0.1735329399108887, Train Set accuracy: 0.911, Test Set nc_accuracy: 0.914, group_sparsity: 0.019, \n",
      "Train Set objective: 0.17741073533147572, Train Set grad_norm: 2.223243882326642e-06, Train Set base_objective: 0.17354121017456053, Train Set accuracy: 0.911, Test Set nc_accuracy: 0.914, group_sparsity: 0.042, \n",
      "Train Set objective: 0.17740938623063265, Train Set grad_norm: 1.144875227510056e-06, Train Set base_objective: 0.17354668045043944, Train Set accuracy: 0.911, Test Set nc_accuracy: 0.914, group_sparsity: 0.022, \n",
      "Train Set objective: 0.17740815900266171, Train Set grad_norm: 2.010554453590885e-06, Train Set base_objective: 0.17355085372924806, Train Set accuracy: 0.911, Test Set nc_accuracy: 0.914, group_sparsity: 0.037, \n",
      "Train Set objective: 0.17740676422417165, Train Set grad_norm: 1.0652948958522757e-06, Train Set base_objective: 0.17355412673950196, Train Set accuracy: 0.911, Test Set nc_accuracy: 0.914, group_sparsity: 0.025, \n",
      "Train Set objective: 0.17740543148107826, Train Set grad_norm: 2.0091688384127337e-06, Train Set base_objective: 0.17355705642700195, Train Set accuracy: 0.911, Test Set nc_accuracy: 0.914, group_sparsity: 0.032, \n"
     ]
    },
    {
     "name": "stderr",
     "output_type": "stream",
     "text": [
      "INFO:convex_nn:*Inner* termination criterion satisfied at iteration 12/10000. Exiting *inner* optimization loop.\n"
     ]
    },
    {
     "name": "stdout",
     "output_type": "stream",
     "text": [
      "Train Set objective: 0.17740389933995904, Train Set grad_norm: 1.0234592764390982e-06, Train Set base_objective: 0.17356013107299806, Train Set accuracy: 0.911, Test Set nc_accuracy: 0.914, group_sparsity: 0.025, \n",
      "Train Set objective: 0.17740240769833326, Train Set grad_norm: 1.9825497474812437e-06, Train Set base_objective: 0.1735630760192871, Train Set accuracy: 0.911, Test Set nc_accuracy: 0.914, group_sparsity: 0.032, \n",
      "Train Set objective: 0.1774006991572678, Train Set grad_norm: 9.897659083435428e-07, Train Set base_objective: 0.17356625366210937, Train Set accuracy: 0.911, Test Set nc_accuracy: 0.914, group_sparsity: 0.025, \n"
     ]
    },
    {
     "data": {
      "application/vnd.jupyter.widget-view+json": {
       "model_id": "7046840123274b70baf06b7ab4433aff",
       "version_major": 2,
       "version_minor": 0
      },
      "text/plain": [
       "Inner al:   0%|          | 0/10000 [00:00<?, ?it/s]"
      ]
     },
     "metadata": {},
     "output_type": "display_data"
    },
    {
     "name": "stdout",
     "output_type": "stream",
     "text": [
      "Train Set objective: 0.1774006991572678, Train Set grad_norm: 9.897659083435428e-07, Train Set base_objective: 0.17356625366210937, Train Set accuracy: 0.911, Test Set nc_accuracy: 0.914, group_sparsity: 0.025, \n",
      "Train Set objective: 0.17759944555163384, Train Set grad_norm: 7.319250016735168e-06, Train Set base_objective: 0.17365760040283204, Train Set accuracy: 0.911, Test Set nc_accuracy: 0.914, group_sparsity: 0.485, \n",
      "Train Set objective: 0.1775966629125178, Train Set grad_norm: 1.4847380498395069e-06, Train Set base_objective: 0.1736230163574219, Train Set accuracy: 0.911, Test Set nc_accuracy: 0.914, group_sparsity: 0.033, \n",
      "Train Set objective: 0.1775958248153329, Train Set grad_norm: 3.064374368477729e-06, Train Set base_objective: 0.17362101364135743, Train Set accuracy: 0.911, Test Set nc_accuracy: 0.914, group_sparsity: 0.095, \n",
      "Train Set objective: 0.17759468128532171, Train Set grad_norm: 1.1906856798304943e-06, Train Set base_objective: 0.17362411880493164, Train Set accuracy: 0.911, Test Set nc_accuracy: 0.914, group_sparsity: 0.037, \n",
      "Train Set objective: 0.17759375616535544, Train Set grad_norm: 2.0858547031821217e-06, Train Set base_objective: 0.17362778091430664, Train Set accuracy: 0.911, Test Set nc_accuracy: 0.914, group_sparsity: 0.046, \n",
      "Train Set objective: 0.17759265531972052, Train Set grad_norm: 1.0928908977803076e-06, Train Set base_objective: 0.1736312370300293, Train Set accuracy: 0.911, Test Set nc_accuracy: 0.914, group_sparsity: 0.042, \n",
      "Train Set objective: 0.17759159760549664, Train Set grad_norm: 2.020863576035481e-06, Train Set base_objective: 0.1736341094970703, Train Set accuracy: 0.911, Test Set nc_accuracy: 0.914, group_sparsity: 0.046, \n",
      "Train Set objective: 0.17759032283723356, Train Set grad_norm: 1.0561442422840628e-06, Train Set base_objective: 0.17363703918457032, Train Set accuracy: 0.911, Test Set nc_accuracy: 0.914, group_sparsity: 0.045, \n",
      "Train Set objective: 0.17758907648548483, Train Set grad_norm: 2.0119300643273164e-06, Train Set base_objective: 0.1736396713256836, Train Set accuracy: 0.911, Test Set nc_accuracy: 0.914, group_sparsity: 0.049, \n",
      "Train Set objective: 0.17758760527893902, Train Set grad_norm: 1.0225131745755789e-06, Train Set base_objective: 0.1736426239013672, Train Set accuracy: 0.911, Test Set nc_accuracy: 0.914, group_sparsity: 0.048, \n",
      "Train Set objective: 0.17758618315309285, Train Set grad_norm: 1.9821618479909375e-06, Train Set base_objective: 0.1736453857421875, Train Set accuracy: 0.911, Test Set nc_accuracy: 0.914, group_sparsity: 0.056, \n"
     ]
    },
    {
     "name": "stderr",
     "output_type": "stream",
     "text": [
      "INFO:convex_nn:*Inner* termination criterion satisfied at iteration 12/10000. Exiting *inner* optimization loop.\n"
     ]
    },
    {
     "name": "stdout",
     "output_type": "stream",
     "text": [
      "Train Set objective: 0.1775845298320055, Train Set grad_norm: 9.894307595459395e-07, Train Set base_objective: 0.17364847564697267, Train Set accuracy: 0.911, Test Set nc_accuracy: 0.914, group_sparsity: 0.058, \n"
     ]
    },
    {
     "data": {
      "application/vnd.jupyter.widget-view+json": {
       "model_id": "06bedc51752c475693f471391eaca6f7",
       "version_major": 2,
       "version_minor": 0
      },
      "text/plain": [
       "Inner al:   0%|          | 0/10000 [00:00<?, ?it/s]"
      ]
     },
     "metadata": {},
     "output_type": "display_data"
    },
    {
     "name": "stdout",
     "output_type": "stream",
     "text": [
      "Train Set objective: 0.1775845298320055, Train Set grad_norm: 9.894307595459395e-07, Train Set base_objective: 0.17364847564697267, Train Set accuracy: 0.911, Test Set nc_accuracy: 0.914, group_sparsity: 0.058, \n",
      "Train Set objective: 0.17770821909233928, Train Set grad_norm: 1.2443311788956635e-05, Train Set base_objective: 0.17373036575317383, Train Set accuracy: 0.911, Test Set nc_accuracy: 0.914, group_sparsity: 0.607, \n",
      "Train Set objective: 0.17770643110945822, Train Set grad_norm: 5.613336725218687e-06, Train Set base_objective: 0.17371952438354493, Train Set accuracy: 0.911, Test Set nc_accuracy: 0.914, group_sparsity: 0.076, \n",
      "Train Set objective: 0.17770538146421314, Train Set grad_norm: 1.7719947891237098e-06, Train Set base_objective: 0.17370974731445313, Train Set accuracy: 0.911, Test Set nc_accuracy: 0.914, group_sparsity: 0.087, \n",
      "Train Set objective: 0.17770454293861987, Train Set grad_norm: 1.1453893193902331e-06, Train Set base_objective: 0.173702938079834, Train Set accuracy: 0.911, Test Set nc_accuracy: 0.914, group_sparsity: 0.097, \n",
      "Train Set objective: 0.1777037637606263, Train Set grad_norm: 1.3727433270105394e-06, Train Set base_objective: 0.17369868087768553, Train Set accuracy: 0.911, Test Set nc_accuracy: 0.914, group_sparsity: 0.105, \n"
     ]
    },
    {
     "name": "stderr",
     "output_type": "stream",
     "text": [
      "INFO:convex_nn:*Outer* termination criterion satisfied at iteration 9/10000. Exiting *outer* optimization loop.\n"
     ]
    },
    {
     "name": "stdout",
     "output_type": "stream",
     "text": [
      "Train Set objective: 0.1777028750963509, Train Set grad_norm: 1.015395014292153e-06, Train Set base_objective: 0.1736968650817871, Train Set accuracy: 0.911, Test Set nc_accuracy: 0.914, group_sparsity: 0.112, \n",
      "Train Set objective: 0.17770194380357862, Train Set grad_norm: 1.4244724297896028e-06, Train Set base_objective: 0.17369654846191407, Train Set accuracy: 0.911, Test Set nc_accuracy: 0.914, group_sparsity: 0.123, \n",
      "Train Set objective: 0.17770085478201508, Train Set grad_norm: 9.855989446805324e-07, Train Set base_objective: 0.17369752883911133, Train Set accuracy: 0.911, Test Set nc_accuracy: 0.914, group_sparsity: 0.129, \n"
     ]
    },
    {
     "name": "stderr",
     "output_type": "stream",
     "text": [
      "INFO:convex_nn:Post-Optimization Metrics: Train Set objective: 0.17770085478201508, Train Set grad_norm: 9.855989446805324e-07, Train Set base_objective: 0.17369752883911133, Train Set accuracy: 0.911, Test Set nc_accuracy: 0.914, group_sparsity: 0.129, \n"
     ]
    }
   ],
   "source": [
    "model = ConvexReLU(G)\n",
    "solver = AL(model)\n",
    "relu_model, relu_metrics = optimize_model(\n",
    "    model,\n",
    "    solver,\n",
    "    metrics,\n",
    "    X_train, \n",
    "    y_train, \n",
    "    X_test, \n",
    "    y_test,\n",
    "    regularizer,\n",
    "    verbose=True,\n",
    ")"
   ]
  },
  {
   "cell_type": "code",
   "execution_count": 8,
   "id": "cf7327ec",
   "metadata": {},
   "outputs": [
    {
     "data": {
      "image/png": "[encoded data removed]",
      "text/plain": [
       "<Figure size 1296x432 with 3 Axes>"
      ]
     },
     "metadata": {
      "needs_background": "light"
     },
     "output_type": "display_data"
    }
   ],
   "source": [
    "fig = plt.figure(figsize=(18,6))\n",
    "spec = fig.add_gridspec(ncols=3, nrows=1)\n",
    "ax0 = fig.add_subplot(spec[0, 0])\n",
    "\n",
    "ax0.plot(np.arange(len(relu_metrics.objective)), \n",
    "         relu_metrics.objective, \n",
    "         label=\"Relu LassoNet\", \n",
    "         color=\"#ff7f0e\",\n",
    "         marker=\"^\",\n",
    "         markevery=0.1,\n",
    "         markersize=14,\n",
    "         linewidth=\"3\")\n",
    "\n",
    "ax0.plot(np.arange(len(grelu_metrics.objective)), \n",
    "         grelu_metrics.objective, \n",
    "         label=\"Gated LassoNet\", \n",
    "         color=\"#1f77b4\",\n",
    "         marker=\"v\", \n",
    "         markevery=0.1,\n",
    "         markersize=14,\n",
    "         linewidth=\"3\"\n",
    "        )\n",
    "\n",
    "ax0.set_title(\"Training Objective\", fontsize=22)\n",
    "ax0.set_xlabel(\"Iterations\", fontsize=18)\n",
    "\n",
    "ax1 = fig.add_subplot(spec[0, 1])\n",
    "\n",
    "ax1.plot(np.arange(len(relu_metrics.train_accuracy)), \n",
    "         relu_metrics.train_accuracy, \n",
    "         label=\"Relu LassoNet\", \n",
    "         color=\"#ff7f0e\",\n",
    "         marker=\"^\",\n",
    "         markevery=0.1,\n",
    "         markersize=14,\n",
    "         linewidth=\"3\")\n",
    "\n",
    "ax1.plot(np.arange(len(grelu_metrics.train_accuracy)), \n",
    "         grelu_metrics.train_accuracy, \n",
    "         label=\"Gated LassoNet\", \n",
    "         color=\"#1f77b4\",\n",
    "         marker=\"v\", \n",
    "         markevery=0.1,\n",
    "         markersize=14,\n",
    "         linewidth=\"3\"\n",
    "        )\n",
    "\n",
    "ax1.set_title(\"Training Accuracy\", fontsize=22)\n",
    "ax1.set_xlabel(\"Iterations\", fontsize=18)\n",
    "\n",
    "ax2 = fig.add_subplot(spec[0, 2])\n",
    "\n",
    "\n",
    "ax2.plot(np.arange(len(relu_metrics.test_accuracy)), \n",
    "         relu_metrics.test_accuracy, \n",
    "         label=\"Relu LassoNet\", \n",
    "         color=\"#ff7f0e\",\n",
    "         marker=\"^\",\n",
    "         markevery=0.1,\n",
    "         markersize=14,\n",
    "         linewidth=\"3\")\n",
    "\n",
    "ax2.plot(np.arange(len(grelu_metrics.test_accuracy)), \n",
    "         grelu_metrics.test_accuracy, \n",
    "         label=\"Gated LassoNet\", \n",
    "         color=\"#1f77b4\",\n",
    "         marker=\"v\", \n",
    "         markevery=0.1,\n",
    "         markersize=14,\n",
    "         linewidth=\"3\"\n",
    "        )\n",
    "\n",
    "ax2.set_title(\"Test Accuracy\", fontsize=22)\n",
    "ax2.set_xlabel(\"Iterations\", fontsize=18)\n",
    "handles, labels = ax0.get_legend_handles_labels()\n",
    "legend = fig.legend(\n",
    "    handles=handles,\n",
    "    labels=labels,\n",
    "    loc=\"lower center\",\n",
    "    borderaxespad=0.1,\n",
    "    fancybox=False,\n",
    "    shadow=False,\n",
    "    ncol=2,\n",
    "    fontsize=16,\n",
    "    frameon=False,\n",
    ")\n",
    "fig.subplots_adjust(\n",
    "    bottom=0.15,\n",
    ")"
   ]
  },
  {
   "cell_type": "code",
   "execution_count": null,
   "id": "0858a91b",
   "metadata": {},
   "outputs": [],
   "source": []
  },
  {
   "cell_type": "code",
   "execution_count": null,
   "id": "d13ac4e6",
   "metadata": {},
   "outputs": [],
   "source": []
  }
 ],
 "metadata": {
  "kernelspec": {
   "display_name": "Python 3",
   "language": "python",
   "name": "python3"
  },
  "language_info": {
   "codemirror_mode": {
    "name": "ipython",
    "version": 3
   },
   "file_extension": ".py",
   "mimetype": "text/x-python",
   "name": "python",
   "nbconvert_exporter": "python",
   "pygments_lexer": "ipython3",
   "version": "3.9.9"
  }
 },
 "nbformat": 4,
 "nbformat_minor": 5
}
