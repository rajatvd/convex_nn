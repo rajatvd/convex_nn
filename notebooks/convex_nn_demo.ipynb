{
 "cells": [
  {
   "cell_type": "code",
   "execution_count": 1,
   "id": "750474ec",
   "metadata": {},
   "outputs": [],
   "source": [
    "\"\"\"\n",
    "Train shallow neural networks on a synthetic classification dataset using convex optimization.\n",
    "\"\"\"\n",
    "\n",
    "import sys\n",
    "sys.path.append(\"..\")"
   ]
  },
  {
   "cell_type": "code",
   "execution_count": 2,
   "id": "6284d725",
   "metadata": {},
   "outputs": [],
   "source": [
    "import numpy as np\n",
    "import matplotlib.pyplot as plt\n",
    "\n",
    "from convex_nn.private.utils.data import gen_classification_data\n",
    "\n",
    "\n",
    "from convex_nn.models import ConvexGatedReLU, ConvexReLU\n",
    "from convex_nn.solvers import RFISTA, AL, LeastSquaresSolver, CVXPYSolver, ApproximateConeDecomposition\n",
    "from convex_nn.regularizers import NeuronGL1, L2, L1\n",
    "from convex_nn.metrics import Metrics\n",
    "from convex_nn.activations import sample_gate_vectors\n",
    "from convex_nn.optimize import optimize_model, optimize"
   ]
  },
  {
   "cell_type": "code",
   "execution_count": 3,
   "id": "bf47351b",
   "metadata": {},
   "outputs": [],
   "source": [
    "# Generate realizable synthetic classification problem (ie. Figure 1)\n",
    "n_train = 1000\n",
    "n_test = 1000\n",
    "d = 50\n",
    "hidden_units = 100\n",
    "kappa = 10  # condition number\n",
    "\n",
    "(X_train, y_train), (X_test, y_test) = gen_classification_data(123, n_train, n_test, d, hidden_units, kappa)"
   ]
  },
  {
   "cell_type": "code",
   "execution_count": 4,
   "id": "4dd5ec91",
   "metadata": {},
   "outputs": [],
   "source": [
    "lam = 0.001\n",
    "max_neurons = 500\n",
    "G = sample_gate_vectors(123, d, max_neurons)\n",
    "metrics = Metrics(metric_freq=25, model_loss=True, train_accuracy=True, train_mse=True, test_mse=True, test_accuracy=True, neuron_sparsity=True)"
   ]
  },
  {
   "cell_type": "code",
   "execution_count": 5,
   "id": "c20ec14f",
   "metadata": {},
   "outputs": [
    {
     "name": "stderr",
     "output_type": "stream",
     "text": [
      "INFO:convex_nn:Pre-Optimization Metrics: Train Set objective: 0.5, Train Set grad_norm: 0.007702792529016733, \n"
     ]
    },
    {
     "data": {
      "application/vnd.jupyter.widget-view+json": {
       "model_id": "1b09705672364a1f8854b773b4002b1f",
       "version_major": 2,
       "version_minor": 0
      },
      "text/plain": [
       "fista:   0%|          | 0/10000 [00:00<?, ?it/s]"
      ]
     },
     "metadata": {},
     "output_type": "display_data"
    },
    {
     "name": "stderr",
     "output_type": "stream",
     "text": [
      "INFO:convex_nn:Termination criterion satisfied at iteration 20/10000. Exiting optimization loop.\n",
      "INFO:convex_nn:Post-Optimization Metrics: Train Set objective: 0.4586989536285401, Train Set grad_norm: 9.152432767223218e-07, \n"
     ]
    },
    {
     "name": "stdout",
     "output_type": "stream",
     "text": [
      "Train Set objective: 0.5, Train Set grad_norm: 0.007702792529016733, \n"
     ]
    }
   ],
   "source": [
    "model, _ = optimize(\"gated_relu\", \n",
    "                          max_neurons, \n",
    "                          X_train, \n",
    "                          y_train, \n",
    "                          X_test, \n",
    "                          y_test,\n",
    "                          regularizer=NeuronGL1(0.01),\n",
    "                          verbose=True,  \n",
    "                          device=\"cpu\")"
   ]
  },
  {
   "cell_type": "code",
   "execution_count": 6,
   "id": "e4c0a72a",
   "metadata": {},
   "outputs": [],
   "source": [
    "# Instantiate convex model and other options.\n",
    "model = ConvexGatedReLU(G)\n",
    "solver = RFISTA(model, tol=1e-8)\n",
    "regularizer = NeuronGL1(0.01)"
   ]
  },
  {
   "cell_type": "code",
   "execution_count": 7,
   "id": "635a0f46",
   "metadata": {
    "scrolled": true
   },
   "outputs": [
    {
     "name": "stderr",
     "output_type": "stream",
     "text": [
      "INFO:convex_nn:Pre-Optimization Metrics: Train Set objective: 0.5, Train Set grad_norm: 0.09645780175924301, Train Set base_objective: 0.5, Train Set accuracy: 0.0, Train Set squared_error: 1.0, Test Set nc_accuracy: 0.0, Test Set nc_squared_error: 1.0, group_sparsity: 1.0, \n"
     ]
    },
    {
     "data": {
      "application/vnd.jupyter.widget-view+json": {
       "model_id": "0e48505d1d45484a85033fb9a8091fec",
       "version_major": 2,
       "version_minor": 0
      },
      "text/plain": [
       "fista:   0%|          | 0/10000 [00:00<?, ?it/s]"
      ]
     },
     "metadata": {},
     "output_type": "display_data"
    },
    {
     "name": "stdout",
     "output_type": "stream",
     "text": [
      "Train Set objective: 0.5, Train Set grad_norm: 0.09645780175924301, Train Set base_objective: 0.5, Train Set accuracy: 0.0, Train Set squared_error: 1.0, Test Set nc_accuracy: 0.0, Test Set nc_squared_error: 1.0, group_sparsity: 1.0, \n",
      "Train Set objective: 0.024476349353790283, Train Set grad_norm: 9.197350664180703e-06, Train Set base_objective: 0.024476349353790283, Train Set accuracy: 1.0, Train Set squared_error: 0.007742962837219238, Test Set nc_accuracy: 0.934, Test Set nc_squared_error: 0.23453570556640624, group_sparsity: 0.0, \n"
     ]
    },
    {
     "name": "stderr",
     "output_type": "stream",
     "text": [
      "INFO:convex_nn:Termination criterion satisfied at iteration 51/10000. Exiting optimization loop.\n",
      "INFO:convex_nn:Post-Optimization Metrics: Train Set objective: 0.023809797286987306, Train Set grad_norm: 9.665082068011088e-09, Train Set base_objective: 0.023809797286987306, Train Set accuracy: 1.0, Train Set squared_error: 0.009328636169433593, Test Set nc_accuracy: 0.936, Test Set nc_squared_error: 0.23129983520507813, group_sparsity: 0.0, \n"
     ]
    },
    {
     "name": "stdout",
     "output_type": "stream",
     "text": [
      "Train Set objective: 0.023810088634490967, Train Set grad_norm: 1.243412484086548e-08, Train Set base_objective: 0.023810088634490967, Train Set accuracy: 1.0, Train Set squared_error: 0.009348078727722168, Test Set nc_accuracy: 0.936, Test Set nc_squared_error: 0.23128826904296876, group_sparsity: 0.0, \n"
     ]
    }
   ],
   "source": [
    "grelu_model, grelu_metrics = optimize_model(\n",
    "    model,\n",
    "    solver,\n",
    "    metrics,\n",
    "    X_train, \n",
    "    y_train, \n",
    "    X_test, \n",
    "    y_test,\n",
    "    regularizer=L2(0.001),\n",
    "    verbose=True,\n",
    ")"
   ]
  },
  {
   "cell_type": "code",
   "execution_count": 8,
   "id": "3e728fff",
   "metadata": {},
   "outputs": [
    {
     "data": {
      "text/plain": [
       "1.0"
      ]
     },
     "execution_count": 8,
     "metadata": {},
     "output_type": "execute_result"
    }
   ],
   "source": [
    "# Training Accuracy\n",
    "np.sum(np.sign(grelu_model(X_train)) == y_train) / len(y_train)"
   ]
  },
  {
   "cell_type": "code",
   "execution_count": 9,
   "id": "44296951",
   "metadata": {},
   "outputs": [
    {
     "name": "stderr",
     "output_type": "stream",
     "text": [
      "INFO:convex_nn:Pre-Optimization Metrics: Train Set objective: 0.5, Train Set grad_norm: 0.00788937509059906, Train Set base_objective: 0.5, Train Set accuracy: 0.0, Train Set squared_error: 1.0, Test Set nc_accuracy: 0.0, Test Set nc_squared_error: 1.0, group_sparsity: 1.0, \n"
     ]
    },
    {
     "data": {
      "application/vnd.jupyter.widget-view+json": {
       "model_id": "e2f72b5605f84da0ba3410310178b5a7",
       "version_major": 2,
       "version_minor": 0
      },
      "text/plain": [
       "fista:   0%|          | 0/10000 [00:00<?, ?it/s]"
      ]
     },
     "metadata": {},
     "output_type": "display_data"
    },
    {
     "name": "stdout",
     "output_type": "stream",
     "text": [
      "Train Set objective: 0.5, Train Set grad_norm: 0.00788937509059906, Train Set base_objective: 0.5, Train Set accuracy: 0.0, Train Set squared_error: 1.0, Test Set nc_accuracy: 0.0, Test Set nc_squared_error: 1.0, group_sparsity: 1.0, \n"
     ]
    },
    {
     "name": "stderr",
     "output_type": "stream",
     "text": [
      "INFO:convex_nn:Termination criterion satisfied at iteration 19/10000. Exiting optimization loop.\n",
      "/Users/amishkin/Documents/projects/opt_convex_nn/convex_nn/src/convex_nn/private/models/regularizers/group_l1.py:80: RuntimeWarning: divide by zero encountered in true_divide\n",
      "  * lab.smin(self.lam / grad_norms, 1)\n",
      "INFO:convex_nn:Pre-Optimization Metrics: Train Set objective: 0.09053484350442886, Train Set grad_norm: 0.052663207054138184, \n"
     ]
    },
    {
     "data": {
      "application/vnd.jupyter.widget-view+json": {
       "model_id": "8fc56fcfbbd94cffbca847da9fd1ec5b",
       "version_major": 2,
       "version_minor": 0
      },
      "text/plain": [
       "quadratic_decomp:   0%|          | 0/10000 [00:00<?, ?it/s]"
      ]
     },
     "metadata": {},
     "output_type": "display_data"
    },
    {
     "name": "stdout",
     "output_type": "stream",
     "text": [
      "Train Set objective: 0.09053484350442886, Train Set grad_norm: 0.052663207054138184, \n",
      "Train Set objective: 0.0069370917658509255, Train Set grad_norm: 9.772692465048749e-06, \n",
      "Train Set objective: 0.0013574508277814507, Train Set grad_norm: 7.918126812000992e-07, \n",
      "Train Set objective: 0.00024084887917228938, Train Set grad_norm: 9.696704950101775e-08, \n",
      "Train Set objective: 2.5661798121462763e-05, Train Set grad_norm: 1.4304522011343579e-08, \n",
      "Train Set objective: 3.5166150444390717e-06, Train Set grad_norm: 1.4524431657392256e-09, \n"
     ]
    },
    {
     "name": "stderr",
     "output_type": "stream",
     "text": [
      "INFO:convex_nn:Termination criterion satisfied at iteration 156/10000. Exiting optimization loop.\n",
      "INFO:convex_nn:Post-Optimization Metrics: Train Set objective: 5.3888765306643835e-08, Train Set grad_norm: 8.905740034315102e-11, \n",
      "INFO:convex_nn:Post-Optimization Metrics: Train Set objective: 2.235670292571515, Train Set grad_norm: 0.02402445860207081, Train Set base_objective: 2.2356702880859376, Train Set accuracy: 0.954, Train Set squared_error: 0.5963451538085938, Test Set nc_accuracy: 0.927, Test Set nc_squared_error: 0.6597618408203125, group_sparsity: 0.876, \n"
     ]
    },
    {
     "name": "stdout",
     "output_type": "stream",
     "text": [
      "Train Set objective: 2.3694464121212368e-07, Train Set grad_norm: 2.3102034174549146e-10, \n"
     ]
    }
   ],
   "source": [
    "model = ConvexGatedReLU(G) # start with a Gated ReLU model; a ReLU model will be output.\n",
    "solver = ApproximateConeDecomposition(model)\n",
    "cd_model, cd_metrics = optimize_model(\n",
    "    model,\n",
    "    solver,\n",
    "    metrics,\n",
    "    X_train, \n",
    "    y_train, \n",
    "    X_test, \n",
    "    y_test,\n",
    "    regularizer,\n",
    "    verbose=True,\n",
    ")"
   ]
  },
  {
   "cell_type": "code",
   "execution_count": 10,
   "id": "88f84680",
   "metadata": {},
   "outputs": [
    {
     "data": {
      "text/plain": [
       "0.911"
      ]
     },
     "execution_count": 10,
     "metadata": {},
     "output_type": "execute_result"
    }
   ],
   "source": [
    "# Training Accuracy\n",
    "np.sum(np.sign(cd_model(X_train)) == y_train) / len(y_train)"
   ]
  },
  {
   "cell_type": "code",
   "execution_count": 11,
   "id": "bffbecf3",
   "metadata": {
    "scrolled": true
   },
   "outputs": [
    {
     "name": "stderr",
     "output_type": "stream",
     "text": [
      "INFO:convex_nn:Pre-Optimization Metrics: Train Set objective: 0.5, Train Set grad_norm: 0.01577875018119812, Train Set base_objective: 0.5, Train Set accuracy: 0.0, Train Set squared_error: 1.0, Test Set nc_accuracy: 0.0, Test Set nc_squared_error: 1.0, group_sparsity: 1.0, \n"
     ]
    },
    {
     "data": {
      "application/vnd.jupyter.widget-view+json": {
       "model_id": "a82eca14bb804d60baf926e2a44adeca",
       "version_major": 2,
       "version_minor": 0
      },
      "text/plain": [
       "Outer al:   0%|          | 0/10000 [00:00<?, ?it/s]"
      ]
     },
     "metadata": {},
     "output_type": "display_data"
    },
    {
     "data": {
      "application/vnd.jupyter.widget-view+json": {
       "model_id": "99decc9ad59041a88d11f972941233ad",
       "version_major": 2,
       "version_minor": 0
      },
      "text/plain": [
       "Inner al:   0%|          | 0/10000 [00:00<?, ?it/s]"
      ]
     },
     "metadata": {},
     "output_type": "display_data"
    },
    {
     "name": "stdout",
     "output_type": "stream",
     "text": [
      "Train Set objective: 0.5, Train Set grad_norm: 0.01577875018119812, Train Set base_objective: 0.5, Train Set accuracy: 0.0, Train Set squared_error: 1.0, Test Set nc_accuracy: 0.0, Test Set nc_squared_error: 1.0, group_sparsity: 1.0, \n"
     ]
    },
    {
     "name": "stderr",
     "output_type": "stream",
     "text": [
      "INFO:convex_nn:*Inner* termination criterion satisfied at iteration 6/10000. Exiting *inner* optimization loop.\n"
     ]
    },
    {
     "data": {
      "application/vnd.jupyter.widget-view+json": {
       "model_id": "89e6fbd93e6b44729fb8a87d16c328df",
       "version_major": 2,
       "version_minor": 0
      },
      "text/plain": [
       "Inner al:   0%|          | 0/10000 [00:00<?, ?it/s]"
      ]
     },
     "metadata": {},
     "output_type": "display_data"
    },
    {
     "name": "stdout",
     "output_type": "stream",
     "text": [
      "Train Set objective: 0.4770087515804916, Train Set grad_norm: 0.0007291387883014977, Train Set base_objective: 0.4744866981506347, Train Set accuracy: 0.949, Train Set squared_error: 0.7674247436523437, Test Set nc_accuracy: 0.918, Test Set nc_squared_error: 0.7938717041015625, group_sparsity: 0.01, \n",
      "Train Set objective: 0.4700453943833709, Train Set grad_norm: 1.389190128975315e-05, Train Set base_objective: 0.46671931457519533, Train Set accuracy: 0.918, Train Set squared_error: 0.6692890014648437, Test Set nc_accuracy: 0.914, Test Set nc_squared_error: 0.6988060302734375, group_sparsity: 0.312, \n",
      "Train Set objective: 0.46843211869150403, Train Set grad_norm: 4.16083230447839e-06, Train Set base_objective: 0.46539197540283206, Train Set accuracy: 0.917, Train Set squared_error: 0.6568297119140625, Test Set nc_accuracy: 0.914, Test Set nc_squared_error: 0.6902406005859375, group_sparsity: 0.429, \n",
      "Train Set objective: 0.4678613796848804, Train Set grad_norm: 1.2052853435307043e-06, Train Set base_objective: 0.46514224815368654, Train Set accuracy: 0.917, Train Set squared_error: 0.654175048828125, Test Set nc_accuracy: 0.914, Test Set nc_squared_error: 0.68900634765625, group_sparsity: 0.48, \n"
     ]
    },
    {
     "name": "stderr",
     "output_type": "stream",
     "text": [
      "INFO:convex_nn:*Inner* termination criterion satisfied at iteration 82/10000. Exiting *inner* optimization loop.\n"
     ]
    },
    {
     "data": {
      "application/vnd.jupyter.widget-view+json": {
       "model_id": "ac22f3f28c204e848e18f3991d077b78",
       "version_major": 2,
       "version_minor": 0
      },
      "text/plain": [
       "Inner al:   0%|          | 0/10000 [00:00<?, ?it/s]"
      ]
     },
     "metadata": {},
     "output_type": "display_data"
    },
    {
     "name": "stdout",
     "output_type": "stream",
     "text": [
      "Train Set objective: 0.46779102499969305, Train Set grad_norm: 9.990371836465783e-07, Train Set base_objective: 0.46513530349731447, Train Set accuracy: 0.917, Train Set squared_error: 0.6533619995117188, Test Set nc_accuracy: 0.914, Test Set nc_squared_error: 0.6884429931640625, group_sparsity: 0.494, \n"
     ]
    },
    {
     "name": "stderr",
     "output_type": "stream",
     "text": [
      "INFO:convex_nn:*Inner* termination criterion satisfied at iteration 20/10000. Exiting *inner* optimization loop.\n"
     ]
    },
    {
     "data": {
      "application/vnd.jupyter.widget-view+json": {
       "model_id": "a83b3227f5ea4f8299f85d4f7a183ea9",
       "version_major": 2,
       "version_minor": 0
      },
      "text/plain": [
       "Inner al:   0%|          | 0/10000 [00:00<?, ?it/s]"
      ]
     },
     "metadata": {},
     "output_type": "display_data"
    },
    {
     "name": "stdout",
     "output_type": "stream",
     "text": [
      "Train Set objective: 0.4742579006329179, Train Set grad_norm: 9.834013781073736e-07, Train Set base_objective: 0.4684523849487305, Train Set accuracy: 0.911, Train Set squared_error: 0.6664827880859375, Test Set nc_accuracy: 0.914, Test Set nc_squared_error: 0.698767333984375, group_sparsity: 0.351, \n"
     ]
    },
    {
     "name": "stderr",
     "output_type": "stream",
     "text": [
      "INFO:convex_nn:*Inner* termination criterion satisfied at iteration 24/10000. Exiting *inner* optimization loop.\n"
     ]
    },
    {
     "data": {
      "application/vnd.jupyter.widget-view+json": {
       "model_id": "0e75f901942743b7b6d52630fd9b7248",
       "version_major": 2,
       "version_minor": 0
      },
      "text/plain": [
       "Inner al:   0%|          | 0/10000 [00:00<?, ?it/s]"
      ]
     },
     "metadata": {},
     "output_type": "display_data"
    },
    {
     "name": "stdout",
     "output_type": "stream",
     "text": [
      "Train Set objective: 0.47855344676971434, Train Set grad_norm: 9.85095198302588e-07, Train Set base_objective: 0.4700289096832275, Train Set accuracy: 0.911, Train Set squared_error: 0.6747822265625, Test Set nc_accuracy: 0.914, Test Set nc_squared_error: 0.705958984375, group_sparsity: 0.294, \n",
      "Train Set objective: 0.48177510479837654, Train Set grad_norm: 1.6533688267372781e-06, Train Set base_objective: 0.47104941940307615, Train Set accuracy: 0.911, Train Set squared_error: 0.680114013671875, Test Set nc_accuracy: 0.914, Test Set nc_squared_error: 0.7106949462890625, group_sparsity: 0.292, \n"
     ]
    },
    {
     "name": "stderr",
     "output_type": "stream",
     "text": [
      "INFO:convex_nn:*Inner* termination criterion satisfied at iteration 37/10000. Exiting *inner* optimization loop.\n"
     ]
    },
    {
     "data": {
      "application/vnd.jupyter.widget-view+json": {
       "model_id": "2040537c711a43a29b06d6333f4634b3",
       "version_major": 2,
       "version_minor": 0
      },
      "text/plain": [
       "Inner al:   0%|          | 0/10000 [00:00<?, ?it/s]"
      ]
     },
     "metadata": {},
     "output_type": "display_data"
    },
    {
     "name": "stdout",
     "output_type": "stream",
     "text": [
      "Train Set objective: 0.4816441153362393, Train Set grad_norm: 9.850181186266127e-07, Train Set base_objective: 0.471045331954956, Train Set accuracy: 0.911, Train Set squared_error: 0.6797079467773437, Test Set nc_accuracy: 0.914, Test Set nc_squared_error: 0.7107447509765625, group_sparsity: 0.264, \n",
      "Train Set objective: 0.48393610364198686, Train Set grad_norm: 1.2986117781110806e-06, Train Set base_objective: 0.4717357406616211, Train Set accuracy: 0.911, Train Set squared_error: 0.6825093383789063, Test Set nc_accuracy: 0.914, Test Set nc_squared_error: 0.7134006958007812, group_sparsity: 0.299, \n"
     ]
    },
    {
     "name": "stderr",
     "output_type": "stream",
     "text": [
      "INFO:convex_nn:*Inner* termination criterion satisfied at iteration 39/10000. Exiting *inner* optimization loop.\n"
     ]
    },
    {
     "data": {
      "application/vnd.jupyter.widget-view+json": {
       "model_id": "9d39645dcc8f4032a7f22dda479aa5f1",
       "version_major": 2,
       "version_minor": 0
      },
      "text/plain": [
       "Inner al:   0%|          | 0/10000 [00:00<?, ?it/s]"
      ]
     },
     "metadata": {},
     "output_type": "display_data"
    },
    {
     "name": "stdout",
     "output_type": "stream",
     "text": [
      "Train Set objective: 0.483798523902893, Train Set grad_norm: 9.75822104010149e-07, Train Set base_objective: 0.4717301330566406, Train Set accuracy: 0.911, Train Set squared_error: 0.68201708984375, Test Set nc_accuracy: 0.914, Test Set nc_squared_error: 0.713252685546875, group_sparsity: 0.377, \n"
     ]
    },
    {
     "name": "stderr",
     "output_type": "stream",
     "text": [
      "INFO:convex_nn:*Inner* termination criterion satisfied at iteration 24/10000. Exiting *inner* optimization loop.\n"
     ]
    },
    {
     "data": {
      "application/vnd.jupyter.widget-view+json": {
       "model_id": "c0dee995fd024c1ebcb48191e6f778dd",
       "version_major": 2,
       "version_minor": 0
      },
      "text/plain": [
       "Inner al:   0%|          | 0/10000 [00:00<?, ?it/s]"
      ]
     },
     "metadata": {},
     "output_type": "display_data"
    },
    {
     "name": "stdout",
     "output_type": "stream",
     "text": [
      "Train Set objective: 0.48538213536888364, Train Set grad_norm: 9.802422482607653e-07, Train Set base_objective: 0.4721988983154297, Train Set accuracy: 0.911, Train Set squared_error: 0.683091796875, Test Set nc_accuracy: 0.914, Test Set nc_squared_error: 0.7145037231445313, group_sparsity: 0.328, \n"
     ]
    },
    {
     "name": "stderr",
     "output_type": "stream",
     "text": [
      "INFO:convex_nn:*Inner* termination criterion satisfied at iteration 6/10000. Exiting *inner* optimization loop.\n"
     ]
    },
    {
     "data": {
      "application/vnd.jupyter.widget-view+json": {
       "model_id": "2cab15c9b54e48ee92601107407b0e1f",
       "version_major": 2,
       "version_minor": 0
      },
      "text/plain": [
       "Inner al:   0%|          | 0/10000 [00:00<?, ?it/s]"
      ]
     },
     "metadata": {},
     "output_type": "display_data"
    },
    {
     "name": "stdout",
     "output_type": "stream",
     "text": [
      "Train Set objective: 0.4866302904039621, Train Set grad_norm: 9.728136092235218e-07, Train Set base_objective: 0.47239357757568357, Train Set accuracy: 0.911, Train Set squared_error: 0.683841796875, Test Set nc_accuracy: 0.914, Test Set nc_squared_error: 0.7153092041015625, group_sparsity: 0.257, \n"
     ]
    },
    {
     "name": "stderr",
     "output_type": "stream",
     "text": [
      "INFO:convex_nn:*Inner* termination criterion satisfied at iteration 7/10000. Exiting *inner* optimization loop.\n"
     ]
    },
    {
     "data": {
      "application/vnd.jupyter.widget-view+json": {
       "model_id": "f4a2941001e648b9946efb14b6076852",
       "version_major": 2,
       "version_minor": 0
      },
      "text/plain": [
       "Inner al:   0%|          | 0/10000 [00:00<?, ?it/s]"
      ]
     },
     "metadata": {},
     "output_type": "display_data"
    },
    {
     "name": "stdout",
     "output_type": "stream",
     "text": [
      "Train Set objective: 0.4877547598034143, Train Set grad_norm: 9.790741160031757e-07, Train Set base_objective: 0.47267331504821775, Train Set accuracy: 0.911, Train Set squared_error: 0.6843211059570312, Test Set nc_accuracy: 0.914, Test Set nc_squared_error: 0.7156455688476563, group_sparsity: 0.256, \n"
     ]
    },
    {
     "name": "stderr",
     "output_type": "stream",
     "text": [
      "INFO:convex_nn:*Inner* termination criterion satisfied at iteration 6/10000. Exiting *inner* optimization loop.\n"
     ]
    },
    {
     "data": {
      "application/vnd.jupyter.widget-view+json": {
       "model_id": "987dc52957754c5ebabb92ba643cc200",
       "version_major": 2,
       "version_minor": 0
      },
      "text/plain": [
       "Inner al:   0%|          | 0/10000 [00:00<?, ?it/s]"
      ]
     },
     "metadata": {},
     "output_type": "display_data"
    },
    {
     "name": "stdout",
     "output_type": "stream",
     "text": [
      "Train Set objective: 0.4886576557606459, Train Set grad_norm: 9.723468110678368e-07, Train Set base_objective: 0.4728905601501465, Train Set accuracy: 0.911, Train Set squared_error: 0.6847244873046875, Test Set nc_accuracy: 0.914, Test Set nc_squared_error: 0.7161419677734375, group_sparsity: 0.25, \n"
     ]
    },
    {
     "name": "stderr",
     "output_type": "stream",
     "text": [
      "INFO:convex_nn:*Inner* termination criterion satisfied at iteration 6/10000. Exiting *inner* optimization loop.\n"
     ]
    },
    {
     "data": {
      "application/vnd.jupyter.widget-view+json": {
       "model_id": "c1c59abea3844cca9ad81ffee54e3680",
       "version_major": 2,
       "version_minor": 0
      },
      "text/plain": [
       "Inner al:   0%|          | 0/10000 [00:00<?, ?it/s]"
      ]
     },
     "metadata": {},
     "output_type": "display_data"
    },
    {
     "name": "stdout",
     "output_type": "stream",
     "text": [
      "Train Set objective: 0.48938000285625455, Train Set grad_norm: 9.960041325030033e-07, Train Set base_objective: 0.473054365158081, Train Set accuracy: 0.911, Train Set squared_error: 0.685060546875, Test Set nc_accuracy: 0.914, Test Set nc_squared_error: 0.7164835205078125, group_sparsity: 0.257, \n"
     ]
    },
    {
     "name": "stderr",
     "output_type": "stream",
     "text": [
      "INFO:convex_nn:*Inner* termination criterion satisfied at iteration 7/10000. Exiting *inner* optimization loop.\n"
     ]
    },
    {
     "data": {
      "application/vnd.jupyter.widget-view+json": {
       "model_id": "0a499a5336f44cfba2d99d59796a23b6",
       "version_major": 2,
       "version_minor": 0
      },
      "text/plain": [
       "Inner al:   0%|          | 0/10000 [00:00<?, ?it/s]"
      ]
     },
     "metadata": {},
     "output_type": "display_data"
    },
    {
     "name": "stdout",
     "output_type": "stream",
     "text": [
      "Train Set objective: 0.48995727208256723, Train Set grad_norm: 8.983249131233606e-07, Train Set base_objective: 0.47319416236877443, Train Set accuracy: 0.911, Train Set squared_error: 0.6853885498046876, Test Set nc_accuracy: 0.914, Test Set nc_squared_error: 0.7168604736328125, group_sparsity: 0.467, \n"
     ]
    },
    {
     "name": "stderr",
     "output_type": "stream",
     "text": [
      "INFO:convex_nn:*Inner* termination criterion satisfied at iteration 8/10000. Exiting *inner* optimization loop.\n"
     ]
    },
    {
     "data": {
      "application/vnd.jupyter.widget-view+json": {
       "model_id": "ac9487d7bd6c463a9d73c4d07402f993",
       "version_major": 2,
       "version_minor": 0
      },
      "text/plain": [
       "Inner al:   0%|          | 0/10000 [00:00<?, ?it/s]"
      ]
     },
     "metadata": {},
     "output_type": "display_data"
    },
    {
     "name": "stderr",
     "output_type": "stream",
     "text": [
      "INFO:convex_nn:*Inner* termination criterion satisfied at iteration 0/10000. Exiting *inner* optimization loop.\n"
     ]
    },
    {
     "name": "stdout",
     "output_type": "stream",
     "text": [
      "Train Set objective: 0.4903743496388197, Train Set grad_norm: 8.038034025048546e-07, Train Set base_objective: 0.4733181247711182, Train Set accuracy: 0.911, Train Set squared_error: 0.6845775146484375, Test Set nc_accuracy: 0.914, Test Set nc_squared_error: 0.7162703857421875, group_sparsity: 0.851, \n"
     ]
    },
    {
     "data": {
      "application/vnd.jupyter.widget-view+json": {
       "model_id": "62241c3f8d454979972a699ad8e3a31f",
       "version_major": 2,
       "version_minor": 0
      },
      "text/plain": [
       "Inner al:   0%|          | 0/10000 [00:00<?, ?it/s]"
      ]
     },
     "metadata": {},
     "output_type": "display_data"
    },
    {
     "name": "stderr",
     "output_type": "stream",
     "text": [
      "INFO:convex_nn:*Inner* termination criterion satisfied at iteration 1/10000. Exiting *inner* optimization loop.\n"
     ]
    },
    {
     "name": "stdout",
     "output_type": "stream",
     "text": [
      "Train Set objective: 0.4903743496388197, Train Set grad_norm: 8.038034025048546e-07, Train Set base_objective: 0.4733181247711182, Train Set accuracy: 0.911, Train Set squared_error: 0.6845775146484375, Test Set nc_accuracy: 0.914, Test Set nc_squared_error: 0.7162703857421875, group_sparsity: 0.851, \n"
     ]
    },
    {
     "data": {
      "application/vnd.jupyter.widget-view+json": {
       "model_id": "bfebfe1670b84360873b620e052624eb",
       "version_major": 2,
       "version_minor": 0
      },
      "text/plain": [
       "Inner al:   0%|          | 0/10000 [00:00<?, ?it/s]"
      ]
     },
     "metadata": {},
     "output_type": "display_data"
    },
    {
     "name": "stdout",
     "output_type": "stream",
     "text": [
      "Train Set objective: 0.49104410943388943, Train Set grad_norm: 8.591036930738483e-07, Train Set base_objective: 0.473384449005127, Train Set accuracy: 0.911, Train Set squared_error: 0.6846243896484375, Test Set nc_accuracy: 0.914, Test Set nc_squared_error: 0.7163038330078125, group_sparsity: 0.952, \n"
     ]
    },
    {
     "name": "stderr",
     "output_type": "stream",
     "text": [
      "INFO:convex_nn:*Inner* termination criterion satisfied at iteration 6/10000. Exiting *inner* optimization loop.\n"
     ]
    },
    {
     "data": {
      "application/vnd.jupyter.widget-view+json": {
       "model_id": "b67bfb4bee294d5f9f2d646833037560",
       "version_major": 2,
       "version_minor": 0
      },
      "text/plain": [
       "Inner al:   0%|          | 0/10000 [00:00<?, ?it/s]"
      ]
     },
     "metadata": {},
     "output_type": "display_data"
    },
    {
     "name": "stderr",
     "output_type": "stream",
     "text": [
      "INFO:convex_nn:*Inner* termination criterion satisfied at iteration 0/10000. Exiting *inner* optimization loop.\n"
     ]
    },
    {
     "name": "stdout",
     "output_type": "stream",
     "text": [
      "Train Set objective: 0.49129932135343557, Train Set grad_norm: 7.443230742865126e-07, Train Set base_objective: 0.47346812248229986, Train Set accuracy: 0.911, Train Set squared_error: 0.6837911987304688, Test Set nc_accuracy: 0.914, Test Set nc_squared_error: 0.7156347045898438, group_sparsity: 0.957, \n"
     ]
    },
    {
     "data": {
      "application/vnd.jupyter.widget-view+json": {
       "model_id": "32ef19a0941c45d19afe81653b41d055",
       "version_major": 2,
       "version_minor": 0
      },
      "text/plain": [
       "Inner al:   0%|          | 0/10000 [00:00<?, ?it/s]"
      ]
     },
     "metadata": {},
     "output_type": "display_data"
    },
    {
     "name": "stderr",
     "output_type": "stream",
     "text": [
      "INFO:convex_nn:*Inner* termination criterion satisfied at iteration 0/10000. Exiting *inner* optimization loop.\n"
     ]
    },
    {
     "name": "stdout",
     "output_type": "stream",
     "text": [
      "Train Set objective: 0.49129932135343557, Train Set grad_norm: 7.443230742865126e-07, Train Set base_objective: 0.47346812248229986, Train Set accuracy: 0.911, Train Set squared_error: 0.6837911987304688, Test Set nc_accuracy: 0.914, Test Set nc_squared_error: 0.7156347045898438, group_sparsity: 0.957, \n"
     ]
    },
    {
     "data": {
      "application/vnd.jupyter.widget-view+json": {
       "model_id": "408d6ebad8d44f4fa770c2fcef8d9932",
       "version_major": 2,
       "version_minor": 0
      },
      "text/plain": [
       "Inner al:   0%|          | 0/10000 [00:00<?, ?it/s]"
      ]
     },
     "metadata": {},
     "output_type": "display_data"
    },
    {
     "name": "stderr",
     "output_type": "stream",
     "text": [
      "INFO:convex_nn:*Inner* termination criterion satisfied at iteration 1/10000. Exiting *inner* optimization loop.\n"
     ]
    },
    {
     "name": "stdout",
     "output_type": "stream",
     "text": [
      "Train Set objective: 0.49129932135343557, Train Set grad_norm: 7.443230742865126e-07, Train Set base_objective: 0.47346812248229986, Train Set accuracy: 0.911, Train Set squared_error: 0.6837911987304688, Test Set nc_accuracy: 0.914, Test Set nc_squared_error: 0.7156347045898438, group_sparsity: 0.957, \n"
     ]
    },
    {
     "data": {
      "application/vnd.jupyter.widget-view+json": {
       "model_id": "9a608ba63ffc4537a6be298a1f8d55e1",
       "version_major": 2,
       "version_minor": 0
      },
      "text/plain": [
       "Inner al:   0%|          | 0/10000 [00:00<?, ?it/s]"
      ]
     },
     "metadata": {},
     "output_type": "display_data"
    },
    {
     "name": "stderr",
     "output_type": "stream",
     "text": [
      "INFO:convex_nn:*Inner* termination criterion satisfied at iteration 0/10000. Exiting *inner* optimization loop.\n"
     ]
    },
    {
     "name": "stdout",
     "output_type": "stream",
     "text": [
      "Train Set objective: 0.49190025731921194, Train Set grad_norm: 7.643031381121546e-07, Train Set base_objective: 0.47352478981018065, Train Set accuracy: 0.911, Train Set squared_error: 0.6838247680664062, Test Set nc_accuracy: 0.914, Test Set nc_squared_error: 0.7156709594726562, group_sparsity: 0.958, \n"
     ]
    },
    {
     "data": {
      "application/vnd.jupyter.widget-view+json": {
       "model_id": "ea8e6366aee6400b8d6b2bc6adeeebd4",
       "version_major": 2,
       "version_minor": 0
      },
      "text/plain": [
       "Inner al:   0%|          | 0/10000 [00:00<?, ?it/s]"
      ]
     },
     "metadata": {},
     "output_type": "display_data"
    },
    {
     "name": "stderr",
     "output_type": "stream",
     "text": [
      "INFO:convex_nn:*Inner* termination criterion satisfied at iteration 1/10000. Exiting *inner* optimization loop.\n"
     ]
    },
    {
     "name": "stdout",
     "output_type": "stream",
     "text": [
      "Train Set objective: 0.49190025731921194, Train Set grad_norm: 7.643031381121546e-07, Train Set base_objective: 0.47352478981018065, Train Set accuracy: 0.911, Train Set squared_error: 0.6838247680664062, Test Set nc_accuracy: 0.914, Test Set nc_squared_error: 0.7156709594726562, group_sparsity: 0.958, \n"
     ]
    },
    {
     "data": {
      "application/vnd.jupyter.widget-view+json": {
       "model_id": "9a10b7bc26854f6aa9e627b723f68787",
       "version_major": 2,
       "version_minor": 0
      },
      "text/plain": [
       "Inner al:   0%|          | 0/10000 [00:00<?, ?it/s]"
      ]
     },
     "metadata": {},
     "output_type": "display_data"
    },
    {
     "name": "stdout",
     "output_type": "stream",
     "text": [
      "Train Set objective: 0.4922444367259741, Train Set grad_norm: 9.140172778643318e-07, Train Set base_objective: 0.47355323410034184, Train Set accuracy: 0.911, Train Set squared_error: 0.6837880249023438, Test Set nc_accuracy: 0.914, Test Set nc_squared_error: 0.715649658203125, group_sparsity: 0.961, \n"
     ]
    },
    {
     "name": "stderr",
     "output_type": "stream",
     "text": [
      "INFO:convex_nn:*Inner* termination criterion satisfied at iteration 3/10000. Exiting *inner* optimization loop.\n"
     ]
    },
    {
     "data": {
      "application/vnd.jupyter.widget-view+json": {
       "model_id": "63cbf0fc93f643dba26e5331dbf5cced",
       "version_major": 2,
       "version_minor": 0
      },
      "text/plain": [
       "Inner al:   0%|          | 0/10000 [00:00<?, ?it/s]"
      ]
     },
     "metadata": {},
     "output_type": "display_data"
    },
    {
     "name": "stderr",
     "output_type": "stream",
     "text": [
      "INFO:convex_nn:*Outer* termination criterion satisfied at iteration 22/10000. Exiting *outer* optimization loop.\n"
     ]
    },
    {
     "name": "stdout",
     "output_type": "stream",
     "text": [
      "Train Set objective: 0.49238505551218986, Train Set grad_norm: 8.664882216180558e-07, Train Set base_objective: 0.4736156311035156, Train Set accuracy: 0.911, Train Set squared_error: 0.6835282592773437, Test Set nc_accuracy: 0.914, Test Set nc_squared_error: 0.7154508056640625, group_sparsity: 0.961, \n"
     ]
    },
    {
     "name": "stderr",
     "output_type": "stream",
     "text": [
      "INFO:convex_nn:Post-Optimization Metrics: Train Set objective: 0.49247168764472005, Train Set grad_norm: 6.800977416787646e-07, Train Set base_objective: 0.4736297988891601, Train Set accuracy: 0.911, Train Set squared_error: 0.6832611083984375, Test Set nc_accuracy: 0.914, Test Set nc_squared_error: 0.7152445678710937, group_sparsity: 0.962, \n"
     ]
    }
   ],
   "source": [
    "model = ConvexReLU(G)\n",
    "solver = AL(model)\n",
    "relu_model, relu_metrics = optimize_model(\n",
    "    model,\n",
    "    solver,\n",
    "    metrics,\n",
    "    X_train, \n",
    "    y_train, \n",
    "    X_test, \n",
    "    y_test,\n",
    "    regularizer,\n",
    "    verbose=True,\n",
    ")"
   ]
  },
  {
   "cell_type": "code",
   "execution_count": 12,
   "id": "5a122a18",
   "metadata": {},
   "outputs": [
    {
     "data": {
      "text/plain": [
       "0.911"
      ]
     },
     "execution_count": 12,
     "metadata": {},
     "output_type": "execute_result"
    }
   ],
   "source": [
    "# Training Accuracy\n",
    "np.sum(np.sign(relu_model(X_train)) == y_train) / len(y_train)"
   ]
  },
  {
   "cell_type": "code",
   "execution_count": 13,
   "id": "cf7327ec",
   "metadata": {},
   "outputs": [
    {
     "data": {
      "image/png": "[encoded data removed]",
      "text/plain": [
       "<Figure size 1296x432 with 3 Axes>"
      ]
     },
     "metadata": {
      "needs_background": "light"
     },
     "output_type": "display_data"
    }
   ],
   "source": [
    "fig = plt.figure(figsize=(18,6))\n",
    "spec = fig.add_gridspec(ncols=3, nrows=1)\n",
    "ax0 = fig.add_subplot(spec[0, 0])\n",
    "\n",
    "ax0.plot(np.arange(len(relu_metrics.objective)), \n",
    "         relu_metrics.objective, \n",
    "         label=\"ReLU\", \n",
    "         color=\"#ff7f0e\",\n",
    "         marker=\"^\",\n",
    "         markevery=0.1,\n",
    "         markersize=14,\n",
    "         linewidth=\"3\")\n",
    "\n",
    "ax0.plot(np.arange(len(grelu_metrics.objective)), \n",
    "         grelu_metrics.objective, \n",
    "         label=\"Gated ReLU\", \n",
    "         color=\"#1f77b4\",\n",
    "         marker=\"v\", \n",
    "         markevery=0.1,\n",
    "         markersize=14,\n",
    "         linewidth=\"3\"\n",
    "        )\n",
    "\n",
    "ax0.plot(np.arange(len(cd_metrics.objective)), \n",
    "         cd_metrics.objective, \n",
    "         label=\"Cone Decomp.\", \n",
    "         color=\"#2ca02c\",\n",
    "         marker=\"X\", \n",
    "         markevery=0.1,\n",
    "         markersize=14,\n",
    "         linewidth=\"3\"\n",
    "        )\n",
    "\n",
    "ax0.set_title(\"Training Objective\", fontsize=22)\n",
    "ax0.set_xlabel(\"Time (S)\", fontsize=18)\n",
    "\n",
    "ax1 = fig.add_subplot(spec[0, 1])\n",
    "\n",
    "ax1.plot(relu_metrics.time, \n",
    "         relu_metrics.train_accuracy, \n",
    "         label=\"Relu\", \n",
    "         color=\"#ff7f0e\",\n",
    "         marker=\"^\",\n",
    "         markevery=0.1,\n",
    "         markersize=14,\n",
    "         linewidth=\"3\")\n",
    "\n",
    "ax1.plot(grelu_metrics.time, \n",
    "         grelu_metrics.train_accuracy, \n",
    "         label=\"Gated ReLU\", \n",
    "         color=\"#1f77b4\",\n",
    "         marker=\"v\", \n",
    "         markevery=0.1,\n",
    "         markersize=14,\n",
    "         linewidth=\"3\"\n",
    "        )\n",
    "\n",
    "ax1.plot(cd_metrics.time, \n",
    "         cd_metrics.train_accuracy, \n",
    "         label=\"Cone Decomp.\", \n",
    "         color=\"#2ca02c\",\n",
    "         marker=\"X\", \n",
    "         markevery=0.1,\n",
    "         markersize=14,\n",
    "         linewidth=\"3\"\n",
    "        )\n",
    "\n",
    "ax1.set_title(\"Training Accuracy\", fontsize=22)\n",
    "ax1.set_xlabel(\"Time (S)\", fontsize=18)\n",
    "\n",
    "ax2 = fig.add_subplot(spec[0, 2])\n",
    "\n",
    "\n",
    "ax2.plot(relu_metrics.time, \n",
    "         relu_metrics.test_accuracy, \n",
    "         label=\"Relu\", \n",
    "         color=\"#ff7f0e\",\n",
    "         marker=\"^\",\n",
    "         markevery=0.1,\n",
    "         markersize=14,\n",
    "         linewidth=\"3\")\n",
    "\n",
    "ax2.plot(grelu_metrics.time, \n",
    "         grelu_metrics.test_accuracy, \n",
    "         label=\"Gated ReLU\", \n",
    "         color=\"#1f77b4\",\n",
    "         marker=\"v\", \n",
    "         markevery=0.1,\n",
    "         markersize=14,\n",
    "         linewidth=\"3\"\n",
    "        )\n",
    "\n",
    "ax2.plot(cd_metrics.time, \n",
    "         cd_metrics.test_accuracy, \n",
    "         label=\"Cone Decomp.\", \n",
    "         color=\"#2ca02c\",\n",
    "         marker=\"X\", \n",
    "         markevery=0.1,\n",
    "         markersize=14,\n",
    "         linewidth=\"3\"\n",
    "        )\n",
    "\n",
    "ax2.set_title(\"Test Accuracy\", fontsize=22)\n",
    "ax2.set_xlabel(\"Time (S)\", fontsize=18)\n",
    "handles, labels = ax0.get_legend_handles_labels()\n",
    "legend = fig.legend(\n",
    "    handles=handles,\n",
    "    labels=labels,\n",
    "    loc=\"lower center\",\n",
    "    borderaxespad=0.1,\n",
    "    fancybox=False,\n",
    "    shadow=False,\n",
    "    ncol=3,\n",
    "    fontsize=16,\n",
    "    frameon=False,\n",
    ")\n",
    "fig.subplots_adjust(\n",
    "    bottom=0.15,\n",
    ")"
   ]
  },
  {
   "cell_type": "code",
   "execution_count": 14,
   "id": "0464a6be",
   "metadata": {},
   "outputs": [
    {
     "name": "stderr",
     "output_type": "stream",
     "text": [
      "INFO:convex_nn:Pre-Training Metrics: Train Set objective: 0.5, Train Set grad_norm: 0.09645780175924301, Train Set base_objective: 0.5, Train Set accuracy: 0.0, Train Set squared_error: 1.0, Test Set nc_accuracy: 0.0, Test Set nc_squared_error: 1.0, group_sparsity: 1.0, \n",
      "INFO:convex_nn:Post-Training Metrics: Train Set objective: 0.10596883459402834, Train Set grad_norm: 8.607546412607804e-16, Train Set base_objective: 0.10596883459402834, Train Set accuracy: 0.999, Train Set squared_error: 0.10412220648225343, Test Set nc_accuracy: 0.937, Test Set nc_squared_error: 0.2360975301259304, group_sparsity: 0.0, \n"
     ]
    }
   ],
   "source": [
    "# Super-fast least-squares solver.\n",
    "model = ConvexGatedReLU(G)\n",
    "solver = LeastSquaresSolver(model, tol=1e-8)\n",
    "regularizer = L2(0.01)\n",
    "lstsq_model, lstsq_metrics = optimize_model(\n",
    "    model,\n",
    "    solver,\n",
    "    metrics,\n",
    "    X_train, \n",
    "    y_train, \n",
    "    X_test, \n",
    "    y_test,\n",
    "    regularizer=regularizer,\n",
    "    verbose=True,\n",
    ")"
   ]
  },
  {
   "cell_type": "code",
   "execution_count": 15,
   "id": "35508e63",
   "metadata": {},
   "outputs": [
    {
     "data": {
      "text/plain": [
       "0.998"
      ]
     },
     "execution_count": 15,
     "metadata": {},
     "output_type": "execute_result"
    }
   ],
   "source": [
    "# Training Accuracy\n",
    "np.sum(np.sign(lstsq_model(X_train)) == y_train) / len(y_train)"
   ]
  },
  {
   "cell_type": "code",
   "execution_count": 16,
   "id": "848bc5d0",
   "metadata": {},
   "outputs": [],
   "source": [
    "solver = CVXPYSolver(model, \"mosek\", clean_sol=True)"
   ]
  },
  {
   "cell_type": "code",
   "execution_count": 17,
   "id": "cf622025",
   "metadata": {},
   "outputs": [
    {
     "name": "stderr",
     "output_type": "stream",
     "text": [
      "INFO:convex_nn:Pre-Training Metrics: Train Set objective: 0.5, Train Set grad_norm: 0.00788937509059906, Train Set base_objective: 0.5, Train Set accuracy: 0.0, Train Set squared_error: 1.0, Test Set nc_accuracy: 0.0, Test Set nc_squared_error: 1.0, group_sparsity: 1.0, \n"
     ]
    },
    {
     "name": "stdout",
     "output_type": "stream",
     "text": [
      "===============================================================================\n",
      "                                     CVXPY                                     \n",
      "                                    v1.1.15                                    \n",
      "===============================================================================\n",
      "(CVXPY) Apr 21 06:54:09 PM: Your problem has 25000 variables, 0 constraints, and 0 parameters.\n",
      "(CVXPY) Apr 21 06:54:09 PM: It is compliant with the following grammars: DCP, DQCP\n",
      "(CVXPY) Apr 21 06:54:09 PM: (If you need to solve this problem multiple times, but with different data, consider using parameters.)\n",
      "(CVXPY) Apr 21 06:54:09 PM: CVXPY will first compile your problem; then, it will invoke a numerical solver to obtain a solution.\n",
      "-------------------------------------------------------------------------------\n",
      "                                  Compilation                                  \n",
      "-------------------------------------------------------------------------------\n",
      "(CVXPY) Apr 21 06:54:09 PM: Compiling problem (target solver=MOSEK).\n",
      "(CVXPY) Apr 21 06:54:09 PM: Reduction chain: Dcp2Cone -> CvxAttr2Constr -> ConeMatrixStuffing -> MOSEK\n",
      "(CVXPY) Apr 21 06:54:09 PM: Applying reduction Dcp2Cone\n",
      "(CVXPY) Apr 21 06:54:09 PM: Applying reduction CvxAttr2Constr\n",
      "(CVXPY) Apr 21 06:54:09 PM: Applying reduction ConeMatrixStuffing\n",
      "(CVXPY) Apr 21 06:54:21 PM: Applying reduction MOSEK\n",
      "(CVXPY) Apr 21 06:54:24 PM: Finished problem compilation (took 1.488e+01 seconds).\n",
      "-------------------------------------------------------------------------------\n",
      "                                Numerical solver                               \n",
      "-------------------------------------------------------------------------------\n",
      "(CVXPY) Apr 21 06:54:24 PM: Invoking solver MOSEK  to obtain a solution.\n",
      "\n",
      "\n",
      "Problem\n",
      "  Name                   :                 \n",
      "  Objective sense        : max             \n",
      "  Type                   : CONIC (conic optimization problem)\n",
      "  Constraints            : 26001           \n",
      "  Cones                  : 501             \n",
      "  Scalar variables       : 27502           \n",
      "  Matrix variables       : 0               \n",
      "  Integer variables      : 0               \n",
      "\n",
      "Optimizer started.\n",
      "Problem\n",
      "  Name                   :                 \n",
      "  Objective sense        : max             \n",
      "  Type                   : CONIC (conic optimization problem)\n",
      "  Constraints            : 26001           \n",
      "  Cones                  : 501             \n",
      "  Scalar variables       : 27502           \n",
      "  Matrix variables       : 0               \n",
      "  Integer variables      : 0               \n",
      "\n",
      "Optimizer  - threads                : 12              \n",
      "Optimizer  - solved problem         : the primal      \n",
      "Optimizer  - Constraints            : 25001\n",
      "Optimizer  - Cones                  : 501\n",
      "Optimizer  - Scalar variables       : 26502             conic                  : 26502           \n",
      "Optimizer  - Semi-definite variables: 0                 scalarized             : 0               \n",
      "Factor     - setup time             : 2.30              dense det. time        : 0.58            \n",
      "Factor     - ML order time          : 0.04              GP order time          : 0.00            \n",
      "Factor     - nonzeros before factor : 1.31e+07          after factor           : 1.31e+07        \n",
      "Factor     - dense dim.             : 1002              flops                  : 7.24e+09        \n",
      "ITE PFEAS    DFEAS    GFEAS    PRSTATUS   POBJ              DOBJ              MU       TIME  \n",
      "0   1.0e+00  2.0e+00  7.0e+00  0.00e+00   -1.000000000e+00  5.000000000e+00   1.0e+00  4.89  \n",
      "1   1.3e-01  2.5e-01  1.3e+00  -7.64e-01  1.519159983e+01   1.569642422e+01   1.3e-01  5.20  \n",
      "2   6.3e-02  1.3e-01  8.3e-02  3.57e+00   4.444522419e+00   4.842659329e+00   6.3e-02  5.47  \n",
      "3   3.4e-02  6.8e-02  2.8e-02  3.04e+00   2.197280309e+00   2.300133370e+00   3.4e-02  5.74  \n",
      "4   3.0e-02  6.0e-02  2.2e-02  2.02e+00   1.759116880e+00   1.842778415e+00   3.0e-02  6.02  \n",
      "5   5.6e-03  1.1e-02  2.4e-03  1.75e+00   8.633659817e-01   8.751360160e-01   5.6e-03  6.51  \n",
      "6   1.8e-03  3.7e-03  5.0e-04  7.41e-01   7.048722632e-01   7.095012604e-01   1.8e-03  6.79  \n",
      "7   7.8e-04  1.6e-03  1.6e-04  7.18e-01   6.197543505e-01   6.221682204e-01   7.8e-04  7.07  \n",
      "8   4.4e-04  8.8e-04  8.3e-05  4.67e-01   5.686664412e-01   5.703922523e-01   4.4e-04  7.34  \n",
      "9   2.2e-04  4.3e-04  2.6e-05  7.43e-01   5.357136045e-01   5.366731219e-01   2.2e-04  7.63  \n",
      "10  7.8e-05  1.6e-04  7.1e-06  4.27e-01   4.923301371e-01   4.927746635e-01   7.8e-05  7.91  \n",
      "11  1.2e-05  2.4e-05  3.4e-07  8.92e-01   4.644105062e-01   4.644919968e-01   1.2e-05  8.34  \n",
      "12  6.1e-06  6.9e-05  1.3e-07  8.28e-01   4.606183188e-01   4.606619175e-01   6.1e-06  8.62  \n",
      "13  8.6e-07  8.8e-06  6.9e-09  9.91e-01   4.573398157e-01   4.573458469e-01   8.6e-07  8.97  \n",
      "14  6.4e-08  1.3e-05  1.4e-10  9.93e-01   4.567735970e-01   4.567740539e-01   6.4e-08  9.29  \n",
      "15  3.9e-09  1.9e-04  2.1e-12  9.99e-01   4.567298975e-01   4.567299252e-01   3.9e-09  9.64  \n",
      "16  1.2e-10  2.1e-02  1.1e-14  1.00e+00   4.567271421e-01   4.567271429e-01   1.2e-10  10.14 \n",
      "Optimizer terminated. Time: 10.45   \n",
      "\n",
      "\n",
      "Interior-point solution summary\n",
      "  Problem status  : PRIMAL_AND_DUAL_FEASIBLE\n",
      "  Solution status : OPTIMAL\n",
      "  Primal.  obj: 4.5672714206e-01    nrm: 1e-01    Viol.  con: 2e-10    var: 0e+00    cones: 9e-11  \n",
      "  Dual.    obj: 4.5672714290e-01    nrm: 6e+02    Viol.  con: 0e+00    var: 9e-15    cones: 0e+00  \n",
      "-------------------------------------------------------------------------------\n",
      "                                    Summary                                    \n",
      "-------------------------------------------------------------------------------\n",
      "(CVXPY) Apr 21 06:54:39 PM: Problem status: optimal\n",
      "(CVXPY) Apr 21 06:54:39 PM: Optimal value: 4.567e-01\n",
      "(CVXPY) Apr 21 06:54:39 PM: Compilation took 1.488e+01 seconds\n",
      "(CVXPY) Apr 21 06:54:39 PM: Solver (including time spent in interface) took 1.500e+01 seconds\n"
     ]
    },
    {
     "name": "stderr",
     "output_type": "stream",
     "text": [
      "INFO:convex_nn:Post-Training Metrics: Train Set objective: 0.4567270374298096, Train Set grad_norm: 1.6603969588135925e-10, Train Set base_objective: 0.4567270374298096, Train Set accuracy: 0.95, Train Set squared_error: 0.595386962890625, Test Set nc_accuracy: 0.915, Test Set nc_squared_error: 0.6591937866210937, group_sparsity: 0.954, \n"
     ]
    }
   ],
   "source": [
    "# Interior-point solver using CXVPY.\n",
    "model = ConvexGatedReLU(G)\n",
    "solver = CVXPYSolver(model, \"mosek\", clean_sol=True)\n",
    "regularizer = NeuronGL1(0.01)\n",
    "cvxpy_model, cvxpy_metrics = optimize_model(\n",
    "    model,\n",
    "    solver,\n",
    "    metrics,\n",
    "    X_train, \n",
    "    y_train, \n",
    "    X_test, \n",
    "    y_test,\n",
    "    regularizer=regularizer,\n",
    "    verbose=True,\n",
    ")"
   ]
  },
  {
   "cell_type": "code",
   "execution_count": 21,
   "id": "cbf685a6",
   "metadata": {},
   "outputs": [
    {
     "name": "stderr",
     "output_type": "stream",
     "text": [
      "INFO:convex_nn:Pre-Optimization Metrics: Train Set objective: 0.5, Train Set grad_norm: 0.08222807198762894, \n"
     ]
    },
    {
     "data": {
      "application/vnd.jupyter.widget-view+json": {
       "model_id": "9544dbe3f8954acdb5eb35ac10528aa3",
       "version_major": 2,
       "version_minor": 0
      },
      "text/plain": [
       "Outer al:   0%|          | 0/10000 [00:00<?, ?it/s]"
      ]
     },
     "metadata": {},
     "output_type": "display_data"
    },
    {
     "data": {
      "application/vnd.jupyter.widget-view+json": {
       "model_id": "c038586eb34c440598726771c77db68a",
       "version_major": 2,
       "version_minor": 0
      },
      "text/plain": [
       "Inner al:   0%|          | 0/10000 [00:00<?, ?it/s]"
      ]
     },
     "metadata": {},
     "output_type": "display_data"
    },
    {
     "name": "stdout",
     "output_type": "stream",
     "text": [
      "Train Set objective: 0.5, Train Set grad_norm: 0.08222807198762894, \n"
     ]
    },
    {
     "name": "stderr",
     "output_type": "stream",
     "text": [
      "INFO:convex_nn:*Inner* termination criterion satisfied at iteration 13/10000. Exiting *inner* optimization loop.\n"
     ]
    },
    {
     "data": {
      "application/vnd.jupyter.widget-view+json": {
       "model_id": "08f783939f2d4e839e032cd8248ffae8",
       "version_major": 2,
       "version_minor": 0
      },
      "text/plain": [
       "Inner al:   0%|          | 0/10000 [00:00<?, ?it/s]"
      ]
     },
     "metadata": {},
     "output_type": "display_data"
    },
    {
     "name": "stderr",
     "output_type": "stream",
     "text": [
      "INFO:convex_nn:*Inner* termination criterion satisfied at iteration 5/10000. Exiting *inner* optimization loop.\n"
     ]
    },
    {
     "name": "stdout",
     "output_type": "stream",
     "text": [
      "Train Set objective: 0.19623989056050778, Train Set grad_norm: 0.0006975099677219987, \n"
     ]
    },
    {
     "data": {
      "application/vnd.jupyter.widget-view+json": {
       "model_id": "6a0dce30c884431ca66ac6f12091ec23",
       "version_major": 2,
       "version_minor": 0
      },
      "text/plain": [
       "Inner al:   0%|          | 0/10000 [00:00<?, ?it/s]"
      ]
     },
     "metadata": {},
     "output_type": "display_data"
    },
    {
     "name": "stdout",
     "output_type": "stream",
     "text": [
      "Train Set objective: 0.20172411704063414, Train Set grad_norm: 0.0008724689250811934, \n"
     ]
    },
    {
     "name": "stderr",
     "output_type": "stream",
     "text": [
      "INFO:convex_nn:*Inner* termination criterion satisfied at iteration 8/10000. Exiting *inner* optimization loop.\n"
     ]
    },
    {
     "data": {
      "application/vnd.jupyter.widget-view+json": {
       "model_id": "eed7bbcee95c49deb03789e191a93ecd",
       "version_major": 2,
       "version_minor": 0
      },
      "text/plain": [
       "Inner al:   0%|          | 0/10000 [00:00<?, ?it/s]"
      ]
     },
     "metadata": {},
     "output_type": "display_data"
    },
    {
     "name": "stdout",
     "output_type": "stream",
     "text": [
      "Train Set objective: 0.20494980699568988, Train Set grad_norm: 0.0008885868010111153, \n",
      "Train Set objective: 0.19402652352675795, Train Set grad_norm: 9.097548900172114e-05, \n",
      "Train Set objective: 0.19066702017933132, Train Set grad_norm: 4.170469401287846e-05, \n",
      "Train Set objective: 0.1877597221508622, Train Set grad_norm: 4.238574183546007e-05, \n",
      "Train Set objective: 0.18555436909385026, Train Set grad_norm: 2.0065359422005713e-05, \n",
      "Train Set objective: 0.18393311133049428, Train Set grad_norm: 3.198368358425796e-05, \n",
      "Train Set objective: 0.18284801232814787, Train Set grad_norm: 1.4474142517428845e-05, \n",
      "Train Set objective: 0.1819794130884111, Train Set grad_norm: 9.033863534568809e-06, \n",
      "Train Set objective: 0.1813461492061615, Train Set grad_norm: 8.597246960562188e-06, \n",
      "Train Set objective: 0.18082209836691618, Train Set grad_norm: 5.216970293986378e-06, \n",
      "Train Set objective: 0.18042979316040875, Train Set grad_norm: 1.5817775420146063e-05, \n",
      "Train Set objective: 0.1800914032049477, Train Set grad_norm: 3.635486791608855e-06, \n",
      "Train Set objective: 0.17983404764160513, Train Set grad_norm: 2.7198595944355475e-06, \n",
      "Train Set objective: 0.1796170650906861, Train Set grad_norm: 6.430797384382458e-06, \n"
     ]
    },
    {
     "name": "stderr",
     "output_type": "stream",
     "text": [
      "INFO:convex_nn:*Inner* termination criterion satisfied at iteration 349/10000. Exiting *inner* optimization loop.\n"
     ]
    },
    {
     "data": {
      "application/vnd.jupyter.widget-view+json": {
       "model_id": "cc6c182a78e347589dcd4ffafb8ccf3d",
       "version_major": 2,
       "version_minor": 0
      },
      "text/plain": [
       "Inner al:   0%|          | 0/10000 [00:00<?, ?it/s]"
      ]
     },
     "metadata": {},
     "output_type": "display_data"
    },
    {
     "name": "stdout",
     "output_type": "stream",
     "text": [
      "Train Set objective: 0.17951303349621595, Train Set grad_norm: 9.71828058027313e-07, \n",
      "Train Set objective: 0.18394294921681287, Train Set grad_norm: 3.289717596999253e-06, \n"
     ]
    },
    {
     "name": "stderr",
     "output_type": "stream",
     "text": [
      "INFO:convex_nn:*Inner* termination criterion satisfied at iteration 52/10000. Exiting *inner* optimization loop.\n"
     ]
    },
    {
     "name": "stdout",
     "output_type": "stream",
     "text": [
      "Train Set objective: 0.18382462942041455, Train Set grad_norm: 1.0092559250551858e-06, \n"
     ]
    },
    {
     "data": {
      "application/vnd.jupyter.widget-view+json": {
       "model_id": "e69b49faf1bc4b31937abfcf34e8072f",
       "version_major": 2,
       "version_minor": 0
      },
      "text/plain": [
       "Inner al:   0%|          | 0/10000 [00:00<?, ?it/s]"
      ]
     },
     "metadata": {},
     "output_type": "display_data"
    },
    {
     "name": "stdout",
     "output_type": "stream",
     "text": [
      "Train Set objective: 0.18381811305694282, Train Set grad_norm: 9.437741823603574e-07, \n"
     ]
    },
    {
     "name": "stderr",
     "output_type": "stream",
     "text": [
      "INFO:convex_nn:*Inner* termination criterion satisfied at iteration 19/10000. Exiting *inner* optimization loop.\n"
     ]
    },
    {
     "data": {
      "application/vnd.jupyter.widget-view+json": {
       "model_id": "638ed21f821543a69654ae0329b3bd2b",
       "version_major": 2,
       "version_minor": 0
      },
      "text/plain": [
       "Inner al:   0%|          | 0/10000 [00:00<?, ?it/s]"
      ]
     },
     "metadata": {},
     "output_type": "display_data"
    },
    {
     "name": "stdout",
     "output_type": "stream",
     "text": [
      "Train Set objective: 0.18494815121404828, Train Set grad_norm: 9.208002325067355e-07, \n",
      "Train Set objective: 0.18552543758973478, Train Set grad_norm: 1.4565337096428266e-06, \n"
     ]
    },
    {
     "name": "stderr",
     "output_type": "stream",
     "text": [
      "INFO:convex_nn:*Inner* termination criterion satisfied at iteration 40/10000. Exiting *inner* optimization loop.\n"
     ]
    },
    {
     "data": {
      "application/vnd.jupyter.widget-view+json": {
       "model_id": "a217968183c34b6a952928e0a0d42e18",
       "version_major": 2,
       "version_minor": 0
      },
      "text/plain": [
       "Inner al:   0%|          | 0/10000 [00:00<?, ?it/s]"
      ]
     },
     "metadata": {},
     "output_type": "display_data"
    },
    {
     "name": "stderr",
     "output_type": "stream",
     "text": [
      "INFO:convex_nn:*Inner* termination criterion satisfied at iteration 3/10000. Exiting *inner* optimization loop.\n"
     ]
    },
    {
     "name": "stdout",
     "output_type": "stream",
     "text": [
      "Train Set objective: 0.1854784373026341, Train Set grad_norm: 9.99588223749015e-07, \n"
     ]
    },
    {
     "data": {
      "application/vnd.jupyter.widget-view+json": {
       "model_id": "8da91461fa0c4a5298622269ad29f4ca",
       "version_major": 2,
       "version_minor": 0
      },
      "text/plain": [
       "Inner al:   0%|          | 0/10000 [00:00<?, ?it/s]"
      ]
     },
     "metadata": {},
     "output_type": "display_data"
    },
    {
     "name": "stdout",
     "output_type": "stream",
     "text": [
      "Train Set objective: 0.18571521342918276, Train Set grad_norm: 9.61224031925667e-07, \n"
     ]
    },
    {
     "name": "stderr",
     "output_type": "stream",
     "text": [
      "INFO:convex_nn:*Inner* termination criterion satisfied at iteration 8/10000. Exiting *inner* optimization loop.\n"
     ]
    },
    {
     "data": {
      "application/vnd.jupyter.widget-view+json": {
       "model_id": "d1e9e3104c9b4f8a9d132451e78e8bc7",
       "version_major": 2,
       "version_minor": 0
      },
      "text/plain": [
       "Inner al:   0%|          | 0/10000 [00:00<?, ?it/s]"
      ]
     },
     "metadata": {},
     "output_type": "display_data"
    },
    {
     "name": "stdout",
     "output_type": "stream",
     "text": [
      "Train Set objective: 0.18590307431854308, Train Set grad_norm: 8.75133594036015e-07, \n"
     ]
    },
    {
     "name": "stderr",
     "output_type": "stream",
     "text": [
      "INFO:convex_nn:*Outer* termination criterion satisfied at iteration 9/10000. Exiting *outer* optimization loop.\n",
      "INFO:convex_nn:Post-Optimization Metrics: Train Set objective: 0.18602732599526645, Train Set grad_norm: 8.063038876571227e-07, \n"
     ]
    }
   ],
   "source": [
    "from convex_nn.optimize import optimize\n",
    "from convex_nn.regularizers import NeuronGL1\n",
    "\n",
    "model, metrics = optimize(formulation=\"relu\", \n",
    "                         max_neurons=500, \n",
    "                         X_train=X_train, \n",
    "                         y_train=y_train, \n",
    "                         regularizer=NeuronGL1(0.001),\n",
    "                         device=\"cpu\",\n",
    "                         verbose=True) \n",
    "\n",
    "# training accuracy\n",
    "train_acc = np.sum(np.sign(model(X_train)) == y_train) / len(y_train)"
   ]
  },
  {
   "cell_type": "code",
   "execution_count": null,
   "id": "d7faf7d2",
   "metadata": {},
   "outputs": [],
   "source": []
  }
 ],
 "metadata": {
  "kernelspec": {
   "display_name": "Python 3",
   "language": "python",
   "name": "python3"
  },
  "language_info": {
   "codemirror_mode": {
    "name": "ipython",
    "version": 3
   },
   "file_extension": ".py",
   "mimetype": "text/x-python",
   "name": "python",
   "nbconvert_exporter": "python",
   "pygments_lexer": "ipython3",
   "version": "3.9.12"
  }
 },
 "nbformat": 4,
 "nbformat_minor": 5
}
