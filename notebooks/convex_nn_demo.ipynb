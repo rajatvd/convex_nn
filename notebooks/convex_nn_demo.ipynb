{
 "cells": [
  {
   "cell_type": "code",
   "execution_count": 1,
   "id": "750474ec",
   "metadata": {},
   "outputs": [],
   "source": [
    "\"\"\"\n",
    "Train convex LassoNet models on a synthetic classification dataset using conve|x optimization.\n",
    "\"\"\"\n",
    "\n",
    "import sys\n",
    "sys.path.append(\"..\")"
   ]
  },
  {
   "cell_type": "code",
   "execution_count": 2,
   "id": "6284d725",
   "metadata": {},
   "outputs": [],
   "source": [
    "import numpy as np\n",
    "import matplotlib.pyplot as plt\n",
    "\n",
    "from convex_nn.private.utils.data import gen_classification_data\n",
    "\n",
    "\n",
    "from convex_nn.models import ConvexGatedReLU, ConvexReLU\n",
    "from convex_nn.solvers import RFISTA, AL\n",
    "from convex_nn.regularizers import NeuronGL1\n",
    "from convex_nn.metrics import Metrics\n",
    "from convex_nn.activations import sample_gate_vectors\n",
    "from convex_nn.optimize import optimize_model, optimize"
   ]
  },
  {
   "cell_type": "code",
   "execution_count": 3,
   "id": "bf47351b",
   "metadata": {},
   "outputs": [],
   "source": [
    "# Generate realizable synthetic classification problem (ie. Figure 1)\n",
    "n_train = 1000\n",
    "n_test = 1000\n",
    "d = 50\n",
    "hidden_units = 100\n",
    "kappa = 10  # condition number\n",
    "\n",
    "(X_train, y_train), (X_test, y_test) = gen_classification_data(123, n_train, n_test, d, hidden_units, kappa)"
   ]
  },
  {
   "cell_type": "code",
   "execution_count": 4,
   "id": "4dd5ec91",
   "metadata": {},
   "outputs": [],
   "source": [
    "lam = 0.001\n",
    "max_neurons = 500"
   ]
  },
  {
   "cell_type": "code",
   "execution_count": 26,
   "id": "c20ec14f",
   "metadata": {},
   "outputs": [
    {
     "ename": "AssertionError",
     "evalue": "",
     "output_type": "error",
     "traceback": [
      "\u001b[0;31m---------------------------------------------------------------------------\u001b[0m",
      "\u001b[0;31mAssertionError\u001b[0m                            Traceback (most recent call last)",
      "\u001b[0;32m<ipython-input-26-54660435442e>\u001b[0m in \u001b[0;36m<module>\u001b[0;34m\u001b[0m\n\u001b[0;32m----> 1\u001b[0;31m model, metrics = optimize(\"gated_relu\", \n\u001b[0m\u001b[1;32m      2\u001b[0m                           \u001b[0mmax_neurons\u001b[0m\u001b[0;34m,\u001b[0m\u001b[0;34m\u001b[0m\u001b[0;34m\u001b[0m\u001b[0m\n\u001b[1;32m      3\u001b[0m                           \u001b[0mlam\u001b[0m\u001b[0;34m,\u001b[0m\u001b[0;34m\u001b[0m\u001b[0;34m\u001b[0m\u001b[0m\n\u001b[1;32m      4\u001b[0m                           \u001b[0mX_train\u001b[0m\u001b[0;34m,\u001b[0m\u001b[0;34m\u001b[0m\u001b[0;34m\u001b[0m\u001b[0m\n\u001b[1;32m      5\u001b[0m                           \u001b[0my_train\u001b[0m\u001b[0;34m,\u001b[0m\u001b[0;34m\u001b[0m\u001b[0;34m\u001b[0m\u001b[0m\n",
      "\u001b[0;32m~/Documents/projects/opt_convex_nn/convex_nn/src/convex_nn/optimize.py\u001b[0m in \u001b[0;36moptimize\u001b[0;34m(formulation, max_neurons, lam, X_train, y_train, X_test, y_test, return_convex, verbose, log_file, backend, device, dtype, seed)\u001b[0m\n\u001b[1;32m    104\u001b[0m         \u001b[0mtest_accuracy\u001b[0m\u001b[0;34m=\u001b[0m\u001b[0;32mTrue\u001b[0m\u001b[0;34m,\u001b[0m\u001b[0;34m\u001b[0m\u001b[0;34m\u001b[0m\u001b[0m\n\u001b[1;32m    105\u001b[0m         \u001b[0mneuron_sparsity\u001b[0m\u001b[0;34m=\u001b[0m\u001b[0;32mTrue\u001b[0m\u001b[0;34m,\u001b[0m\u001b[0;34m\u001b[0m\u001b[0;34m\u001b[0m\u001b[0m\n\u001b[0;32m--> 106\u001b[0;31m     )\n\u001b[0m\u001b[1;32m    107\u001b[0m \u001b[0;34m\u001b[0m\u001b[0m\n\u001b[1;32m    108\u001b[0m     return optimize_model(\n",
      "\u001b[0;32m~/Documents/projects/opt_convex_nn/convex_nn/src/convex_nn/optimize.py\u001b[0m in \u001b[0;36moptimize_model\u001b[0;34m(model, solver, metrics, X_train, y_train, X_test, y_test, regularizer, return_convex, verbose, log_file, backend, device, dtype, seed)\u001b[0m\n\u001b[1;32m    161\u001b[0m     \"\"\"\n\u001b[1;32m    162\u001b[0m \u001b[0;34m\u001b[0m\u001b[0m\n\u001b[0;32m--> 163\u001b[0;31m     \u001b[0;31m# set backend settings.\u001b[0m\u001b[0;34m\u001b[0m\u001b[0;34m\u001b[0m\u001b[0m\n\u001b[0m\u001b[1;32m    164\u001b[0m     \u001b[0mlab\u001b[0m\u001b[0;34m.\u001b[0m\u001b[0mset_backend\u001b[0m\u001b[0;34m(\u001b[0m\u001b[0mbackend\u001b[0m\u001b[0;34m)\u001b[0m\u001b[0;34m\u001b[0m\u001b[0;34m\u001b[0m\u001b[0m\n\u001b[1;32m    165\u001b[0m     \u001b[0mlab\u001b[0m\u001b[0;34m.\u001b[0m\u001b[0mset_device\u001b[0m\u001b[0;34m(\u001b[0m\u001b[0mdevice\u001b[0m\u001b[0;34m)\u001b[0m\u001b[0;34m\u001b[0m\u001b[0;34m\u001b[0m\u001b[0m\n",
      "\u001b[0;32m~/Documents/projects/opt_convex_nn/convex_nn/.venv/lib/python3.9/site-packages/lab/torch_backend.py\u001b[0m in \u001b[0;36mtorch_set_device\u001b[0;34m(device_name)\u001b[0m\n\u001b[1;32m     20\u001b[0m     \u001b[0;32mif\u001b[0m \u001b[0mdevice_name\u001b[0m \u001b[0;34m==\u001b[0m \u001b[0;34m\"cuda\"\u001b[0m\u001b[0;34m:\u001b[0m\u001b[0;34m\u001b[0m\u001b[0;34m\u001b[0m\u001b[0m\n\u001b[1;32m     21\u001b[0m         \u001b[0;31m# cuda must be available to run in this mode.\u001b[0m\u001b[0;34m\u001b[0m\u001b[0;34m\u001b[0m\u001b[0m\n\u001b[0;32m---> 22\u001b[0;31m         \u001b[0;32massert\u001b[0m \u001b[0mtorch\u001b[0m\u001b[0;34m.\u001b[0m\u001b[0mcuda\u001b[0m\u001b[0;34m.\u001b[0m\u001b[0mis_available\u001b[0m\u001b[0;34m(\u001b[0m\u001b[0;34m)\u001b[0m\u001b[0;34m\u001b[0m\u001b[0;34m\u001b[0m\u001b[0m\n\u001b[0m\u001b[1;32m     23\u001b[0m         \u001b[0mdevice_name\u001b[0m \u001b[0;34m=\u001b[0m \u001b[0;34mf\"cuda:{torch.cuda.current_device()}\"\u001b[0m\u001b[0;34m\u001b[0m\u001b[0;34m\u001b[0m\u001b[0m\n\u001b[1;32m     24\u001b[0m \u001b[0;34m\u001b[0m\u001b[0m\n",
      "\u001b[0;31mAssertionError\u001b[0m: "
     ]
    }
   ],
   "source": [
    "model, metrics = optimize(\"gated_relu\", \n",
    "                          max_neurons, \n",
    "                          lam, \n",
    "                          X_train, \n",
    "                          y_train, \n",
    "                          X_test, \n",
    "                          y_test, \n",
    "                          verbose=True, \n",
    "                          backend=\"torch\", \n",
    "                          device=\"cuda\")"
   ]
  },
  {
   "cell_type": "code",
   "execution_count": 20,
   "id": "e4c0a72a",
   "metadata": {},
   "outputs": [],
   "source": [
    "# Instantiate convex model and other options.\n",
    "G = sample_gate_vectors(np.random.default_rng(123), d, max_neurons)\n",
    "model = ConvexGatedReLU(G)\n",
    "solver = RFISTA(model, tol=1e-10)\n",
    "regularizer = NeuronGL1(lam)\n",
    "metrics = Metrics(metric_freq=25, model_loss=True, train_accuracy=True, train_mse=True, test_mse=True, test_accuracy=True, neuron_sparsity=True)"
   ]
  },
  {
   "cell_type": "code",
   "execution_count": 21,
   "id": "635a0f46",
   "metadata": {
    "scrolled": true
   },
   "outputs": [
    {
     "name": "stderr",
     "output_type": "stream",
     "text": [
      "INFO:convex_nn:Pre-Optimization Metrics: Train Set objective: 0.5, Train Set grad_norm: 0.08310095965862274, Train Set base_objective: 0.5, Train Set accuracy: 0.0, Train Set nc_squared_error: 0.5, Test Set nc_accuracy: 0.0, Test Set squared_error: 0.5, group_sparsity: 1.0, \n"
     ]
    },
    {
     "data": {
      "application/vnd.jupyter.widget-view+json": {
       "model_id": "3169f89cd3b2403486fdc64269ffdc5c",
       "version_major": 2,
       "version_minor": 0
      },
      "text/plain": [
       "fista:   0%|          | 0/10000 [00:00<?, ?it/s]"
      ]
     },
     "metadata": {},
     "output_type": "display_data"
    },
    {
     "name": "stdout",
     "output_type": "stream",
     "text": [
      "Train Set objective: 0.5, Train Set grad_norm: 0.08310095965862274, Train Set base_objective: 0.5, Train Set accuracy: 0.0, Train Set nc_squared_error: 0.5, Test Set nc_accuracy: 0.0, Test Set squared_error: 0.5, group_sparsity: 1.0, \n",
      "Train Set objective: 0.11960908699035645, Train Set grad_norm: 7.062554232106777e-06, Train Set base_objective: 0.11960908699035645, Train Set accuracy: 1.0, Train Set nc_squared_error: 0.030168588638305665, Test Set nc_accuracy: 0.94, Test Set squared_error: 0.11168362426757812, group_sparsity: 0.006, \n",
      "Train Set objective: 0.1157255973815918, Train Set grad_norm: 2.0013769699289696e-06, Train Set base_objective: 0.1157255973815918, Train Set accuracy: 1.0, Train Set nc_squared_error: 0.029887596130371095, Test Set nc_accuracy: 0.941, Test Set squared_error: 0.10983995819091796, group_sparsity: 0.276, \n",
      "Train Set objective: 0.11423622512817383, Train Set grad_norm: 8.817787602311e-07, Train Set base_objective: 0.11423622512817383, Train Set accuracy: 1.0, Train Set nc_squared_error: 0.029603084564208983, Test Set nc_accuracy: 0.938, Test Set squared_error: 0.11016992950439453, group_sparsity: 0.536, \n",
      "Train Set objective: 0.11376166534423827, Train Set grad_norm: 4.1315367127481295e-08, Train Set base_objective: 0.11376166534423827, Train Set accuracy: 1.0, Train Set nc_squared_error: 0.029370834350585937, Test Set nc_accuracy: 0.94, Test Set squared_error: 0.11243465423583984, group_sparsity: 0.65, \n",
      "Train Set objective: 0.11367445564270019, Train Set grad_norm: 1.0162385599699064e-08, Train Set base_objective: 0.11367445564270019, Train Set accuracy: 1.0, Train Set nc_squared_error: 0.02935738754272461, Test Set nc_accuracy: 0.939, Test Set squared_error: 0.11393914031982422, group_sparsity: 0.694, \n",
      "Train Set objective: 0.11364865303039551, Train Set grad_norm: 3.340788534700323e-09, Train Set base_objective: 0.11364865303039551, Train Set accuracy: 1.0, Train Set nc_squared_error: 0.029363611221313476, Test Set nc_accuracy: 0.939, Test Set squared_error: 0.11389374542236329, group_sparsity: 0.702, \n",
      "Train Set objective: 0.11363319969177246, Train Set grad_norm: 9.146171597862462e-10, Train Set base_objective: 0.11363319969177246, Train Set accuracy: 1.0, Train Set nc_squared_error: 0.02934263229370117, Test Set nc_accuracy: 0.938, Test Set squared_error: 0.11393588256835938, group_sparsity: 0.706, \n",
      "Train Set objective: 0.11362789535522462, Train Set grad_norm: 2.9203303664182556e-10, Train Set base_objective: 0.11362789535522462, Train Set accuracy: 1.0, Train Set nc_squared_error: 0.029325435638427735, Test Set nc_accuracy: 0.939, Test Set squared_error: 0.11407366943359375, group_sparsity: 0.706, \n",
      "Train Set objective: 0.11362677764892579, Train Set grad_norm: 1.680412475835169e-10, Train Set base_objective: 0.11362677764892579, Train Set accuracy: 1.0, Train Set nc_squared_error: 0.02931908416748047, Test Set nc_accuracy: 0.94, Test Set squared_error: 0.11419931030273438, group_sparsity: 0.718, \n",
      "Train Set objective: 0.11362675857543945, Train Set grad_norm: 1.2370054980337386e-10, Train Set base_objective: 0.11362675857543945, Train Set accuracy: 1.0, Train Set nc_squared_error: 0.029317516326904297, Test Set nc_accuracy: 0.94, Test Set squared_error: 0.11420044708251953, group_sparsity: 0.718, \n",
      "Train Set objective: 0.11362675857543945, Train Set grad_norm: 1.2367545876301733e-10, Train Set base_objective: 0.11362675857543945, Train Set accuracy: 1.0, Train Set nc_squared_error: 0.029317501068115235, Test Set nc_accuracy: 0.94, Test Set squared_error: 0.114200439453125, group_sparsity: 0.718, \n",
      "Train Set objective: 0.11362676239013672, Train Set grad_norm: 1.23733107093571e-10, Train Set base_objective: 0.11362676239013672, Train Set accuracy: 1.0, Train Set nc_squared_error: 0.029317550659179688, Test Set nc_accuracy: 0.94, Test Set squared_error: 0.11420044708251953, group_sparsity: 0.718, \n",
      "Train Set objective: 0.11362676239013672, Train Set grad_norm: 1.2375166169587004e-10, Train Set base_objective: 0.11362676239013672, Train Set accuracy: 1.0, Train Set nc_squared_error: 0.029317558288574217, Test Set nc_accuracy: 0.94, Test Set squared_error: 0.114200439453125, group_sparsity: 0.718, \n",
      "Train Set objective: 0.11362676239013672, Train Set grad_norm: 1.2379818004060184e-10, Train Set base_objective: 0.11362676239013672, Train Set accuracy: 1.0, Train Set nc_squared_error: 0.029317573547363283, Test Set nc_accuracy: 0.94, Test Set squared_error: 0.11420045471191406, group_sparsity: 0.718, \n",
      "Train Set objective: 0.11362675857543947, Train Set grad_norm: 1.2376907831956885e-10, Train Set base_objective: 0.11362675857543947, Train Set accuracy: 1.0, Train Set nc_squared_error: 0.02931754684448242, Test Set nc_accuracy: 0.94, Test Set squared_error: 0.11420042419433593, group_sparsity: 0.718, \n",
      "Train Set objective: 0.11362675666809083, Train Set grad_norm: 1.2380320379978826e-10, Train Set base_objective: 0.11362675666809083, Train Set accuracy: 1.0, Train Set nc_squared_error: 0.029317554473876954, Test Set nc_accuracy: 0.94, Test Set squared_error: 0.114200439453125, group_sparsity: 0.718, \n",
      "Train Set objective: 0.11362676239013672, Train Set grad_norm: 1.2394146819971752e-10, Train Set base_objective: 0.11362676239013672, Train Set accuracy: 1.0, Train Set nc_squared_error: 0.029317604064941407, Test Set nc_accuracy: 0.94, Test Set squared_error: 0.11420047760009766, group_sparsity: 0.718, \n",
      "Train Set objective: 0.11362675476074219, Train Set grad_norm: 1.239648800277493e-10, Train Set base_objective: 0.11362675476074219, Train Set accuracy: 1.0, Train Set nc_squared_error: 0.02931756591796875, Test Set nc_accuracy: 0.94, Test Set squared_error: 0.11420046997070313, group_sparsity: 0.718, \n",
      "Train Set objective: 0.11362676048278808, Train Set grad_norm: 1.2420103834287488e-10, Train Set base_objective: 0.11362676048278808, Train Set accuracy: 1.0, Train Set nc_squared_error: 0.02931751823425293, Test Set nc_accuracy: 0.94, Test Set squared_error: 0.11420043182373046, group_sparsity: 0.718, \n",
      "Train Set objective: 0.11362675666809083, Train Set grad_norm: 1.2428298667988003e-10, Train Set base_objective: 0.11362675666809083, Train Set accuracy: 1.0, Train Set nc_squared_error: 0.029317508697509764, Test Set nc_accuracy: 0.94, Test Set squared_error: 0.11420042419433593, group_sparsity: 0.718, \n",
      "Train Set objective: 0.11362675857543945, Train Set grad_norm: 1.2440451446771306e-10, Train Set base_objective: 0.11362675857543945, Train Set accuracy: 1.0, Train Set nc_squared_error: 0.029317523956298826, Test Set nc_accuracy: 0.94, Test Set squared_error: 0.11420042419433593, group_sparsity: 0.718, \n",
      "Train Set objective: 0.11362675666809083, Train Set grad_norm: 1.2476128463667635e-10, Train Set base_objective: 0.11362675666809083, Train Set accuracy: 1.0, Train Set nc_squared_error: 0.02931758499145508, Test Set nc_accuracy: 0.94, Test Set squared_error: 0.11420045471191406, group_sparsity: 0.718, \n",
      "Train Set objective: 0.11362676620483399, Train Set grad_norm: 1.2492820666842874e-10, Train Set base_objective: 0.11362676620483399, Train Set accuracy: 1.0, Train Set nc_squared_error: 0.029317630767822265, Test Set nc_accuracy: 0.94, Test Set squared_error: 0.11420049285888671, group_sparsity: 0.718, \n",
      "Train Set objective: 0.11362675476074219, Train Set grad_norm: 1.2492162859700784e-10, Train Set base_objective: 0.11362675476074219, Train Set accuracy: 1.0, Train Set nc_squared_error: 0.029317596435546874, Test Set nc_accuracy: 0.94, Test Set squared_error: 0.1142004623413086, group_sparsity: 0.718, \n",
      "Train Set objective: 0.11362676239013672, Train Set grad_norm: 1.250258091500811e-10, Train Set base_objective: 0.11362676239013672, Train Set accuracy: 1.0, Train Set nc_squared_error: 0.029317638397216798, Test Set nc_accuracy: 0.94, Test Set squared_error: 0.1142004852294922, group_sparsity: 0.718, \n",
      "Train Set objective: 0.11362675476074219, Train Set grad_norm: 1.2552955896971696e-10, Train Set base_objective: 0.11362675476074219, Train Set accuracy: 1.0, Train Set nc_squared_error: 0.02931778907775879, Test Set nc_accuracy: 0.94, Test Set squared_error: 0.11420058441162109, group_sparsity: 0.718, \n",
      "Train Set objective: 0.11362675857543945, Train Set grad_norm: 1.2584878972266011e-10, Train Set base_objective: 0.11362675857543945, Train Set accuracy: 1.0, Train Set nc_squared_error: 0.029317844390869142, Test Set nc_accuracy: 0.94, Test Set squared_error: 0.11420062255859376, group_sparsity: 0.718, \n"
     ]
    },
    {
     "name": "stdout",
     "output_type": "stream",
     "text": [
      "Train Set objective: 0.11362676620483399, Train Set grad_norm: 1.260352378018581e-10, Train Set base_objective: 0.11362676620483399, Train Set accuracy: 1.0, Train Set nc_squared_error: 0.029317834854125976, Test Set nc_accuracy: 0.94, Test Set squared_error: 0.11420061492919922, group_sparsity: 0.718, \n",
      "Train Set objective: 0.11362675857543945, Train Set grad_norm: 1.2707711272152977e-10, Train Set base_objective: 0.11362675857543945, Train Set accuracy: 1.0, Train Set nc_squared_error: 0.029317981719970704, Test Set nc_accuracy: 0.94, Test Set squared_error: 0.11420069885253906, group_sparsity: 0.718, \n",
      "Train Set objective: 0.11362675476074219, Train Set grad_norm: 1.2903057788893335e-10, Train Set base_objective: 0.11362675476074219, Train Set accuracy: 1.0, Train Set nc_squared_error: 0.029318267822265626, Test Set nc_accuracy: 0.94, Test Set squared_error: 0.11420089721679688, group_sparsity: 0.718, \n",
      "Train Set objective: 0.11362676239013672, Train Set grad_norm: 1.2913201064002067e-10, Train Set base_objective: 0.11362676239013672, Train Set accuracy: 1.0, Train Set nc_squared_error: 0.029318252563476564, Test Set nc_accuracy: 0.94, Test Set squared_error: 0.11420088195800782, group_sparsity: 0.718, \n",
      "Train Set objective: 0.11362676620483399, Train Set grad_norm: 1.2922969638839987e-10, Train Set base_objective: 0.11362676620483399, Train Set accuracy: 1.0, Train Set nc_squared_error: 0.029318241119384764, Test Set nc_accuracy: 0.94, Test Set squared_error: 0.11420086669921875, group_sparsity: 0.718, \n",
      "Train Set objective: 0.11362675857543947, Train Set grad_norm: 1.2931680726246952e-10, Train Set base_objective: 0.11362675857543947, Train Set accuracy: 1.0, Train Set nc_squared_error: 0.029318235397338868, Test Set nc_accuracy: 0.94, Test Set squared_error: 0.11420086669921875, group_sparsity: 0.718, \n",
      "Train Set objective: 0.11362675857543945, Train Set grad_norm: 1.2954430583800303e-10, Train Set base_objective: 0.11362675857543945, Train Set accuracy: 1.0, Train Set nc_squared_error: 0.029318248748779297, Test Set nc_accuracy: 0.94, Test Set squared_error: 0.11420086669921875, group_sparsity: 0.718, \n",
      "Train Set objective: 0.11362676239013672, Train Set grad_norm: 1.2984735509036227e-10, Train Set base_objective: 0.11362676239013672, Train Set accuracy: 1.0, Train Set nc_squared_error: 0.029318267822265626, Test Set nc_accuracy: 0.94, Test Set squared_error: 0.11420088195800782, group_sparsity: 0.718, \n",
      "Train Set objective: 0.11362676239013672, Train Set grad_norm: 1.2991749342994297e-10, Train Set base_objective: 0.11362676239013672, Train Set accuracy: 1.0, Train Set nc_squared_error: 0.029318246841430664, Test Set nc_accuracy: 0.94, Test Set squared_error: 0.11420087432861328, group_sparsity: 0.718, \n",
      "Train Set objective: 0.11362676239013672, Train Set grad_norm: 1.3036355328566174e-10, Train Set base_objective: 0.11362676239013672, Train Set accuracy: 1.0, Train Set nc_squared_error: 0.02931817626953125, Test Set nc_accuracy: 0.94, Test Set squared_error: 0.11420085144042968, group_sparsity: 0.718, \n",
      "Train Set objective: 0.1136267604827881, Train Set grad_norm: 1.3047415925449002e-10, Train Set base_objective: 0.1136267604827881, Train Set accuracy: 1.0, Train Set nc_squared_error: 0.02931816864013672, Test Set nc_accuracy: 0.94, Test Set squared_error: 0.1142008285522461, group_sparsity: 0.718, \n",
      "Train Set objective: 0.11362676239013672, Train Set grad_norm: 1.3093980066880562e-10, Train Set base_objective: 0.11362676239013672, Train Set accuracy: 1.0, Train Set nc_squared_error: 0.02931817626953125, Test Set nc_accuracy: 0.94, Test Set squared_error: 0.11420083618164062, group_sparsity: 0.718, \n",
      "Train Set objective: 0.11362676239013672, Train Set grad_norm: 1.3173390156495657e-10, Train Set base_objective: 0.11362676239013672, Train Set accuracy: 1.0, Train Set nc_squared_error: 0.029318260192871093, Test Set nc_accuracy: 0.94, Test Set squared_error: 0.11420086669921875, group_sparsity: 0.718, \n",
      "Train Set objective: 0.11362676239013672, Train Set grad_norm: 1.3199967507926402e-10, Train Set base_objective: 0.11362676239013672, Train Set accuracy: 1.0, Train Set nc_squared_error: 0.029318275451660155, Test Set nc_accuracy: 0.94, Test Set squared_error: 0.11420085906982422, group_sparsity: 0.718, \n",
      "Train Set objective: 0.11362676429748536, Train Set grad_norm: 1.325801829432649e-10, Train Set base_objective: 0.11362676429748536, Train Set accuracy: 1.0, Train Set nc_squared_error: 0.029318307876586912, Test Set nc_accuracy: 0.94, Test Set squared_error: 0.11420084381103515, group_sparsity: 0.718, \n",
      "Train Set objective: 0.11362676239013672, Train Set grad_norm: 1.3275791577171958e-10, Train Set base_objective: 0.11362676239013672, Train Set accuracy: 1.0, Train Set nc_squared_error: 0.029318290710449217, Test Set nc_accuracy: 0.94, Test Set squared_error: 0.11420083618164062, group_sparsity: 0.718, \n",
      "Train Set objective: 0.11362676620483399, Train Set grad_norm: 1.329021337426184e-10, Train Set base_objective: 0.11362676620483399, Train Set accuracy: 1.0, Train Set nc_squared_error: 0.02931826400756836, Test Set nc_accuracy: 0.94, Test Set squared_error: 0.1142008056640625, group_sparsity: 0.718, \n",
      "Train Set objective: 0.11362675857543947, Train Set grad_norm: 1.3304714274742224e-10, Train Set base_objective: 0.11362675857543947, Train Set accuracy: 1.0, Train Set nc_squared_error: 0.029318233489990235, Test Set nc_accuracy: 0.94, Test Set squared_error: 0.11420077514648437, group_sparsity: 0.718, \n",
      "Train Set objective: 0.1136267604827881, Train Set grad_norm: 1.3316096836302194e-10, Train Set base_objective: 0.1136267604827881, Train Set accuracy: 1.0, Train Set nc_squared_error: 0.029318243026733398, Test Set nc_accuracy: 0.94, Test Set squared_error: 0.1142007827758789, group_sparsity: 0.718, \n",
      "Train Set objective: 0.11362675857543945, Train Set grad_norm: 1.332527282960072e-10, Train Set base_objective: 0.11362675857543945, Train Set accuracy: 1.0, Train Set nc_squared_error: 0.029318218231201173, Test Set nc_accuracy: 0.94, Test Set squared_error: 0.11420077514648437, group_sparsity: 0.718, \n",
      "Train Set objective: 0.11362675857543947, Train Set grad_norm: 1.3437871648758204e-10, Train Set base_objective: 0.11362675857543947, Train Set accuracy: 1.0, Train Set nc_squared_error: 0.029318302154541016, Test Set nc_accuracy: 0.94, Test Set squared_error: 0.11420081329345703, group_sparsity: 0.718, \n",
      "Train Set objective: 0.11362676239013672, Train Set grad_norm: 1.3721998537441493e-10, Train Set base_objective: 0.11362676239013672, Train Set accuracy: 1.0, Train Set nc_squared_error: 0.029318565368652343, Test Set nc_accuracy: 0.94, Test Set squared_error: 0.11420093536376953, group_sparsity: 0.718, \n",
      "Train Set objective: 0.11362676239013672, Train Set grad_norm: 1.3754539174293257e-10, Train Set base_objective: 0.11362676239013672, Train Set accuracy: 1.0, Train Set nc_squared_error: 0.02931855583190918, Test Set nc_accuracy: 0.94, Test Set squared_error: 0.11420092010498047, group_sparsity: 0.718, \n",
      "Train Set objective: 0.11362675857543945, Train Set grad_norm: 1.371203012245914e-10, Train Set base_objective: 0.11362675857543945, Train Set accuracy: 1.0, Train Set nc_squared_error: 0.029318470001220703, Test Set nc_accuracy: 0.94, Test Set squared_error: 0.11420086669921875, group_sparsity: 0.718, \n",
      "Train Set objective: 0.11362675666809083, Train Set grad_norm: 1.3714133995090805e-10, Train Set base_objective: 0.11362675666809083, Train Set accuracy: 1.0, Train Set nc_squared_error: 0.029318435668945313, Test Set nc_accuracy: 0.94, Test Set squared_error: 0.11420083618164062, group_sparsity: 0.718, \n",
      "Train Set objective: 0.11362675666809081, Train Set grad_norm: 1.3742179616471617e-10, Train Set base_objective: 0.11362675666809081, Train Set accuracy: 1.0, Train Set nc_squared_error: 0.029318424224853517, Test Set nc_accuracy: 0.94, Test Set squared_error: 0.11420084381103515, group_sparsity: 0.718, \n",
      "Train Set objective: 0.11362675857543945, Train Set grad_norm: 1.3753913286063124e-10, Train Set base_objective: 0.11362675857543945, Train Set accuracy: 1.0, Train Set nc_squared_error: 0.02931838035583496, Test Set nc_accuracy: 0.94, Test Set squared_error: 0.11420081329345703, group_sparsity: 0.718, \n"
     ]
    },
    {
     "name": "stdout",
     "output_type": "stream",
     "text": [
      "Train Set objective: 0.11362675666809081, Train Set grad_norm: 1.3846618296398105e-10, Train Set base_objective: 0.11362675666809081, Train Set accuracy: 1.0, Train Set nc_squared_error: 0.029318363189697265, Test Set nc_accuracy: 0.94, Test Set squared_error: 0.11420079040527344, group_sparsity: 0.718, \n",
      "Train Set objective: 0.11362676620483399, Train Set grad_norm: 1.3871723214542442e-10, Train Set base_objective: 0.11362676620483399, Train Set accuracy: 1.0, Train Set nc_squared_error: 0.029318340301513673, Test Set nc_accuracy: 0.94, Test Set squared_error: 0.11420077514648437, group_sparsity: 0.718, \n",
      "Train Set objective: 0.11362675857543945, Train Set grad_norm: 1.3900991469029123e-10, Train Set base_objective: 0.11362675857543945, Train Set accuracy: 1.0, Train Set nc_squared_error: 0.02931833267211914, Test Set nc_accuracy: 0.94, Test Set squared_error: 0.11420076751708984, group_sparsity: 0.718, \n",
      "Train Set objective: 0.11362676239013672, Train Set grad_norm: 1.394517001873652e-10, Train Set base_objective: 0.11362676239013672, Train Set accuracy: 1.0, Train Set nc_squared_error: 0.02931835174560547, Test Set nc_accuracy: 0.94, Test Set squared_error: 0.11420077514648437, group_sparsity: 0.718, \n",
      "Train Set objective: 0.11362676048278808, Train Set grad_norm: 1.4150783322897098e-10, Train Set base_objective: 0.11362676048278808, Train Set accuracy: 1.0, Train Set nc_squared_error: 0.02931854248046875, Test Set nc_accuracy: 0.94, Test Set squared_error: 0.114200927734375, group_sparsity: 0.718, \n",
      "Train Set objective: 0.11362675857543947, Train Set grad_norm: 1.4211765098082196e-10, Train Set base_objective: 0.11362675857543947, Train Set accuracy: 1.0, Train Set nc_squared_error: 0.029318576812744142, Test Set nc_accuracy: 0.94, Test Set squared_error: 0.11420095825195313, group_sparsity: 0.718, \n",
      "Train Set objective: 0.11362676620483399, Train Set grad_norm: 1.42662909263791e-10, Train Set base_objective: 0.11362676620483399, Train Set accuracy: 1.0, Train Set nc_squared_error: 0.02931854248046875, Test Set nc_accuracy: 0.94, Test Set squared_error: 0.11420094299316406, group_sparsity: 0.718, \n",
      "Train Set objective: 0.11362675857543945, Train Set grad_norm: 1.4303649931157736e-10, Train Set base_objective: 0.11362675857543945, Train Set accuracy: 1.0, Train Set nc_squared_error: 0.029318532943725585, Test Set nc_accuracy: 0.94, Test Set squared_error: 0.11420093536376953, group_sparsity: 0.718, \n",
      "Train Set objective: 0.11362676239013672, Train Set grad_norm: 1.4434750617020597e-10, Train Set base_objective: 0.11362676239013672, Train Set accuracy: 1.0, Train Set nc_squared_error: 0.02931847381591797, Test Set nc_accuracy: 0.94, Test Set squared_error: 0.11420089721679688, group_sparsity: 0.718, \n",
      "Train Set objective: 0.11362676239013672, Train Set grad_norm: 1.4514267565601813e-10, Train Set base_objective: 0.11362676239013672, Train Set accuracy: 1.0, Train Set nc_squared_error: 0.029318458557128908, Test Set nc_accuracy: 0.94, Test Set squared_error: 0.11420088195800782, group_sparsity: 0.718, \n",
      "Train Set objective: 0.11362676811218261, Train Set grad_norm: 1.4630226197187568e-10, Train Set base_objective: 0.11362676811218261, Train Set accuracy: 1.0, Train Set nc_squared_error: 0.029318599700927733, Test Set nc_accuracy: 0.94, Test Set squared_error: 0.114200927734375, group_sparsity: 0.718, \n",
      "Train Set objective: 0.11362676239013672, Train Set grad_norm: 1.4696657779644795e-10, Train Set base_objective: 0.11362676239013672, Train Set accuracy: 1.0, Train Set nc_squared_error: 0.02931867790222168, Test Set nc_accuracy: 0.94, Test Set squared_error: 0.11420098876953125, group_sparsity: 0.718, \n",
      "Train Set objective: 0.11362675857543947, Train Set grad_norm: 1.469581401014608e-10, Train Set base_objective: 0.11362675857543947, Train Set accuracy: 1.0, Train Set nc_squared_error: 0.02931863784790039, Test Set nc_accuracy: 0.94, Test Set squared_error: 0.11420095825195313, group_sparsity: 0.718, \n",
      "Train Set objective: 0.11362676620483399, Train Set grad_norm: 1.472179739225865e-10, Train Set base_objective: 0.11362676620483399, Train Set accuracy: 1.0, Train Set nc_squared_error: 0.02931863021850586, Test Set nc_accuracy: 0.94, Test Set squared_error: 0.11420095825195313, group_sparsity: 0.718, \n",
      "Train Set objective: 0.11362676239013672, Train Set grad_norm: 1.4808687609502158e-10, Train Set base_objective: 0.11362676239013672, Train Set accuracy: 1.0, Train Set nc_squared_error: 0.029318611145019532, Test Set nc_accuracy: 0.94, Test Set squared_error: 0.114200927734375, group_sparsity: 0.718, \n",
      "Train Set objective: 0.11362675857543947, Train Set grad_norm: 1.4836516737393168e-10, Train Set base_objective: 0.11362675857543947, Train Set accuracy: 1.0, Train Set nc_squared_error: 0.029318576812744142, Test Set nc_accuracy: 0.94, Test Set squared_error: 0.11420091247558593, group_sparsity: 0.718, \n",
      "Train Set objective: 0.11362675476074219, Train Set grad_norm: 1.5033140010611845e-10, Train Set base_objective: 0.11362675476074219, Train Set accuracy: 1.0, Train Set nc_squared_error: 0.029318660736083985, Test Set nc_accuracy: 0.94, Test Set squared_error: 0.114200927734375, group_sparsity: 0.718, \n",
      "Train Set objective: 0.11362676429748536, Train Set grad_norm: 1.511011871180301e-10, Train Set base_objective: 0.11362676429748536, Train Set accuracy: 1.0, Train Set nc_squared_error: 0.02931867218017578, Test Set nc_accuracy: 0.94, Test Set squared_error: 0.11420091247558593, group_sparsity: 0.718, \n",
      "Train Set objective: 0.11362675857543945, Train Set grad_norm: 1.527082071905994e-10, Train Set base_objective: 0.11362675857543945, Train Set accuracy: 1.0, Train Set nc_squared_error: 0.029318805694580077, Test Set nc_accuracy: 0.94, Test Set squared_error: 0.11420097351074218, group_sparsity: 0.718, \n",
      "Train Set objective: 0.11362676811218263, Train Set grad_norm: 1.5346157677953443e-10, Train Set base_objective: 0.11362676811218263, Train Set accuracy: 1.0, Train Set nc_squared_error: 0.029318851470947267, Test Set nc_accuracy: 0.94, Test Set squared_error: 0.11420098876953125, group_sparsity: 0.718, \n",
      "Train Set objective: 0.11362676429748535, Train Set grad_norm: 1.5376436235392532e-10, Train Set base_objective: 0.11362676429748535, Train Set accuracy: 1.0, Train Set nc_squared_error: 0.029318828582763672, Test Set nc_accuracy: 0.94, Test Set squared_error: 0.11420097351074218, group_sparsity: 0.718, \n",
      "Train Set objective: 0.11362676048278808, Train Set grad_norm: 1.5409040710068211e-10, Train Set base_objective: 0.11362676048278808, Train Set accuracy: 1.0, Train Set nc_squared_error: 0.02931880760192871, Test Set nc_accuracy: 0.94, Test Set squared_error: 0.11420095825195313, group_sparsity: 0.718, \n",
      "Train Set objective: 0.11362675857543945, Train Set grad_norm: 1.55131255064056e-10, Train Set base_objective: 0.11362675857543945, Train Set accuracy: 1.0, Train Set nc_squared_error: 0.02931886672973633, Test Set nc_accuracy: 0.94, Test Set squared_error: 0.11420100402832031, group_sparsity: 0.718, \n",
      "Train Set objective: 0.11362676620483399, Train Set grad_norm: 1.5918782958479483e-10, Train Set base_objective: 0.11362676620483399, Train Set accuracy: 1.0, Train Set nc_squared_error: 0.02931912612915039, Test Set nc_accuracy: 0.94, Test Set squared_error: 0.11420117950439453, group_sparsity: 0.718, \n",
      "Train Set objective: 0.11362676239013672, Train Set grad_norm: 1.6068478492226035e-10, Train Set base_objective: 0.11362676239013672, Train Set accuracy: 1.0, Train Set nc_squared_error: 0.0293192195892334, Test Set nc_accuracy: 0.94, Test Set squared_error: 0.11420124816894531, group_sparsity: 0.718, \n",
      "Train Set objective: 0.11362676429748536, Train Set grad_norm: 1.612450034604862e-10, Train Set base_objective: 0.11362676429748536, Train Set accuracy: 1.0, Train Set nc_squared_error: 0.029319210052490233, Test Set nc_accuracy: 0.94, Test Set squared_error: 0.11420123291015626, group_sparsity: 0.718, \n",
      "Train Set objective: 0.11362675857543945, Train Set grad_norm: 1.6107394584796708e-10, Train Set base_objective: 0.11362675857543945, Train Set accuracy: 1.0, Train Set nc_squared_error: 0.02931917190551758, Test Set nc_accuracy: 0.94, Test Set squared_error: 0.11420121765136719, group_sparsity: 0.718, \n"
     ]
    },
    {
     "name": "stdout",
     "output_type": "stream",
     "text": [
      "Train Set objective: 0.11362676620483397, Train Set grad_norm: 1.614069572442034e-10, Train Set base_objective: 0.11362676620483397, Train Set accuracy: 1.0, Train Set nc_squared_error: 0.02931917953491211, Test Set nc_accuracy: 0.94, Test Set squared_error: 0.11420121765136719, group_sparsity: 0.718, \n",
      "Train Set objective: 0.11362676239013672, Train Set grad_norm: 1.619424178089801e-10, Train Set base_objective: 0.11362676239013672, Train Set accuracy: 1.0, Train Set nc_squared_error: 0.02931920623779297, Test Set nc_accuracy: 0.94, Test Set squared_error: 0.11420123291015626, group_sparsity: 0.718, \n",
      "Train Set objective: 0.11362676620483399, Train Set grad_norm: 1.6214411757697889e-10, Train Set base_objective: 0.11362676620483399, Train Set accuracy: 1.0, Train Set nc_squared_error: 0.02931916618347168, Test Set nc_accuracy: 0.94, Test Set squared_error: 0.11420120239257812, group_sparsity: 0.718, \n",
      "Train Set objective: 0.11362676239013672, Train Set grad_norm: 1.6303321193067433e-10, Train Set base_objective: 0.11362676239013672, Train Set accuracy: 1.0, Train Set nc_squared_error: 0.029319107055664064, Test Set nc_accuracy: 0.94, Test Set squared_error: 0.11420114898681641, group_sparsity: 0.718, \n",
      "Train Set objective: 0.11362676429748535, Train Set grad_norm: 1.6369584854292185e-10, Train Set base_objective: 0.11362676429748535, Train Set accuracy: 1.0, Train Set nc_squared_error: 0.02931911849975586, Test Set nc_accuracy: 0.94, Test Set squared_error: 0.11420114135742188, group_sparsity: 0.718, \n",
      "Train Set objective: 0.11362675857543945, Train Set grad_norm: 1.6581253037273314e-10, Train Set base_objective: 0.11362675857543945, Train Set accuracy: 1.0, Train Set nc_squared_error: 0.02931912612915039, Test Set nc_accuracy: 0.94, Test Set squared_error: 0.11420114135742188, group_sparsity: 0.718, \n",
      "Train Set objective: 0.11362675857543945, Train Set grad_norm: 1.6891228693527438e-10, Train Set base_objective: 0.11362675857543945, Train Set accuracy: 1.0, Train Set nc_squared_error: 0.029319141387939455, Test Set nc_accuracy: 0.94, Test Set squared_error: 0.11420115661621094, group_sparsity: 0.718, \n",
      "Train Set objective: 0.11362676239013672, Train Set grad_norm: 1.6958105752973296e-10, Train Set base_objective: 0.11362676239013672, Train Set accuracy: 1.0, Train Set nc_squared_error: 0.029319145202636718, Test Set nc_accuracy: 0.94, Test Set squared_error: 0.11420115661621094, group_sparsity: 0.718, \n",
      "Train Set objective: 0.11362676239013672, Train Set grad_norm: 1.7137341545847562e-10, Train Set base_objective: 0.11362676239013672, Train Set accuracy: 1.0, Train Set nc_squared_error: 0.029319114685058593, Test Set nc_accuracy: 0.94, Test Set squared_error: 0.11420114135742188, group_sparsity: 0.718, \n",
      "Train Set objective: 0.11362677001953125, Train Set grad_norm: 1.716159575559928e-10, Train Set base_objective: 0.11362677001953125, Train Set accuracy: 1.0, Train Set nc_squared_error: 0.02931909370422363, Test Set nc_accuracy: 0.94, Test Set squared_error: 0.11420112609863281, group_sparsity: 0.718, \n",
      "Train Set objective: 0.11362677001953125, Train Set grad_norm: 1.7182380518399043e-10, Train Set base_objective: 0.11362677001953125, Train Set accuracy: 1.0, Train Set nc_squared_error: 0.029319076538085936, Test Set nc_accuracy: 0.94, Test Set squared_error: 0.11420110321044921, group_sparsity: 0.718, \n",
      "Train Set objective: 0.11362676429748536, Train Set grad_norm: 1.7324257306494673e-10, Train Set base_objective: 0.11362676429748536, Train Set accuracy: 1.0, Train Set nc_squared_error: 0.029319055557250978, Test Set nc_accuracy: 0.94, Test Set squared_error: 0.11420108795166016, group_sparsity: 0.718, \n",
      "Train Set objective: 0.11362676239013672, Train Set grad_norm: 1.736183280476311e-10, Train Set base_objective: 0.11362676239013672, Train Set accuracy: 1.0, Train Set nc_squared_error: 0.029319046020507812, Test Set nc_accuracy: 0.94, Test Set squared_error: 0.1142010726928711, group_sparsity: 0.718, \n",
      "Train Set objective: 0.11362675857543945, Train Set grad_norm: 1.7508579308600503e-10, Train Set base_objective: 0.11362675857543945, Train Set accuracy: 1.0, Train Set nc_squared_error: 0.029319034576416016, Test Set nc_accuracy: 0.94, Test Set squared_error: 0.11420108032226563, group_sparsity: 0.718, \n",
      "Train Set objective: 0.11362676620483399, Train Set grad_norm: 1.7552896636185977e-10, Train Set base_objective: 0.11362676620483399, Train Set accuracy: 1.0, Train Set nc_squared_error: 0.02931901168823242, Test Set nc_accuracy: 0.94, Test Set squared_error: 0.11420105743408203, group_sparsity: 0.718, \n",
      "Train Set objective: 0.11362676811218261, Train Set grad_norm: 1.756932932472921e-10, Train Set base_objective: 0.11362676811218261, Train Set accuracy: 1.0, Train Set nc_squared_error: 0.029319004058837892, Test Set nc_accuracy: 0.94, Test Set squared_error: 0.11420105743408203, group_sparsity: 0.718, \n",
      "Train Set objective: 0.11362675476074219, Train Set grad_norm: 1.7592066692273534e-10, Train Set base_objective: 0.11362675476074219, Train Set accuracy: 1.0, Train Set nc_squared_error: 0.02931900215148926, Test Set nc_accuracy: 0.94, Test Set squared_error: 0.11420106506347656, group_sparsity: 0.718, \n",
      "Train Set objective: 0.11362676239013672, Train Set grad_norm: 1.7707914301556826e-10, Train Set base_objective: 0.11362676239013672, Train Set accuracy: 1.0, Train Set nc_squared_error: 0.029319019317626954, Test Set nc_accuracy: 0.94, Test Set squared_error: 0.11420105743408203, group_sparsity: 0.716, \n",
      "Train Set objective: 0.11362676620483399, Train Set grad_norm: 1.7792273210304188e-10, Train Set base_objective: 0.11362676620483399, Train Set accuracy: 1.0, Train Set nc_squared_error: 0.029319095611572265, Test Set nc_accuracy: 0.94, Test Set squared_error: 0.11420108032226563, group_sparsity: 0.716, \n",
      "Train Set objective: 0.11362676620483399, Train Set grad_norm: 1.783060227245059e-10, Train Set base_objective: 0.11362676620483399, Train Set accuracy: 1.0, Train Set nc_squared_error: 0.029319080352783203, Test Set nc_accuracy: 0.94, Test Set squared_error: 0.1142010498046875, group_sparsity: 0.716, \n",
      "Train Set objective: 0.11362676620483397, Train Set grad_norm: 1.7935924967460437e-10, Train Set base_objective: 0.11362676620483397, Train Set accuracy: 1.0, Train Set nc_squared_error: 0.02931904983520508, Test Set nc_accuracy: 0.94, Test Set squared_error: 0.11420103454589844, group_sparsity: 0.716, \n",
      "Train Set objective: 0.11362676239013672, Train Set grad_norm: 1.7919826733603372e-10, Train Set base_objective: 0.11362676239013672, Train Set accuracy: 1.0, Train Set nc_squared_error: 0.029318994522094726, Test Set nc_accuracy: 0.94, Test Set squared_error: 0.11420100402832031, group_sparsity: 0.716, \n",
      "Train Set objective: 0.11362676811218261, Train Set grad_norm: 1.803857757609606e-10, Train Set base_objective: 0.11362676811218261, Train Set accuracy: 1.0, Train Set nc_squared_error: 0.029318984985351564, Test Set nc_accuracy: 0.94, Test Set squared_error: 0.11420101928710938, group_sparsity: 0.716, \n",
      "Train Set objective: 0.11362676620483399, Train Set grad_norm: 1.8053038230991802e-10, Train Set base_objective: 0.11362676620483399, Train Set accuracy: 1.0, Train Set nc_squared_error: 0.029318965911865235, Test Set nc_accuracy: 0.94, Test Set squared_error: 0.11420100402832031, group_sparsity: 0.716, \n",
      "Train Set objective: 0.11362676239013672, Train Set grad_norm: 1.8140317026293928e-10, Train Set base_objective: 0.11362676239013672, Train Set accuracy: 1.0, Train Set nc_squared_error: 0.029318992614746093, Test Set nc_accuracy: 0.94, Test Set squared_error: 0.11420100402832031, group_sparsity: 0.716, \n",
      "Train Set objective: 0.11362676620483399, Train Set grad_norm: 1.817422323746598e-10, Train Set base_objective: 0.11362676620483399, Train Set accuracy: 1.0, Train Set nc_squared_error: 0.029318988800048826, Test Set nc_accuracy: 0.94, Test Set squared_error: 0.11420100402832031, group_sparsity: 0.716, \n",
      "Train Set objective: 0.11362676239013672, Train Set grad_norm: 1.8190919603977562e-10, Train Set base_objective: 0.11362676239013672, Train Set accuracy: 1.0, Train Set nc_squared_error: 0.029318939208984374, Test Set nc_accuracy: 0.94, Test Set squared_error: 0.11420097351074218, group_sparsity: 0.716, \n"
     ]
    },
    {
     "name": "stdout",
     "output_type": "stream",
     "text": [
      "Train Set objective: 0.11362676239013672, Train Set grad_norm: 1.8250399802521855e-10, Train Set base_objective: 0.11362676239013672, Train Set accuracy: 1.0, Train Set nc_squared_error: 0.029318946838378906, Test Set nc_accuracy: 0.94, Test Set squared_error: 0.11420097351074218, group_sparsity: 0.716, \n",
      "Train Set objective: 0.11362675857543945, Train Set grad_norm: 1.842121594153312e-10, Train Set base_objective: 0.11362675857543945, Train Set accuracy: 1.0, Train Set nc_squared_error: 0.029318988800048826, Test Set nc_accuracy: 0.94, Test Set squared_error: 0.11420099639892578, group_sparsity: 0.716, \n",
      "Train Set objective: 0.11362675857543945, Train Set grad_norm: 1.8462296969001812e-10, Train Set base_objective: 0.11362675857543945, Train Set accuracy: 1.0, Train Set nc_squared_error: 0.029318967819213868, Test Set nc_accuracy: 0.94, Test Set squared_error: 0.11420096588134766, group_sparsity: 0.716, \n",
      "Train Set objective: 0.11362676620483399, Train Set grad_norm: 1.8518638011943978e-10, Train Set base_objective: 0.11362676620483399, Train Set accuracy: 1.0, Train Set nc_squared_error: 0.0293189697265625, Test Set nc_accuracy: 0.94, Test Set squared_error: 0.11420095825195313, group_sparsity: 0.716, \n",
      "Train Set objective: 0.11362677383422852, Train Set grad_norm: 1.8601940821039165e-10, Train Set base_objective: 0.11362677383422852, Train Set accuracy: 1.0, Train Set nc_squared_error: 0.02931894302368164, Test Set nc_accuracy: 0.94, Test Set squared_error: 0.114200927734375, group_sparsity: 0.716, \n",
      "Train Set objective: 0.11362676239013672, Train Set grad_norm: 1.8685539227014658e-10, Train Set base_objective: 0.11362676239013672, Train Set accuracy: 1.0, Train Set nc_squared_error: 0.029318933486938478, Test Set nc_accuracy: 0.94, Test Set squared_error: 0.114200927734375, group_sparsity: 0.716, \n",
      "Train Set objective: 0.11362676620483399, Train Set grad_norm: 1.8786229516454256e-10, Train Set base_objective: 0.11362676620483399, Train Set accuracy: 1.0, Train Set nc_squared_error: 0.02931888198852539, Test Set nc_accuracy: 0.94, Test Set squared_error: 0.11420088195800782, group_sparsity: 0.716, \n",
      "Train Set objective: 0.11362675857543945, Train Set grad_norm: 1.8882907737438615e-10, Train Set base_objective: 0.11362675857543945, Train Set accuracy: 1.0, Train Set nc_squared_error: 0.029318815231323243, Test Set nc_accuracy: 0.94, Test Set squared_error: 0.11420085144042968, group_sparsity: 0.716, \n",
      "Train Set objective: 0.11362676239013672, Train Set grad_norm: 1.8930809697614848e-10, Train Set base_objective: 0.11362676239013672, Train Set accuracy: 1.0, Train Set nc_squared_error: 0.02931877326965332, Test Set nc_accuracy: 0.94, Test Set squared_error: 0.11420082092285157, group_sparsity: 0.716, \n",
      "Train Set objective: 0.11362676239013672, Train Set grad_norm: 1.8967122317192775e-10, Train Set base_objective: 0.11362676239013672, Train Set accuracy: 1.0, Train Set nc_squared_error: 0.0293187313079834, Test Set nc_accuracy: 0.94, Test Set squared_error: 0.11420079040527344, group_sparsity: 0.716, \n",
      "Train Set objective: 0.11362676620483399, Train Set grad_norm: 1.8974596893706064e-10, Train Set base_objective: 0.11362676620483399, Train Set accuracy: 1.0, Train Set nc_squared_error: 0.029318756103515625, Test Set nc_accuracy: 0.94, Test Set squared_error: 0.11420079803466797, group_sparsity: 0.716, \n",
      "Train Set objective: 0.11362676239013672, Train Set grad_norm: 1.8996111628144519e-10, Train Set base_objective: 0.11362676239013672, Train Set accuracy: 1.0, Train Set nc_squared_error: 0.02931879425048828, Test Set nc_accuracy: 0.94, Test Set squared_error: 0.11420083618164062, group_sparsity: 0.716, \n",
      "Train Set objective: 0.11362676620483399, Train Set grad_norm: 1.8970057469314128e-10, Train Set base_objective: 0.11362676620483399, Train Set accuracy: 1.0, Train Set nc_squared_error: 0.02931869125366211, Test Set nc_accuracy: 0.94, Test Set squared_error: 0.11420075988769532, group_sparsity: 0.716, \n",
      "Train Set objective: 0.11362676620483397, Train Set grad_norm: 1.9044536780921106e-10, Train Set base_objective: 0.11362676620483397, Train Set accuracy: 1.0, Train Set nc_squared_error: 0.02931870651245117, Test Set nc_accuracy: 0.94, Test Set squared_error: 0.11420077514648437, group_sparsity: 0.716, \n",
      "Train Set objective: 0.11362676239013672, Train Set grad_norm: 1.9282733743075653e-10, Train Set base_objective: 0.11362676239013672, Train Set accuracy: 1.0, Train Set nc_squared_error: 0.029318748474121095, Test Set nc_accuracy: 0.94, Test Set squared_error: 0.11420077514648437, group_sparsity: 0.716, \n",
      "Train Set objective: 0.11362676429748536, Train Set grad_norm: 1.9371776405208152e-10, Train Set base_objective: 0.11362676429748536, Train Set accuracy: 1.0, Train Set nc_squared_error: 0.029318742752075196, Test Set nc_accuracy: 0.94, Test Set squared_error: 0.11420075988769532, group_sparsity: 0.716, \n",
      "Train Set objective: 0.11362675857543945, Train Set grad_norm: 1.9465677680852167e-10, Train Set base_objective: 0.11362675857543945, Train Set accuracy: 1.0, Train Set nc_squared_error: 0.029318742752075196, Test Set nc_accuracy: 0.94, Test Set squared_error: 0.11420075988769532, group_sparsity: 0.716, \n",
      "Train Set objective: 0.11362676429748535, Train Set grad_norm: 1.976225988409297e-10, Train Set base_objective: 0.11362676429748535, Train Set accuracy: 1.0, Train Set nc_squared_error: 0.029318834304809572, Test Set nc_accuracy: 0.94, Test Set squared_error: 0.11420081329345703, group_sparsity: 0.716, \n",
      "Train Set objective: 0.11362676620483399, Train Set grad_norm: 2.0269090572622162e-10, Train Set base_objective: 0.11362676620483399, Train Set accuracy: 1.0, Train Set nc_squared_error: 0.02931901168823242, Test Set nc_accuracy: 0.94, Test Set squared_error: 0.1142009506225586, group_sparsity: 0.716, \n",
      "Train Set objective: 0.11362675857543945, Train Set grad_norm: 2.044090730013437e-10, Train Set base_objective: 0.11362675857543945, Train Set accuracy: 1.0, Train Set nc_squared_error: 0.029319019317626954, Test Set nc_accuracy: 0.94, Test Set squared_error: 0.11420095825195313, group_sparsity: 0.716, \n",
      "Train Set objective: 0.11362676620483397, Train Set grad_norm: 2.0556754909417663e-10, Train Set base_objective: 0.11362676620483397, Train Set accuracy: 1.0, Train Set nc_squared_error: 0.029318975448608398, Test Set nc_accuracy: 0.94, Test Set squared_error: 0.114200927734375, group_sparsity: 0.716, \n",
      "Train Set objective: 0.11362676620483399, Train Set grad_norm: 2.0619680962674636e-10, Train Set base_objective: 0.11362676620483399, Train Set accuracy: 1.0, Train Set nc_squared_error: 0.02931895637512207, Test Set nc_accuracy: 0.94, Test Set squared_error: 0.114200927734375, group_sparsity: 0.716, \n",
      "Train Set objective: 0.11362676239013672, Train Set grad_norm: 2.0702584091480958e-10, Train Set base_objective: 0.11362676239013672, Train Set accuracy: 1.0, Train Set nc_squared_error: 0.029318992614746093, Test Set nc_accuracy: 0.94, Test Set squared_error: 0.11420094299316406, group_sparsity: 0.716, \n",
      "Train Set objective: 0.11362676048278808, Train Set grad_norm: 2.0769071185089416e-10, Train Set base_objective: 0.11362676048278808, Train Set accuracy: 1.0, Train Set nc_squared_error: 0.029318975448608398, Test Set nc_accuracy: 0.94, Test Set squared_error: 0.11420093536376953, group_sparsity: 0.716, \n",
      "Train Set objective: 0.11362676620483399, Train Set grad_norm: 2.0845293546845056e-10, Train Set base_objective: 0.11362676620483399, Train Set accuracy: 1.0, Train Set nc_squared_error: 0.029318927764892578, Test Set nc_accuracy: 0.94, Test Set squared_error: 0.11420089721679688, group_sparsity: 0.716, \n",
      "Train Set objective: 0.11362677001953125, Train Set grad_norm: 2.0967311220587703e-10, Train Set base_objective: 0.11362677001953125, Train Set accuracy: 1.0, Train Set nc_squared_error: 0.029318954467773436, Test Set nc_accuracy: 0.94, Test Set squared_error: 0.11420089721679688, group_sparsity: 0.716, \n",
      "Train Set objective: 0.11362677001953125, Train Set grad_norm: 2.0991131055581036e-10, Train Set base_objective: 0.11362677001953125, Train Set accuracy: 1.0, Train Set nc_squared_error: 0.02931897735595703, Test Set nc_accuracy: 0.94, Test Set squared_error: 0.11420091247558593, group_sparsity: 0.716, \n"
     ]
    },
    {
     "name": "stdout",
     "output_type": "stream",
     "text": [
      "Train Set objective: 0.11362675857543945, Train Set grad_norm: 2.1007776074277729e-10, Train Set base_objective: 0.11362675857543945, Train Set accuracy: 1.0, Train Set nc_squared_error: 0.029319019317626954, Test Set nc_accuracy: 0.94, Test Set squared_error: 0.11420095825195313, group_sparsity: 0.716, \n",
      "Train Set objective: 0.11362676620483399, Train Set grad_norm: 2.1062007693473106e-10, Train Set base_objective: 0.11362676620483399, Train Set accuracy: 1.0, Train Set nc_squared_error: 0.02931899642944336, Test Set nc_accuracy: 0.94, Test Set squared_error: 0.11420094299316406, group_sparsity: 0.716, \n",
      "Train Set objective: 0.11362676620483399, Train Set grad_norm: 2.1140003636510585e-10, Train Set base_objective: 0.11362676620483399, Train Set accuracy: 1.0, Train Set nc_squared_error: 0.029318958282470702, Test Set nc_accuracy: 0.94, Test Set squared_error: 0.11420091247558593, group_sparsity: 0.716, \n",
      "Train Set objective: 0.11362675857543945, Train Set grad_norm: 2.1198273691958036e-10, Train Set base_objective: 0.11362675857543945, Train Set accuracy: 1.0, Train Set nc_squared_error: 0.029318927764892578, Test Set nc_accuracy: 0.94, Test Set squared_error: 0.11420089721679688, group_sparsity: 0.716, \n",
      "Train Set objective: 0.11362676429748536, Train Set grad_norm: 2.1304370767527558e-10, Train Set base_objective: 0.11362676429748536, Train Set accuracy: 1.0, Train Set nc_squared_error: 0.029318950653076173, Test Set nc_accuracy: 0.94, Test Set squared_error: 0.11420091247558593, group_sparsity: 0.716, \n",
      "Train Set objective: 0.11362676239013672, Train Set grad_norm: 2.1395782368038851e-10, Train Set base_objective: 0.11362676239013672, Train Set accuracy: 1.0, Train Set nc_squared_error: 0.029318939208984374, Test Set nc_accuracy: 0.94, Test Set squared_error: 0.11420091247558593, group_sparsity: 0.716, \n",
      "Train Set objective: 0.11362677001953125, Train Set grad_norm: 2.157053008433607e-10, Train Set base_objective: 0.11362677001953125, Train Set accuracy: 1.0, Train Set nc_squared_error: 0.02931890869140625, Test Set nc_accuracy: 0.94, Test Set squared_error: 0.11420092010498047, group_sparsity: 0.716, \n",
      "Train Set objective: 0.11362676620483397, Train Set grad_norm: 2.1632094726609097e-10, Train Set base_objective: 0.11362676620483397, Train Set accuracy: 1.0, Train Set nc_squared_error: 0.029318904876708983, Test Set nc_accuracy: 0.94, Test Set squared_error: 0.11420092010498047, group_sparsity: 0.716, \n",
      "Train Set objective: 0.11362677001953125, Train Set grad_norm: 2.1702600827566698e-10, Train Set base_objective: 0.11362677001953125, Train Set accuracy: 1.0, Train Set nc_squared_error: 0.029318870544433592, Test Set nc_accuracy: 0.94, Test Set squared_error: 0.11420089721679688, group_sparsity: 0.716, \n",
      "Train Set objective: 0.11362676239013672, Train Set grad_norm: 2.1800071470234883e-10, Train Set base_objective: 0.11362676239013672, Train Set accuracy: 1.0, Train Set nc_squared_error: 0.029318840026855468, Test Set nc_accuracy: 0.94, Test Set squared_error: 0.11420087432861328, group_sparsity: 0.716, \n",
      "Train Set objective: 0.11362676811218261, Train Set grad_norm: 2.18503937166048e-10, Train Set base_objective: 0.11362676811218261, Train Set accuracy: 1.0, Train Set nc_squared_error: 0.029318815231323243, Test Set nc_accuracy: 0.94, Test Set squared_error: 0.11420086669921875, group_sparsity: 0.716, \n",
      "Train Set objective: 0.11362676239013672, Train Set grad_norm: 2.1962440199807531e-10, Train Set base_objective: 0.11362676239013672, Train Set accuracy: 1.0, Train Set nc_squared_error: 0.029318809509277344, Test Set nc_accuracy: 0.94, Test Set squared_error: 0.11420085144042968, group_sparsity: 0.716, \n",
      "Train Set objective: 0.1136267719268799, Train Set grad_norm: 2.2019805423489913e-10, Train Set base_objective: 0.1136267719268799, Train Set accuracy: 1.0, Train Set nc_squared_error: 0.029318803787231444, Test Set nc_accuracy: 0.94, Test Set squared_error: 0.11420086669921875, group_sparsity: 0.716, \n",
      "Train Set objective: 0.113626766204834, Train Set grad_norm: 2.211656691120112e-10, Train Set base_objective: 0.113626766204834, Train Set accuracy: 1.0, Train Set nc_squared_error: 0.029318782806396486, Test Set nc_accuracy: 0.94, Test Set squared_error: 0.11420086669921875, group_sparsity: 0.716, \n",
      "Train Set objective: 0.113626766204834, Train Set grad_norm: 2.2262966470343315e-10, Train Set base_objective: 0.113626766204834, Train Set accuracy: 1.0, Train Set nc_squared_error: 0.029318782806396486, Test Set nc_accuracy: 0.94, Test Set squared_error: 0.11420085906982422, group_sparsity: 0.716, \n",
      "Train Set objective: 0.11362677001953125, Train Set grad_norm: 2.2414216316324342e-10, Train Set base_objective: 0.11362677001953125, Train Set accuracy: 1.0, Train Set nc_squared_error: 0.029318756103515625, Test Set nc_accuracy: 0.94, Test Set squared_error: 0.11420083618164062, group_sparsity: 0.716, \n",
      "Train Set objective: 0.11362676239013672, Train Set grad_norm: 2.2548526934507152e-10, Train Set base_objective: 0.11362676239013672, Train Set accuracy: 1.0, Train Set nc_squared_error: 0.029318763732910157, Test Set nc_accuracy: 0.94, Test Set squared_error: 0.11420084381103515, group_sparsity: 0.716, \n",
      "Train Set objective: 0.11362676620483397, Train Set grad_norm: 2.2688424750061387e-10, Train Set base_objective: 0.11362676620483397, Train Set accuracy: 1.0, Train Set nc_squared_error: 0.02931876564025879, Test Set nc_accuracy: 0.94, Test Set squared_error: 0.11420083618164062, group_sparsity: 0.716, \n",
      "Train Set objective: 0.11362676429748536, Train Set grad_norm: 2.28856086859075e-10, Train Set base_objective: 0.11362676429748536, Train Set accuracy: 1.0, Train Set nc_squared_error: 0.029318714141845705, Test Set nc_accuracy: 0.94, Test Set squared_error: 0.1142008056640625, group_sparsity: 0.716, \n",
      "Train Set objective: 0.11362676620483397, Train Set grad_norm: 2.2979070035678006e-10, Train Set base_objective: 0.11362676620483397, Train Set accuracy: 1.0, Train Set nc_squared_error: 0.02931876564025879, Test Set nc_accuracy: 0.94, Test Set squared_error: 0.11420082092285157, group_sparsity: 0.716, \n",
      "Train Set objective: 0.1136267738342285, Train Set grad_norm: 2.3041207830587496e-10, Train Set base_objective: 0.1136267738342285, Train Set accuracy: 1.0, Train Set nc_squared_error: 0.029318714141845705, Test Set nc_accuracy: 0.94, Test Set squared_error: 0.11420076751708984, group_sparsity: 0.716, \n",
      "Train Set objective: 0.11362675857543944, Train Set grad_norm: 2.3124811787678112e-10, Train Set base_objective: 0.11362675857543944, Train Set accuracy: 1.0, Train Set nc_squared_error: 0.02931869888305664, Test Set nc_accuracy: 0.94, Test Set squared_error: 0.11420075225830079, group_sparsity: 0.716, \n",
      "Train Set objective: 0.11362676239013672, Train Set grad_norm: 2.3232682444529473e-10, Train Set base_objective: 0.11362676239013672, Train Set accuracy: 1.0, Train Set nc_squared_error: 0.029318742752075196, Test Set nc_accuracy: 0.94, Test Set squared_error: 0.11420076751708984, group_sparsity: 0.716, \n",
      "Train Set objective: 0.11362676811218261, Train Set grad_norm: 2.333057913528336e-10, Train Set base_objective: 0.11362676811218261, Train Set accuracy: 1.0, Train Set nc_squared_error: 0.02931873893737793, Test Set nc_accuracy: 0.94, Test Set squared_error: 0.11420075988769532, group_sparsity: 0.716, \n",
      "Train Set objective: 0.11362677001953125, Train Set grad_norm: 2.338927385103773e-10, Train Set base_objective: 0.11362677001953125, Train Set accuracy: 1.0, Train Set nc_squared_error: 0.02931873321533203, Test Set nc_accuracy: 0.94, Test Set squared_error: 0.11420075988769532, group_sparsity: 0.716, \n",
      "Train Set objective: 0.11362676620483399, Train Set grad_norm: 2.345832139649673e-10, Train Set base_objective: 0.11362676620483399, Train Set accuracy: 1.0, Train Set nc_squared_error: 0.02931866645812988, Test Set nc_accuracy: 0.94, Test Set squared_error: 0.11420074462890625, group_sparsity: 0.716, \n",
      "Train Set objective: 0.11362676811218261, Train Set grad_norm: 2.3525600911789013e-10, Train Set base_objective: 0.11362676811218261, Train Set accuracy: 1.0, Train Set nc_squared_error: 0.029318634033203124, Test Set nc_accuracy: 0.94, Test Set squared_error: 0.11420070648193359, group_sparsity: 0.716, \n"
     ]
    },
    {
     "name": "stdout",
     "output_type": "stream",
     "text": [
      "Train Set objective: 0.11362677383422852, Train Set grad_norm: 2.3756974165678457e-10, Train Set base_objective: 0.11362677383422852, Train Set accuracy: 1.0, Train Set nc_squared_error: 0.029318681716918947, Test Set nc_accuracy: 0.94, Test Set squared_error: 0.11420072937011719, group_sparsity: 0.716, \n",
      "Train Set objective: 0.11362676239013672, Train Set grad_norm: 2.410935617813692e-10, Train Set base_objective: 0.11362676239013672, Train Set accuracy: 1.0, Train Set nc_squared_error: 0.029318853378295897, Test Set nc_accuracy: 0.94, Test Set squared_error: 0.11420083618164062, group_sparsity: 0.716, \n",
      "Train Set objective: 0.11362676620483399, Train Set grad_norm: 2.4213944738171733e-10, Train Set base_objective: 0.11362676620483399, Train Set accuracy: 1.0, Train Set nc_squared_error: 0.02931893539428711, Test Set nc_accuracy: 0.94, Test Set squared_error: 0.11420089721679688, group_sparsity: 0.716, \n",
      "Train Set objective: 0.11362676239013672, Train Set grad_norm: 2.4258611786009965e-10, Train Set base_objective: 0.11362676239013672, Train Set accuracy: 1.0, Train Set nc_squared_error: 0.02931896209716797, Test Set nc_accuracy: 0.94, Test Set squared_error: 0.11420091247558593, group_sparsity: 0.716, \n",
      "Train Set objective: 0.11362676620483399, Train Set grad_norm: 2.4381774377246757e-10, Train Set base_objective: 0.11362676620483399, Train Set accuracy: 1.0, Train Set nc_squared_error: 0.029318960189819335, Test Set nc_accuracy: 0.94, Test Set squared_error: 0.11420091247558593, group_sparsity: 0.716, \n",
      "Train Set objective: 0.11362676239013672, Train Set grad_norm: 2.4479249183251284e-10, Train Set base_objective: 0.11362676239013672, Train Set accuracy: 1.0, Train Set nc_squared_error: 0.029319015502929688, Test Set nc_accuracy: 0.94, Test Set squared_error: 0.114200927734375, group_sparsity: 0.716, \n",
      "Train Set objective: 0.11362677001953125, Train Set grad_norm: 2.464456139161797e-10, Train Set base_objective: 0.11362677001953125, Train Set accuracy: 1.0, Train Set nc_squared_error: 0.029319046020507812, Test Set nc_accuracy: 0.94, Test Set squared_error: 0.11420095825195313, group_sparsity: 0.716, \n",
      "Train Set objective: 0.11362677001953125, Train Set grad_norm: 2.472811677645126e-10, Train Set base_objective: 0.11362677001953125, Train Set accuracy: 1.0, Train Set nc_squared_error: 0.029319007873535155, Test Set nc_accuracy: 0.94, Test Set squared_error: 0.11420093536376953, group_sparsity: 0.716, \n",
      "Train Set objective: 0.11362677383422852, Train Set grad_norm: 2.489034534036705e-10, Train Set base_objective: 0.11362677383422852, Train Set accuracy: 1.0, Train Set nc_squared_error: 0.02931900215148926, Test Set nc_accuracy: 0.94, Test Set squared_error: 0.11420094299316406, group_sparsity: 0.716, \n",
      "Train Set objective: 0.11362676620483397, Train Set grad_norm: 2.4923302310853046e-10, Train Set base_objective: 0.11362676620483397, Train Set accuracy: 1.0, Train Set nc_squared_error: 0.029318981170654297, Test Set nc_accuracy: 0.94, Test Set squared_error: 0.114200927734375, group_sparsity: 0.716, \n",
      "Train Set objective: 0.1136267738342285, Train Set grad_norm: 2.499153939350407e-10, Train Set base_objective: 0.1136267738342285, Train Set accuracy: 1.0, Train Set nc_squared_error: 0.029318981170654297, Test Set nc_accuracy: 0.94, Test Set squared_error: 0.114200927734375, group_sparsity: 0.716, \n",
      "Train Set objective: 0.11362676620483399, Train Set grad_norm: 2.5074026188676157e-10, Train Set base_objective: 0.11362676620483399, Train Set accuracy: 1.0, Train Set nc_squared_error: 0.02931894874572754, Test Set nc_accuracy: 0.94, Test Set squared_error: 0.11420089721679688, group_sparsity: 0.716, \n",
      "Train Set objective: 0.11362677001953125, Train Set grad_norm: 2.5106092205184893e-10, Train Set base_objective: 0.11362677001953125, Train Set accuracy: 1.0, Train Set nc_squared_error: 0.029318906784057616, Test Set nc_accuracy: 0.94, Test Set squared_error: 0.11420086669921875, group_sparsity: 0.716, \n",
      "Train Set objective: 0.11362676048278808, Train Set grad_norm: 2.518058539457968e-10, Train Set base_objective: 0.11362676048278808, Train Set accuracy: 1.0, Train Set nc_squared_error: 0.029318885803222658, Test Set nc_accuracy: 0.94, Test Set squared_error: 0.11420085906982422, group_sparsity: 0.716, \n",
      "Train Set objective: 0.11362677001953125, Train Set grad_norm: 2.534119580843708e-10, Train Set base_objective: 0.11362677001953125, Train Set accuracy: 1.0, Train Set nc_squared_error: 0.029318954467773436, Test Set nc_accuracy: 0.94, Test Set squared_error: 0.11420089721679688, group_sparsity: 0.716, \n",
      "Train Set objective: 0.11362676811218261, Train Set grad_norm: 2.5471172393487507e-10, Train Set base_objective: 0.11362676811218261, Train Set accuracy: 1.0, Train Set nc_squared_error: 0.02931897735595703, Test Set nc_accuracy: 0.94, Test Set squared_error: 0.11420089721679688, group_sparsity: 0.716, \n",
      "Train Set objective: 0.11362677001953125, Train Set grad_norm: 2.5897492483828444e-10, Train Set base_objective: 0.11362677001953125, Train Set accuracy: 1.0, Train Set nc_squared_error: 0.02931910514831543, Test Set nc_accuracy: 0.94, Test Set squared_error: 0.11420096588134766, group_sparsity: 0.716, \n",
      "Train Set objective: 0.11362676620483399, Train Set grad_norm: 2.656874720230462e-10, Train Set base_objective: 0.11362676620483399, Train Set accuracy: 1.0, Train Set nc_squared_error: 0.02931929588317871, Test Set nc_accuracy: 0.94, Test Set squared_error: 0.11420108795166016, group_sparsity: 0.716, \n",
      "Train Set objective: 0.11362677383422852, Train Set grad_norm: 2.6644053630064946e-10, Train Set base_objective: 0.11362677383422852, Train Set accuracy: 1.0, Train Set nc_squared_error: 0.029319278717041014, Test Set nc_accuracy: 0.94, Test Set squared_error: 0.11420108032226563, group_sparsity: 0.716, \n",
      "Train Set objective: 0.1136267738342285, Train Set grad_norm: 2.6749272241666233e-10, Train Set base_objective: 0.1136267738342285, Train Set accuracy: 1.0, Train Set nc_squared_error: 0.02931924819946289, Test Set nc_accuracy: 0.94, Test Set squared_error: 0.1142010498046875, group_sparsity: 0.716, \n",
      "Train Set objective: 0.11362676620483399, Train Set grad_norm: 2.697462808676221e-10, Train Set base_objective: 0.11362676620483399, Train Set accuracy: 1.0, Train Set nc_squared_error: 0.02931930160522461, Test Set nc_accuracy: 0.94, Test Set squared_error: 0.11420105743408203, group_sparsity: 0.716, \n",
      "Train Set objective: 0.11362676811218261, Train Set grad_norm: 2.7540641989176606e-10, Train Set base_objective: 0.11362676811218261, Train Set accuracy: 1.0, Train Set nc_squared_error: 0.029319501876831053, Test Set nc_accuracy: 0.94, Test Set squared_error: 0.11420119476318359, group_sparsity: 0.716, \n",
      "Train Set objective: 0.11362676239013672, Train Set grad_norm: 2.795489673079743e-10, Train Set base_objective: 0.11362676239013672, Train Set accuracy: 1.0, Train Set nc_squared_error: 0.029319557189941406, Test Set nc_accuracy: 0.94, Test Set squared_error: 0.11420121765136719, group_sparsity: 0.716, \n",
      "Train Set objective: 0.11362676811218261, Train Set grad_norm: 2.807265808701942e-10, Train Set base_objective: 0.11362676811218261, Train Set accuracy: 1.0, Train Set nc_squared_error: 0.02931952476501465, Test Set nc_accuracy: 0.94, Test Set squared_error: 0.11420120239257812, group_sparsity: 0.716, \n",
      "Train Set objective: 0.11362676620483399, Train Set grad_norm: 2.81667855706047e-10, Train Set base_objective: 0.11362676620483399, Train Set accuracy: 1.0, Train Set nc_squared_error: 0.02931949996948242, Test Set nc_accuracy: 0.94, Test Set squared_error: 0.11420118713378906, group_sparsity: 0.716, \n",
      "Train Set objective: 0.11362677001953125, Train Set grad_norm: 2.820974009942745e-10, Train Set base_objective: 0.11362677001953125, Train Set accuracy: 1.0, Train Set nc_squared_error: 0.029319480895996095, Test Set nc_accuracy: 0.94, Test Set squared_error: 0.11420115661621094, group_sparsity: 0.716, \n",
      "Train Set objective: 0.11362677001953125, Train Set grad_norm: 2.830761181016328e-10, Train Set base_objective: 0.11362677001953125, Train Set accuracy: 1.0, Train Set nc_squared_error: 0.029319482803344725, Test Set nc_accuracy: 0.94, Test Set squared_error: 0.11420115661621094, group_sparsity: 0.716, \n"
     ]
    },
    {
     "name": "stdout",
     "output_type": "stream",
     "text": [
      "Train Set objective: 0.11362677001953125, Train Set grad_norm: 2.8413840724716977e-10, Train Set base_objective: 0.11362677001953125, Train Set accuracy: 1.0, Train Set nc_squared_error: 0.029319473266601562, Test Set nc_accuracy: 0.94, Test Set squared_error: 0.11420114898681641, group_sparsity: 0.716, \n",
      "Train Set objective: 0.11362676620483399, Train Set grad_norm: 2.8690688713695067e-10, Train Set base_objective: 0.11362676620483399, Train Set accuracy: 1.0, Train Set nc_squared_error: 0.02931941032409668, Test Set nc_accuracy: 0.94, Test Set squared_error: 0.11420109558105469, group_sparsity: 0.716, \n",
      "Train Set objective: 0.11362676239013672, Train Set grad_norm: 2.874718241230312e-10, Train Set base_objective: 0.11362676239013672, Train Set accuracy: 1.0, Train Set nc_squared_error: 0.029319393157958985, Test Set nc_accuracy: 0.94, Test Set squared_error: 0.11420108032226563, group_sparsity: 0.716, \n",
      "Train Set objective: 0.1136267738342285, Train Set grad_norm: 2.8833876952738535e-10, Train Set base_objective: 0.1136267738342285, Train Set accuracy: 1.0, Train Set nc_squared_error: 0.029319387435913086, Test Set nc_accuracy: 0.94, Test Set squared_error: 0.11420108032226563, group_sparsity: 0.716, \n",
      "Train Set objective: 0.11362677383422852, Train Set grad_norm: 2.903722817748644e-10, Train Set base_objective: 0.11362677383422852, Train Set accuracy: 1.0, Train Set nc_squared_error: 0.029319414138793944, Test Set nc_accuracy: 0.94, Test Set squared_error: 0.11420108795166016, group_sparsity: 0.716, \n",
      "Train Set objective: 0.11362677001953125, Train Set grad_norm: 2.9129190726173704e-10, Train Set base_objective: 0.11362677001953125, Train Set accuracy: 1.0, Train Set nc_squared_error: 0.02931942939758301, Test Set nc_accuracy: 0.94, Test Set squared_error: 0.1142010726928711, group_sparsity: 0.716, \n",
      "Train Set objective: 0.11362677001953125, Train Set grad_norm: 2.9270752488486096e-10, Train Set base_objective: 0.11362677001953125, Train Set accuracy: 1.0, Train Set nc_squared_error: 0.029319427490234376, Test Set nc_accuracy: 0.94, Test Set squared_error: 0.1142010498046875, group_sparsity: 0.716, \n",
      "Train Set objective: 0.11362677192687988, Train Set grad_norm: 2.9409719104478427e-10, Train Set base_objective: 0.11362677192687988, Train Set accuracy: 1.0, Train Set nc_squared_error: 0.029319454193115234, Test Set nc_accuracy: 0.94, Test Set squared_error: 0.11420105743408203, group_sparsity: 0.716, \n",
      "Train Set objective: 0.11362677383422852, Train Set grad_norm: 2.943334187488489e-10, Train Set base_objective: 0.11362677383422852, Train Set accuracy: 1.0, Train Set nc_squared_error: 0.029319469451904296, Test Set nc_accuracy: 0.94, Test Set squared_error: 0.11420106506347656, group_sparsity: 0.716, \n",
      "Train Set objective: 0.11362676620483399, Train Set grad_norm: 2.9512928212405143e-10, Train Set base_objective: 0.11362676620483399, Train Set accuracy: 1.0, Train Set nc_squared_error: 0.029319421768188476, Test Set nc_accuracy: 0.94, Test Set squared_error: 0.11420103454589844, group_sparsity: 0.716, \n",
      "Train Set objective: 0.11362677001953125, Train Set grad_norm: 2.964998524479512e-10, Train Set base_objective: 0.11362677001953125, Train Set accuracy: 1.0, Train Set nc_squared_error: 0.029319358825683595, Test Set nc_accuracy: 0.94, Test Set squared_error: 0.11420098876953125, group_sparsity: 0.716, \n",
      "Train Set objective: 0.1136267719268799, Train Set grad_norm: 2.9941693568957817e-10, Train Set base_objective: 0.1136267719268799, Train Set accuracy: 1.0, Train Set nc_squared_error: 0.029319345474243166, Test Set nc_accuracy: 0.94, Test Set squared_error: 0.11420095825195313, group_sparsity: 0.716, \n",
      "Train Set objective: 0.11362677383422852, Train Set grad_norm: 3.001093817900369e-10, Train Set base_objective: 0.11362677383422852, Train Set accuracy: 1.0, Train Set nc_squared_error: 0.029319347381591795, Test Set nc_accuracy: 0.94, Test Set squared_error: 0.11420097351074218, group_sparsity: 0.716, \n",
      "Train Set objective: 0.11362676811218261, Train Set grad_norm: 3.006673798822135e-10, Train Set base_objective: 0.11362676811218261, Train Set accuracy: 1.0, Train Set nc_squared_error: 0.02931939506530762, Test Set nc_accuracy: 0.94, Test Set squared_error: 0.11420098876953125, group_sparsity: 0.716, \n",
      "Train Set objective: 0.11362677383422852, Train Set grad_norm: 3.0264163397575317e-10, Train Set base_objective: 0.11362677383422852, Train Set accuracy: 1.0, Train Set nc_squared_error: 0.029319438934326172, Test Set nc_accuracy: 0.94, Test Set squared_error: 0.11420100402832031, group_sparsity: 0.716, \n",
      "Train Set objective: 0.11362677001953125, Train Set grad_norm: 3.0797292494000317e-10, Train Set base_objective: 0.11362677001953125, Train Set accuracy: 1.0, Train Set nc_squared_error: 0.029319557189941406, Test Set nc_accuracy: 0.94, Test Set squared_error: 0.1142010498046875, group_sparsity: 0.716, \n",
      "Train Set objective: 0.11362677764892579, Train Set grad_norm: 3.1052771465311935e-10, Train Set base_objective: 0.11362677764892579, Train Set accuracy: 1.0, Train Set nc_squared_error: 0.029319618225097658, Test Set nc_accuracy: 0.94, Test Set squared_error: 0.11420108032226563, group_sparsity: 0.716, \n",
      "Train Set objective: 0.11362677574157715, Train Set grad_norm: 3.1001570754973784e-10, Train Set base_objective: 0.11362677574157715, Train Set accuracy: 1.0, Train Set nc_squared_error: 0.02931952476501465, Test Set nc_accuracy: 0.94, Test Set squared_error: 0.11420100402832031, group_sparsity: 0.716, \n",
      "Train Set objective: 0.11362677001953125, Train Set grad_norm: 3.1066568761950464e-10, Train Set base_objective: 0.11362677001953125, Train Set accuracy: 1.0, Train Set nc_squared_error: 0.02931953430175781, Test Set nc_accuracy: 0.94, Test Set squared_error: 0.11420101165771485, group_sparsity: 0.716, \n",
      "Train Set objective: 0.11362677001953125, Train Set grad_norm: 3.1146685230964977e-10, Train Set base_objective: 0.11362677001953125, Train Set accuracy: 1.0, Train Set nc_squared_error: 0.029319549560546877, Test Set nc_accuracy: 0.94, Test Set squared_error: 0.11420101928710938, group_sparsity: 0.716, \n",
      "Train Set objective: 0.11362677001953125, Train Set grad_norm: 3.134701387352834e-10, Train Set base_objective: 0.11362677001953125, Train Set accuracy: 1.0, Train Set nc_squared_error: 0.02931958770751953, Test Set nc_accuracy: 0.94, Test Set squared_error: 0.1142010498046875, group_sparsity: 0.716, \n",
      "Train Set objective: 0.11362677574157715, Train Set grad_norm: 3.184458530203216e-10, Train Set base_objective: 0.11362677574157715, Train Set accuracy: 1.0, Train Set nc_squared_error: 0.029319631576538087, Test Set nc_accuracy: 0.94, Test Set squared_error: 0.1142010498046875, group_sparsity: 0.716, \n",
      "Train Set objective: 0.1136267719268799, Train Set grad_norm: 3.1980362802386253e-10, Train Set base_objective: 0.1136267719268799, Train Set accuracy: 1.0, Train Set nc_squared_error: 0.029319610595703125, Test Set nc_accuracy: 0.94, Test Set squared_error: 0.11420103454589844, group_sparsity: 0.716, \n",
      "Train Set objective: 0.1136267738342285, Train Set grad_norm: 3.218996735832036e-10, Train Set base_objective: 0.1136267738342285, Train Set accuracy: 1.0, Train Set nc_squared_error: 0.029319591522216797, Test Set nc_accuracy: 0.94, Test Set squared_error: 0.11420101165771485, group_sparsity: 0.716, \n",
      "Train Set objective: 0.1136267719268799, Train Set grad_norm: 3.2269945049456794e-10, Train Set base_objective: 0.1136267719268799, Train Set accuracy: 1.0, Train Set nc_squared_error: 0.029319543838500977, Test Set nc_accuracy: 0.94, Test Set squared_error: 0.11420098114013671, group_sparsity: 0.716, \n",
      "Train Set objective: 0.11362677383422852, Train Set grad_norm: 3.2343044908955676e-10, Train Set base_objective: 0.11362677383422852, Train Set accuracy: 1.0, Train Set nc_squared_error: 0.029319507598876953, Test Set nc_accuracy: 0.94, Test Set squared_error: 0.1142009506225586, group_sparsity: 0.716, \n",
      "Train Set objective: 0.11362677001953125, Train Set grad_norm: 3.2483343792577557e-10, Train Set base_objective: 0.11362677001953125, Train Set accuracy: 1.0, Train Set nc_squared_error: 0.029319488525390625, Test Set nc_accuracy: 0.94, Test Set squared_error: 0.1142009048461914, group_sparsity: 0.716, \n"
     ]
    },
    {
     "name": "stdout",
     "output_type": "stream",
     "text": [
      "Train Set objective: 0.11362677764892577, Train Set grad_norm: 3.262148051685898e-10, Train Set base_objective: 0.11362677764892577, Train Set accuracy: 1.0, Train Set nc_squared_error: 0.0293194637298584, Test Set nc_accuracy: 0.94, Test Set squared_error: 0.11420087432861328, group_sparsity: 0.716, \n",
      "Train Set objective: 0.11362677574157715, Train Set grad_norm: 3.264023773486002e-10, Train Set base_objective: 0.11362677574157715, Train Set accuracy: 1.0, Train Set nc_squared_error: 0.0293194580078125, Test Set nc_accuracy: 0.94, Test Set squared_error: 0.11420088195800782, group_sparsity: 0.716, \n",
      "Train Set objective: 0.11362677383422852, Train Set grad_norm: 3.2713781683568754e-10, Train Set base_objective: 0.11362677383422852, Train Set accuracy: 1.0, Train Set nc_squared_error: 0.029319416046142577, Test Set nc_accuracy: 0.94, Test Set squared_error: 0.11420085144042968, group_sparsity: 0.716, \n",
      "Train Set objective: 0.11362676620483399, Train Set grad_norm: 3.273566973049924e-10, Train Set base_objective: 0.11362676620483399, Train Set accuracy: 1.0, Train Set nc_squared_error: 0.029319334030151366, Test Set nc_accuracy: 0.94, Test Set squared_error: 0.1142008056640625, group_sparsity: 0.716, \n",
      "Train Set objective: 0.11362677383422852, Train Set grad_norm: 3.2888475276493523e-10, Train Set base_objective: 0.11362677383422852, Train Set accuracy: 1.0, Train Set nc_squared_error: 0.029319339752197266, Test Set nc_accuracy: 0.94, Test Set squared_error: 0.1142008056640625, group_sparsity: 0.716, \n",
      "Train Set objective: 0.1136267738342285, Train Set grad_norm: 3.299537865153468e-10, Train Set base_objective: 0.1136267738342285, Train Set accuracy: 1.0, Train Set nc_squared_error: 0.029319400787353515, Test Set nc_accuracy: 0.94, Test Set squared_error: 0.11420083618164062, group_sparsity: 0.716, \n",
      "Train Set objective: 0.1136267719268799, Train Set grad_norm: 3.310127727473855e-10, Train Set base_objective: 0.1136267719268799, Train Set accuracy: 1.0, Train Set nc_squared_error: 0.02931942939758301, Test Set nc_accuracy: 0.94, Test Set squared_error: 0.11420085144042968, group_sparsity: 0.716, \n",
      "Train Set objective: 0.11362677383422852, Train Set grad_norm: 3.322445096820559e-10, Train Set base_objective: 0.11362677383422852, Train Set accuracy: 1.0, Train Set nc_squared_error: 0.029319440841674805, Test Set nc_accuracy: 0.94, Test Set squared_error: 0.11420084381103515, group_sparsity: 0.716, \n",
      "Train Set objective: 0.1136267738342285, Train Set grad_norm: 3.3551353362248904e-10, Train Set base_objective: 0.1136267738342285, Train Set accuracy: 1.0, Train Set nc_squared_error: 0.029319530487060548, Test Set nc_accuracy: 0.94, Test Set squared_error: 0.11420089721679688, group_sparsity: 0.716, \n",
      "Train Set objective: 0.1136267719268799, Train Set grad_norm: 3.393494651948714e-10, Train Set base_objective: 0.1136267719268799, Train Set accuracy: 1.0, Train Set nc_squared_error: 0.029319566726684572, Test Set nc_accuracy: 0.94, Test Set squared_error: 0.114200927734375, group_sparsity: 0.716, \n",
      "Train Set objective: 0.11362677192687988, Train Set grad_norm: 3.397703507435068e-10, Train Set base_objective: 0.11362677192687988, Train Set accuracy: 1.0, Train Set nc_squared_error: 0.0293195743560791, Test Set nc_accuracy: 0.94, Test Set squared_error: 0.11420093536376953, group_sparsity: 0.716, \n",
      "Train Set objective: 0.11362677001953125, Train Set grad_norm: 3.4001298998553864e-10, Train Set base_objective: 0.11362677001953125, Train Set accuracy: 1.0, Train Set nc_squared_error: 0.029319635391235353, Test Set nc_accuracy: 0.94, Test Set squared_error: 0.11420097351074218, group_sparsity: 0.716, \n",
      "Train Set objective: 0.11362677764892579, Train Set grad_norm: 3.416077143381102e-10, Train Set base_objective: 0.11362677764892579, Train Set accuracy: 1.0, Train Set nc_squared_error: 0.02931963348388672, Test Set nc_accuracy: 0.94, Test Set squared_error: 0.11420095825195313, group_sparsity: 0.716, \n",
      "Train Set objective: 0.11362678146362304, Train Set grad_norm: 3.4504377133259823e-10, Train Set base_objective: 0.11362678146362304, Train Set accuracy: 1.0, Train Set nc_squared_error: 0.029319591522216797, Test Set nc_accuracy: 0.94, Test Set squared_error: 0.114200927734375, group_sparsity: 0.716, \n",
      "Train Set objective: 0.11362677383422852, Train Set grad_norm: 3.4745209487319073e-10, Train Set base_objective: 0.11362677383422852, Train Set accuracy: 1.0, Train Set nc_squared_error: 0.02931947708129883, Test Set nc_accuracy: 0.94, Test Set squared_error: 0.11420085144042968, group_sparsity: 0.716, \n",
      "Train Set objective: 0.1136267719268799, Train Set grad_norm: 3.487623245757021e-10, Train Set base_objective: 0.1136267719268799, Train Set accuracy: 1.0, Train Set nc_squared_error: 0.02931943130493164, Test Set nc_accuracy: 0.94, Test Set squared_error: 0.1142008056640625, group_sparsity: 0.716, \n",
      "Train Set objective: 0.11362677383422852, Train Set grad_norm: 3.493728362169435e-10, Train Set base_objective: 0.11362677383422852, Train Set accuracy: 1.0, Train Set nc_squared_error: 0.029319408416748047, Test Set nc_accuracy: 0.94, Test Set squared_error: 0.11420079040527344, group_sparsity: 0.716, \n",
      "Train Set objective: 0.1136267719268799, Train Set grad_norm: 3.524176783731292e-10, Train Set base_objective: 0.1136267719268799, Train Set accuracy: 1.0, Train Set nc_squared_error: 0.029319414138793944, Test Set nc_accuracy: 0.94, Test Set squared_error: 0.1142007827758789, group_sparsity: 0.716, \n",
      "Train Set objective: 0.11362677574157715, Train Set grad_norm: 3.5316966018328344e-10, Train Set base_objective: 0.11362677574157715, Train Set accuracy: 1.0, Train Set nc_squared_error: 0.029319496154785157, Test Set nc_accuracy: 0.94, Test Set squared_error: 0.11420082092285157, group_sparsity: 0.716, \n",
      "Train Set objective: 0.11362677574157715, Train Set grad_norm: 3.5409225551674695e-10, Train Set base_objective: 0.11362677574157715, Train Set accuracy: 1.0, Train Set nc_squared_error: 0.029319585800170897, Test Set nc_accuracy: 0.94, Test Set squared_error: 0.11420087432861328, group_sparsity: 0.716, \n",
      "Train Set objective: 0.11362677764892579, Train Set grad_norm: 3.555405692079461e-10, Train Set base_objective: 0.11362677764892579, Train Set accuracy: 1.0, Train Set nc_squared_error: 0.029319557189941406, Test Set nc_accuracy: 0.94, Test Set squared_error: 0.11420083618164062, group_sparsity: 0.716, \n",
      "Train Set objective: 0.11362677574157715, Train Set grad_norm: 3.566819894995632e-10, Train Set base_objective: 0.11362677574157715, Train Set accuracy: 1.0, Train Set nc_squared_error: 0.029319501876831053, Test Set nc_accuracy: 0.94, Test Set squared_error: 0.1142008056640625, group_sparsity: 0.716, \n",
      "Train Set objective: 0.11362677383422852, Train Set grad_norm: 3.5750541416135206e-10, Train Set base_objective: 0.11362677383422852, Train Set accuracy: 1.0, Train Set nc_squared_error: 0.02931947708129883, Test Set nc_accuracy: 0.94, Test Set squared_error: 0.11420079040527344, group_sparsity: 0.716, \n",
      "Train Set objective: 0.11362678527832032, Train Set grad_norm: 3.584612329188275e-10, Train Set base_objective: 0.11362678527832032, Train Set accuracy: 1.0, Train Set nc_squared_error: 0.029319549560546877, Test Set nc_accuracy: 0.94, Test Set squared_error: 0.11420082092285157, group_sparsity: 0.716, \n",
      "Train Set objective: 0.11362677764892579, Train Set grad_norm: 3.586429764279586e-10, Train Set base_objective: 0.11362677764892579, Train Set accuracy: 1.0, Train Set nc_squared_error: 0.029319541931152344, Test Set nc_accuracy: 0.94, Test Set squared_error: 0.11420079803466797, group_sparsity: 0.716, \n",
      "Train Set objective: 0.1136267719268799, Train Set grad_norm: 3.6024883076635206e-10, Train Set base_objective: 0.1136267719268799, Train Set accuracy: 1.0, Train Set nc_squared_error: 0.029319566726684572, Test Set nc_accuracy: 0.94, Test Set squared_error: 0.1142008056640625, group_sparsity: 0.716, \n",
      "Train Set objective: 0.11362677764892579, Train Set grad_norm: 3.6029146333049766e-10, Train Set base_objective: 0.11362677764892579, Train Set accuracy: 1.0, Train Set nc_squared_error: 0.029319541931152344, Test Set nc_accuracy: 0.94, Test Set squared_error: 0.11420079803466797, group_sparsity: 0.716, \n"
     ]
    },
    {
     "name": "stdout",
     "output_type": "stream",
     "text": [
      "Train Set objective: 0.11362677383422852, Train Set grad_norm: 3.6072958509159037e-10, Train Set base_objective: 0.11362677383422852, Train Set accuracy: 1.0, Train Set nc_squared_error: 0.029319561004638672, Test Set nc_accuracy: 0.94, Test Set squared_error: 0.11420079803466797, group_sparsity: 0.716, \n",
      "Train Set objective: 0.11362677764892577, Train Set grad_norm: 3.639160084389914e-10, Train Set base_objective: 0.11362677764892577, Train Set accuracy: 1.0, Train Set nc_squared_error: 0.029319671630859374, Test Set nc_accuracy: 0.94, Test Set squared_error: 0.11420088195800782, group_sparsity: 0.716, \n",
      "Train Set objective: 0.11362677383422852, Train Set grad_norm: 3.694322903147196e-10, Train Set base_objective: 0.11362677383422852, Train Set accuracy: 1.0, Train Set nc_squared_error: 0.029319889068603517, Test Set nc_accuracy: 0.94, Test Set squared_error: 0.11420106506347656, group_sparsity: 0.716, \n",
      "Train Set objective: 0.11362677955627441, Train Set grad_norm: 3.7016056886329807e-10, Train Set base_objective: 0.11362677955627441, Train Set accuracy: 1.0, Train Set nc_squared_error: 0.029319873809814455, Test Set nc_accuracy: 0.94, Test Set squared_error: 0.11420106506347656, group_sparsity: 0.716, \n",
      "Train Set objective: 0.11362677192687988, Train Set grad_norm: 3.716387475538596e-10, Train Set base_objective: 0.11362677192687988, Train Set accuracy: 1.0, Train Set nc_squared_error: 0.02931993293762207, Test Set nc_accuracy: 0.94, Test Set squared_error: 0.11420111083984374, group_sparsity: 0.716, \n",
      "Train Set objective: 0.11362677383422852, Train Set grad_norm: 3.734105247232833e-10, Train Set base_objective: 0.11362677383422852, Train Set accuracy: 1.0, Train Set nc_squared_error: 0.02932002830505371, Test Set nc_accuracy: 0.94, Test Set squared_error: 0.11420115661621094, group_sparsity: 0.716, \n",
      "Train Set objective: 0.11362678146362304, Train Set grad_norm: 3.752097244014152e-10, Train Set base_objective: 0.11362678146362304, Train Set accuracy: 1.0, Train Set nc_squared_error: 0.029320140838623047, Test Set nc_accuracy: 0.94, Test Set squared_error: 0.11420121765136719, group_sparsity: 0.716, \n",
      "Train Set objective: 0.11362677764892579, Train Set grad_norm: 3.766831568885465e-10, Train Set base_objective: 0.11362677764892579, Train Set accuracy: 1.0, Train Set nc_squared_error: 0.029320211410522462, Test Set nc_accuracy: 0.94, Test Set squared_error: 0.11420123291015626, group_sparsity: 0.716, \n",
      "Train Set objective: 0.11362677383422852, Train Set grad_norm: 3.7743413949797855e-10, Train Set base_objective: 0.11362677383422852, Train Set accuracy: 1.0, Train Set nc_squared_error: 0.029320178985595705, Test Set nc_accuracy: 0.94, Test Set squared_error: 0.11420121765136719, group_sparsity: 0.716, \n",
      "Train Set objective: 0.11362677574157715, Train Set grad_norm: 3.7762271087871113e-10, Train Set base_objective: 0.11362677574157715, Train Set accuracy: 1.0, Train Set nc_squared_error: 0.02932013702392578, Test Set nc_accuracy: 0.94, Test Set squared_error: 0.11420117950439453, group_sparsity: 0.716, \n",
      "Train Set objective: 0.11362677001953125, Train Set grad_norm: 3.7859662627148793e-10, Train Set base_objective: 0.11362677001953125, Train Set accuracy: 1.0, Train Set nc_squared_error: 0.029320106506347657, Test Set nc_accuracy: 0.94, Test Set squared_error: 0.11420115661621094, group_sparsity: 0.716, \n",
      "Train Set objective: 0.11362677955627443, Train Set grad_norm: 3.821909733137119e-10, Train Set base_objective: 0.11362677955627443, Train Set accuracy: 1.0, Train Set nc_squared_error: 0.02932017707824707, Test Set nc_accuracy: 0.94, Test Set squared_error: 0.11420118713378906, group_sparsity: 0.716, \n",
      "Train Set objective: 0.11362677574157715, Train Set grad_norm: 3.826898797854028e-10, Train Set base_objective: 0.11362677574157715, Train Set accuracy: 1.0, Train Set nc_squared_error: 0.029320167541503905, Test Set nc_accuracy: 0.94, Test Set squared_error: 0.11420118713378906, group_sparsity: 0.716, \n",
      "Train Set objective: 0.11362678146362304, Train Set grad_norm: 3.8366476662332616e-10, Train Set base_objective: 0.11362678146362304, Train Set accuracy: 1.0, Train Set nc_squared_error: 0.029320148468017577, Test Set nc_accuracy: 0.94, Test Set squared_error: 0.11420115661621094, group_sparsity: 0.716, \n",
      "Train Set objective: 0.11362677764892579, Train Set grad_norm: 3.850106622405036e-10, Train Set base_objective: 0.11362677764892579, Train Set accuracy: 1.0, Train Set nc_squared_error: 0.029320144653320314, Test Set nc_accuracy: 0.94, Test Set squared_error: 0.11420114898681641, group_sparsity: 0.716, \n",
      "Train Set objective: 0.11362677192687988, Train Set grad_norm: 3.858991182159599e-10, Train Set base_objective: 0.11362677192687988, Train Set accuracy: 1.0, Train Set nc_squared_error: 0.029320117950439453, Test Set nc_accuracy: 0.94, Test Set squared_error: 0.11420114135742188, group_sparsity: 0.716, \n",
      "Train Set objective: 0.11362677764892577, Train Set grad_norm: 3.878511678490071e-10, Train Set base_objective: 0.11362677764892577, Train Set accuracy: 1.0, Train Set nc_squared_error: 0.029320083618164062, Test Set nc_accuracy: 0.94, Test Set squared_error: 0.11420111083984374, group_sparsity: 0.716, \n",
      "Train Set objective: 0.11362677955627441, Train Set grad_norm: 3.892587918663537e-10, Train Set base_objective: 0.11362677955627441, Train Set accuracy: 1.0, Train Set nc_squared_error: 0.02932004928588867, Test Set nc_accuracy: 0.94, Test Set squared_error: 0.11420108032226563, group_sparsity: 0.716, \n",
      "Train Set objective: 0.11362677001953125, Train Set grad_norm: 3.902625722584929e-10, Train Set base_objective: 0.11362677001953125, Train Set accuracy: 1.0, Train Set nc_squared_error: 0.029320022583007813, Test Set nc_accuracy: 0.94, Test Set squared_error: 0.11420106506347656, group_sparsity: 0.716, \n",
      "Train Set objective: 0.11362677955627443, Train Set grad_norm: 3.921668823014812e-10, Train Set base_objective: 0.11362677955627443, Train Set accuracy: 1.0, Train Set nc_squared_error: 0.02932002639770508, Test Set nc_accuracy: 0.94, Test Set squared_error: 0.11420106506347656, group_sparsity: 0.716, \n",
      "Train Set objective: 0.1136267738342285, Train Set grad_norm: 3.9364961290644374e-10, Train Set base_objective: 0.1136267738342285, Train Set accuracy: 1.0, Train Set nc_squared_error: 0.029320011138916014, Test Set nc_accuracy: 0.94, Test Set squared_error: 0.1142010498046875, group_sparsity: 0.716, \n",
      "Train Set objective: 0.11362677383422852, Train Set grad_norm: 3.9530284601241306e-10, Train Set base_objective: 0.11362677383422852, Train Set accuracy: 1.0, Train Set nc_squared_error: 0.029319969177246094, Test Set nc_accuracy: 0.94, Test Set squared_error: 0.11420102691650391, group_sparsity: 0.716, \n",
      "Train Set objective: 0.11362678146362305, Train Set grad_norm: 3.964524541988368e-10, Train Set base_objective: 0.11362678146362305, Train Set accuracy: 1.0, Train Set nc_squared_error: 0.0293199577331543, Test Set nc_accuracy: 0.94, Test Set squared_error: 0.11420102691650391, group_sparsity: 0.716, \n",
      "Train Set objective: 0.11362677764892579, Train Set grad_norm: 3.974542361895317e-10, Train Set base_objective: 0.11362677764892579, Train Set accuracy: 1.0, Train Set nc_squared_error: 0.029319931030273437, Test Set nc_accuracy: 0.94, Test Set squared_error: 0.11420101165771485, group_sparsity: 0.716, \n",
      "Train Set objective: 0.11362677001953125, Train Set grad_norm: 3.9766606674263016e-10, Train Set base_objective: 0.11362677001953125, Train Set accuracy: 1.0, Train Set nc_squared_error: 0.029319915771484375, Test Set nc_accuracy: 0.94, Test Set squared_error: 0.11420098876953125, group_sparsity: 0.716, \n",
      "Train Set objective: 0.11362677383422852, Train Set grad_norm: 3.983795238138299e-10, Train Set base_objective: 0.11362677383422852, Train Set accuracy: 1.0, Train Set nc_squared_error: 0.029319896697998046, Test Set nc_accuracy: 0.94, Test Set squared_error: 0.11420097351074218, group_sparsity: 0.716, \n",
      "Train Set objective: 0.11362677764892579, Train Set grad_norm: 3.993020913917178e-10, Train Set base_objective: 0.11362677764892579, Train Set accuracy: 1.0, Train Set nc_squared_error: 0.02931993865966797, Test Set nc_accuracy: 0.94, Test Set squared_error: 0.11420100402832031, group_sparsity: 0.716, \n"
     ]
    },
    {
     "name": "stdout",
     "output_type": "stream",
     "text": [
      "Train Set objective: 0.11362677574157715, Train Set grad_norm: 4.023871791325462e-10, Train Set base_objective: 0.11362677574157715, Train Set accuracy: 1.0, Train Set nc_squared_error: 0.029319942474365233, Test Set nc_accuracy: 0.94, Test Set squared_error: 0.11420098876953125, group_sparsity: 0.716, \n",
      "Train Set objective: 0.11362677955627441, Train Set grad_norm: 3.97228916426684e-10, Train Set base_objective: 0.11362677955627441, Train Set accuracy: 1.0, Train Set nc_squared_error: 0.029319988250732423, Test Set nc_accuracy: 0.94, Test Set squared_error: 0.11420103454589844, group_sparsity: 0.716, \n",
      "Train Set objective: 0.11362677001953125, Train Set grad_norm: 3.934129966243205e-10, Train Set base_objective: 0.11362677001953125, Train Set accuracy: 1.0, Train Set nc_squared_error: 0.029320098876953124, Test Set nc_accuracy: 0.94, Test Set squared_error: 0.11420111083984374, group_sparsity: 0.716, \n",
      "Train Set objective: 0.11362677574157715, Train Set grad_norm: 3.95700583410985e-10, Train Set base_objective: 0.11362677574157715, Train Set accuracy: 1.0, Train Set nc_squared_error: 0.02932014274597168, Test Set nc_accuracy: 0.94, Test Set squared_error: 0.11420112609863281, group_sparsity: 0.716, \n",
      "Train Set objective: 0.11362677574157715, Train Set grad_norm: 3.971077633391218e-10, Train Set base_objective: 0.11362677574157715, Train Set accuracy: 1.0, Train Set nc_squared_error: 0.029320104598999024, Test Set nc_accuracy: 0.94, Test Set squared_error: 0.11420109558105469, group_sparsity: 0.716, \n",
      "Train Set objective: 0.11362677383422852, Train Set grad_norm: 3.9804576301705197e-10, Train Set base_objective: 0.11362677383422852, Train Set accuracy: 1.0, Train Set nc_squared_error: 0.029320087432861328, Test Set nc_accuracy: 0.94, Test Set squared_error: 0.11420108795166016, group_sparsity: 0.716, \n",
      "Train Set objective: 0.11362677383422852, Train Set grad_norm: 3.9960904030245104e-10, Train Set base_objective: 0.11362677383422852, Train Set accuracy: 1.0, Train Set nc_squared_error: 0.029320083618164062, Test Set nc_accuracy: 0.94, Test Set squared_error: 0.11420108032226563, group_sparsity: 0.716, \n",
      "Train Set objective: 0.11362678527832032, Train Set grad_norm: 4.0130651579595167e-10, Train Set base_objective: 0.11362678527832032, Train Set accuracy: 1.0, Train Set nc_squared_error: 0.029320066452026367, Test Set nc_accuracy: 0.94, Test Set squared_error: 0.1142010498046875, group_sparsity: 0.716, \n",
      "Train Set objective: 0.11362677955627443, Train Set grad_norm: 4.020247468261573e-10, Train Set base_objective: 0.11362677955627443, Train Set accuracy: 1.0, Train Set nc_squared_error: 0.029320030212402343, Test Set nc_accuracy: 0.94, Test Set squared_error: 0.11420102691650391, group_sparsity: 0.716, \n",
      "Train Set objective: 0.11362677764892579, Train Set grad_norm: 4.030018541101299e-10, Train Set base_objective: 0.11362677764892579, Train Set accuracy: 1.0, Train Set nc_squared_error: 0.029320032119750976, Test Set nc_accuracy: 0.94, Test Set squared_error: 0.11420101928710938, group_sparsity: 0.716, \n",
      "Train Set objective: 0.11362677383422852, Train Set grad_norm: 4.055879798681161e-10, Train Set base_objective: 0.11362677383422852, Train Set accuracy: 1.0, Train Set nc_squared_error: 0.02932010269165039, Test Set nc_accuracy: 0.94, Test Set squared_error: 0.11420106506347656, group_sparsity: 0.716, \n",
      "Train Set objective: 0.11362677574157715, Train Set grad_norm: 4.064393266389743e-10, Train Set base_objective: 0.11362677574157715, Train Set accuracy: 1.0, Train Set nc_squared_error: 0.029320119857788086, Test Set nc_accuracy: 0.94, Test Set squared_error: 0.11420106506347656, group_sparsity: 0.716, \n",
      "Train Set objective: 0.11362677955627443, Train Set grad_norm: 4.073393011783111e-10, Train Set base_objective: 0.11362677955627443, Train Set accuracy: 1.0, Train Set nc_squared_error: 0.029320106506347657, Test Set nc_accuracy: 0.94, Test Set squared_error: 0.11420105743408203, group_sparsity: 0.716, \n",
      "Train Set objective: 0.11362677955627441, Train Set grad_norm: 4.078461457446281e-10, Train Set base_objective: 0.11362677955627441, Train Set accuracy: 1.0, Train Set nc_squared_error: 0.029320047378540038, Test Set nc_accuracy: 0.94, Test Set squared_error: 0.11420100402832031, group_sparsity: 0.716, \n",
      "Train Set objective: 0.11362678146362304, Train Set grad_norm: 4.0913575305445704e-10, Train Set base_objective: 0.11362678146362304, Train Set accuracy: 1.0, Train Set nc_squared_error: 0.029320003509521485, Test Set nc_accuracy: 0.94, Test Set squared_error: 0.11420096588134766, group_sparsity: 0.716, \n",
      "Train Set objective: 0.11362677955627441, Train Set grad_norm: 4.0968933801011076e-10, Train Set base_objective: 0.11362677955627441, Train Set accuracy: 1.0, Train Set nc_squared_error: 0.02932004928588867, Test Set nc_accuracy: 0.94, Test Set squared_error: 0.11420098114013671, group_sparsity: 0.716, \n",
      "Train Set objective: 0.11362677764892577, Train Set grad_norm: 4.112992446625441e-10, Train Set base_objective: 0.11362677764892577, Train Set accuracy: 1.0, Train Set nc_squared_error: 0.0293199462890625, Test Set nc_accuracy: 0.94, Test Set squared_error: 0.114200927734375, group_sparsity: 0.716, \n",
      "Train Set objective: 0.11362677764892579, Train Set grad_norm: 4.1171988041099894e-10, Train Set base_objective: 0.11362677764892579, Train Set accuracy: 1.0, Train Set nc_squared_error: 0.029319915771484375, Test Set nc_accuracy: 0.94, Test Set squared_error: 0.11420091247558593, group_sparsity: 0.716, \n",
      "Train Set objective: 0.11362677383422852, Train Set grad_norm: 4.1275971529586286e-10, Train Set base_objective: 0.11362677383422852, Train Set accuracy: 1.0, Train Set nc_squared_error: 0.029319887161254884, Test Set nc_accuracy: 0.94, Test Set squared_error: 0.11420089721679688, group_sparsity: 0.716, \n",
      "Train Set objective: 0.11362678146362305, Train Set grad_norm: 4.144496967839473e-10, Train Set base_objective: 0.11362678146362305, Train Set accuracy: 1.0, Train Set nc_squared_error: 0.029319965362548828, Test Set nc_accuracy: 0.94, Test Set squared_error: 0.1142009506225586, group_sparsity: 0.716, \n",
      "Train Set objective: 0.11362678146362304, Train Set grad_norm: 4.156659183518485e-10, Train Set base_objective: 0.11362678146362304, Train Set accuracy: 1.0, Train Set nc_squared_error: 0.029320022583007813, Test Set nc_accuracy: 0.94, Test Set squared_error: 0.11420098876953125, group_sparsity: 0.716, \n",
      "Train Set objective: 0.11362678527832032, Train Set grad_norm: 4.1710015996621053e-10, Train Set base_objective: 0.11362678527832032, Train Set accuracy: 1.0, Train Set nc_squared_error: 0.02931999397277832, Test Set nc_accuracy: 0.94, Test Set squared_error: 0.11420095825195313, group_sparsity: 0.716, \n",
      "Train Set objective: 0.11362677764892579, Train Set grad_norm: 4.1812794893125727e-10, Train Set base_objective: 0.11362677764892579, Train Set accuracy: 1.0, Train Set nc_squared_error: 0.029319997787475585, Test Set nc_accuracy: 0.94, Test Set squared_error: 0.11420095825195313, group_sparsity: 0.716, \n",
      "Train Set objective: 0.11362678337097168, Train Set grad_norm: 4.1932060601546084e-10, Train Set base_objective: 0.11362678337097168, Train Set accuracy: 1.0, Train Set nc_squared_error: 0.029320005416870118, Test Set nc_accuracy: 0.94, Test Set squared_error: 0.11420095825195313, group_sparsity: 0.716, \n",
      "Train Set objective: 0.11362678718566895, Train Set grad_norm: 4.2023276525249287e-10, Train Set base_objective: 0.11362678718566895, Train Set accuracy: 1.0, Train Set nc_squared_error: 0.029320053100585938, Test Set nc_accuracy: 0.94, Test Set squared_error: 0.11420100402832031, group_sparsity: 0.716, \n",
      "Train Set objective: 0.11362677764892577, Train Set grad_norm: 4.20642187748399e-10, Train Set base_objective: 0.11362677764892577, Train Set accuracy: 1.0, Train Set nc_squared_error: 0.02932001495361328, Test Set nc_accuracy: 0.94, Test Set squared_error: 0.11420097351074218, group_sparsity: 0.716, \n",
      "Train Set objective: 0.11362678146362305, Train Set grad_norm: 4.2156161894624233e-10, Train Set base_objective: 0.11362678146362305, Train Set accuracy: 1.0, Train Set nc_squared_error: 0.0293199577331543, Test Set nc_accuracy: 0.94, Test Set squared_error: 0.114200927734375, group_sparsity: 0.716, \n"
     ]
    },
    {
     "name": "stdout",
     "output_type": "stream",
     "text": [
      "Train Set objective: 0.11362677383422852, Train Set grad_norm: 4.247770191145861e-10, Train Set base_objective: 0.11362677383422852, Train Set accuracy: 1.0, Train Set nc_squared_error: 0.02931985092163086, Test Set nc_accuracy: 0.94, Test Set squared_error: 0.11420082092285157, group_sparsity: 0.716, \n",
      "Train Set objective: 0.11362677383422852, Train Set grad_norm: 4.2541678513252634e-10, Train Set base_objective: 0.11362677383422852, Train Set accuracy: 1.0, Train Set nc_squared_error: 0.02931978225708008, Test Set nc_accuracy: 0.94, Test Set squared_error: 0.11420077514648437, group_sparsity: 0.716, \n",
      "Train Set objective: 0.11362678146362304, Train Set grad_norm: 4.267145803371619e-10, Train Set base_objective: 0.11362678146362304, Train Set accuracy: 1.0, Train Set nc_squared_error: 0.029319736480712892, Test Set nc_accuracy: 0.94, Test Set squared_error: 0.11420074462890625, group_sparsity: 0.716, \n",
      "Train Set objective: 0.1136267852783203, Train Set grad_norm: 4.273753573258432e-10, Train Set base_objective: 0.1136267852783203, Train Set accuracy: 1.0, Train Set nc_squared_error: 0.029319747924804688, Test Set nc_accuracy: 0.94, Test Set squared_error: 0.11420074462890625, group_sparsity: 0.716, \n",
      "Train Set objective: 0.11362678718566895, Train Set grad_norm: 4.2815934131468225e-10, Train Set base_objective: 0.11362678718566895, Train Set accuracy: 1.0, Train Set nc_squared_error: 0.029319732666015626, Test Set nc_accuracy: 0.94, Test Set squared_error: 0.11420073699951172, group_sparsity: 0.716, \n",
      "Train Set objective: 0.11362678337097168, Train Set grad_norm: 4.289939514734442e-10, Train Set base_objective: 0.11362678337097168, Train Set accuracy: 1.0, Train Set nc_squared_error: 0.029319671630859374, Test Set nc_accuracy: 0.94, Test Set squared_error: 0.11420069885253906, group_sparsity: 0.716, \n",
      "Train Set objective: 0.11362678527832032, Train Set grad_norm: 4.3126863191744746e-10, Train Set base_objective: 0.11362678527832032, Train Set accuracy: 1.0, Train Set nc_squared_error: 0.02931964111328125, Test Set nc_accuracy: 0.94, Test Set squared_error: 0.1142006607055664, group_sparsity: 0.716, \n",
      "Train Set objective: 0.11362677955627441, Train Set grad_norm: 4.312559198638155e-10, Train Set base_objective: 0.11362677955627441, Train Set accuracy: 1.0, Train Set nc_squared_error: 0.029319589614868163, Test Set nc_accuracy: 0.94, Test Set squared_error: 0.11420061492919922, group_sparsity: 0.716, \n",
      "Train Set objective: 0.11362678337097168, Train Set grad_norm: 4.321339119872647e-10, Train Set base_objective: 0.11362678337097168, Train Set accuracy: 1.0, Train Set nc_squared_error: 0.02931956481933594, Test Set nc_accuracy: 0.94, Test Set squared_error: 0.11420059204101562, group_sparsity: 0.716, \n",
      "Train Set objective: 0.11362677955627441, Train Set grad_norm: 4.337045722557775e-10, Train Set base_objective: 0.11362677955627441, Train Set accuracy: 1.0, Train Set nc_squared_error: 0.029319538116455077, Test Set nc_accuracy: 0.94, Test Set squared_error: 0.11420053863525391, group_sparsity: 0.716, \n",
      "Train Set objective: 0.11362678337097168, Train Set grad_norm: 4.351916882416873e-10, Train Set base_objective: 0.11362678337097168, Train Set accuracy: 1.0, Train Set nc_squared_error: 0.029319501876831053, Test Set nc_accuracy: 0.94, Test Set squared_error: 0.11420051574707031, group_sparsity: 0.716, \n",
      "Train Set objective: 0.11362677955627443, Train Set grad_norm: 4.360473093711903e-10, Train Set base_objective: 0.11362677955627443, Train Set accuracy: 1.0, Train Set nc_squared_error: 0.029319484710693358, Test Set nc_accuracy: 0.94, Test Set squared_error: 0.11420049285888671, group_sparsity: 0.716, \n",
      "Train Set objective: 0.11362678527832032, Train Set grad_norm: 4.3687264916769664e-10, Train Set base_objective: 0.11362678527832032, Train Set accuracy: 1.0, Train Set nc_squared_error: 0.029319480895996095, Test Set nc_accuracy: 0.94, Test Set squared_error: 0.1142004852294922, group_sparsity: 0.716, \n",
      "Train Set objective: 0.11362678337097168, Train Set grad_norm: 4.4049408565172143e-10, Train Set base_objective: 0.11362678337097168, Train Set accuracy: 1.0, Train Set nc_squared_error: 0.029319446563720705, Test Set nc_accuracy: 0.94, Test Set squared_error: 0.11420045471191406, group_sparsity: 0.716, \n",
      "Train Set objective: 0.11362677764892579, Train Set grad_norm: 4.4184769731892004e-10, Train Set base_objective: 0.11362677764892579, Train Set accuracy: 1.0, Train Set nc_squared_error: 0.029319442749023438, Test Set nc_accuracy: 0.94, Test Set squared_error: 0.114200439453125, group_sparsity: 0.716, \n",
      "Train Set objective: 0.11362677001953125, Train Set grad_norm: 4.4292838841109017e-10, Train Set base_objective: 0.11362677001953125, Train Set accuracy: 1.0, Train Set nc_squared_error: 0.029319446563720705, Test Set nc_accuracy: 0.94, Test Set squared_error: 0.11420041656494141, group_sparsity: 0.716, \n",
      "Train Set objective: 0.11362678146362305, Train Set grad_norm: 4.435444789230303e-10, Train Set base_objective: 0.11362678146362305, Train Set accuracy: 1.0, Train Set nc_squared_error: 0.02931948661804199, Test Set nc_accuracy: 0.94, Test Set squared_error: 0.114200439453125, group_sparsity: 0.716, \n",
      "Train Set objective: 0.11362677764892577, Train Set grad_norm: 4.458158842091109e-10, Train Set base_objective: 0.11362677764892577, Train Set accuracy: 1.0, Train Set nc_squared_error: 0.029319467544555663, Test Set nc_accuracy: 0.94, Test Set squared_error: 0.11420045471191406, group_sparsity: 0.716, \n",
      "Train Set objective: 0.11362678527832032, Train Set grad_norm: 4.470178394111457e-10, Train Set base_objective: 0.11362678527832032, Train Set accuracy: 1.0, Train Set nc_squared_error: 0.029319442749023438, Test Set nc_accuracy: 0.94, Test Set squared_error: 0.11420042419433593, group_sparsity: 0.716, \n",
      "Train Set objective: 0.11362678146362305, Train Set grad_norm: 4.4813938671062203e-10, Train Set base_objective: 0.11362678146362305, Train Set accuracy: 1.0, Train Set nc_squared_error: 0.02931948661804199, Test Set nc_accuracy: 0.94, Test Set squared_error: 0.11420046997070313, group_sparsity: 0.716, \n",
      "Train Set objective: 0.11362677764892579, Train Set grad_norm: 4.4963227585625987e-10, Train Set base_objective: 0.11362677764892579, Train Set accuracy: 1.0, Train Set nc_squared_error: 0.029319488525390625, Test Set nc_accuracy: 0.94, Test Set squared_error: 0.1142004852294922, group_sparsity: 0.716, \n",
      "Train Set objective: 0.11362677764892579, Train Set grad_norm: 4.505991690884059e-10, Train Set base_objective: 0.11362677764892579, Train Set accuracy: 1.0, Train Set nc_squared_error: 0.029319473266601562, Test Set nc_accuracy: 0.94, Test Set squared_error: 0.11420045471191406, group_sparsity: 0.716, \n",
      "Train Set objective: 0.11362677764892577, Train Set grad_norm: 4.5188106034821374e-10, Train Set base_objective: 0.11362677764892577, Train Set accuracy: 1.0, Train Set nc_squared_error: 0.02931946563720703, Test Set nc_accuracy: 0.94, Test Set squared_error: 0.114200439453125, group_sparsity: 0.716, \n",
      "Train Set objective: 0.11362678527832032, Train Set grad_norm: 4.561488964327509e-10, Train Set base_objective: 0.11362678527832032, Train Set accuracy: 1.0, Train Set nc_squared_error: 0.02931950569152832, Test Set nc_accuracy: 0.94, Test Set squared_error: 0.11420046997070313, group_sparsity: 0.716, \n",
      "Train Set objective: 0.11362678146362305, Train Set grad_norm: 4.607676740153721e-10, Train Set base_objective: 0.11362678146362305, Train Set accuracy: 1.0, Train Set nc_squared_error: 0.029319561004638672, Test Set nc_accuracy: 0.94, Test Set squared_error: 0.11420050048828125, group_sparsity: 0.716, \n",
      "Train Set objective: 0.11362677574157715, Train Set grad_norm: 4.6303841316763794e-10, Train Set base_objective: 0.11362677574157715, Train Set accuracy: 1.0, Train Set nc_squared_error: 0.02931952476501465, Test Set nc_accuracy: 0.94, Test Set squared_error: 0.11420046997070313, group_sparsity: 0.716, \n",
      "Train Set objective: 0.11362678146362304, Train Set grad_norm: 4.660884456164638e-10, Train Set base_objective: 0.11362678146362304, Train Set accuracy: 1.0, Train Set nc_squared_error: 0.029319538116455077, Test Set nc_accuracy: 0.94, Test Set squared_error: 0.11420046997070313, group_sparsity: 0.716, \n"
     ]
    },
    {
     "name": "stdout",
     "output_type": "stream",
     "text": [
      "Train Set objective: 0.11362678527832032, Train Set grad_norm: 4.669253872435775e-10, Train Set base_objective: 0.11362678527832032, Train Set accuracy: 1.0, Train Set nc_squared_error: 0.02931958770751953, Test Set nc_accuracy: 0.94, Test Set squared_error: 0.11420049285888671, group_sparsity: 0.716, \n",
      "Train Set objective: 0.11362678337097169, Train Set grad_norm: 4.680494325448592e-10, Train Set base_objective: 0.11362678337097169, Train Set accuracy: 1.0, Train Set nc_squared_error: 0.029319618225097658, Test Set nc_accuracy: 0.94, Test Set squared_error: 0.11420051574707031, group_sparsity: 0.716, \n",
      "Train Set objective: 0.11362678146362304, Train Set grad_norm: 4.69583483209135e-10, Train Set base_objective: 0.11362678146362304, Train Set accuracy: 1.0, Train Set nc_squared_error: 0.02931959915161133, Test Set nc_accuracy: 0.94, Test Set squared_error: 0.11420050811767578, group_sparsity: 0.716, \n",
      "Train Set objective: 0.1136267852783203, Train Set grad_norm: 4.7069415032297e-10, Train Set base_objective: 0.1136267852783203, Train Set accuracy: 1.0, Train Set nc_squared_error: 0.029319602966308592, Test Set nc_accuracy: 0.94, Test Set squared_error: 0.11420050048828125, group_sparsity: 0.716, \n",
      "Train Set objective: 0.11362678337097168, Train Set grad_norm: 4.716760870770997e-10, Train Set base_objective: 0.11362678337097168, Train Set accuracy: 1.0, Train Set nc_squared_error: 0.029319639205932616, Test Set nc_accuracy: 0.94, Test Set squared_error: 0.11420053100585938, group_sparsity: 0.716, \n",
      "Train Set objective: 0.11362678527832032, Train Set grad_norm: 4.736508407710005e-10, Train Set base_objective: 0.11362678527832032, Train Set accuracy: 1.0, Train Set nc_squared_error: 0.029319648742675782, Test Set nc_accuracy: 0.94, Test Set squared_error: 0.11420054626464844, group_sparsity: 0.716, \n",
      "Train Set objective: 0.11362678146362305, Train Set grad_norm: 4.755482119200849e-10, Train Set base_objective: 0.11362678146362305, Train Set accuracy: 1.0, Train Set nc_squared_error: 0.02931961441040039, Test Set nc_accuracy: 0.94, Test Set squared_error: 0.11420051574707031, group_sparsity: 0.716, \n",
      "Train Set objective: 0.11362678527832032, Train Set grad_norm: 4.763979211119818e-10, Train Set base_objective: 0.11362678527832032, Train Set accuracy: 1.0, Train Set nc_squared_error: 0.02931958770751953, Test Set nc_accuracy: 0.94, Test Set squared_error: 0.11420050048828125, group_sparsity: 0.716, \n",
      "Train Set objective: 0.11362677764892579, Train Set grad_norm: 4.771142925186211e-10, Train Set base_objective: 0.11362677764892579, Train Set accuracy: 1.0, Train Set nc_squared_error: 0.02931963348388672, Test Set nc_accuracy: 0.94, Test Set squared_error: 0.11420051574707031, group_sparsity: 0.716, \n",
      "Train Set objective: 0.11362678527832032, Train Set grad_norm: 4.754222016067899e-10, Train Set base_objective: 0.11362678527832032, Train Set accuracy: 1.0, Train Set nc_squared_error: 0.029319717407226564, Test Set nc_accuracy: 0.94, Test Set squared_error: 0.11420057678222656, group_sparsity: 0.716, \n",
      "Train Set objective: 0.11362678527832032, Train Set grad_norm: 4.768364592067087e-10, Train Set base_objective: 0.11362678527832032, Train Set accuracy: 1.0, Train Set nc_squared_error: 0.02931969451904297, Test Set nc_accuracy: 0.94, Test Set squared_error: 0.11420054626464844, group_sparsity: 0.716, \n",
      "Train Set objective: 0.11362677955627443, Train Set grad_norm: 4.781161577760429e-10, Train Set base_objective: 0.11362677955627443, Train Set accuracy: 1.0, Train Set nc_squared_error: 0.029319765090942383, Test Set nc_accuracy: 0.94, Test Set squared_error: 0.11420059967041016, group_sparsity: 0.716, \n",
      "Train Set objective: 0.11362678527832032, Train Set grad_norm: 4.78640183043666e-10, Train Set base_objective: 0.11362678527832032, Train Set accuracy: 1.0, Train Set nc_squared_error: 0.029319786071777345, Test Set nc_accuracy: 0.94, Test Set squared_error: 0.11420061492919922, group_sparsity: 0.716, \n",
      "Train Set objective: 0.11362678146362304, Train Set grad_norm: 4.808931586275378e-10, Train Set base_objective: 0.11362678146362304, Train Set accuracy: 1.0, Train Set nc_squared_error: 0.029319805145263673, Test Set nc_accuracy: 0.94, Test Set squared_error: 0.11420062255859376, group_sparsity: 0.716, \n",
      "Train Set objective: 0.11362678718566896, Train Set grad_norm: 4.816704257670779e-10, Train Set base_objective: 0.11362678718566896, Train Set accuracy: 1.0, Train Set nc_squared_error: 0.029319833755493165, Test Set nc_accuracy: 0.94, Test Set squared_error: 0.11420061492919922, group_sparsity: 0.716, \n",
      "Train Set objective: 0.11362678527832032, Train Set grad_norm: 4.837925615674976e-10, Train Set base_objective: 0.11362678527832032, Train Set accuracy: 1.0, Train Set nc_squared_error: 0.02931993865966797, Test Set nc_accuracy: 0.94, Test Set squared_error: 0.11420063781738281, group_sparsity: 0.716, \n",
      "Train Set objective: 0.11362678527832032, Train Set grad_norm: 4.860796765093767e-10, Train Set base_objective: 0.11362678527832032, Train Set accuracy: 1.0, Train Set nc_squared_error: 0.02931996154785156, Test Set nc_accuracy: 0.94, Test Set squared_error: 0.11420060729980469, group_sparsity: 0.716, \n",
      "Train Set objective: 0.11362678146362304, Train Set grad_norm: 4.878977222233516e-10, Train Set base_objective: 0.11362678146362304, Train Set accuracy: 1.0, Train Set nc_squared_error: 0.029319942474365233, Test Set nc_accuracy: 0.94, Test Set squared_error: 0.11420060729980469, group_sparsity: 0.716, \n",
      "Train Set objective: 0.11362678718566896, Train Set grad_norm: 4.89970564121478e-10, Train Set base_objective: 0.11362678718566896, Train Set accuracy: 1.0, Train Set nc_squared_error: 0.029319969177246094, Test Set nc_accuracy: 0.94, Test Set squared_error: 0.11420060729980469, group_sparsity: 0.716, \n",
      "Train Set objective: 0.11362678527832032, Train Set grad_norm: 4.936830388935221e-10, Train Set base_objective: 0.11362678527832032, Train Set accuracy: 1.0, Train Set nc_squared_error: 0.029319900512695313, Test Set nc_accuracy: 0.94, Test Set squared_error: 0.1142005615234375, group_sparsity: 0.716, \n",
      "Train Set objective: 0.11362678909301757, Train Set grad_norm: 4.910579720629471e-10, Train Set base_objective: 0.11362678909301757, Train Set accuracy: 1.0, Train Set nc_squared_error: 0.02931993865966797, Test Set nc_accuracy: 0.94, Test Set squared_error: 0.11420056915283203, group_sparsity: 0.716, \n",
      "Train Set objective: 0.11362678718566895, Train Set grad_norm: 4.897132699355211e-10, Train Set base_objective: 0.11362678718566895, Train Set accuracy: 1.0, Train Set nc_squared_error: 0.029319942474365233, Test Set nc_accuracy: 0.94, Test Set squared_error: 0.11420058441162109, group_sparsity: 0.716, \n",
      "Train Set objective: 0.11362678527832032, Train Set grad_norm: 4.926145047434716e-10, Train Set base_objective: 0.11362678527832032, Train Set accuracy: 1.0, Train Set nc_squared_error: 0.029319915771484375, Test Set nc_accuracy: 0.94, Test Set squared_error: 0.1142005615234375, group_sparsity: 0.716, \n",
      "Train Set objective: 0.11362678718566895, Train Set grad_norm: 4.935019615182057e-10, Train Set base_objective: 0.11362678718566895, Train Set accuracy: 1.0, Train Set nc_squared_error: 0.029319995880126952, Test Set nc_accuracy: 0.94, Test Set squared_error: 0.11420060729980469, group_sparsity: 0.716, \n",
      "Train Set objective: 0.11362678909301759, Train Set grad_norm: 4.949230469897259e-10, Train Set base_objective: 0.11362678909301759, Train Set accuracy: 1.0, Train Set nc_squared_error: 0.029320117950439453, Test Set nc_accuracy: 0.94, Test Set squared_error: 0.11420065307617187, group_sparsity: 0.716, \n",
      "Train Set objective: 0.11362678527832032, Train Set grad_norm: 4.960010180354857e-10, Train Set base_objective: 0.11362678527832032, Train Set accuracy: 1.0, Train Set nc_squared_error: 0.029320098876953124, Test Set nc_accuracy: 0.94, Test Set squared_error: 0.11420065307617187, group_sparsity: 0.716, \n",
      "Train Set objective: 0.11362678909301757, Train Set grad_norm: 4.977139256290286e-10, Train Set base_objective: 0.11362678909301757, Train Set accuracy: 1.0, Train Set nc_squared_error: 0.029320079803466795, Test Set nc_accuracy: 0.94, Test Set squared_error: 0.11420064544677734, group_sparsity: 0.716, \n"
     ]
    },
    {
     "name": "stdout",
     "output_type": "stream",
     "text": [
      "Train Set objective: 0.11362678909301759, Train Set grad_norm: 4.994341606945341e-10, Train Set base_objective: 0.11362678909301759, Train Set accuracy: 1.0, Train Set nc_squared_error: 0.029320041656494142, Test Set nc_accuracy: 0.94, Test Set squared_error: 0.11420062255859376, group_sparsity: 0.716, \n",
      "Train Set objective: 0.11362678337097168, Train Set grad_norm: 5.01254371343407e-10, Train Set base_objective: 0.11362678337097168, Train Set accuracy: 1.0, Train Set nc_squared_error: 0.029320022583007813, Test Set nc_accuracy: 0.94, Test Set squared_error: 0.11420060729980469, group_sparsity: 0.716, \n",
      "Train Set objective: 0.11362678909301757, Train Set grad_norm: 5.0233023296542e-10, Train Set base_objective: 0.11362678909301757, Train Set accuracy: 1.0, Train Set nc_squared_error: 0.029319942474365233, Test Set nc_accuracy: 0.94, Test Set squared_error: 0.1142005615234375, group_sparsity: 0.716, \n",
      "Train Set objective: 0.11362678718566896, Train Set grad_norm: 5.039175743348778e-10, Train Set base_objective: 0.11362678718566896, Train Set accuracy: 1.0, Train Set nc_squared_error: 0.02931989288330078, Test Set nc_accuracy: 0.94, Test Set squared_error: 0.11420052337646484, group_sparsity: 0.716, \n",
      "Train Set objective: 0.11362678527832032, Train Set grad_norm: 5.04934427603132e-10, Train Set base_objective: 0.11362678527832032, Train Set accuracy: 1.0, Train Set nc_squared_error: 0.029319862365722656, Test Set nc_accuracy: 0.94, Test Set squared_error: 0.11420050048828125, group_sparsity: 0.716, \n",
      "Train Set objective: 0.11362678718566895, Train Set grad_norm: 5.054183183084149e-10, Train Set base_objective: 0.11362678718566895, Train Set accuracy: 1.0, Train Set nc_squared_error: 0.029319877624511718, Test Set nc_accuracy: 0.94, Test Set squared_error: 0.11420050811767578, group_sparsity: 0.716, \n",
      "Train Set objective: 0.11362678527832032, Train Set grad_norm: 5.068736541602448e-10, Train Set base_objective: 0.11362678527832032, Train Set accuracy: 1.0, Train Set nc_squared_error: 0.029319847106933594, Test Set nc_accuracy: 0.94, Test Set squared_error: 0.11420047760009766, group_sparsity: 0.716, \n",
      "Train Set objective: 0.11362678718566895, Train Set grad_norm: 5.076576936602351e-10, Train Set base_objective: 0.11362678718566895, Train Set accuracy: 1.0, Train Set nc_squared_error: 0.029319841384887694, Test Set nc_accuracy: 0.94, Test Set squared_error: 0.1142004852294922, group_sparsity: 0.716, \n",
      "Train Set objective: 0.11362678909301759, Train Set grad_norm: 5.086203680448875e-10, Train Set base_objective: 0.11362678909301759, Train Set accuracy: 1.0, Train Set nc_squared_error: 0.02931978225708008, Test Set nc_accuracy: 0.94, Test Set squared_error: 0.11420045471191406, group_sparsity: 0.716, \n",
      "Train Set objective: 0.11362678527832032, Train Set grad_norm: 5.101070676971631e-10, Train Set base_objective: 0.11362678527832032, Train Set accuracy: 1.0, Train Set nc_squared_error: 0.029319732666015626, Test Set nc_accuracy: 0.94, Test Set squared_error: 0.11420040893554688, group_sparsity: 0.716, \n",
      "Train Set objective: 0.11362678527832032, Train Set grad_norm: 5.099433653121821e-10, Train Set base_objective: 0.11362678527832032, Train Set accuracy: 1.0, Train Set nc_squared_error: 0.029319826126098632, Test Set nc_accuracy: 0.94, Test Set squared_error: 0.11420045471191406, group_sparsity: 0.716, \n",
      "Train Set objective: 0.11362678718566896, Train Set grad_norm: 5.107516631852604e-10, Train Set base_objective: 0.11362678718566896, Train Set accuracy: 1.0, Train Set nc_squared_error: 0.02932010269165039, Test Set nc_accuracy: 0.94, Test Set squared_error: 0.11420063781738281, group_sparsity: 0.716, \n",
      "Train Set objective: 0.11362678146362304, Train Set grad_norm: 5.13152687009466e-10, Train Set base_objective: 0.11362678146362304, Train Set accuracy: 1.0, Train Set nc_squared_error: 0.029320077896118166, Test Set nc_accuracy: 0.94, Test Set squared_error: 0.11420059967041016, group_sparsity: 0.716, \n",
      "Train Set objective: 0.11362679290771485, Train Set grad_norm: 5.146660875254838e-10, Train Set base_objective: 0.11362679290771485, Train Set accuracy: 1.0, Train Set nc_squared_error: 0.02932012176513672, Test Set nc_accuracy: 0.94, Test Set squared_error: 0.11420062255859376, group_sparsity: 0.716, \n",
      "Train Set objective: 0.11362679290771485, Train Set grad_norm: 5.163807714758661e-10, Train Set base_objective: 0.11362679290771485, Train Set accuracy: 1.0, Train Set nc_squared_error: 0.02932012748718262, Test Set nc_accuracy: 0.94, Test Set squared_error: 0.11420063018798828, group_sparsity: 0.716, \n",
      "Train Set objective: 0.11362678146362304, Train Set grad_norm: 5.176806761042485e-10, Train Set base_objective: 0.11362678146362304, Train Set accuracy: 1.0, Train Set nc_squared_error: 0.029320135116577148, Test Set nc_accuracy: 0.94, Test Set squared_error: 0.11420063781738281, group_sparsity: 0.716, \n",
      "Train Set objective: 0.11362678527832032, Train Set grad_norm: 5.212956177835792e-10, Train Set base_objective: 0.11362678527832032, Train Set accuracy: 1.0, Train Set nc_squared_error: 0.029320236206054687, Test Set nc_accuracy: 0.94, Test Set squared_error: 0.11420069885253906, group_sparsity: 0.716, \n",
      "Train Set objective: 0.11362678718566896, Train Set grad_norm: 5.209426223728997e-10, Train Set base_objective: 0.11362678718566896, Train Set accuracy: 1.0, Train Set nc_squared_error: 0.029320316314697267, Test Set nc_accuracy: 0.94, Test Set squared_error: 0.11420074462890625, group_sparsity: 0.716, \n",
      "Train Set objective: 0.11362678909301759, Train Set grad_norm: 5.203578123946784e-10, Train Set base_objective: 0.11362678909301759, Train Set accuracy: 1.0, Train Set nc_squared_error: 0.02932037925720215, Test Set nc_accuracy: 0.94, Test Set squared_error: 0.11420074462890625, group_sparsity: 0.716, \n",
      "Train Set objective: 0.11362679290771484, Train Set grad_norm: 5.214431664235519e-10, Train Set base_objective: 0.11362679290771484, Train Set accuracy: 1.0, Train Set nc_squared_error: 0.029320358276367187, Test Set nc_accuracy: 0.94, Test Set squared_error: 0.11420073699951172, group_sparsity: 0.716, \n",
      "Train Set objective: 0.11362678718566895, Train Set grad_norm: 5.232397293220004e-10, Train Set base_objective: 0.11362678718566895, Train Set accuracy: 1.0, Train Set nc_squared_error: 0.02932036018371582, Test Set nc_accuracy: 0.94, Test Set squared_error: 0.11420072174072265, group_sparsity: 0.716, \n",
      "Train Set objective: 0.11362679481506348, Train Set grad_norm: 5.244286671590714e-10, Train Set base_objective: 0.11362679481506348, Train Set accuracy: 1.0, Train Set nc_squared_error: 0.02932033920288086, Test Set nc_accuracy: 0.94, Test Set squared_error: 0.11420071411132812, group_sparsity: 0.716, \n",
      "Train Set objective: 0.11362678909301759, Train Set grad_norm: 5.25314791666176e-10, Train Set base_objective: 0.11362678909301759, Train Set accuracy: 1.0, Train Set nc_squared_error: 0.02932033157348633, Test Set nc_accuracy: 0.94, Test Set squared_error: 0.11420069885253906, group_sparsity: 0.716, \n",
      "Train Set objective: 0.11362678718566895, Train Set grad_norm: 5.269023550802387e-10, Train Set base_objective: 0.11362678718566895, Train Set accuracy: 1.0, Train Set nc_squared_error: 0.029320299148559572, Test Set nc_accuracy: 0.94, Test Set squared_error: 0.11420066833496094, group_sparsity: 0.716, \n",
      "Train Set objective: 0.11362679481506348, Train Set grad_norm: 5.288621207633071e-10, Train Set base_objective: 0.11362679481506348, Train Set accuracy: 1.0, Train Set nc_squared_error: 0.02932035446166992, Test Set nc_accuracy: 0.94, Test Set squared_error: 0.11420069885253906, group_sparsity: 0.716, \n",
      "Train Set objective: 0.11362679100036621, Train Set grad_norm: 5.309951367493682e-10, Train Set base_objective: 0.11362679100036621, Train Set accuracy: 1.0, Train Set nc_squared_error: 0.029320381164550782, Test Set nc_accuracy: 0.94, Test Set squared_error: 0.11420071411132812, group_sparsity: 0.716, \n",
      "Train Set objective: 0.11362678527832032, Train Set grad_norm: 5.33753874432108e-10, Train Set base_objective: 0.11362678527832032, Train Set accuracy: 1.0, Train Set nc_squared_error: 0.029320327758789063, Test Set nc_accuracy: 0.94, Test Set squared_error: 0.11420067596435547, group_sparsity: 0.716, \n"
     ]
    },
    {
     "name": "stdout",
     "output_type": "stream",
     "text": [
      "Train Set objective: 0.11362678909301757, Train Set grad_norm: 5.373302913724842e-10, Train Set base_objective: 0.11362678909301757, Train Set accuracy: 1.0, Train Set nc_squared_error: 0.029320363998413087, Test Set nc_accuracy: 0.94, Test Set squared_error: 0.11420069885253906, group_sparsity: 0.716, \n",
      "Train Set objective: 0.11362679290771485, Train Set grad_norm: 5.428039129284912e-10, Train Set base_objective: 0.11362679290771485, Train Set accuracy: 1.0, Train Set nc_squared_error: 0.029320518493652345, Test Set nc_accuracy: 0.94, Test Set squared_error: 0.11420082092285157, group_sparsity: 0.716, \n",
      "Train Set objective: 0.11362678909301757, Train Set grad_norm: 5.459288576759036e-10, Train Set base_objective: 0.11362678909301757, Train Set accuracy: 1.0, Train Set nc_squared_error: 0.02932063674926758, Test Set nc_accuracy: 0.94, Test Set squared_error: 0.11420089721679688, group_sparsity: 0.716, \n",
      "Train Set objective: 0.11362678527832032, Train Set grad_norm: 5.453016926892928e-10, Train Set base_objective: 0.11362678527832032, Train Set accuracy: 1.0, Train Set nc_squared_error: 0.029320756912231447, Test Set nc_accuracy: 0.94, Test Set squared_error: 0.11420094299316406, group_sparsity: 0.716, \n",
      "Train Set objective: 0.11362678527832032, Train Set grad_norm: 5.470380259886554e-10, Train Set base_objective: 0.11362678527832032, Train Set accuracy: 1.0, Train Set nc_squared_error: 0.02932073974609375, Test Set nc_accuracy: 0.94, Test Set squared_error: 0.114200927734375, group_sparsity: 0.716, \n",
      "Train Set objective: 0.11362678909301757, Train Set grad_norm: 5.474327102739096e-10, Train Set base_objective: 0.11362678909301757, Train Set accuracy: 1.0, Train Set nc_squared_error: 0.029320676803588866, Test Set nc_accuracy: 0.94, Test Set squared_error: 0.11420088195800782, group_sparsity: 0.716, \n",
      "Train Set objective: 0.11362679481506348, Train Set grad_norm: 5.503487665592388e-10, Train Set base_objective: 0.11362679481506348, Train Set accuracy: 1.0, Train Set nc_squared_error: 0.02932072639465332, Test Set nc_accuracy: 0.94, Test Set squared_error: 0.11420091247558593, group_sparsity: 0.716, \n",
      "Train Set objective: 0.11362679290771485, Train Set grad_norm: 5.557441173920097e-10, Train Set base_objective: 0.11362679290771485, Train Set accuracy: 1.0, Train Set nc_squared_error: 0.029320938110351562, Test Set nc_accuracy: 0.94, Test Set squared_error: 0.11420104217529296, group_sparsity: 0.716, \n",
      "Train Set objective: 0.11362679481506348, Train Set grad_norm: 5.572388106500625e-10, Train Set base_objective: 0.11362679481506348, Train Set accuracy: 1.0, Train Set nc_squared_error: 0.02932090187072754, Test Set nc_accuracy: 0.94, Test Set squared_error: 0.11420101928710938, group_sparsity: 0.716, \n",
      "Train Set objective: 0.11362678718566896, Train Set grad_norm: 5.580846340613732e-10, Train Set base_objective: 0.11362678718566896, Train Set accuracy: 1.0, Train Set nc_squared_error: 0.029320919036865234, Test Set nc_accuracy: 0.94, Test Set squared_error: 0.11420101928710938, group_sparsity: 0.716, \n",
      "Train Set objective: 0.11362679290771484, Train Set grad_norm: 5.596776930794078e-10, Train Set base_objective: 0.11362679290771484, Train Set accuracy: 1.0, Train Set nc_squared_error: 0.0293209171295166, Test Set nc_accuracy: 0.94, Test Set squared_error: 0.11420101928710938, group_sparsity: 0.716, \n",
      "Train Set objective: 0.11362678909301757, Train Set grad_norm: 5.610016895474246e-10, Train Set base_objective: 0.11362678909301757, Train Set accuracy: 1.0, Train Set nc_squared_error: 0.02932088279724121, Test Set nc_accuracy: 0.94, Test Set squared_error: 0.11420098876953125, group_sparsity: 0.716, \n",
      "Train Set objective: 0.11362678909301759, Train Set grad_norm: 5.618276399665945e-10, Train Set base_objective: 0.11362678909301759, Train Set accuracy: 1.0, Train Set nc_squared_error: 0.029320858001708985, Test Set nc_accuracy: 0.94, Test Set squared_error: 0.11420097351074218, group_sparsity: 0.716, \n",
      "Train Set objective: 0.1136267967224121, Train Set grad_norm: 5.648466139263064e-10, Train Set base_objective: 0.1136267967224121, Train Set accuracy: 1.0, Train Set nc_squared_error: 0.02932088851928711, Test Set nc_accuracy: 0.94, Test Set squared_error: 0.11420098876953125, group_sparsity: 0.716, \n",
      "Train Set objective: 0.11362678718566895, Train Set grad_norm: 5.66464153362034e-10, Train Set base_objective: 0.11362678718566895, Train Set accuracy: 1.0, Train Set nc_squared_error: 0.029320880889892577, Test Set nc_accuracy: 0.94, Test Set squared_error: 0.11420098114013671, group_sparsity: 0.716, \n",
      "Train Set objective: 0.11362678527832032, Train Set grad_norm: 5.673244651838161e-10, Train Set base_objective: 0.11362678527832032, Train Set accuracy: 1.0, Train Set nc_squared_error: 0.029320877075195314, Test Set nc_accuracy: 0.94, Test Set squared_error: 0.11420097351074218, group_sparsity: 0.716, \n",
      "Train Set objective: 0.11362678718566896, Train Set grad_norm: 5.710007466852574e-10, Train Set base_objective: 0.11362678718566896, Train Set accuracy: 1.0, Train Set nc_squared_error: 0.029320919036865234, Test Set nc_accuracy: 0.94, Test Set squared_error: 0.11420098876953125, group_sparsity: 0.716, \n",
      "Train Set objective: 0.113626802444458, Train Set grad_norm: 5.781860545894801e-10, Train Set base_objective: 0.113626802444458, Train Set accuracy: 1.0, Train Set nc_squared_error: 0.029320985794067382, Test Set nc_accuracy: 0.94, Test Set squared_error: 0.11420101928710938, group_sparsity: 0.716, \n",
      "Train Set objective: 0.11362678909301757, Train Set grad_norm: 5.837529348795556e-10, Train Set base_objective: 0.11362678909301757, Train Set accuracy: 1.0, Train Set nc_squared_error: 0.0293210334777832, Test Set nc_accuracy: 0.94, Test Set squared_error: 0.1142010498046875, group_sparsity: 0.716, \n",
      "Train Set objective: 0.11362679290771484, Train Set grad_norm: 5.848783124484669e-10, Train Set base_objective: 0.11362679290771484, Train Set accuracy: 1.0, Train Set nc_squared_error: 0.029321044921875, Test Set nc_accuracy: 0.94, Test Set squared_error: 0.11420104217529296, group_sparsity: 0.716, \n",
      "Train Set objective: 0.1136267967224121, Train Set grad_norm: 5.863332042110869e-10, Train Set base_objective: 0.1136267967224121, Train Set accuracy: 1.0, Train Set nc_squared_error: 0.029321041107177735, Test Set nc_accuracy: 0.94, Test Set squared_error: 0.11420103454589844, group_sparsity: 0.716, \n"
     ]
    },
    {
     "name": "stderr",
     "output_type": "stream",
     "text": [
      "INFO:convex_nn:Post-Optimization Metrics: Train Set objective: 0.11362678909301759, Train Set grad_norm: 5.8732746444079e-10, Train Set base_objective: 0.11362678909301759, Train Set accuracy: 1.0, Train Set nc_squared_error: 0.02932106399536133, Test Set nc_accuracy: 0.94, Test Set squared_error: 0.1142010498046875, group_sparsity: 0.716, \n",
      "WARNING:convex_nn:Max iterations reached before termination criterion was satisfied. Exiting optimization loop.\n"
     ]
    }
   ],
   "source": [
    "grelu_model, grelu_metrics = optimize_model(\n",
    "    model,\n",
    "    solver,\n",
    "    metrics,\n",
    "    X_train, \n",
    "    y_train, \n",
    "    X_test, \n",
    "    y_test,\n",
    "    regularizer,\n",
    "    verbose=True,\n",
    ")"
   ]
  },
  {
   "cell_type": "code",
   "execution_count": 22,
   "id": "bffbecf3",
   "metadata": {
    "scrolled": true
   },
   "outputs": [
    {
     "name": "stderr",
     "output_type": "stream",
     "text": [
      "INFO:convex_nn:Pre-Optimization Metrics: Train Set objective: 0.5, Train Set grad_norm: 0.1662019044160843, Train Set base_objective: 0.5, Train Set accuracy: 0.0, Train Set nc_squared_error: 0.5, Test Set nc_accuracy: 0.0, Test Set squared_error: 0.5, group_sparsity: 1.0, \n"
     ]
    },
    {
     "data": {
      "application/vnd.jupyter.widget-view+json": {
       "model_id": "b69d080d59bd4ea698309e13d0dcd08a",
       "version_major": 2,
       "version_minor": 0
      },
      "text/plain": [
       "Outer al:   0%|          | 0/10000 [00:00<?, ?it/s]"
      ]
     },
     "metadata": {},
     "output_type": "display_data"
    },
    {
     "data": {
      "application/vnd.jupyter.widget-view+json": {
       "model_id": "b9d99e252268407ea67854512863bdec",
       "version_major": 2,
       "version_minor": 0
      },
      "text/plain": [
       "Inner al:   0%|          | 0/10000 [00:00<?, ?it/s]"
      ]
     },
     "metadata": {},
     "output_type": "display_data"
    },
    {
     "name": "stdout",
     "output_type": "stream",
     "text": [
      "Train Set objective: 0.5, Train Set grad_norm: 0.1662019044160843, Train Set base_objective: 0.5, Train Set accuracy: 0.0, Train Set nc_squared_error: 0.5, Test Set nc_accuracy: 0.0, Test Set squared_error: 0.5, group_sparsity: 1.0, \n"
     ]
    },
    {
     "name": "stderr",
     "output_type": "stream",
     "text": [
      "INFO:convex_nn:*Inner* termination criterion satisfied at iteration 10/10000. Exiting *inner* optimization loop.\n"
     ]
    },
    {
     "data": {
      "application/vnd.jupyter.widget-view+json": {
       "model_id": "df384589c6fe4d049cc03f6576c26ba1",
       "version_major": 2,
       "version_minor": 0
      },
      "text/plain": [
       "Inner al:   0%|          | 0/10000 [00:00<?, ?it/s]"
      ]
     },
     "metadata": {},
     "output_type": "display_data"
    },
    {
     "name": "stdout",
     "output_type": "stream",
     "text": [
      "Train Set objective: 0.18489198637753726, Train Set grad_norm: 0.0008515887893736362, Train Set base_objective: 0.17175760650634767, Train Set accuracy: 0.911, Train Set nc_squared_error: 0.1249534454345703, Test Set nc_accuracy: 0.914, Test Set squared_error: 0.13682568359375, group_sparsity: 0.0, \n"
     ]
    },
    {
     "name": "stderr",
     "output_type": "stream",
     "text": [
      "INFO:convex_nn:*Inner* termination criterion satisfied at iteration 4/10000. Exiting *inner* optimization loop.\n"
     ]
    },
    {
     "data": {
      "application/vnd.jupyter.widget-view+json": {
       "model_id": "1f083a618744402ca33ea0cc807d8f8f",
       "version_major": 2,
       "version_minor": 0
      },
      "text/plain": [
       "Inner al:   0%|          | 0/10000 [00:00<?, ?it/s]"
      ]
     },
     "metadata": {},
     "output_type": "display_data"
    },
    {
     "name": "stdout",
     "output_type": "stream",
     "text": [
      "Train Set objective: 0.19026978860050442, Train Set grad_norm: 0.000987596926279366, Train Set base_objective: 0.1766186103820801, Train Set accuracy: 0.911, Train Set nc_squared_error: 0.12726626586914064, Test Set nc_accuracy: 0.914, Test Set squared_error: 0.1386533203125, group_sparsity: 0.0, \n"
     ]
    },
    {
     "name": "stderr",
     "output_type": "stream",
     "text": [
      "INFO:convex_nn:*Inner* termination criterion satisfied at iteration 7/10000. Exiting *inner* optimization loop.\n"
     ]
    },
    {
     "data": {
      "application/vnd.jupyter.widget-view+json": {
       "model_id": "6849119d15f84774801895695f519015",
       "version_major": 2,
       "version_minor": 0
      },
      "text/plain": [
       "Inner al:   0%|          | 0/10000 [00:00<?, ?it/s]"
      ]
     },
     "metadata": {},
     "output_type": "display_data"
    },
    {
     "name": "stdout",
     "output_type": "stream",
     "text": [
      "Train Set objective: 0.19399142714589834, Train Set grad_norm: 0.0009320243843831122, Train Set base_objective: 0.1828532943725586, Train Set accuracy: 0.911, Train Set nc_squared_error: 0.13165580749511718, Test Set nc_accuracy: 0.914, Test Set squared_error: 0.14112860107421876, group_sparsity: 0.0, \n",
      "Train Set objective: 0.1851553229689598, Train Set grad_norm: 6.113983545219526e-05, Train Set base_objective: 0.17873677444458008, Train Set accuracy: 0.911, Train Set nc_squared_error: 0.12074569702148437, Test Set nc_accuracy: 0.914, Test Set squared_error: 0.13064202880859374, group_sparsity: 0.0, \n",
      "Train Set objective: 0.18146536585316062, Train Set grad_norm: 5.922971831751056e-05, Train Set base_objective: 0.17621133422851562, Train Set accuracy: 0.911, Train Set nc_squared_error: 0.11710907745361328, Test Set nc_accuracy: 0.914, Test Set squared_error: 0.12926026916503905, group_sparsity: 0.0, \n",
      "Train Set objective: 0.1787222210727632, Train Set grad_norm: 3.376676977495663e-05, Train Set base_objective: 0.17435765838623046, Train Set accuracy: 0.911, Train Set nc_squared_error: 0.11523233795166016, Test Set nc_accuracy: 0.914, Test Set squared_error: 0.12887359619140626, group_sparsity: 0.0, \n",
      "Train Set objective: 0.1768398676738143, Train Set grad_norm: 4.100612932234071e-05, Train Set base_objective: 0.17309105682373047, Train Set accuracy: 0.911, Train Set nc_squared_error: 0.11385337829589844, Test Set nc_accuracy: 0.914, Test Set squared_error: 0.12869584655761718, group_sparsity: 0.0, \n",
      "Train Set objective: 0.17547360347770155, Train Set grad_norm: 2.533804035920184e-05, Train Set base_objective: 0.17213333892822266, Train Set accuracy: 0.911, Train Set nc_squared_error: 0.1127935562133789, Test Set nc_accuracy: 0.914, Test Set squared_error: 0.12858769226074218, group_sparsity: 0.0, \n",
      "Train Set objective: 0.1744734976477921, Train Set grad_norm: 1.7696242139209062e-05, Train Set base_objective: 0.1714389762878418, Train Set accuracy: 0.911, Train Set nc_squared_error: 0.11179450225830079, Test Set nc_accuracy: 0.914, Test Set squared_error: 0.12847262573242188, group_sparsity: 0.0, \n",
      "Train Set objective: 0.17374805066548288, Train Set grad_norm: 1.8169706891058013e-05, Train Set base_objective: 0.17092152786254883, Train Set accuracy: 0.911, Train Set nc_squared_error: 0.11114808654785156, Test Set nc_accuracy: 0.914, Test Set squared_error: 0.12843629455566405, group_sparsity: 0.0, \n",
      "Train Set objective: 0.17316719844006, Train Set grad_norm: 9.35115349420812e-06, Train Set base_objective: 0.17051958084106444, Train Set accuracy: 0.911, Train Set nc_squared_error: 0.11037166595458985, Test Set nc_accuracy: 0.914, Test Set squared_error: 0.12816737365722655, group_sparsity: 0.0, \n",
      "Train Set objective: 0.1727000411208719, Train Set grad_norm: 1.079132744052913e-05, Train Set base_objective: 0.17012728881835937, Train Set accuracy: 0.911, Train Set nc_squared_error: 0.1098813018798828, Test Set nc_accuracy: 0.914, Test Set squared_error: 0.12815179443359376, group_sparsity: 0.0, \n",
      "Train Set objective: 0.1723424269128591, Train Set grad_norm: 6.329284133244073e-06, Train Set base_objective: 0.16988184356689454, Train Set accuracy: 0.911, Train Set nc_squared_error: 0.10943338012695313, Test Set nc_accuracy: 0.914, Test Set squared_error: 0.12808042907714845, group_sparsity: 0.0, \n",
      "Train Set objective: 0.17204157206043602, Train Set grad_norm: 3.3771657399483956e-06, Train Set base_objective: 0.1696824188232422, Train Set accuracy: 0.911, Train Set nc_squared_error: 0.10894359588623047, Test Set nc_accuracy: 0.914, Test Set squared_error: 0.12796400451660156, group_sparsity: 0.0, \n",
      "Train Set objective: 0.17178319684043525, Train Set grad_norm: 6.871587174828164e-06, Train Set base_objective: 0.1695057792663574, Train Set accuracy: 0.911, Train Set nc_squared_error: 0.10849275970458984, Test Set nc_accuracy: 0.914, Test Set squared_error: 0.1279155502319336, group_sparsity: 0.0, \n",
      "Train Set objective: 0.1715893208067864, Train Set grad_norm: 3.110141733486671e-06, Train Set base_objective: 0.16938271331787108, Train Set accuracy: 0.911, Train Set nc_squared_error: 0.10813813781738281, Test Set nc_accuracy: 0.914, Test Set squared_error: 0.12783055114746095, group_sparsity: 0.0, \n",
      "Train Set objective: 0.17142740891687572, Train Set grad_norm: 4.070706381753553e-06, Train Set base_objective: 0.16927472686767578, Train Set accuracy: 0.911, Train Set nc_squared_error: 0.10777110290527343, Test Set nc_accuracy: 0.914, Test Set squared_error: 0.12766515350341798, group_sparsity: 0.0, \n",
      "Train Set objective: 0.17128231369517743, Train Set grad_norm: 2.1065377495688153e-06, Train Set base_objective: 0.16918604278564453, Train Set accuracy: 0.911, Train Set nc_squared_error: 0.10748909759521484, Test Set nc_accuracy: 0.914, Test Set squared_error: 0.1275892105102539, group_sparsity: 0.0, \n",
      "Train Set objective: 0.17119020458497108, Train Set grad_norm: 3.858085619867779e-06, Train Set base_objective: 0.16913502502441408, Train Set accuracy: 0.911, Train Set nc_squared_error: 0.10723875427246093, Test Set nc_accuracy: 0.914, Test Set squared_error: 0.12752574920654297, group_sparsity: 0.0, \n",
      "Train Set objective: 0.17112393776327373, Train Set grad_norm: 3.3382477795385057e-06, Train Set base_objective: 0.16910728073120118, Train Set accuracy: 0.911, Train Set nc_squared_error: 0.10700871276855468, Test Set nc_accuracy: 0.914, Test Set squared_error: 0.1274749526977539, group_sparsity: 0.0, \n",
      "Train Set objective: 0.1710607262533158, Train Set grad_norm: 1.2941857221449027e-06, Train Set base_objective: 0.16907236862182617, Train Set accuracy: 0.911, Train Set nc_squared_error: 0.10678732299804687, Test Set nc_accuracy: 0.915, Test Set squared_error: 0.1274039764404297, group_sparsity: 0.0, \n"
     ]
    },
    {
     "name": "stderr",
     "output_type": "stream",
     "text": [
      "INFO:convex_nn:*Inner* termination criterion satisfied at iteration 455/10000. Exiting *inner* optimization loop.\n"
     ]
    },
    {
     "data": {
      "application/vnd.jupyter.widget-view+json": {
       "model_id": "3458c81b48f1463680bf0d132d7d5eda",
       "version_major": 2,
       "version_minor": 0
      },
      "text/plain": [
       "Inner al:   0%|          | 0/10000 [00:00<?, ?it/s]"
      ]
     },
     "metadata": {},
     "output_type": "display_data"
    },
    {
     "name": "stdout",
     "output_type": "stream",
     "text": [
      "Train Set objective: 0.17105629049055276, Train Set grad_norm: 9.557605835652794e-07, Train Set base_objective: 0.16907042694091795, Train Set accuracy: 0.911, Train Set nc_squared_error: 0.106775146484375, Test Set nc_accuracy: 0.915, Test Set squared_error: 0.12740185546875, group_sparsity: 0.0, \n",
      "Train Set objective: 0.1754493342116475, Train Set grad_norm: 2.9283864932949655e-06, Train Set base_objective: 0.17235657119750974, Train Set accuracy: 0.911, Train Set nc_squared_error: 0.11002554321289063, Test Set nc_accuracy: 0.914, Test Set squared_error: 0.12926052856445314, group_sparsity: 0.004, \n"
     ]
    },
    {
     "name": "stderr",
     "output_type": "stream",
     "text": [
      "INFO:convex_nn:*Inner* termination criterion satisfied at iteration 43/10000. Exiting *inner* optimization loop.\n"
     ]
    },
    {
     "data": {
      "application/vnd.jupyter.widget-view+json": {
       "model_id": "429a69f719d34908b8d3bba913dac71b",
       "version_major": 2,
       "version_minor": 0
      },
      "text/plain": [
       "Inner al:   0%|          | 0/10000 [00:00<?, ?it/s]"
      ]
     },
     "metadata": {},
     "output_type": "display_data"
    },
    {
     "name": "stdout",
     "output_type": "stream",
     "text": [
      "Train Set objective: 0.17537267539277673, Train Set grad_norm: 9.819893875828711e-07, Train Set base_objective: 0.17246174240112305, Train Set accuracy: 0.911, Train Set nc_squared_error: 0.1099749755859375, Test Set nc_accuracy: 0.914, Test Set squared_error: 0.12908831787109376, group_sparsity: 0.005, \n"
     ]
    },
    {
     "name": "stderr",
     "output_type": "stream",
     "text": [
      "INFO:convex_nn:*Inner* termination criterion satisfied at iteration 26/10000. Exiting *inner* optimization loop.\n"
     ]
    },
    {
     "name": "stdout",
     "output_type": "stream",
     "text": [
      "Train Set objective: 0.17654424180835487, Train Set grad_norm: 1.137095978265279e-06, Train Set base_objective: 0.17311466598510744, Train Set accuracy: 0.911, Train Set nc_squared_error: 0.11071348571777344, Test Set nc_accuracy: 0.914, Test Set squared_error: 0.12955947875976562, group_sparsity: 0.003, \n"
     ]
    },
    {
     "data": {
      "application/vnd.jupyter.widget-view+json": {
       "model_id": "890124550d234ec7ba24e6f239ba148a",
       "version_major": 2,
       "version_minor": 0
      },
      "text/plain": [
       "Inner al:   0%|          | 0/10000 [00:00<?, ?it/s]"
      ]
     },
     "metadata": {},
     "output_type": "display_data"
    },
    {
     "name": "stdout",
     "output_type": "stream",
     "text": [
      "Train Set objective: 0.17654159318841994, Train Set grad_norm: 9.842644885793561e-07, Train Set base_objective: 0.1731177978515625, Train Set accuracy: 0.911, Train Set nc_squared_error: 0.11071523284912109, Test Set nc_accuracy: 0.914, Test Set squared_error: 0.12955908203125, group_sparsity: 0.004, \n"
     ]
    },
    {
     "name": "stderr",
     "output_type": "stream",
     "text": [
      "INFO:convex_nn:*Inner* termination criterion satisfied at iteration 26/10000. Exiting *inner* optimization loop.\n"
     ]
    },
    {
     "name": "stdout",
     "output_type": "stream",
     "text": [
      "Train Set objective: 0.17711910511925816, Train Set grad_norm: 1.328951498180686e-06, Train Set base_objective: 0.17344150924682616, Train Set accuracy: 0.911, Train Set nc_squared_error: 0.11104469299316407, Test Set nc_accuracy: 0.914, Test Set squared_error: 0.12974008178710938, group_sparsity: 0.009, \n"
     ]
    },
    {
     "data": {
      "application/vnd.jupyter.widget-view+json": {
       "model_id": "2e92a87e5743413688075918e09de160",
       "version_major": 2,
       "version_minor": 0
      },
      "text/plain": [
       "Inner al:   0%|          | 0/10000 [00:00<?, ?it/s]"
      ]
     },
     "metadata": {},
     "output_type": "display_data"
    },
    {
     "name": "stdout",
     "output_type": "stream",
     "text": [
      "Train Set objective: 0.17711606554500758, Train Set grad_norm: 9.840961183726904e-07, Train Set base_objective: 0.17344643783569336, Train Set accuracy: 0.911, Train Set nc_squared_error: 0.11104752349853515, Test Set nc_accuracy: 0.914, Test Set squared_error: 0.12973971557617187, group_sparsity: 0.008, \n"
     ]
    },
    {
     "name": "stderr",
     "output_type": "stream",
     "text": [
      "INFO:convex_nn:*Inner* termination criterion satisfied at iteration 12/10000. Exiting *inner* optimization loop.\n"
     ]
    },
    {
     "data": {
      "application/vnd.jupyter.widget-view+json": {
       "model_id": "00dfca52d2fa4cd1bba5ed494cdbfbb5",
       "version_major": 2,
       "version_minor": 0
      },
      "text/plain": [
       "Inner al:   0%|          | 0/10000 [00:00<?, ?it/s]"
      ]
     },
     "metadata": {},
     "output_type": "display_data"
    },
    {
     "name": "stdout",
     "output_type": "stream",
     "text": [
      "Train Set objective: 0.1774006991572678, Train Set grad_norm: 9.897659083435428e-07, Train Set base_objective: 0.17356625366210937, Train Set accuracy: 0.911, Train Set nc_squared_error: 0.1111716537475586, Test Set nc_accuracy: 0.914, Test Set squared_error: 0.1298031005859375, group_sparsity: 0.025, \n"
     ]
    },
    {
     "name": "stderr",
     "output_type": "stream",
     "text": [
      "INFO:convex_nn:*Inner* termination criterion satisfied at iteration 12/10000. Exiting *inner* optimization loop.\n"
     ]
    },
    {
     "data": {
      "application/vnd.jupyter.widget-view+json": {
       "model_id": "9575230ddd6a4f9cbd9b6d97236f9bcc",
       "version_major": 2,
       "version_minor": 0
      },
      "text/plain": [
       "Inner al:   0%|          | 0/10000 [00:00<?, ?it/s]"
      ]
     },
     "metadata": {},
     "output_type": "display_data"
    },
    {
     "name": "stdout",
     "output_type": "stream",
     "text": [
      "Train Set objective: 0.1775845298320055, Train Set grad_norm: 9.894307595459395e-07, Train Set base_objective: 0.17364847564697267, Train Set accuracy: 0.911, Train Set nc_squared_error: 0.11125405120849609, Test Set nc_accuracy: 0.914, Test Set squared_error: 0.12983805847167967, group_sparsity: 0.058, \n"
     ]
    },
    {
     "name": "stderr",
     "output_type": "stream",
     "text": [
      "INFO:convex_nn:*Outer* termination criterion satisfied at iteration 9/10000. Exiting *outer* optimization loop.\n",
      "INFO:convex_nn:Post-Optimization Metrics: Train Set objective: 0.17770085478201508, Train Set grad_norm: 9.855989446805324e-07, Train Set base_objective: 0.17369752883911133, Train Set accuracy: 0.911, Train Set nc_squared_error: 0.11130221557617187, Test Set nc_accuracy: 0.914, Test Set squared_error: 0.12985650634765625, group_sparsity: 0.129, \n"
     ]
    }
   ],
   "source": [
    "model = ConvexReLU(G)\n",
    "solver = AL(model)\n",
    "relu_model, relu_metrics = optimize_model(\n",
    "    model,\n",
    "    solver,\n",
    "    metrics,\n",
    "    X_train, \n",
    "    y_train, \n",
    "    X_test, \n",
    "    y_test,\n",
    "    regularizer,\n",
    "    verbose=True,\n",
    ")"
   ]
  },
  {
   "cell_type": "code",
   "execution_count": 24,
   "id": "5a122a18",
   "metadata": {},
   "outputs": [
    {
     "data": {
      "text/plain": [
       "0.911"
      ]
     },
     "execution_count": 24,
     "metadata": {},
     "output_type": "execute_result"
    }
   ],
   "source": [
    "np.sum(np.sign(relu_model(X_train)) == y_train) / len(y_train)"
   ]
  },
  {
   "cell_type": "code",
   "execution_count": 25,
   "id": "cf7327ec",
   "metadata": {},
   "outputs": [
    {
     "data": {
      "image/png": "[encoded data removed]",
      "text/plain": [
       "<Figure size 1296x432 with 3 Axes>"
      ]
     },
     "metadata": {
      "needs_background": "light"
     },
     "output_type": "display_data"
    }
   ],
   "source": [
    "fig = plt.figure(figsize=(18,6))\n",
    "spec = fig.add_gridspec(ncols=3, nrows=1)\n",
    "ax0 = fig.add_subplot(spec[0, 0])\n",
    "\n",
    "ax0.plot(np.arange(len(relu_metrics.objective)), \n",
    "         relu_metrics.objective, \n",
    "         label=\"ReLU\", \n",
    "         color=\"#ff7f0e\",\n",
    "         marker=\"^\",\n",
    "         markevery=0.1,\n",
    "         markersize=14,\n",
    "         linewidth=\"3\")\n",
    "\n",
    "ax0.plot(np.arange(len(grelu_metrics.objective)), \n",
    "         grelu_metrics.objective, \n",
    "         label=\"Gated ReLU\", \n",
    "         color=\"#1f77b4\",\n",
    "         marker=\"v\", \n",
    "         markevery=0.1,\n",
    "         markersize=14,\n",
    "         linewidth=\"3\"\n",
    "        )\n",
    "\n",
    "ax0.set_title(\"Training Objective\", fontsize=22)\n",
    "ax0.set_xlabel(\"Iterations\", fontsize=18)\n",
    "\n",
    "ax1 = fig.add_subplot(spec[0, 1])\n",
    "\n",
    "ax1.plot(np.arange(len(relu_metrics.train_accuracy)), \n",
    "         relu_metrics.train_accuracy, \n",
    "         label=\"Relu\", \n",
    "         color=\"#ff7f0e\",\n",
    "         marker=\"^\",\n",
    "         markevery=0.1,\n",
    "         markersize=14,\n",
    "         linewidth=\"3\")\n",
    "\n",
    "ax1.plot(np.arange(len(grelu_metrics.train_accuracy)), \n",
    "         grelu_metrics.train_accuracy, \n",
    "         label=\"Gated ReLU\", \n",
    "         color=\"#1f77b4\",\n",
    "         marker=\"v\", \n",
    "         markevery=0.1,\n",
    "         markersize=14,\n",
    "         linewidth=\"3\"\n",
    "        )\n",
    "\n",
    "ax1.set_title(\"Training Accuracy\", fontsize=22)\n",
    "ax1.set_xlabel(\"Iterations\", fontsize=18)\n",
    "\n",
    "ax2 = fig.add_subplot(spec[0, 2])\n",
    "\n",
    "\n",
    "ax2.plot(np.arange(len(relu_metrics.test_accuracy)), \n",
    "         relu_metrics.test_accuracy, \n",
    "         label=\"Relu\", \n",
    "         color=\"#ff7f0e\",\n",
    "         marker=\"^\",\n",
    "         markevery=0.1,\n",
    "         markersize=14,\n",
    "         linewidth=\"3\")\n",
    "\n",
    "ax2.plot(np.arange(len(grelu_metrics.test_accuracy)), \n",
    "         grelu_metrics.test_accuracy, \n",
    "         label=\"Gated ReLU\", \n",
    "         color=\"#1f77b4\",\n",
    "         marker=\"v\", \n",
    "         markevery=0.1,\n",
    "         markersize=14,\n",
    "         linewidth=\"3\"\n",
    "        )\n",
    "\n",
    "ax2.set_title(\"Test Accuracy\", fontsize=22)\n",
    "ax2.set_xlabel(\"Iterations\", fontsize=18)\n",
    "handles, labels = ax0.get_legend_handles_labels()\n",
    "legend = fig.legend(\n",
    "    handles=handles,\n",
    "    labels=labels,\n",
    "    loc=\"lower center\",\n",
    "    borderaxespad=0.1,\n",
    "    fancybox=False,\n",
    "    shadow=False,\n",
    "    ncol=2,\n",
    "    fontsize=16,\n",
    "    frameon=False,\n",
    ")\n",
    "fig.subplots_adjust(\n",
    "    bottom=0.15,\n",
    ")"
   ]
  },
  {
   "cell_type": "code",
   "execution_count": null,
   "id": "201676b3",
   "metadata": {},
   "outputs": [],
   "source": []
  },
  {
   "cell_type": "code",
   "execution_count": null,
   "id": "0858a91b",
   "metadata": {},
   "outputs": [],
   "source": []
  },
  {
   "cell_type": "code",
   "execution_count": null,
   "id": "d13ac4e6",
   "metadata": {},
   "outputs": [],
   "source": []
  }
 ],
 "metadata": {
  "kernelspec": {
   "display_name": "Python 3",
   "language": "python",
   "name": "python3"
  },
  "language_info": {
   "codemirror_mode": {
    "name": "ipython",
    "version": 3
   },
   "file_extension": ".py",
   "mimetype": "text/x-python",
   "name": "python",
   "nbconvert_exporter": "python",
   "pygments_lexer": "ipython3",
   "version": "3.9.9"
  }
 },
 "nbformat": 4,
 "nbformat_minor": 5
}
